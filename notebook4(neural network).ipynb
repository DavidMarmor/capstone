{
 "cells": [
  {
   "cell_type": "code",
   "execution_count": 1,
   "id": "001f3852-1027-4ac4-9fbc-36fe8686bf9b",
   "metadata": {},
   "outputs": [],
   "source": [
    "import matplotlib.pyplot as plt\n",
    "from sklearn.model_selection import train_test_split\n",
    "from sklearn.preprocessing import StandardScaler\n",
    "\n",
    "from tensorflow.keras.models import Sequential\n",
    "\n",
    "from tensorflow.keras.models import Sequential\n",
    "from tensorflow.keras.layers import Dense, Dropout, Flatten, Conv2D, MaxPooling2D\n",
    "from tensorflow.keras import utils\n",
    "import pandas as pd\n",
    "import numpy as np\n",
    "import pickle"
   ]
  },
  {
   "cell_type": "code",
   "execution_count": 18,
   "id": "f07216eb-9433-4cae-a990-d3327236fe95",
   "metadata": {},
   "outputs": [],
   "source": [
    "infile = open('dummy2.pkl','rb')\n",
    "df = pickle.load(infile)\n",
    "infile.close()"
   ]
  },
  {
   "cell_type": "code",
   "execution_count": 19,
   "id": "d8a0faf0-033b-4e73-bc0f-59c39559489a",
   "metadata": {},
   "outputs": [],
   "source": [
    "X = df[['spin_axis', 'effective_speed', 'release_spin_rate', 'az', 'ay', 'ax', 'vz0', 'vy0', 'vx0', 'zone', 'balls', 'strikes', 'pfx_x', 'pfx_z']]"
   ]
  },
  {
   "cell_type": "code",
   "execution_count": 21,
   "id": "0fb16035-2391-4618-98ed-64eb4232d282",
   "metadata": {},
   "outputs": [],
   "source": [
    "y = df['description']"
   ]
  },
  {
   "cell_type": "code",
   "execution_count": 22,
   "id": "a0b559c7-f569-4277-a584-06191d0ca6d9",
   "metadata": {},
   "outputs": [],
   "source": [
    "X_train, X_test, y_train, y_test = train_test_split(X,\n",
    "                                                    y,\n",
    "                                                    random_state=5)"
   ]
  },
  {
   "cell_type": "code",
   "execution_count": 32,
   "id": "f76d7643-5ebc-476d-92b0-a2482f387027",
   "metadata": {},
   "outputs": [],
   "source": [
    "model = Sequential()\n",
    "model.add(Dense(12, input_dim=14, activation='relu'))\n",
    "model.add(Dense(8, activation='relu'))\n",
    "model.add(Dense(1, activation='sigmoid'))"
   ]
  },
  {
   "cell_type": "code",
   "execution_count": 34,
   "id": "3e957902-ef83-43c4-a116-42f07cf180a0",
   "metadata": {},
   "outputs": [],
   "source": [
    "model.compile(loss='binary_crossentropy', optimizer='adam', metrics=['accuracy'])"
   ]
  },
  {
   "cell_type": "code",
   "execution_count": 25,
   "id": "8fc946c2-9de4-4f75-b9f1-5c918332eb1d",
   "metadata": {},
   "outputs": [],
   "source": [
    "scaler = StandardScaler()\n",
    "X_train = scaler.fit_transform(X_train)\n",
    "X_test = scaler.transform(X_test)"
   ]
  },
  {
   "cell_type": "code",
   "execution_count": 27,
   "id": "4910edbc-9410-4fab-8355-99726a0ab8cf",
   "metadata": {},
   "outputs": [],
   "source": [
    "X_train= np.asarray(X_train).astype('float32')\n",
    "X_test =np.asarray(X_test).astype('float32')"
   ]
  },
  {
   "cell_type": "code",
   "execution_count": null,
   "id": "6ca38c20-ccad-42bb-bdd0-7c981a4a1b25",
   "metadata": {},
   "outputs": [
    {
     "name": "stdout",
     "output_type": "stream",
     "text": [
      "Epoch 1/100\n",
      "39753/39753 [==============================] - 73s 2ms/step - loss: 0.4850 - accuracy: 0.7895\n",
      "Epoch 2/100\n",
      "39753/39753 [==============================] - 58s 1ms/step - loss: 0.4806 - accuracy: 0.7903\n",
      "Epoch 3/100\n",
      "39753/39753 [==============================] - 57s 1ms/step - loss: 0.4800 - accuracy: 0.7906\n",
      "Epoch 4/100\n",
      "39753/39753 [==============================] - 56s 1ms/step - loss: 0.4796 - accuracy: 0.7904\n",
      "Epoch 5/100\n",
      "39753/39753 [==============================] - 57s 1ms/step - loss: 0.4793 - accuracy: 0.7907\n",
      "Epoch 6/100\n",
      "39753/39753 [==============================] - 56s 1ms/step - loss: 0.4792 - accuracy: 0.7909\n",
      "Epoch 7/100\n",
      "39753/39753 [==============================] - 55s 1ms/step - loss: 0.4791 - accuracy: 0.7908\n",
      "Epoch 8/100\n",
      "39753/39753 [==============================] - 42s 1ms/step - loss: 0.4790 - accuracy: 0.7910\n",
      "Epoch 9/100\n",
      "39753/39753 [==============================] - 42s 1ms/step - loss: 0.4788 - accuracy: 0.7910\n",
      "Epoch 10/100\n",
      "39753/39753 [==============================] - 43s 1ms/step - loss: 0.4788 - accuracy: 0.7911\n",
      "Epoch 11/100\n",
      "39753/39753 [==============================] - 42s 1ms/step - loss: 0.4788 - accuracy: 0.7909\n",
      "Epoch 12/100\n",
      "39753/39753 [==============================] - 44s 1ms/step - loss: 0.4787 - accuracy: 0.7910\n",
      "Epoch 13/100\n",
      "39753/39753 [==============================] - 42s 1ms/step - loss: 0.4785 - accuracy: 0.7911\n",
      "Epoch 14/100\n",
      "39753/39753 [==============================] - 42s 1ms/step - loss: 0.4784 - accuracy: 0.7912\n",
      "Epoch 15/100\n",
      "39753/39753 [==============================] - 150s 4ms/step - loss: 0.4784 - accuracy: 0.7912\n",
      "Epoch 16/100\n",
      "39753/39753 [==============================] - 45s 1ms/step - loss: 0.4783 - accuracy: 0.7911\n",
      "Epoch 17/100\n",
      "39753/39753 [==============================] - 60s 2ms/step - loss: 0.4782 - accuracy: 0.7911\n",
      "Epoch 18/100\n",
      " 3563/39753 [=>............................] - ETA: 41s - loss: 0.4747 - accuracy: 0.7947"
     ]
    }
   ],
   "source": [
    "model.fit(X_train, y_train, epochs=100, batch_size=10)"
   ]
  },
  {
   "cell_type": "code",
   "execution_count": null,
   "id": "a00e25d3-6684-4f9f-9ca4-4dd56ddd3d5f",
   "metadata": {},
   "outputs": [],
   "source": []
  }
 ],
 "metadata": {
  "kernelspec": {
   "display_name": "Python [conda env:GA]",
   "language": "python",
   "name": "conda-env-GA-py"
  },
  "language_info": {
   "codemirror_mode": {
    "name": "ipython",
    "version": 3
   },
   "file_extension": ".py",
   "mimetype": "text/x-python",
   "name": "python",
   "nbconvert_exporter": "python",
   "pygments_lexer": "ipython3",
   "version": "3.9.11"
  }
 },
 "nbformat": 4,
 "nbformat_minor": 5
}
