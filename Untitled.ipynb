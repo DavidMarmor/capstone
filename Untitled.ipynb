{
 "cells": [
  {
   "cell_type": "code",
   "execution_count": 1,
   "id": "2f633ca0-38c6-4b5f-b3db-e919eabe7bd6",
   "metadata": {},
   "outputs": [],
   "source": [
    "from pybaseball import statcast "
   ]
  },
  {
   "cell_type": "code",
   "execution_count": 2,
   "id": "b684f813-8826-4845-96f9-9abb0d72cadd",
   "metadata": {},
   "outputs": [
    {
     "name": "stdout",
     "output_type": "stream",
     "text": [
      "This is a large query, it may take a moment to complete\n"
     ]
    },
    {
     "name": "stderr",
     "output_type": "stream",
     "text": [
      "C:\\Users\\dmarm\\anaconda3\\envs\\GA\\lib\\site-packages\\pybaseball\\statcast.py:50: UserWarning: \n",
      "That's a nice request you got there. It'd be a shame if something were to happen to it.\n",
      "We strongly recommend that you enable caching before running this. It's as simple as `pybaseball.cache.enable()`.\n",
      "Since the Statcast requests can take a *really* long time to run, if something were to happen, like: a disconnect;\n",
      "gremlins; computer repair by associates of Rudy Giuliani; electromagnetic interference from metal trash cans; etc.;\n",
      "you could lose a lot of progress. Enabling caching will allow you to immediately recover all the successful\n",
      "subqueries if that happens.\n",
      "  warnings.warn(_OVERSIZE_WARNING)\n"
     ]
    },
    {
     "name": "stdout",
     "output_type": "stream",
     "text": [
      "Skipping offseason dates\n",
      "Skipping offseason dates\n",
      "Skipping offseason dates\n",
      "Skipping offseason dates\n",
      "Skipping offseason dates\n"
     ]
    },
    {
     "name": "stderr",
     "output_type": "stream",
     "text": [
      "100%|██████████| 982/982 [08:51<00:00,  1.85it/s]\n"
     ]
    }
   ],
   "source": [
    "data = statcast(start_dt='2017-04-01', end_dt='2021-11-01')"
   ]
  },
  {
   "cell_type": "code",
   "execution_count": 15,
   "id": "726a3210-fb05-45c5-9abd-05440e3f1212",
   "metadata": {},
   "outputs": [],
   "source": [
    "df = data"
   ]
  },
  {
   "cell_type": "code",
   "execution_count": null,
   "id": "18c4e5f8-f19e-42aa-b824-698390d8d6d1",
   "metadata": {},
   "outputs": [],
   "source": [
    "df.to_pickle(\"./dummy.pkl\")  "
   ]
  },
  {
   "cell_type": "code",
   "execution_count": 47,
   "id": "037641a4-14ef-4a34-be1f-62c7d6062c1d",
   "metadata": {},
   "outputs": [],
   "source": [
    "infile = open('dummy.pkl','rb')\n",
    "df = pickle.load(infile)\n",
    "infile.close()"
   ]
  },
  {
   "cell_type": "code",
   "execution_count": 48,
   "id": "d1c60dae-01e2-40a5-807d-94cfe0e50821",
   "metadata": {},
   "outputs": [
    {
     "name": "stdout",
     "output_type": "stream",
     "text": [
      "<class 'pandas.core.frame.DataFrame'>\n",
      "Int64Index: 3266761 entries, 38 to 894\n",
      "Data columns (total 65 columns):\n",
      " #   Column                           Dtype  \n",
      "---  ------                           -----  \n",
      " 0   pitch_type                       object \n",
      " 1   release_speed                    Float64\n",
      " 2   release_pos_x                    Float64\n",
      " 3   release_pos_z                    Float64\n",
      " 4   player_name                      object \n",
      " 5   batter                           Int64  \n",
      " 6   pitcher                          Int64  \n",
      " 7   events                           object \n",
      " 8   description                      object \n",
      " 9   zone                             Int64  \n",
      " 10  des                              object \n",
      " 11  game_type                        object \n",
      " 12  stand                            object \n",
      " 13  p_throws                         object \n",
      " 14  home_team                        object \n",
      " 15  away_team                        object \n",
      " 16  type                             object \n",
      " 17  hit_location                     Int64  \n",
      " 18  bb_type                          object \n",
      " 19  balls                            Int64  \n",
      " 20  strikes                          Int64  \n",
      " 21  game_year                        Int64  \n",
      " 22  pfx_x                            Float64\n",
      " 23  pfx_z                            Float64\n",
      " 24  plate_x                          Float64\n",
      " 25  plate_z                          Float64\n",
      " 26  on_3b                            Int64  \n",
      " 27  on_2b                            Int64  \n",
      " 28  on_1b                            Int64  \n",
      " 29  outs_when_up                     Int64  \n",
      " 30  inning                           Int64  \n",
      " 31  inning_topbot                    object \n",
      " 32  hc_x                             Float64\n",
      " 33  hc_y                             Float64\n",
      " 34  fielder_2                        Int64  \n",
      " 35  vx0                              Float64\n",
      " 36  vy0                              Float64\n",
      " 37  vz0                              Float64\n",
      " 38  ax                               Float64\n",
      " 39  ay                               Float64\n",
      " 40  az                               Float64\n",
      " 41  sz_top                           Float64\n",
      " 42  sz_bot                           Float64\n",
      " 43  hit_distance_sc                  Int64  \n",
      " 44  launch_speed                     Float64\n",
      " 45  launch_angle                     Int64  \n",
      " 46  effective_speed                  Float64\n",
      " 47  release_spin_rate                Int64  \n",
      " 48  release_extension                Float64\n",
      " 49  game_pk                          Int64  \n",
      " 50  pitcher.1                        Int64  \n",
      " 51  release_pos_y                    Float64\n",
      " 52  estimated_ba_using_speedangle    Float64\n",
      " 53  estimated_woba_using_speedangle  Float64\n",
      " 54  woba_value                       Float64\n",
      " 55  woba_denom                       Int64  \n",
      " 56  babip_value                      Int64  \n",
      " 57  iso_value                        Int64  \n",
      " 58  launch_speed_angle               Int64  \n",
      " 59  at_bat_number                    Int64  \n",
      " 60  pitch_number                     Int64  \n",
      " 61  pitch_name                       object \n",
      " 62  if_fielding_alignment            object \n",
      " 63  of_fielding_alignment            object \n",
      " 64  spin_axis                        Int64  \n",
      "dtypes: Float64(24), Int64(25), object(16)\n",
      "memory usage: 1.8+ GB\n"
     ]
    }
   ],
   "source": [
    "df.info()"
   ]
  },
  {
   "cell_type": "code",
   "execution_count": 45,
   "id": "212a943b-ffc5-4d7d-b402-0c6bca6ec355",
   "metadata": {},
   "outputs": [],
   "source": [
    "import pickle"
   ]
  },
  {
   "cell_type": "code",
   "execution_count": 3,
   "id": "fdec79e7-6410-4817-b80d-81c4ce766f1a",
   "metadata": {},
   "outputs": [],
   "source": [
    "df = new_dict"
   ]
  },
  {
   "cell_type": "code",
   "execution_count": 14,
   "id": "f3b68539-cce6-4120-99d8-5a45d523de69",
   "metadata": {},
   "outputs": [],
   "source": [
    "blanks = df.isnull().sum()"
   ]
  },
  {
   "cell_type": "code",
   "execution_count": 16,
   "id": "a6254007-b05e-42d5-9252-41293993a4b7",
   "metadata": {},
   "outputs": [],
   "source": [
    "blanks =blanks/3266761"
   ]
  },
  {
   "cell_type": "code",
   "execution_count": 66,
   "id": "976aab26-9652-4603-9678-25c72cbff91e",
   "metadata": {},
   "outputs": [],
   "source": [
    "import pandas as pd \n",
    "from plotnine import ggplot, aes, geom_bar, geom_point, geom_histogram, geom_boxplot"
   ]
  },
  {
   "cell_type": "code",
   "execution_count": 21,
   "id": "6a2befa1-696e-42c5-a652-2695d921d222",
   "metadata": {},
   "outputs": [],
   "source": [
    "blanks = pd.DataFrame(blanks)"
   ]
  },
  {
   "cell_type": "code",
   "execution_count": 29,
   "id": "c07d501f-5afe-4216-b36a-fdc97afaaccc",
   "metadata": {},
   "outputs": [
    {
     "data": {
      "text/html": [
       "<div>\n",
       "<style scoped>\n",
       "    .dataframe tbody tr th:only-of-type {\n",
       "        vertical-align: middle;\n",
       "    }\n",
       "\n",
       "    .dataframe tbody tr th {\n",
       "        vertical-align: top;\n",
       "    }\n",
       "\n",
       "    .dataframe thead th {\n",
       "        text-align: right;\n",
       "    }\n",
       "</style>\n",
       "<table border=\"1\" class=\"dataframe\">\n",
       "  <thead>\n",
       "    <tr style=\"text-align: right;\">\n",
       "      <th></th>\n",
       "      <th>0</th>\n",
       "    </tr>\n",
       "  </thead>\n",
       "  <tbody>\n",
       "    <tr>\n",
       "      <th>umpire</th>\n",
       "      <td>1.000000</td>\n",
       "    </tr>\n",
       "    <tr>\n",
       "      <th>spin_dir</th>\n",
       "      <td>1.000000</td>\n",
       "    </tr>\n",
       "    <tr>\n",
       "      <th>sv_id</th>\n",
       "      <td>1.000000</td>\n",
       "    </tr>\n",
       "    <tr>\n",
       "      <th>break_angle_deprecated</th>\n",
       "      <td>1.000000</td>\n",
       "    </tr>\n",
       "    <tr>\n",
       "      <th>spin_rate_deprecated</th>\n",
       "      <td>1.000000</td>\n",
       "    </tr>\n",
       "    <tr>\n",
       "      <th>break_length_deprecated</th>\n",
       "      <td>1.000000</td>\n",
       "    </tr>\n",
       "    <tr>\n",
       "      <th>tfs_zulu_deprecated</th>\n",
       "      <td>1.000000</td>\n",
       "    </tr>\n",
       "    <tr>\n",
       "      <th>tfs_deprecated</th>\n",
       "      <td>1.000000</td>\n",
       "    </tr>\n",
       "    <tr>\n",
       "      <th>on_3b</th>\n",
       "      <td>0.906621</td>\n",
       "    </tr>\n",
       "    <tr>\n",
       "      <th>estimated_woba_using_speedangle</th>\n",
       "      <td>0.831008</td>\n",
       "    </tr>\n",
       "  </tbody>\n",
       "</table>\n",
       "</div>"
      ],
      "text/plain": [
       "                                        0\n",
       "umpire                           1.000000\n",
       "spin_dir                         1.000000\n",
       "sv_id                            1.000000\n",
       "break_angle_deprecated           1.000000\n",
       "spin_rate_deprecated             1.000000\n",
       "break_length_deprecated          1.000000\n",
       "tfs_zulu_deprecated              1.000000\n",
       "tfs_deprecated                   1.000000\n",
       "on_3b                            0.906621\n",
       "estimated_woba_using_speedangle  0.831008"
      ]
     },
     "execution_count": 29,
     "metadata": {},
     "output_type": "execute_result"
    }
   ],
   "source": [
    "blanks.sort_values(0, ascending=False).head(10)"
   ]
  },
  {
   "cell_type": "code",
   "execution_count": 30,
   "id": "51c22876-988f-44d7-bb70-b2761bc75538",
   "metadata": {},
   "outputs": [
    {
     "data": {
      "text/html": [
       "<div>\n",
       "<style scoped>\n",
       "    .dataframe tbody tr th:only-of-type {\n",
       "        vertical-align: middle;\n",
       "    }\n",
       "\n",
       "    .dataframe tbody tr th {\n",
       "        vertical-align: top;\n",
       "    }\n",
       "\n",
       "    .dataframe thead th {\n",
       "        text-align: right;\n",
       "    }\n",
       "</style>\n",
       "<table border=\"1\" class=\"dataframe\">\n",
       "  <thead>\n",
       "    <tr style=\"text-align: right;\">\n",
       "      <th></th>\n",
       "      <th>0</th>\n",
       "    </tr>\n",
       "  </thead>\n",
       "  <tbody>\n",
       "    <tr>\n",
       "      <th>pitch_number</th>\n",
       "      <td>0.0</td>\n",
       "    </tr>\n",
       "    <tr>\n",
       "      <th>fielder_2</th>\n",
       "      <td>0.0</td>\n",
       "    </tr>\n",
       "    <tr>\n",
       "      <th>game_pk</th>\n",
       "      <td>0.0</td>\n",
       "    </tr>\n",
       "    <tr>\n",
       "      <th>balls</th>\n",
       "      <td>0.0</td>\n",
       "    </tr>\n",
       "    <tr>\n",
       "      <th>strikes</th>\n",
       "      <td>0.0</td>\n",
       "    </tr>\n",
       "    <tr>\n",
       "      <th>game_year</th>\n",
       "      <td>0.0</td>\n",
       "    </tr>\n",
       "    <tr>\n",
       "      <th>at_bat_number</th>\n",
       "      <td>0.0</td>\n",
       "    </tr>\n",
       "    <tr>\n",
       "      <th>fielder_9</th>\n",
       "      <td>0.0</td>\n",
       "    </tr>\n",
       "    <tr>\n",
       "      <th>type</th>\n",
       "      <td>0.0</td>\n",
       "    </tr>\n",
       "    <tr>\n",
       "      <th>fielder_8</th>\n",
       "      <td>0.0</td>\n",
       "    </tr>\n",
       "  </tbody>\n",
       "</table>\n",
       "</div>"
      ],
      "text/plain": [
       "                 0\n",
       "pitch_number   0.0\n",
       "fielder_2      0.0\n",
       "game_pk        0.0\n",
       "balls          0.0\n",
       "strikes        0.0\n",
       "game_year      0.0\n",
       "at_bat_number  0.0\n",
       "fielder_9      0.0\n",
       "type           0.0\n",
       "fielder_8      0.0"
      ]
     },
     "execution_count": 30,
     "metadata": {},
     "output_type": "execute_result"
    }
   ],
   "source": [
    "blanks.sort_values(0, ascending=True).head(10)"
   ]
  },
  {
   "cell_type": "code",
   "execution_count": 5,
   "id": "5381f4e5-c408-40aa-9759-90ca4155ea01",
   "metadata": {},
   "outputs": [],
   "source": [
    "df.drop(columns = ['umpire', 'spin_dir', 'sv_id', 'break_angle_deprecated', 'spin_rate_deprecated', 'break_length_deprecated', 'tfs_zulu_deprecated', 'tfs_deprecated'], inplace = True)"
   ]
  },
  {
   "cell_type": "markdown",
   "id": "ccc1a304-1fbe-43c0-a41a-965433796778",
   "metadata": {},
   "source": [
    "these columns are 100% NAs "
   ]
  },
  {
   "cell_type": "code",
   "execution_count": 32,
   "id": "49431b55-9817-4646-be1c-60589a029c96",
   "metadata": {},
   "outputs": [
    {
     "name": "stdout",
     "output_type": "stream",
     "text": [
      "<class 'pandas.core.frame.DataFrame'>\n",
      "Int64Index: 3266761 entries, 38 to 894\n",
      "Data columns (total 84 columns):\n",
      " #   Column                           Dtype         \n",
      "---  ------                           -----         \n",
      " 0   pitch_type                       object        \n",
      " 1   game_date                        datetime64[ns]\n",
      " 2   release_speed                    Float64       \n",
      " 3   release_pos_x                    Float64       \n",
      " 4   release_pos_z                    Float64       \n",
      " 5   player_name                      object        \n",
      " 6   batter                           Int64         \n",
      " 7   pitcher                          Int64         \n",
      " 8   events                           object        \n",
      " 9   description                      object        \n",
      " 10  zone                             Int64         \n",
      " 11  des                              object        \n",
      " 12  game_type                        object        \n",
      " 13  stand                            object        \n",
      " 14  p_throws                         object        \n",
      " 15  home_team                        object        \n",
      " 16  away_team                        object        \n",
      " 17  type                             object        \n",
      " 18  hit_location                     Int64         \n",
      " 19  bb_type                          object        \n",
      " 20  balls                            Int64         \n",
      " 21  strikes                          Int64         \n",
      " 22  game_year                        Int64         \n",
      " 23  pfx_x                            Float64       \n",
      " 24  pfx_z                            Float64       \n",
      " 25  plate_x                          Float64       \n",
      " 26  plate_z                          Float64       \n",
      " 27  on_3b                            Int64         \n",
      " 28  on_2b                            Int64         \n",
      " 29  on_1b                            Int64         \n",
      " 30  outs_when_up                     Int64         \n",
      " 31  inning                           Int64         \n",
      " 32  inning_topbot                    object        \n",
      " 33  hc_x                             Float64       \n",
      " 34  hc_y                             Float64       \n",
      " 35  fielder_2                        Int64         \n",
      " 36  vx0                              Float64       \n",
      " 37  vy0                              Float64       \n",
      " 38  vz0                              Float64       \n",
      " 39  ax                               Float64       \n",
      " 40  ay                               Float64       \n",
      " 41  az                               Float64       \n",
      " 42  sz_top                           Float64       \n",
      " 43  sz_bot                           Float64       \n",
      " 44  hit_distance_sc                  Int64         \n",
      " 45  launch_speed                     Float64       \n",
      " 46  launch_angle                     Int64         \n",
      " 47  effective_speed                  Float64       \n",
      " 48  release_spin_rate                Int64         \n",
      " 49  release_extension                Float64       \n",
      " 50  game_pk                          Int64         \n",
      " 51  pitcher.1                        Int64         \n",
      " 52  fielder_2.1                      Int64         \n",
      " 53  fielder_3                        Int64         \n",
      " 54  fielder_4                        Int64         \n",
      " 55  fielder_5                        Int64         \n",
      " 56  fielder_6                        Int64         \n",
      " 57  fielder_7                        Int64         \n",
      " 58  fielder_8                        Int64         \n",
      " 59  fielder_9                        Int64         \n",
      " 60  release_pos_y                    Float64       \n",
      " 61  estimated_ba_using_speedangle    Float64       \n",
      " 62  estimated_woba_using_speedangle  Float64       \n",
      " 63  woba_value                       Float64       \n",
      " 64  woba_denom                       Int64         \n",
      " 65  babip_value                      Int64         \n",
      " 66  iso_value                        Int64         \n",
      " 67  launch_speed_angle               Int64         \n",
      " 68  at_bat_number                    Int64         \n",
      " 69  pitch_number                     Int64         \n",
      " 70  pitch_name                       object        \n",
      " 71  home_score                       Int64         \n",
      " 72  away_score                       Int64         \n",
      " 73  bat_score                        Int64         \n",
      " 74  fld_score                        Int64         \n",
      " 75  post_away_score                  Int64         \n",
      " 76  post_home_score                  Int64         \n",
      " 77  post_bat_score                   Int64         \n",
      " 78  post_fld_score                   Int64         \n",
      " 79  if_fielding_alignment            object        \n",
      " 80  of_fielding_alignment            object        \n",
      " 81  spin_axis                        Int64         \n",
      " 82  delta_home_win_exp               Float64       \n",
      " 83  delta_run_exp                    Float64       \n",
      "dtypes: Float64(26), Int64(41), datetime64[ns](1), object(16)\n",
      "memory usage: 2.3+ GB\n"
     ]
    }
   ],
   "source": [
    "df.info()"
   ]
  },
  {
   "cell_type": "code",
   "execution_count": 35,
   "id": "e28e32b9-764a-4801-a731-e8287ffe9110",
   "metadata": {},
   "outputs": [],
   "source": [
    "blanks = df.isnull().sum()"
   ]
  },
  {
   "cell_type": "code",
   "execution_count": 36,
   "id": "292c351b-67c0-41c8-a6c7-c3def609e6c7",
   "metadata": {},
   "outputs": [],
   "source": [
    "blanks =blanks/3266761"
   ]
  },
  {
   "cell_type": "code",
   "execution_count": 37,
   "id": "40eaf23d-c4cb-4b41-b988-35428e50215c",
   "metadata": {},
   "outputs": [
    {
     "name": "stderr",
     "output_type": "stream",
     "text": [
      "C:\\Users\\dmarm\\AppData\\Local\\Temp\\ipykernel_28924\\3981478078.py:1: FutureWarning: In a future version of pandas all arguments of Series.sort_values will be keyword-only.\n"
     ]
    },
    {
     "data": {
      "text/plain": [
       "on_3b                              0.906621\n",
       "launch_speed_angle                 0.831008\n",
       "estimated_ba_using_speedangle      0.831008\n",
       "estimated_woba_using_speedangle    0.831008\n",
       "hc_y                               0.828301\n",
       "hc_x                               0.828301\n",
       "bb_type                            0.825470\n",
       "on_2b                              0.814877\n",
       "hit_location                       0.775774\n",
       "woba_denom                         0.751912\n",
       "dtype: float64"
      ]
     },
     "execution_count": 37,
     "metadata": {},
     "output_type": "execute_result"
    }
   ],
   "source": [
    "blanks.sort_values(0, ascending=False).head(10)"
   ]
  },
  {
   "cell_type": "code",
   "execution_count": 38,
   "id": "7eb7bf8a-2c69-4685-8078-f8582296d440",
   "metadata": {},
   "outputs": [
    {
     "data": {
      "text/plain": [
       "FF    1133690\n",
       "SI     576878\n",
       "SL     564186\n",
       "CH     344876\n",
       "CU     269397\n",
       "FC     198784\n",
       "KC      79866\n",
       "FS      50149\n",
       "KN       3628\n",
       "FA       1545\n",
       "CS        659\n",
       "EP        526\n",
       "FO        367\n",
       "PO        202\n",
       "SC         77\n",
       "Name: pitch_type, dtype: int64"
      ]
     },
     "execution_count": 38,
     "metadata": {},
     "output_type": "execute_result"
    }
   ],
   "source": [
    "df['pitch_type'].value_counts()"
   ]
  },
  {
   "cell_type": "code",
   "execution_count": 43,
   "id": "e5b269b3-0160-4a88-a078-74c182cc406c",
   "metadata": {},
   "outputs": [
    {
     "data": {
      "text/plain": [
       "41931"
      ]
     },
     "execution_count": 43,
     "metadata": {},
     "output_type": "execute_result"
    }
   ],
   "source": [
    "df['pitch_type'].isnull().sum()"
   ]
  },
  {
   "cell_type": "code",
   "execution_count": 64,
   "id": "c7347d35-7433-4f26-9902-8226421efa4b",
   "metadata": {},
   "outputs": [
    {
     "data": {
      "text/plain": [
       "field_out                       330153\n",
       "strikeout                       190650\n",
       "single                          118472\n",
       "walk                             69057\n",
       "double                           37599\n",
       "home_run                         27991\n",
       "force_out                        16518\n",
       "grounded_into_double_play        15921\n",
       "hit_by_pitch                      9066\n",
       "field_error                       6066\n",
       "sac_fly                           5268\n",
       "triple                            3513\n",
       "sac_bunt                          3510\n",
       "double_play                       1887\n",
       "fielders_choice                   1758\n",
       "fielders_choice_out               1402\n",
       "caught_stealing_2b                 838\n",
       "strikeout_double_play              655\n",
       "catcher_interf                     184\n",
       "other_out                          172\n",
       "sac_fly_double_play                 67\n",
       "caught_stealing_3b                  55\n",
       "pickoff_1b                          42\n",
       "caught_stealing_home                36\n",
       "pickoff_2b                          32\n",
       "wild_pitch                          24\n",
       "triple_play                         20\n",
       "pickoff_caught_stealing_2b          10\n",
       "game_advisory                       10\n",
       "pickoff_3b                           8\n",
       "stolen_base_2b                       7\n",
       "sac_bunt_double_play                 6\n",
       "pickoff_caught_stealing_3b           5\n",
       "pickoff_caught_stealing_home         5\n",
       "passed_ball                          4\n",
       "runner_double_play                   2\n",
       "stolen_base_home                     1\n",
       "Name: events, dtype: int64"
      ]
     },
     "execution_count": 64,
     "metadata": {},
     "output_type": "execute_result"
    }
   ],
   "source": [
    "df['events'].value_counts()"
   ]
  },
  {
   "cell_type": "code",
   "execution_count": 66,
   "id": "862586ea-dd9c-47cf-9dd0-672779c0c893",
   "metadata": {},
   "outputs": [
    {
     "data": {
      "text/plain": [
       "ball                       1096247\n",
       "hit_into_play               570196\n",
       "foul                        569110\n",
       "called_strike               542171\n",
       "swinging_strike             338803\n",
       "blocked_ball                 77878\n",
       "foul_tip                     28758\n",
       "swinging_strike_blocked      24731\n",
       "hit_by_pitch                  9066\n",
       "foul_bunt                     7680\n",
       "missed_bunt                   1644\n",
       "pitchout                       316\n",
       "bunt_foul_tip                  158\n",
       "foul_pitchout                    2\n",
       "swinging_pitchout                1\n",
       "Name: description, dtype: int64"
      ]
     },
     "execution_count": 66,
     "metadata": {},
     "output_type": "execute_result"
    }
   ],
   "source": [
    "df['description'].value_counts()"
   ]
  },
  {
   "cell_type": "code",
   "execution_count": 67,
   "id": "84cc8977-0ddc-45b3-8aec-f1e6fc2d8110",
   "metadata": {},
   "outputs": [
    {
     "data": {
      "text/plain": [
       "0"
      ]
     },
     "execution_count": 67,
     "metadata": {},
     "output_type": "execute_result"
    }
   ],
   "source": [
    "df['description'].isnull().sum()"
   ]
  },
  {
   "cell_type": "code",
   "execution_count": 68,
   "id": "6ccf4c3f-ecee-4c01-8b27-89f4fc17df8e",
   "metadata": {},
   "outputs": [
    {
     "data": {
      "text/plain": [
       "14    616844\n",
       "13    426664\n",
       "11    345953\n",
       "12    267997\n",
       "5     233910\n",
       "8     201824\n",
       "6     197017\n",
       "4     192533\n",
       "9     184423\n",
       "7     157602\n",
       "2     150810\n",
       "1     127609\n",
       "3     116146\n",
       "Name: zone, dtype: Int64"
      ]
     },
     "execution_count": 68,
     "metadata": {},
     "output_type": "execute_result"
    }
   ],
   "source": [
    "df['zone'].value_counts()"
   ]
  },
  {
   "cell_type": "code",
   "execution_count": 6,
   "id": "86090df0-453b-4573-8433-5720f1e4f2c8",
   "metadata": {},
   "outputs": [],
   "source": [
    "df.drop(columns = ['fielder_2.1','fielder_3','fielder_4','fielder_5','fielder_6','fielder_7','fielder_8','fielder_9', 'game_date'], inplace = True)"
   ]
  },
  {
   "cell_type": "code",
   "execution_count": 8,
   "id": "bfbae2ff-a001-438a-ad08-34a864b78f62",
   "metadata": {},
   "outputs": [
    {
     "name": "stdout",
     "output_type": "stream",
     "text": [
      "<class 'pandas.core.frame.DataFrame'>\n",
      "Int64Index: 3266761 entries, 38 to 894\n",
      "Data columns (total 75 columns):\n",
      " #   Column                           Dtype  \n",
      "---  ------                           -----  \n",
      " 0   pitch_type                       object \n",
      " 1   release_speed                    Float64\n",
      " 2   release_pos_x                    Float64\n",
      " 3   release_pos_z                    Float64\n",
      " 4   player_name                      object \n",
      " 5   batter                           Int64  \n",
      " 6   pitcher                          Int64  \n",
      " 7   events                           object \n",
      " 8   description                      object \n",
      " 9   zone                             Int64  \n",
      " 10  des                              object \n",
      " 11  game_type                        object \n",
      " 12  stand                            object \n",
      " 13  p_throws                         object \n",
      " 14  home_team                        object \n",
      " 15  away_team                        object \n",
      " 16  type                             object \n",
      " 17  hit_location                     Int64  \n",
      " 18  bb_type                          object \n",
      " 19  balls                            Int64  \n",
      " 20  strikes                          Int64  \n",
      " 21  game_year                        Int64  \n",
      " 22  pfx_x                            Float64\n",
      " 23  pfx_z                            Float64\n",
      " 24  plate_x                          Float64\n",
      " 25  plate_z                          Float64\n",
      " 26  on_3b                            Int64  \n",
      " 27  on_2b                            Int64  \n",
      " 28  on_1b                            Int64  \n",
      " 29  outs_when_up                     Int64  \n",
      " 30  inning                           Int64  \n",
      " 31  inning_topbot                    object \n",
      " 32  hc_x                             Float64\n",
      " 33  hc_y                             Float64\n",
      " 34  fielder_2                        Int64  \n",
      " 35  vx0                              Float64\n",
      " 36  vy0                              Float64\n",
      " 37  vz0                              Float64\n",
      " 38  ax                               Float64\n",
      " 39  ay                               Float64\n",
      " 40  az                               Float64\n",
      " 41  sz_top                           Float64\n",
      " 42  sz_bot                           Float64\n",
      " 43  hit_distance_sc                  Int64  \n",
      " 44  launch_speed                     Float64\n",
      " 45  launch_angle                     Int64  \n",
      " 46  effective_speed                  Float64\n",
      " 47  release_spin_rate                Int64  \n",
      " 48  release_extension                Float64\n",
      " 49  game_pk                          Int64  \n",
      " 50  pitcher.1                        Int64  \n",
      " 51  release_pos_y                    Float64\n",
      " 52  estimated_ba_using_speedangle    Float64\n",
      " 53  estimated_woba_using_speedangle  Float64\n",
      " 54  woba_value                       Float64\n",
      " 55  woba_denom                       Int64  \n",
      " 56  babip_value                      Int64  \n",
      " 57  iso_value                        Int64  \n",
      " 58  launch_speed_angle               Int64  \n",
      " 59  at_bat_number                    Int64  \n",
      " 60  pitch_number                     Int64  \n",
      " 61  pitch_name                       object \n",
      " 62  home_score                       Int64  \n",
      " 63  away_score                       Int64  \n",
      " 64  bat_score                        Int64  \n",
      " 65  fld_score                        Int64  \n",
      " 66  post_away_score                  Int64  \n",
      " 67  post_home_score                  Int64  \n",
      " 68  post_bat_score                   Int64  \n",
      " 69  post_fld_score                   Int64  \n",
      " 70  if_fielding_alignment            object \n",
      " 71  of_fielding_alignment            object \n",
      " 72  spin_axis                        Int64  \n",
      " 73  delta_home_win_exp               Float64\n",
      " 74  delta_run_exp                    Float64\n",
      "dtypes: Float64(26), Int64(33), object(16)\n",
      "memory usage: 2.0+ GB\n"
     ]
    }
   ],
   "source": [
    "df.info()"
   ]
  },
  {
   "cell_type": "code",
   "execution_count": 24,
   "id": "e69b5fde-d1e1-427e-a32f-b7880cb198a1",
   "metadata": {},
   "outputs": [],
   "source": [
    "df.to_pickle(\"./dummy.pkl\")  "
   ]
  },
  {
   "cell_type": "code",
   "execution_count": 7,
   "id": "5b1d2c3d-7d37-450e-b27c-4915781d3a46",
   "metadata": {},
   "outputs": [],
   "source": [
    "df1 = df #pitchsuccess "
   ]
  },
  {
   "cell_type": "code",
   "execution_count": 8,
   "id": "7b481732-44c3-41a8-909e-4bcfb97605c4",
   "metadata": {},
   "outputs": [],
   "source": [
    "df2 = df # pitchpredict"
   ]
  },
  {
   "cell_type": "code",
   "execution_count": 9,
   "id": "9216f785-dd35-4360-9761-35e38764c7ce",
   "metadata": {},
   "outputs": [],
   "source": [
    "df1 = df1.drop(columns = ['delta_run_exp', 'delta_home_win_exp', 'post_fld_score', 'post_bat_score', 'post_home_score', 'post_away_score', 'fld_score', 'bat_score', 'away_score', 'home_score'], inplace = True)"
   ]
  },
  {
   "cell_type": "code",
   "execution_count": 18,
   "id": "ac0a08bc-6b4d-4545-a1ff-da1c416213b2",
   "metadata": {},
   "outputs": [
    {
     "name": "stdout",
     "output_type": "stream",
     "text": [
      "<class 'pandas.core.frame.DataFrame'>\n",
      "Int64Index: 3266761 entries, 38 to 894\n",
      "Data columns (total 65 columns):\n",
      " #   Column                           Dtype  \n",
      "---  ------                           -----  \n",
      " 0   pitch_type                       object \n",
      " 1   release_speed                    Float64\n",
      " 2   release_pos_x                    Float64\n",
      " 3   release_pos_z                    Float64\n",
      " 4   player_name                      object \n",
      " 5   batter                           Int64  \n",
      " 6   pitcher                          Int64  \n",
      " 7   events                           object \n",
      " 8   description                      object \n",
      " 9   zone                             Int64  \n",
      " 10  des                              object \n",
      " 11  game_type                        object \n",
      " 12  stand                            object \n",
      " 13  p_throws                         object \n",
      " 14  home_team                        object \n",
      " 15  away_team                        object \n",
      " 16  type                             object \n",
      " 17  hit_location                     Int64  \n",
      " 18  bb_type                          object \n",
      " 19  balls                            Int64  \n",
      " 20  strikes                          Int64  \n",
      " 21  game_year                        Int64  \n",
      " 22  pfx_x                            Float64\n",
      " 23  pfx_z                            Float64\n",
      " 24  plate_x                          Float64\n",
      " 25  plate_z                          Float64\n",
      " 26  on_3b                            Int64  \n",
      " 27  on_2b                            Int64  \n",
      " 28  on_1b                            Int64  \n",
      " 29  outs_when_up                     Int64  \n",
      " 30  inning                           Int64  \n",
      " 31  inning_topbot                    object \n",
      " 32  hc_x                             Float64\n",
      " 33  hc_y                             Float64\n",
      " 34  fielder_2                        Int64  \n",
      " 35  vx0                              Float64\n",
      " 36  vy0                              Float64\n",
      " 37  vz0                              Float64\n",
      " 38  ax                               Float64\n",
      " 39  ay                               Float64\n",
      " 40  az                               Float64\n",
      " 41  sz_top                           Float64\n",
      " 42  sz_bot                           Float64\n",
      " 43  hit_distance_sc                  Int64  \n",
      " 44  launch_speed                     Float64\n",
      " 45  launch_angle                     Int64  \n",
      " 46  effective_speed                  Float64\n",
      " 47  release_spin_rate                Int64  \n",
      " 48  release_extension                Float64\n",
      " 49  game_pk                          Int64  \n",
      " 50  pitcher.1                        Int64  \n",
      " 51  release_pos_y                    Float64\n",
      " 52  estimated_ba_using_speedangle    Float64\n",
      " 53  estimated_woba_using_speedangle  Float64\n",
      " 54  woba_value                       Float64\n",
      " 55  woba_denom                       Int64  \n",
      " 56  babip_value                      Int64  \n",
      " 57  iso_value                        Int64  \n",
      " 58  launch_speed_angle               Int64  \n",
      " 59  at_bat_number                    Int64  \n",
      " 60  pitch_number                     Int64  \n",
      " 61  pitch_name                       object \n",
      " 62  if_fielding_alignment            object \n",
      " 63  of_fielding_alignment            object \n",
      " 64  spin_axis                        Int64  \n",
      "dtypes: Float64(24), Int64(25), object(16)\n",
      "memory usage: 1.8+ GB\n"
     ]
    }
   ],
   "source": [
    "df.info()"
   ]
  },
  {
   "cell_type": "code",
   "execution_count": 21,
   "id": "da0b9bbb-f17f-472f-8572-651e8ca21157",
   "metadata": {},
   "outputs": [
    {
     "ename": "KeyError",
     "evalue": "\"['delta_run_exp', 'delta_home_win_exp', 'post_fld_score', 'post_bat_score', 'post_home_score', 'post_away_score', 'fld_score', 'bat_score', 'away_score', 'home_score'] not found in axis\"",
     "output_type": "error",
     "traceback": [
      "\u001b[1;31m---------------------------------------------------------------------------\u001b[0m",
      "\u001b[1;31mKeyError\u001b[0m                                  Traceback (most recent call last)",
      "Input \u001b[1;32mIn [21]\u001b[0m, in \u001b[0;36m<cell line: 1>\u001b[1;34m()\u001b[0m\n\u001b[1;32m----> 1\u001b[0m \u001b[43mdf1\u001b[49m\u001b[38;5;241;43m.\u001b[39;49m\u001b[43mdrop\u001b[49m\u001b[43m(\u001b[49m\u001b[43mcolumns\u001b[49m\u001b[43m \u001b[49m\u001b[38;5;241;43m=\u001b[39;49m\u001b[43m \u001b[49m\u001b[43m[\u001b[49m\u001b[38;5;124;43m'\u001b[39;49m\u001b[38;5;124;43mdelta_run_exp\u001b[39;49m\u001b[38;5;124;43m'\u001b[39;49m\u001b[43m,\u001b[49m\u001b[43m \u001b[49m\u001b[38;5;124;43m'\u001b[39;49m\u001b[38;5;124;43mdelta_home_win_exp\u001b[39;49m\u001b[38;5;124;43m'\u001b[39;49m\u001b[43m,\u001b[49m\u001b[43m \u001b[49m\u001b[38;5;124;43m'\u001b[39;49m\u001b[38;5;124;43mpost_fld_score\u001b[39;49m\u001b[38;5;124;43m'\u001b[39;49m\u001b[43m,\u001b[49m\u001b[43m \u001b[49m\u001b[38;5;124;43m'\u001b[39;49m\u001b[38;5;124;43mpost_bat_score\u001b[39;49m\u001b[38;5;124;43m'\u001b[39;49m\u001b[43m,\u001b[49m\u001b[43m \u001b[49m\u001b[38;5;124;43m'\u001b[39;49m\u001b[38;5;124;43mpost_home_score\u001b[39;49m\u001b[38;5;124;43m'\u001b[39;49m\u001b[43m,\u001b[49m\u001b[43m \u001b[49m\u001b[38;5;124;43m'\u001b[39;49m\u001b[38;5;124;43mpost_away_score\u001b[39;49m\u001b[38;5;124;43m'\u001b[39;49m\u001b[43m,\u001b[49m\u001b[43m \u001b[49m\u001b[38;5;124;43m'\u001b[39;49m\u001b[38;5;124;43mfld_score\u001b[39;49m\u001b[38;5;124;43m'\u001b[39;49m\u001b[43m,\u001b[49m\u001b[43m \u001b[49m\u001b[38;5;124;43m'\u001b[39;49m\u001b[38;5;124;43mbat_score\u001b[39;49m\u001b[38;5;124;43m'\u001b[39;49m\u001b[43m,\u001b[49m\u001b[43m \u001b[49m\u001b[38;5;124;43m'\u001b[39;49m\u001b[38;5;124;43maway_score\u001b[39;49m\u001b[38;5;124;43m'\u001b[39;49m\u001b[43m,\u001b[49m\u001b[43m \u001b[49m\u001b[38;5;124;43m'\u001b[39;49m\u001b[38;5;124;43mhome_score\u001b[39;49m\u001b[38;5;124;43m'\u001b[39;49m\u001b[43m]\u001b[49m\u001b[43m,\u001b[49m\u001b[43m \u001b[49m\u001b[43minplace\u001b[49m\u001b[43m \u001b[49m\u001b[38;5;241;43m=\u001b[39;49m\u001b[43m \u001b[49m\u001b[38;5;28;43;01mTrue\u001b[39;49;00m\u001b[43m)\u001b[49m\n",
      "File \u001b[1;32m~\\anaconda3\\envs\\GA\\lib\\site-packages\\pandas\\util\\_decorators.py:311\u001b[0m, in \u001b[0;36mdeprecate_nonkeyword_arguments.<locals>.decorate.<locals>.wrapper\u001b[1;34m(*args, **kwargs)\u001b[0m\n\u001b[0;32m    305\u001b[0m \u001b[38;5;28;01mif\u001b[39;00m \u001b[38;5;28mlen\u001b[39m(args) \u001b[38;5;241m>\u001b[39m num_allow_args:\n\u001b[0;32m    306\u001b[0m     warnings\u001b[38;5;241m.\u001b[39mwarn(\n\u001b[0;32m    307\u001b[0m         msg\u001b[38;5;241m.\u001b[39mformat(arguments\u001b[38;5;241m=\u001b[39marguments),\n\u001b[0;32m    308\u001b[0m         \u001b[38;5;167;01mFutureWarning\u001b[39;00m,\n\u001b[0;32m    309\u001b[0m         stacklevel\u001b[38;5;241m=\u001b[39mstacklevel,\n\u001b[0;32m    310\u001b[0m     )\n\u001b[1;32m--> 311\u001b[0m \u001b[38;5;28;01mreturn\u001b[39;00m func(\u001b[38;5;241m*\u001b[39margs, \u001b[38;5;241m*\u001b[39m\u001b[38;5;241m*\u001b[39mkwargs)\n",
      "File \u001b[1;32m~\\anaconda3\\envs\\GA\\lib\\site-packages\\pandas\\core\\frame.py:4948\u001b[0m, in \u001b[0;36mDataFrame.drop\u001b[1;34m(self, labels, axis, index, columns, level, inplace, errors)\u001b[0m\n\u001b[0;32m   4800\u001b[0m \u001b[38;5;129m@deprecate_nonkeyword_arguments\u001b[39m(version\u001b[38;5;241m=\u001b[39m\u001b[38;5;28;01mNone\u001b[39;00m, allowed_args\u001b[38;5;241m=\u001b[39m[\u001b[38;5;124m\"\u001b[39m\u001b[38;5;124mself\u001b[39m\u001b[38;5;124m\"\u001b[39m, \u001b[38;5;124m\"\u001b[39m\u001b[38;5;124mlabels\u001b[39m\u001b[38;5;124m\"\u001b[39m])\n\u001b[0;32m   4801\u001b[0m \u001b[38;5;28;01mdef\u001b[39;00m \u001b[38;5;21mdrop\u001b[39m(\n\u001b[0;32m   4802\u001b[0m     \u001b[38;5;28mself\u001b[39m,\n\u001b[1;32m   (...)\u001b[0m\n\u001b[0;32m   4809\u001b[0m     errors: \u001b[38;5;28mstr\u001b[39m \u001b[38;5;241m=\u001b[39m \u001b[38;5;124m\"\u001b[39m\u001b[38;5;124mraise\u001b[39m\u001b[38;5;124m\"\u001b[39m,\n\u001b[0;32m   4810\u001b[0m ):\n\u001b[0;32m   4811\u001b[0m     \u001b[38;5;124;03m\"\"\"\u001b[39;00m\n\u001b[0;32m   4812\u001b[0m \u001b[38;5;124;03m    Drop specified labels from rows or columns.\u001b[39;00m\n\u001b[0;32m   4813\u001b[0m \n\u001b[1;32m   (...)\u001b[0m\n\u001b[0;32m   4946\u001b[0m \u001b[38;5;124;03m            weight  1.0     0.8\u001b[39;00m\n\u001b[0;32m   4947\u001b[0m \u001b[38;5;124;03m    \"\"\"\u001b[39;00m\n\u001b[1;32m-> 4948\u001b[0m     \u001b[38;5;28;01mreturn\u001b[39;00m \u001b[38;5;28;43msuper\u001b[39;49m\u001b[43m(\u001b[49m\u001b[43m)\u001b[49m\u001b[38;5;241;43m.\u001b[39;49m\u001b[43mdrop\u001b[49m\u001b[43m(\u001b[49m\n\u001b[0;32m   4949\u001b[0m \u001b[43m        \u001b[49m\u001b[43mlabels\u001b[49m\u001b[38;5;241;43m=\u001b[39;49m\u001b[43mlabels\u001b[49m\u001b[43m,\u001b[49m\n\u001b[0;32m   4950\u001b[0m \u001b[43m        \u001b[49m\u001b[43maxis\u001b[49m\u001b[38;5;241;43m=\u001b[39;49m\u001b[43maxis\u001b[49m\u001b[43m,\u001b[49m\n\u001b[0;32m   4951\u001b[0m \u001b[43m        \u001b[49m\u001b[43mindex\u001b[49m\u001b[38;5;241;43m=\u001b[39;49m\u001b[43mindex\u001b[49m\u001b[43m,\u001b[49m\n\u001b[0;32m   4952\u001b[0m \u001b[43m        \u001b[49m\u001b[43mcolumns\u001b[49m\u001b[38;5;241;43m=\u001b[39;49m\u001b[43mcolumns\u001b[49m\u001b[43m,\u001b[49m\n\u001b[0;32m   4953\u001b[0m \u001b[43m        \u001b[49m\u001b[43mlevel\u001b[49m\u001b[38;5;241;43m=\u001b[39;49m\u001b[43mlevel\u001b[49m\u001b[43m,\u001b[49m\n\u001b[0;32m   4954\u001b[0m \u001b[43m        \u001b[49m\u001b[43minplace\u001b[49m\u001b[38;5;241;43m=\u001b[39;49m\u001b[43minplace\u001b[49m\u001b[43m,\u001b[49m\n\u001b[0;32m   4955\u001b[0m \u001b[43m        \u001b[49m\u001b[43merrors\u001b[49m\u001b[38;5;241;43m=\u001b[39;49m\u001b[43merrors\u001b[49m\u001b[43m,\u001b[49m\n\u001b[0;32m   4956\u001b[0m \u001b[43m    \u001b[49m\u001b[43m)\u001b[49m\n",
      "File \u001b[1;32m~\\anaconda3\\envs\\GA\\lib\\site-packages\\pandas\\core\\generic.py:4279\u001b[0m, in \u001b[0;36mNDFrame.drop\u001b[1;34m(self, labels, axis, index, columns, level, inplace, errors)\u001b[0m\n\u001b[0;32m   4277\u001b[0m \u001b[38;5;28;01mfor\u001b[39;00m axis, labels \u001b[38;5;129;01min\u001b[39;00m axes\u001b[38;5;241m.\u001b[39mitems():\n\u001b[0;32m   4278\u001b[0m     \u001b[38;5;28;01mif\u001b[39;00m labels \u001b[38;5;129;01mis\u001b[39;00m \u001b[38;5;129;01mnot\u001b[39;00m \u001b[38;5;28;01mNone\u001b[39;00m:\n\u001b[1;32m-> 4279\u001b[0m         obj \u001b[38;5;241m=\u001b[39m \u001b[43mobj\u001b[49m\u001b[38;5;241;43m.\u001b[39;49m\u001b[43m_drop_axis\u001b[49m\u001b[43m(\u001b[49m\u001b[43mlabels\u001b[49m\u001b[43m,\u001b[49m\u001b[43m \u001b[49m\u001b[43maxis\u001b[49m\u001b[43m,\u001b[49m\u001b[43m \u001b[49m\u001b[43mlevel\u001b[49m\u001b[38;5;241;43m=\u001b[39;49m\u001b[43mlevel\u001b[49m\u001b[43m,\u001b[49m\u001b[43m \u001b[49m\u001b[43merrors\u001b[49m\u001b[38;5;241;43m=\u001b[39;49m\u001b[43merrors\u001b[49m\u001b[43m)\u001b[49m\n\u001b[0;32m   4281\u001b[0m \u001b[38;5;28;01mif\u001b[39;00m inplace:\n\u001b[0;32m   4282\u001b[0m     \u001b[38;5;28mself\u001b[39m\u001b[38;5;241m.\u001b[39m_update_inplace(obj)\n",
      "File \u001b[1;32m~\\anaconda3\\envs\\GA\\lib\\site-packages\\pandas\\core\\generic.py:4323\u001b[0m, in \u001b[0;36mNDFrame._drop_axis\u001b[1;34m(self, labels, axis, level, errors, consolidate, only_slice)\u001b[0m\n\u001b[0;32m   4321\u001b[0m         new_axis \u001b[38;5;241m=\u001b[39m axis\u001b[38;5;241m.\u001b[39mdrop(labels, level\u001b[38;5;241m=\u001b[39mlevel, errors\u001b[38;5;241m=\u001b[39merrors)\n\u001b[0;32m   4322\u001b[0m     \u001b[38;5;28;01melse\u001b[39;00m:\n\u001b[1;32m-> 4323\u001b[0m         new_axis \u001b[38;5;241m=\u001b[39m \u001b[43maxis\u001b[49m\u001b[38;5;241;43m.\u001b[39;49m\u001b[43mdrop\u001b[49m\u001b[43m(\u001b[49m\u001b[43mlabels\u001b[49m\u001b[43m,\u001b[49m\u001b[43m \u001b[49m\u001b[43merrors\u001b[49m\u001b[38;5;241;43m=\u001b[39;49m\u001b[43merrors\u001b[49m\u001b[43m)\u001b[49m\n\u001b[0;32m   4324\u001b[0m     indexer \u001b[38;5;241m=\u001b[39m axis\u001b[38;5;241m.\u001b[39mget_indexer(new_axis)\n\u001b[0;32m   4326\u001b[0m \u001b[38;5;66;03m# Case for non-unique axis\u001b[39;00m\n\u001b[0;32m   4327\u001b[0m \u001b[38;5;28;01melse\u001b[39;00m:\n",
      "File \u001b[1;32m~\\anaconda3\\envs\\GA\\lib\\site-packages\\pandas\\core\\indexes\\base.py:6644\u001b[0m, in \u001b[0;36mIndex.drop\u001b[1;34m(self, labels, errors)\u001b[0m\n\u001b[0;32m   6642\u001b[0m \u001b[38;5;28;01mif\u001b[39;00m mask\u001b[38;5;241m.\u001b[39many():\n\u001b[0;32m   6643\u001b[0m     \u001b[38;5;28;01mif\u001b[39;00m errors \u001b[38;5;241m!=\u001b[39m \u001b[38;5;124m\"\u001b[39m\u001b[38;5;124mignore\u001b[39m\u001b[38;5;124m\"\u001b[39m:\n\u001b[1;32m-> 6644\u001b[0m         \u001b[38;5;28;01mraise\u001b[39;00m \u001b[38;5;167;01mKeyError\u001b[39;00m(\u001b[38;5;124mf\u001b[39m\u001b[38;5;124m\"\u001b[39m\u001b[38;5;132;01m{\u001b[39;00m\u001b[38;5;28mlist\u001b[39m(labels[mask])\u001b[38;5;132;01m}\u001b[39;00m\u001b[38;5;124m not found in axis\u001b[39m\u001b[38;5;124m\"\u001b[39m)\n\u001b[0;32m   6645\u001b[0m     indexer \u001b[38;5;241m=\u001b[39m indexer[\u001b[38;5;241m~\u001b[39mmask]\n\u001b[0;32m   6646\u001b[0m \u001b[38;5;28;01mreturn\u001b[39;00m \u001b[38;5;28mself\u001b[39m\u001b[38;5;241m.\u001b[39mdelete(indexer)\n",
      "\u001b[1;31mKeyError\u001b[0m: \"['delta_run_exp', 'delta_home_win_exp', 'post_fld_score', 'post_bat_score', 'post_home_score', 'post_away_score', 'fld_score', 'bat_score', 'away_score', 'home_score'] not found in axis\""
     ]
    }
   ],
   "source": [
    "df1.drop(columns = ['delta_run_exp', 'delta_home_win_exp', 'post_fld_score', 'post_bat_score', 'post_home_score', 'post_away_score', 'fld_score', 'bat_score', 'away_score', 'home_score'], inplace = True)"
   ]
  },
  {
   "cell_type": "code",
   "execution_count": 49,
   "id": "92ec02ec-263d-48c9-8b9b-c1ca3b1818cd",
   "metadata": {},
   "outputs": [],
   "source": [
    "df1 =df.copy()"
   ]
  },
  {
   "cell_type": "code",
   "execution_count": 26,
   "id": "a7fb5e56-013e-49d6-a2d7-0e8f251fb306",
   "metadata": {},
   "outputs": [],
   "source": [
    "df2 =df.copy()"
   ]
  },
  {
   "cell_type": "code",
   "execution_count": 30,
   "id": "affa23e7-23b1-4022-9f43-7b7a38a9bb5f",
   "metadata": {},
   "outputs": [],
   "source": [
    "df1.drop(columns = ['pitch_name'], inplace = True) "
   ]
  },
  {
   "cell_type": "code",
   "execution_count": 50,
   "id": "878bbe3f-81b8-4c4d-bcc1-58e552c27387",
   "metadata": {},
   "outputs": [
    {
     "name": "stdout",
     "output_type": "stream",
     "text": [
      "<class 'pandas.core.frame.DataFrame'>\n",
      "Int64Index: 3266761 entries, 38 to 894\n",
      "Data columns (total 65 columns):\n",
      " #   Column                           Dtype  \n",
      "---  ------                           -----  \n",
      " 0   pitch_type                       object \n",
      " 1   release_speed                    Float64\n",
      " 2   release_pos_x                    Float64\n",
      " 3   release_pos_z                    Float64\n",
      " 4   player_name                      object \n",
      " 5   batter                           Int64  \n",
      " 6   pitcher                          Int64  \n",
      " 7   events                           object \n",
      " 8   description                      object \n",
      " 9   zone                             Int64  \n",
      " 10  des                              object \n",
      " 11  game_type                        object \n",
      " 12  stand                            object \n",
      " 13  p_throws                         object \n",
      " 14  home_team                        object \n",
      " 15  away_team                        object \n",
      " 16  type                             object \n",
      " 17  hit_location                     Int64  \n",
      " 18  bb_type                          object \n",
      " 19  balls                            Int64  \n",
      " 20  strikes                          Int64  \n",
      " 21  game_year                        Int64  \n",
      " 22  pfx_x                            Float64\n",
      " 23  pfx_z                            Float64\n",
      " 24  plate_x                          Float64\n",
      " 25  plate_z                          Float64\n",
      " 26  on_3b                            Int64  \n",
      " 27  on_2b                            Int64  \n",
      " 28  on_1b                            Int64  \n",
      " 29  outs_when_up                     Int64  \n",
      " 30  inning                           Int64  \n",
      " 31  inning_topbot                    object \n",
      " 32  hc_x                             Float64\n",
      " 33  hc_y                             Float64\n",
      " 34  fielder_2                        Int64  \n",
      " 35  vx0                              Float64\n",
      " 36  vy0                              Float64\n",
      " 37  vz0                              Float64\n",
      " 38  ax                               Float64\n",
      " 39  ay                               Float64\n",
      " 40  az                               Float64\n",
      " 41  sz_top                           Float64\n",
      " 42  sz_bot                           Float64\n",
      " 43  hit_distance_sc                  Int64  \n",
      " 44  launch_speed                     Float64\n",
      " 45  launch_angle                     Int64  \n",
      " 46  effective_speed                  Float64\n",
      " 47  release_spin_rate                Int64  \n",
      " 48  release_extension                Float64\n",
      " 49  game_pk                          Int64  \n",
      " 50  pitcher.1                        Int64  \n",
      " 51  release_pos_y                    Float64\n",
      " 52  estimated_ba_using_speedangle    Float64\n",
      " 53  estimated_woba_using_speedangle  Float64\n",
      " 54  woba_value                       Float64\n",
      " 55  woba_denom                       Int64  \n",
      " 56  babip_value                      Int64  \n",
      " 57  iso_value                        Int64  \n",
      " 58  launch_speed_angle               Int64  \n",
      " 59  at_bat_number                    Int64  \n",
      " 60  pitch_number                     Int64  \n",
      " 61  pitch_name                       object \n",
      " 62  if_fielding_alignment            object \n",
      " 63  of_fielding_alignment            object \n",
      " 64  spin_axis                        Int64  \n",
      "dtypes: Float64(24), Int64(25), object(16)\n",
      "memory usage: 1.8+ GB\n"
     ]
    }
   ],
   "source": [
    "df1.info()"
   ]
  },
  {
   "cell_type": "code",
   "execution_count": 33,
   "id": "2a85eb64-027a-400b-bf1c-1fbd2b103bfa",
   "metadata": {},
   "outputs": [
    {
     "name": "stdout",
     "output_type": "stream",
     "text": [
      "<class 'pandas.core.frame.DataFrame'>\n",
      "Int64Index: 3266761 entries, 38 to 894\n",
      "Data columns (total 65 columns):\n",
      " #   Column                           Dtype  \n",
      "---  ------                           -----  \n",
      " 0   pitch_type                       object \n",
      " 1   release_speed                    Float64\n",
      " 2   release_pos_x                    Float64\n",
      " 3   release_pos_z                    Float64\n",
      " 4   player_name                      object \n",
      " 5   batter                           Int64  \n",
      " 6   pitcher                          Int64  \n",
      " 7   events                           object \n",
      " 8   description                      object \n",
      " 9   zone                             Int64  \n",
      " 10  des                              object \n",
      " 11  game_type                        object \n",
      " 12  stand                            object \n",
      " 13  p_throws                         object \n",
      " 14  home_team                        object \n",
      " 15  away_team                        object \n",
      " 16  type                             object \n",
      " 17  hit_location                     Int64  \n",
      " 18  bb_type                          object \n",
      " 19  balls                            Int64  \n",
      " 20  strikes                          Int64  \n",
      " 21  game_year                        Int64  \n",
      " 22  pfx_x                            Float64\n",
      " 23  pfx_z                            Float64\n",
      " 24  plate_x                          Float64\n",
      " 25  plate_z                          Float64\n",
      " 26  on_3b                            Int64  \n",
      " 27  on_2b                            Int64  \n",
      " 28  on_1b                            Int64  \n",
      " 29  outs_when_up                     Int64  \n",
      " 30  inning                           Int64  \n",
      " 31  inning_topbot                    object \n",
      " 32  hc_x                             Float64\n",
      " 33  hc_y                             Float64\n",
      " 34  fielder_2                        Int64  \n",
      " 35  vx0                              Float64\n",
      " 36  vy0                              Float64\n",
      " 37  vz0                              Float64\n",
      " 38  ax                               Float64\n",
      " 39  ay                               Float64\n",
      " 40  az                               Float64\n",
      " 41  sz_top                           Float64\n",
      " 42  sz_bot                           Float64\n",
      " 43  hit_distance_sc                  Int64  \n",
      " 44  launch_speed                     Float64\n",
      " 45  launch_angle                     Int64  \n",
      " 46  effective_speed                  Float64\n",
      " 47  release_spin_rate                Int64  \n",
      " 48  release_extension                Float64\n",
      " 49  game_pk                          Int64  \n",
      " 50  pitcher.1                        Int64  \n",
      " 51  release_pos_y                    Float64\n",
      " 52  estimated_ba_using_speedangle    Float64\n",
      " 53  estimated_woba_using_speedangle  Float64\n",
      " 54  woba_value                       Float64\n",
      " 55  woba_denom                       Int64  \n",
      " 56  babip_value                      Int64  \n",
      " 57  iso_value                        Int64  \n",
      " 58  launch_speed_angle               Int64  \n",
      " 59  at_bat_number                    Int64  \n",
      " 60  pitch_number                     Int64  \n",
      " 61  pitch_name                       object \n",
      " 62  if_fielding_alignment            object \n",
      " 63  of_fielding_alignment            object \n",
      " 64  spin_axis                        Int64  \n",
      "dtypes: Float64(24), Int64(25), object(16)\n",
      "memory usage: 1.8+ GB\n"
     ]
    }
   ],
   "source": [
    "df2.info()"
   ]
  },
  {
   "cell_type": "code",
   "execution_count": 34,
   "id": "b01cc8ac-7d8a-4c01-885f-77b6c7ced60a",
   "metadata": {},
   "outputs": [],
   "source": [
    "df2.drop(columns = ['spin_axis', 'pitch_name', 'launch_speed_angle', 'iso_value', 'babip_value', 'woba_denom', 'woba_value', 'estimated_woba_using_speedangle', 'estimated_ba_using_speedangle', 'release_pos_y', 'release_extension', 'release_spin_rate', 'effective_speed', 'launch_angle', 'launch_speed', 'hit_distance_sc', 'sz_bot', 'sz_top', 'az', 'ay', 'ax', 'vz0', 'vy0', 'vx0', 'fielder_2'], inplace = True)"
   ]
  },
  {
   "cell_type": "code",
   "execution_count": 51,
   "id": "976c1c13-30e9-41a3-a0c9-099716a07411",
   "metadata": {},
   "outputs": [
    {
     "data": {
      "text/plain": [
       "pitch_type               41931\n",
       "release_speed            47364\n",
       "release_pos_x            47639\n",
       "release_pos_z            47639\n",
       "player_name                  0\n",
       "                         ...  \n",
       "pitch_number                 0\n",
       "pitch_name               41931\n",
       "if_fielding_alignment    50318\n",
       "of_fielding_alignment    50318\n",
       "spin_axis                51403\n",
       "Length: 65, dtype: int64"
      ]
     },
     "execution_count": 51,
     "metadata": {},
     "output_type": "execute_result"
    }
   ],
   "source": [
    "df1.isnull().sum()"
   ]
  },
  {
   "cell_type": "code",
   "execution_count": 53,
   "id": "07f762f9-8023-44be-8c1c-803d8ab42952",
   "metadata": {},
   "outputs": [],
   "source": [
    "df1.dropna(subset = ['pitch_type'], inplace = True)"
   ]
  },
  {
   "cell_type": "code",
   "execution_count": 54,
   "id": "15b98984-9e35-4ff5-a503-724545d40704",
   "metadata": {},
   "outputs": [
    {
     "data": {
      "text/plain": [
       "4-Seam Fastball    1133690\n",
       "Sinker              576878\n",
       "Slider              564186\n",
       "Changeup            344876\n",
       "Curveball           270056\n",
       "Cutter              198784\n",
       "Knuckle Curve        79866\n",
       "Split-Finger         50149\n",
       "Knuckleball           3628\n",
       "Fastball              1545\n",
       "Eephus                 526\n",
       "Forkball               367\n",
       "Pitch Out              202\n",
       "Screwball               77\n",
       "Name: pitch_name, dtype: int64"
      ]
     },
     "execution_count": 54,
     "metadata": {},
     "output_type": "execute_result"
    }
   ],
   "source": [
    "df1['pitch_name'].value_counts()"
   ]
  },
  {
   "cell_type": "code",
   "execution_count": 55,
   "id": "fa01ef23-1f38-4f67-98e8-a644b3c3f088",
   "metadata": {},
   "outputs": [
    {
     "name": "stdout",
     "output_type": "stream",
     "text": [
      "<class 'pandas.core.frame.DataFrame'>\n",
      "Int64Index: 3224830 entries, 38 to 894\n",
      "Data columns (total 65 columns):\n",
      " #   Column                           Dtype  \n",
      "---  ------                           -----  \n",
      " 0   pitch_type                       object \n",
      " 1   release_speed                    Float64\n",
      " 2   release_pos_x                    Float64\n",
      " 3   release_pos_z                    Float64\n",
      " 4   player_name                      object \n",
      " 5   batter                           Int64  \n",
      " 6   pitcher                          Int64  \n",
      " 7   events                           object \n",
      " 8   description                      object \n",
      " 9   zone                             Int64  \n",
      " 10  des                              object \n",
      " 11  game_type                        object \n",
      " 12  stand                            object \n",
      " 13  p_throws                         object \n",
      " 14  home_team                        object \n",
      " 15  away_team                        object \n",
      " 16  type                             object \n",
      " 17  hit_location                     Int64  \n",
      " 18  bb_type                          object \n",
      " 19  balls                            Int64  \n",
      " 20  strikes                          Int64  \n",
      " 21  game_year                        Int64  \n",
      " 22  pfx_x                            Float64\n",
      " 23  pfx_z                            Float64\n",
      " 24  plate_x                          Float64\n",
      " 25  plate_z                          Float64\n",
      " 26  on_3b                            Int64  \n",
      " 27  on_2b                            Int64  \n",
      " 28  on_1b                            Int64  \n",
      " 29  outs_when_up                     Int64  \n",
      " 30  inning                           Int64  \n",
      " 31  inning_topbot                    object \n",
      " 32  hc_x                             Float64\n",
      " 33  hc_y                             Float64\n",
      " 34  fielder_2                        Int64  \n",
      " 35  vx0                              Float64\n",
      " 36  vy0                              Float64\n",
      " 37  vz0                              Float64\n",
      " 38  ax                               Float64\n",
      " 39  ay                               Float64\n",
      " 40  az                               Float64\n",
      " 41  sz_top                           Float64\n",
      " 42  sz_bot                           Float64\n",
      " 43  hit_distance_sc                  Int64  \n",
      " 44  launch_speed                     Float64\n",
      " 45  launch_angle                     Int64  \n",
      " 46  effective_speed                  Float64\n",
      " 47  release_spin_rate                Int64  \n",
      " 48  release_extension                Float64\n",
      " 49  game_pk                          Int64  \n",
      " 50  pitcher.1                        Int64  \n",
      " 51  release_pos_y                    Float64\n",
      " 52  estimated_ba_using_speedangle    Float64\n",
      " 53  estimated_woba_using_speedangle  Float64\n",
      " 54  woba_value                       Float64\n",
      " 55  woba_denom                       Int64  \n",
      " 56  babip_value                      Int64  \n",
      " 57  iso_value                        Int64  \n",
      " 58  launch_speed_angle               Int64  \n",
      " 59  at_bat_number                    Int64  \n",
      " 60  pitch_number                     Int64  \n",
      " 61  pitch_name                       object \n",
      " 62  if_fielding_alignment            object \n",
      " 63  of_fielding_alignment            object \n",
      " 64  spin_axis                        Int64  \n",
      "dtypes: Float64(24), Int64(25), object(16)\n",
      "memory usage: 1.7+ GB\n"
     ]
    }
   ],
   "source": [
    "df1.info()"
   ]
  },
  {
   "cell_type": "code",
   "execution_count": 60,
   "id": "94198450-dfe9-44c8-af95-82613caa92b5",
   "metadata": {},
   "outputs": [],
   "source": [
    "df3 = df1.copy()"
   ]
  },
  {
   "cell_type": "code",
   "execution_count": 61,
   "id": "38ad7c3d-d461-4fef-8b2e-929c663f0739",
   "metadata": {},
   "outputs": [],
   "source": [
    "df3.dropna(inplace =True)"
   ]
  },
  {
   "cell_type": "code",
   "execution_count": 62,
   "id": "8974da93-0c3b-4f10-b3ee-ad8c5b36ed0e",
   "metadata": {},
   "outputs": [
    {
     "name": "stdout",
     "output_type": "stream",
     "text": [
      "<class 'pandas.core.frame.DataFrame'>\n",
      "Int64Index: 11677 entries, 96 to 498\n",
      "Data columns (total 65 columns):\n",
      " #   Column                           Non-Null Count  Dtype  \n",
      "---  ------                           --------------  -----  \n",
      " 0   pitch_type                       11677 non-null  object \n",
      " 1   release_speed                    11677 non-null  Float64\n",
      " 2   release_pos_x                    11677 non-null  Float64\n",
      " 3   release_pos_z                    11677 non-null  Float64\n",
      " 4   player_name                      11677 non-null  object \n",
      " 5   batter                           11677 non-null  Int64  \n",
      " 6   pitcher                          11677 non-null  Int64  \n",
      " 7   events                           11677 non-null  object \n",
      " 8   description                      11677 non-null  object \n",
      " 9   zone                             11677 non-null  Int64  \n",
      " 10  des                              11677 non-null  object \n",
      " 11  game_type                        11677 non-null  object \n",
      " 12  stand                            11677 non-null  object \n",
      " 13  p_throws                         11677 non-null  object \n",
      " 14  home_team                        11677 non-null  object \n",
      " 15  away_team                        11677 non-null  object \n",
      " 16  type                             11677 non-null  object \n",
      " 17  hit_location                     11677 non-null  Int64  \n",
      " 18  bb_type                          11677 non-null  object \n",
      " 19  balls                            11677 non-null  Int64  \n",
      " 20  strikes                          11677 non-null  Int64  \n",
      " 21  game_year                        11677 non-null  Int64  \n",
      " 22  pfx_x                            11677 non-null  Float64\n",
      " 23  pfx_z                            11677 non-null  Float64\n",
      " 24  plate_x                          11677 non-null  Float64\n",
      " 25  plate_z                          11677 non-null  Float64\n",
      " 26  on_3b                            11677 non-null  Int64  \n",
      " 27  on_2b                            11677 non-null  Int64  \n",
      " 28  on_1b                            11677 non-null  Int64  \n",
      " 29  outs_when_up                     11677 non-null  Int64  \n",
      " 30  inning                           11677 non-null  Int64  \n",
      " 31  inning_topbot                    11677 non-null  object \n",
      " 32  hc_x                             11677 non-null  Float64\n",
      " 33  hc_y                             11677 non-null  Float64\n",
      " 34  fielder_2                        11677 non-null  Int64  \n",
      " 35  vx0                              11677 non-null  Float64\n",
      " 36  vy0                              11677 non-null  Float64\n",
      " 37  vz0                              11677 non-null  Float64\n",
      " 38  ax                               11677 non-null  Float64\n",
      " 39  ay                               11677 non-null  Float64\n",
      " 40  az                               11677 non-null  Float64\n",
      " 41  sz_top                           11677 non-null  Float64\n",
      " 42  sz_bot                           11677 non-null  Float64\n",
      " 43  hit_distance_sc                  11677 non-null  Int64  \n",
      " 44  launch_speed                     11677 non-null  Float64\n",
      " 45  launch_angle                     11677 non-null  Int64  \n",
      " 46  effective_speed                  11677 non-null  Float64\n",
      " 47  release_spin_rate                11677 non-null  Int64  \n",
      " 48  release_extension                11677 non-null  Float64\n",
      " 49  game_pk                          11677 non-null  Int64  \n",
      " 50  pitcher.1                        11677 non-null  Int64  \n",
      " 51  release_pos_y                    11677 non-null  Float64\n",
      " 52  estimated_ba_using_speedangle    11677 non-null  Float64\n",
      " 53  estimated_woba_using_speedangle  11677 non-null  Float64\n",
      " 54  woba_value                       11677 non-null  Float64\n",
      " 55  woba_denom                       11677 non-null  Int64  \n",
      " 56  babip_value                      11677 non-null  Int64  \n",
      " 57  iso_value                        11677 non-null  Int64  \n",
      " 58  launch_speed_angle               11677 non-null  Int64  \n",
      " 59  at_bat_number                    11677 non-null  Int64  \n",
      " 60  pitch_number                     11677 non-null  Int64  \n",
      " 61  pitch_name                       11677 non-null  object \n",
      " 62  if_fielding_alignment            11677 non-null  object \n",
      " 63  of_fielding_alignment            11677 non-null  object \n",
      " 64  spin_axis                        11677 non-null  Int64  \n",
      "dtypes: Float64(24), Int64(25), object(16)\n",
      "memory usage: 6.4+ MB\n"
     ]
    }
   ],
   "source": [
    "df3.info()"
   ]
  },
  {
   "cell_type": "code",
   "execution_count": 65,
   "id": "6327f188-0d98-4a33-879e-dff7c10b59be",
   "metadata": {},
   "outputs": [
    {
     "name": "stderr",
     "output_type": "stream",
     "text": [
      "C:\\Users\\dmarm\\anaconda3\\envs\\GA\\lib\\site-packages\\plotnine\\stats\\stat_bin.py:95: PlotnineWarning: 'stat_bin()' using 'bins = 77'. Pick better value with 'binwidth'.\n"
     ]
    },
    {
     "data": {
      "image/png": "[encoded data removed]",
      "text/plain": [
       "<Figure size 640x480 with 1 Axes>"
      ]
     },
     "metadata": {},
     "output_type": "display_data"
    },
    {
     "data": {
      "text/plain": [
       "<ggplot: (131555731875)>"
      ]
     },
     "execution_count": 65,
     "metadata": {},
     "output_type": "execute_result"
    }
   ],
   "source": [
    "ggplot(df3, aes(x = 'release_speed', fill = 'pitch_name')) + geom_histogram()"
   ]
  },
  {
   "cell_type": "markdown",
   "id": "68a92032-de16-4577-a02d-580e6f4fdd9a",
   "metadata": {},
   "source": [
    "4-seam fastballs stand out for being faster then other pitches. "
   ]
  },
  {
   "cell_type": "code",
   "execution_count": 70,
   "id": "fcf8ac96-15ad-4e89-bd93-8bec8073a2df",
   "metadata": {},
   "outputs": [
    {
     "data": {
      "image/png": "[encoded data removed]",
      "text/plain": [
       "<Figure size 640x480 with 1 Axes>"
      ]
     },
     "metadata": {},
     "output_type": "display_data"
    },
    {
     "data": {
      "text/plain": [
       "<ggplot: (131557266538)>"
      ]
     },
     "execution_count": 70,
     "metadata": {},
     "output_type": "execute_result"
    }
   ],
   "source": [
    "ggplot(df3, aes(x = 'factor(pitch_type)', y = 'release_speed')) + geom_boxplot()"
   ]
  },
  {
   "cell_type": "code",
   "execution_count": 72,
   "id": "162aba92-abbe-4626-b13a-f9e6d86174a9",
   "metadata": {},
   "outputs": [
    {
     "data": {
      "text/plain": [
       "4-Seam Fastball    3774\n",
       "Sinker             2725\n",
       "Slider             2014\n",
       "Changeup           1190\n",
       "Cutter              791\n",
       "Curveball           761\n",
       "Knuckle Curve       236\n",
       "Split-Finger        165\n",
       "Fastball             18\n",
       "Forkball              3\n",
       "Name: pitch_name, dtype: int64"
      ]
     },
     "execution_count": 72,
     "metadata": {},
     "output_type": "execute_result"
    }
   ],
   "source": [
    "df3['pitch_name'].value_counts()"
   ]
  },
  {
   "cell_type": "code",
   "execution_count": 73,
   "id": "dd68c795-fac8-4111-ad24-7e04a245514f",
   "metadata": {},
   "outputs": [
    {
     "data": {
      "text/plain": [
       "FF    3774\n",
       "SI    2725\n",
       "SL    2014\n",
       "CH    1190\n",
       "FC     791\n",
       "CU     757\n",
       "KC     236\n",
       "FS     165\n",
       "FA      18\n",
       "CS       4\n",
       "FO       3\n",
       "Name: pitch_type, dtype: int64"
      ]
     },
     "execution_count": 73,
     "metadata": {},
     "output_type": "execute_result"
    }
   ],
   "source": [
    "df3['pitch_type'].value_counts()"
   ]
  },
  {
   "cell_type": "code",
   "execution_count": 74,
   "id": "73791e51-6425-4047-9e46-ea25ea82b0b1",
   "metadata": {},
   "outputs": [
    {
     "data": {
      "image/png": "[encoded data removed]",
      "text/plain": [
       "<Figure size 640x480 with 1 Axes>"
      ]
     },
     "metadata": {},
     "output_type": "display_data"
    },
    {
     "data": {
      "text/plain": [
       "<ggplot: (131559666929)>"
      ]
     },
     "execution_count": 74,
     "metadata": {},
     "output_type": "execute_result"
    }
   ],
   "source": [
    "ggplot(df3, aes(x = 'factor(pitch_type)', y = 'spin_axis')) + geom_boxplot()"
   ]
  },
  {
   "cell_type": "code",
   "execution_count": 75,
   "id": "1afc9294-abab-4619-96b6-929859c532b7",
   "metadata": {},
   "outputs": [
    {
     "data": {
      "image/png": "[encoded data removed]",
      "text/plain": [
       "<Figure size 640x480 with 1 Axes>"
      ]
     },
     "metadata": {},
     "output_type": "display_data"
    },
    {
     "data": {
      "text/plain": [
       "<ggplot: (131559798848)>"
      ]
     },
     "execution_count": 75,
     "metadata": {},
     "output_type": "execute_result"
    }
   ],
   "source": [
    "ggplot(df3, aes(x = 'factor(pitch_type)', y = 'zone')) + geom_boxplot()"
   ]
  },
  {
   "cell_type": "code",
   "execution_count": 151,
   "id": "44c34a33-5ce8-4ff5-8657-b017685e9626",
   "metadata": {},
   "outputs": [
    {
     "name": "stderr",
     "output_type": "stream",
     "text": [
      "C:\\Users\\dmarm\\anaconda3\\envs\\GA\\lib\\site-packages\\plotnine\\layer.py:324: PlotnineWarning: stat_count : Removed 2945 rows containing non-finite values.\n"
     ]
    },
    {
     "ename": "TypeError",
     "evalue": "ufunc 'isnan' not supported for the input types, and the inputs could not be safely coerced to any supported types according to the casting rule ''safe''",
     "output_type": "error",
     "traceback": [
      "\u001b[1;31m---------------------------------------------------------------------------\u001b[0m",
      "\u001b[1;31mTypeError\u001b[0m                                 Traceback (most recent call last)",
      "File \u001b[1;32m~\\anaconda3\\envs\\GA\\lib\\site-packages\\IPython\\core\\formatters.py:707\u001b[0m, in \u001b[0;36mPlainTextFormatter.__call__\u001b[1;34m(self, obj)\u001b[0m\n\u001b[0;32m    700\u001b[0m stream \u001b[38;5;241m=\u001b[39m StringIO()\n\u001b[0;32m    701\u001b[0m printer \u001b[38;5;241m=\u001b[39m pretty\u001b[38;5;241m.\u001b[39mRepresentationPrinter(stream, \u001b[38;5;28mself\u001b[39m\u001b[38;5;241m.\u001b[39mverbose,\n\u001b[0;32m    702\u001b[0m     \u001b[38;5;28mself\u001b[39m\u001b[38;5;241m.\u001b[39mmax_width, \u001b[38;5;28mself\u001b[39m\u001b[38;5;241m.\u001b[39mnewline,\n\u001b[0;32m    703\u001b[0m     max_seq_length\u001b[38;5;241m=\u001b[39m\u001b[38;5;28mself\u001b[39m\u001b[38;5;241m.\u001b[39mmax_seq_length,\n\u001b[0;32m    704\u001b[0m     singleton_pprinters\u001b[38;5;241m=\u001b[39m\u001b[38;5;28mself\u001b[39m\u001b[38;5;241m.\u001b[39msingleton_printers,\n\u001b[0;32m    705\u001b[0m     type_pprinters\u001b[38;5;241m=\u001b[39m\u001b[38;5;28mself\u001b[39m\u001b[38;5;241m.\u001b[39mtype_printers,\n\u001b[0;32m    706\u001b[0m     deferred_pprinters\u001b[38;5;241m=\u001b[39m\u001b[38;5;28mself\u001b[39m\u001b[38;5;241m.\u001b[39mdeferred_printers)\n\u001b[1;32m--> 707\u001b[0m \u001b[43mprinter\u001b[49m\u001b[38;5;241;43m.\u001b[39;49m\u001b[43mpretty\u001b[49m\u001b[43m(\u001b[49m\u001b[43mobj\u001b[49m\u001b[43m)\u001b[49m\n\u001b[0;32m    708\u001b[0m printer\u001b[38;5;241m.\u001b[39mflush()\n\u001b[0;32m    709\u001b[0m \u001b[38;5;28;01mreturn\u001b[39;00m stream\u001b[38;5;241m.\u001b[39mgetvalue()\n",
      "File \u001b[1;32m~\\anaconda3\\envs\\GA\\lib\\site-packages\\IPython\\lib\\pretty.py:410\u001b[0m, in \u001b[0;36mRepresentationPrinter.pretty\u001b[1;34m(self, obj)\u001b[0m\n\u001b[0;32m    407\u001b[0m                         \u001b[38;5;28;01mreturn\u001b[39;00m meth(obj, \u001b[38;5;28mself\u001b[39m, cycle)\n\u001b[0;32m    408\u001b[0m                 \u001b[38;5;28;01mif\u001b[39;00m \u001b[38;5;28mcls\u001b[39m \u001b[38;5;129;01mis\u001b[39;00m \u001b[38;5;129;01mnot\u001b[39;00m \u001b[38;5;28mobject\u001b[39m \\\n\u001b[0;32m    409\u001b[0m                         \u001b[38;5;129;01mand\u001b[39;00m callable(\u001b[38;5;28mcls\u001b[39m\u001b[38;5;241m.\u001b[39m\u001b[38;5;18m__dict__\u001b[39m\u001b[38;5;241m.\u001b[39mget(\u001b[38;5;124m'\u001b[39m\u001b[38;5;124m__repr__\u001b[39m\u001b[38;5;124m'\u001b[39m)):\n\u001b[1;32m--> 410\u001b[0m                     \u001b[38;5;28;01mreturn\u001b[39;00m \u001b[43m_repr_pprint\u001b[49m\u001b[43m(\u001b[49m\u001b[43mobj\u001b[49m\u001b[43m,\u001b[49m\u001b[43m \u001b[49m\u001b[38;5;28;43mself\u001b[39;49m\u001b[43m,\u001b[49m\u001b[43m \u001b[49m\u001b[43mcycle\u001b[49m\u001b[43m)\u001b[49m\n\u001b[0;32m    412\u001b[0m     \u001b[38;5;28;01mreturn\u001b[39;00m _default_pprint(obj, \u001b[38;5;28mself\u001b[39m, cycle)\n\u001b[0;32m    413\u001b[0m \u001b[38;5;28;01mfinally\u001b[39;00m:\n",
      "File \u001b[1;32m~\\anaconda3\\envs\\GA\\lib\\site-packages\\IPython\\lib\\pretty.py:778\u001b[0m, in \u001b[0;36m_repr_pprint\u001b[1;34m(obj, p, cycle)\u001b[0m\n\u001b[0;32m    776\u001b[0m \u001b[38;5;124;03m\"\"\"A pprint that just redirects to the normal repr function.\"\"\"\u001b[39;00m\n\u001b[0;32m    777\u001b[0m \u001b[38;5;66;03m# Find newlines and replace them with p.break_()\u001b[39;00m\n\u001b[1;32m--> 778\u001b[0m output \u001b[38;5;241m=\u001b[39m \u001b[38;5;28;43mrepr\u001b[39;49m\u001b[43m(\u001b[49m\u001b[43mobj\u001b[49m\u001b[43m)\u001b[49m\n\u001b[0;32m    779\u001b[0m lines \u001b[38;5;241m=\u001b[39m output\u001b[38;5;241m.\u001b[39msplitlines()\n\u001b[0;32m    780\u001b[0m \u001b[38;5;28;01mwith\u001b[39;00m p\u001b[38;5;241m.\u001b[39mgroup():\n",
      "File \u001b[1;32m~\\anaconda3\\envs\\GA\\lib\\site-packages\\plotnine\\ggplot.py:97\u001b[0m, in \u001b[0;36mggplot.__repr__\u001b[1;34m(self)\u001b[0m\n\u001b[0;32m     93\u001b[0m \u001b[38;5;28;01mdef\u001b[39;00m \u001b[38;5;21m__repr__\u001b[39m(\u001b[38;5;28mself\u001b[39m):\n\u001b[0;32m     94\u001b[0m     \u001b[38;5;124;03m\"\"\"\u001b[39;00m\n\u001b[0;32m     95\u001b[0m \u001b[38;5;124;03m    Print/show the plot\u001b[39;00m\n\u001b[0;32m     96\u001b[0m \u001b[38;5;124;03m    \"\"\"\u001b[39;00m\n\u001b[1;32m---> 97\u001b[0m     \u001b[38;5;28;43mself\u001b[39;49m\u001b[38;5;241;43m.\u001b[39;49m\u001b[38;5;21;43m__str__\u001b[39;49m\u001b[43m(\u001b[49m\u001b[43m)\u001b[49m\n\u001b[0;32m     98\u001b[0m     \u001b[38;5;28;01mreturn\u001b[39;00m \u001b[38;5;124m'\u001b[39m\u001b[38;5;124m<ggplot: (\u001b[39m\u001b[38;5;132;01m%d\u001b[39;00m\u001b[38;5;124m)>\u001b[39m\u001b[38;5;124m'\u001b[39m \u001b[38;5;241m%\u001b[39m \u001b[38;5;28mself\u001b[39m\u001b[38;5;241m.\u001b[39m\u001b[38;5;21m__hash__\u001b[39m()\n",
      "File \u001b[1;32m~\\anaconda3\\envs\\GA\\lib\\site-packages\\plotnine\\ggplot.py:88\u001b[0m, in \u001b[0;36mggplot.__str__\u001b[1;34m(self)\u001b[0m\n\u001b[0;32m     84\u001b[0m \u001b[38;5;28;01mdef\u001b[39;00m \u001b[38;5;21m__str__\u001b[39m(\u001b[38;5;28mself\u001b[39m):\n\u001b[0;32m     85\u001b[0m     \u001b[38;5;124;03m\"\"\"\u001b[39;00m\n\u001b[0;32m     86\u001b[0m \u001b[38;5;124;03m    Print/show the plot\u001b[39;00m\n\u001b[0;32m     87\u001b[0m \u001b[38;5;124;03m    \"\"\"\u001b[39;00m\n\u001b[1;32m---> 88\u001b[0m     \u001b[38;5;28;43mself\u001b[39;49m\u001b[38;5;241;43m.\u001b[39;49m\u001b[43mdraw\u001b[49m\u001b[43m(\u001b[49m\u001b[43mshow\u001b[49m\u001b[38;5;241;43m=\u001b[39;49m\u001b[38;5;28;43;01mTrue\u001b[39;49;00m\u001b[43m)\u001b[49m\n\u001b[0;32m     90\u001b[0m     \u001b[38;5;66;03m# Return and empty string so that print(p) is \"pretty\"\u001b[39;00m\n\u001b[0;32m     91\u001b[0m     \u001b[38;5;28;01mreturn\u001b[39;00m \u001b[38;5;124m'\u001b[39m\u001b[38;5;124m'\u001b[39m\n",
      "File \u001b[1;32m~\\anaconda3\\envs\\GA\\lib\\site-packages\\plotnine\\ggplot.py:205\u001b[0m, in \u001b[0;36mggplot.draw\u001b[1;34m(self, return_ggplot, show)\u001b[0m\n\u001b[0;32m    203\u001b[0m \u001b[38;5;28mself\u001b[39m \u001b[38;5;241m=\u001b[39m deepcopy(\u001b[38;5;28mself\u001b[39m)\n\u001b[0;32m    204\u001b[0m \u001b[38;5;28;01mwith\u001b[39;00m plot_context(\u001b[38;5;28mself\u001b[39m, show\u001b[38;5;241m=\u001b[39mshow):\n\u001b[1;32m--> 205\u001b[0m     \u001b[38;5;28;43mself\u001b[39;49m\u001b[38;5;241;43m.\u001b[39;49m\u001b[43m_build\u001b[49m\u001b[43m(\u001b[49m\u001b[43m)\u001b[49m\n\u001b[0;32m    207\u001b[0m     \u001b[38;5;66;03m# setup\u001b[39;00m\n\u001b[0;32m    208\u001b[0m     figure, axs \u001b[38;5;241m=\u001b[39m \u001b[38;5;28mself\u001b[39m\u001b[38;5;241m.\u001b[39m_create_figure()\n",
      "File \u001b[1;32m~\\anaconda3\\envs\\GA\\lib\\site-packages\\plotnine\\ggplot.py:311\u001b[0m, in \u001b[0;36mggplot._build\u001b[1;34m(self)\u001b[0m\n\u001b[0;32m    308\u001b[0m layers\u001b[38;5;241m.\u001b[39msetup_data()\n\u001b[0;32m    310\u001b[0m \u001b[38;5;66;03m# Apply position adjustments\u001b[39;00m\n\u001b[1;32m--> 311\u001b[0m \u001b[43mlayers\u001b[49m\u001b[38;5;241;43m.\u001b[39;49m\u001b[43mcompute_position\u001b[49m\u001b[43m(\u001b[49m\u001b[43mlayout\u001b[49m\u001b[43m)\u001b[49m\n\u001b[0;32m    313\u001b[0m \u001b[38;5;66;03m# Reset position scales, then re-train and map.  This\u001b[39;00m\n\u001b[0;32m    314\u001b[0m \u001b[38;5;66;03m# ensures that facets have control over the range of\u001b[39;00m\n\u001b[0;32m    315\u001b[0m \u001b[38;5;66;03m# a plot.\u001b[39;00m\n\u001b[0;32m    316\u001b[0m layout\u001b[38;5;241m.\u001b[39mreset_position_scales()\n",
      "File \u001b[1;32m~\\anaconda3\\envs\\GA\\lib\\site-packages\\plotnine\\layer.py:81\u001b[0m, in \u001b[0;36mLayers.compute_position\u001b[1;34m(self, layout)\u001b[0m\n\u001b[0;32m     79\u001b[0m \u001b[38;5;28;01mdef\u001b[39;00m \u001b[38;5;21mcompute_position\u001b[39m(\u001b[38;5;28mself\u001b[39m, layout):\n\u001b[0;32m     80\u001b[0m     \u001b[38;5;28;01mfor\u001b[39;00m l \u001b[38;5;129;01min\u001b[39;00m \u001b[38;5;28mself\u001b[39m:\n\u001b[1;32m---> 81\u001b[0m         \u001b[43ml\u001b[49m\u001b[38;5;241;43m.\u001b[39;49m\u001b[43mcompute_position\u001b[49m\u001b[43m(\u001b[49m\u001b[43mlayout\u001b[49m\u001b[43m)\u001b[49m\n",
      "File \u001b[1;32m~\\anaconda3\\envs\\GA\\lib\\site-packages\\plotnine\\layer.py:382\u001b[0m, in \u001b[0;36mlayer.compute_position\u001b[1;34m(self, layout)\u001b[0m\n\u001b[0;32m    380\u001b[0m params \u001b[38;5;241m=\u001b[39m \u001b[38;5;28mself\u001b[39m\u001b[38;5;241m.\u001b[39mposition\u001b[38;5;241m.\u001b[39msetup_params(\u001b[38;5;28mself\u001b[39m\u001b[38;5;241m.\u001b[39mdata)\n\u001b[0;32m    381\u001b[0m data \u001b[38;5;241m=\u001b[39m \u001b[38;5;28mself\u001b[39m\u001b[38;5;241m.\u001b[39mposition\u001b[38;5;241m.\u001b[39msetup_data(\u001b[38;5;28mself\u001b[39m\u001b[38;5;241m.\u001b[39mdata, params)\n\u001b[1;32m--> 382\u001b[0m data \u001b[38;5;241m=\u001b[39m \u001b[38;5;28;43mself\u001b[39;49m\u001b[38;5;241;43m.\u001b[39;49m\u001b[43mposition\u001b[49m\u001b[38;5;241;43m.\u001b[39;49m\u001b[43mcompute_layer\u001b[49m\u001b[43m(\u001b[49m\u001b[43mdata\u001b[49m\u001b[43m,\u001b[49m\u001b[43m \u001b[49m\u001b[43mparams\u001b[49m\u001b[43m,\u001b[49m\u001b[43m \u001b[49m\u001b[43mlayout\u001b[49m\u001b[43m)\u001b[49m\n\u001b[0;32m    383\u001b[0m \u001b[38;5;28mself\u001b[39m\u001b[38;5;241m.\u001b[39mdata \u001b[38;5;241m=\u001b[39m data\n",
      "File \u001b[1;32m~\\anaconda3\\envs\\GA\\lib\\site-packages\\plotnine\\positions\\position.py:55\u001b[0m, in \u001b[0;36mposition.compute_layer\u001b[1;34m(cls, data, params, layout)\u001b[0m\n\u001b[0;32m     52\u001b[0m     scales \u001b[38;5;241m=\u001b[39m layout\u001b[38;5;241m.\u001b[39mget_scales(pdata[\u001b[38;5;124m'\u001b[39m\u001b[38;5;124mPANEL\u001b[39m\u001b[38;5;124m'\u001b[39m]\u001b[38;5;241m.\u001b[39miat[\u001b[38;5;241m0\u001b[39m])\n\u001b[0;32m     53\u001b[0m     \u001b[38;5;28;01mreturn\u001b[39;00m \u001b[38;5;28mcls\u001b[39m\u001b[38;5;241m.\u001b[39mcompute_panel(pdata, scales, params)\n\u001b[1;32m---> 55\u001b[0m \u001b[38;5;28;01mreturn\u001b[39;00m \u001b[43mgroupby_apply\u001b[49m\u001b[43m(\u001b[49m\u001b[43mdata\u001b[49m\u001b[43m,\u001b[49m\u001b[43m \u001b[49m\u001b[38;5;124;43m'\u001b[39;49m\u001b[38;5;124;43mPANEL\u001b[39;49m\u001b[38;5;124;43m'\u001b[39;49m\u001b[43m,\u001b[49m\u001b[43m \u001b[49m\u001b[43mfn\u001b[49m\u001b[43m)\u001b[49m\n",
      "File \u001b[1;32m~\\anaconda3\\envs\\GA\\lib\\site-packages\\plotnine\\utils.py:634\u001b[0m, in \u001b[0;36mgroupby_apply\u001b[1;34m(df, cols, func, *args, **kwargs)\u001b[0m\n\u001b[0;32m    630\u001b[0m lst \u001b[38;5;241m=\u001b[39m []\n\u001b[0;32m    631\u001b[0m \u001b[38;5;28;01mfor\u001b[39;00m _, d \u001b[38;5;129;01min\u001b[39;00m df\u001b[38;5;241m.\u001b[39mgroupby(cols):\n\u001b[0;32m    632\u001b[0m     \u001b[38;5;66;03m# function fn should be free to modify dataframe d, therefore\u001b[39;00m\n\u001b[0;32m    633\u001b[0m     \u001b[38;5;66;03m# do not mark d as a slice of df i.e no SettingWithCopyWarning\u001b[39;00m\n\u001b[1;32m--> 634\u001b[0m     lst\u001b[38;5;241m.\u001b[39mappend(func(d, \u001b[38;5;241m*\u001b[39margs, \u001b[38;5;241m*\u001b[39m\u001b[38;5;241m*\u001b[39mkwargs))\n\u001b[0;32m    635\u001b[0m \u001b[38;5;28;01mreturn\u001b[39;00m pd\u001b[38;5;241m.\u001b[39mconcat(lst, axis\u001b[38;5;241m=\u001b[39maxis, ignore_index\u001b[38;5;241m=\u001b[39m\u001b[38;5;28;01mTrue\u001b[39;00m)\n",
      "File \u001b[1;32m~\\anaconda3\\envs\\GA\\lib\\site-packages\\plotnine\\positions\\position.py:53\u001b[0m, in \u001b[0;36mposition.compute_layer.<locals>.fn\u001b[1;34m(pdata)\u001b[0m\n\u001b[0;32m     51\u001b[0m     \u001b[38;5;28;01mreturn\u001b[39;00m pdata\n\u001b[0;32m     52\u001b[0m scales \u001b[38;5;241m=\u001b[39m layout\u001b[38;5;241m.\u001b[39mget_scales(pdata[\u001b[38;5;124m'\u001b[39m\u001b[38;5;124mPANEL\u001b[39m\u001b[38;5;124m'\u001b[39m]\u001b[38;5;241m.\u001b[39miat[\u001b[38;5;241m0\u001b[39m])\n\u001b[1;32m---> 53\u001b[0m \u001b[38;5;28;01mreturn\u001b[39;00m \u001b[38;5;28;43mcls\u001b[39;49m\u001b[38;5;241;43m.\u001b[39;49m\u001b[43mcompute_panel\u001b[49m\u001b[43m(\u001b[49m\u001b[43mpdata\u001b[49m\u001b[43m,\u001b[49m\u001b[43m \u001b[49m\u001b[43mscales\u001b[49m\u001b[43m,\u001b[49m\u001b[43m \u001b[49m\u001b[43mparams\u001b[49m\u001b[43m)\u001b[49m\n",
      "File \u001b[1;32m~\\anaconda3\\envs\\GA\\lib\\site-packages\\plotnine\\positions\\position_stack.py:77\u001b[0m, in \u001b[0;36mposition_stack.compute_panel\u001b[1;34m(cls, data, scales, params)\u001b[0m\n\u001b[0;32m     74\u001b[0m     neg \u001b[38;5;241m=\u001b[39m \u001b[38;5;28mcls\u001b[39m\u001b[38;5;241m.\u001b[39mcollide(neg, params\u001b[38;5;241m=\u001b[39mparams)\n\u001b[0;32m     76\u001b[0m \u001b[38;5;28;01mif\u001b[39;00m \u001b[38;5;28mlen\u001b[39m(pos):\n\u001b[1;32m---> 77\u001b[0m     pos \u001b[38;5;241m=\u001b[39m \u001b[38;5;28;43mcls\u001b[39;49m\u001b[38;5;241;43m.\u001b[39;49m\u001b[43mcollide\u001b[49m\u001b[43m(\u001b[49m\u001b[43mpos\u001b[49m\u001b[43m,\u001b[49m\u001b[43m \u001b[49m\u001b[43mparams\u001b[49m\u001b[38;5;241;43m=\u001b[39;49m\u001b[43mparams\u001b[49m\u001b[43m)\u001b[49m\n\u001b[0;32m     79\u001b[0m data \u001b[38;5;241m=\u001b[39m pd\u001b[38;5;241m.\u001b[39mconcat([neg, pos], axis\u001b[38;5;241m=\u001b[39m\u001b[38;5;241m0\u001b[39m, ignore_index\u001b[38;5;241m=\u001b[39m\u001b[38;5;28;01mTrue\u001b[39;00m, sort\u001b[38;5;241m=\u001b[39m\u001b[38;5;28;01mTrue\u001b[39;00m)\n\u001b[0;32m     80\u001b[0m \u001b[38;5;28;01mreturn\u001b[39;00m data\n",
      "File \u001b[1;32m~\\anaconda3\\envs\\GA\\lib\\site-packages\\plotnine\\positions\\position.py:199\u001b[0m, in \u001b[0;36mposition.collide\u001b[1;34m(cls, data, params)\u001b[0m\n\u001b[0;32m    197\u001b[0m \u001b[38;5;66;03m# Check for overlap\u001b[39;00m\n\u001b[0;32m    198\u001b[0m intervals \u001b[38;5;241m=\u001b[39m data[xminmax]\u001b[38;5;241m.\u001b[39mdrop_duplicates()\u001b[38;5;241m.\u001b[39mvalues\u001b[38;5;241m.\u001b[39mflatten()\n\u001b[1;32m--> 199\u001b[0m intervals \u001b[38;5;241m=\u001b[39m intervals[\u001b[38;5;241m~\u001b[39m\u001b[43mnp\u001b[49m\u001b[38;5;241;43m.\u001b[39;49m\u001b[43misnan\u001b[49m\u001b[43m(\u001b[49m\u001b[43mintervals\u001b[49m\u001b[43m)\u001b[49m]\n\u001b[0;32m    201\u001b[0m \u001b[38;5;28;01mif\u001b[39;00m (\u001b[38;5;28mlen\u001b[39m(np\u001b[38;5;241m.\u001b[39munique(intervals)) \u001b[38;5;241m>\u001b[39m \u001b[38;5;241m1\u001b[39m \u001b[38;5;129;01mand\u001b[39;00m\n\u001b[0;32m    202\u001b[0m         \u001b[38;5;28many\u001b[39m(np\u001b[38;5;241m.\u001b[39mdiff(intervals \u001b[38;5;241m-\u001b[39m intervals\u001b[38;5;241m.\u001b[39mmean()) \u001b[38;5;241m<\u001b[39m \u001b[38;5;241m-\u001b[39m\u001b[38;5;241m1e-6\u001b[39m)):\n\u001b[0;32m    203\u001b[0m     msg \u001b[38;5;241m=\u001b[39m \u001b[38;5;124m\"\u001b[39m\u001b[38;5;132;01m{}\u001b[39;00m\u001b[38;5;124m requires non-overlapping x intervals\u001b[39m\u001b[38;5;124m\"\u001b[39m\n",
      "\u001b[1;31mTypeError\u001b[0m: ufunc 'isnan' not supported for the input types, and the inputs could not be safely coerced to any supported types according to the casting rule ''safe''"
     ]
    }
   ],
   "source": [
    "ggplot(df4, aes(x = 'release_speed', fill = 'description')) + geom_bar()"
   ]
  },
  {
   "cell_type": "code",
   "execution_count": 77,
   "id": "86e629b7-733a-4467-84eb-682bed7284df",
   "metadata": {},
   "outputs": [
    {
     "data": {
      "text/plain": [
       "field_out                    4186\n",
       "single                       2710\n",
       "force_out                    1308\n",
       "sac_fly                      1215\n",
       "grounded_into_double_play     921\n",
       "double                        877\n",
       "field_error                   124\n",
       "double_play                   102\n",
       "triple                        101\n",
       "fielders_choice                97\n",
       "sac_fly_double_play            26\n",
       "fielders_choice_out             4\n",
       "triple_play                     4\n",
       "sac_bunt                        1\n",
       "home_run                        1\n",
       "Name: events, dtype: int64"
      ]
     },
     "execution_count": 77,
     "metadata": {},
     "output_type": "execute_result"
    }
   ],
   "source": [
    "df3['events'].value_counts()"
   ]
  },
  {
   "cell_type": "code",
   "execution_count": 78,
   "id": "4329a029-c3d8-48a8-8d5c-a79e73058db9",
   "metadata": {},
   "outputs": [
    {
     "data": {
      "text/plain": [
       "hit_into_play    11677\n",
       "Name: description, dtype: int64"
      ]
     },
     "execution_count": 78,
     "metadata": {},
     "output_type": "execute_result"
    }
   ],
   "source": [
    "df3['description'].value_counts()"
   ]
  },
  {
   "cell_type": "code",
   "execution_count": 79,
   "id": "5a77c341-9bb5-45e5-b8ba-e3be5a06c9a3",
   "metadata": {},
   "outputs": [
    {
     "data": {
      "text/plain": [
       "field_out                       323198\n",
       "strikeout                       186149\n",
       "single                          115823\n",
       "walk                             67395\n",
       "double                           36621\n",
       "home_run                         27367\n",
       "force_out                        16208\n",
       "grounded_into_double_play        15589\n",
       "hit_by_pitch                      8822\n",
       "field_error                       5867\n",
       "sac_fly                           5136\n",
       "sac_bunt                          3468\n",
       "triple                            3403\n",
       "double_play                       1848\n",
       "fielders_choice                   1730\n",
       "fielders_choice_out               1375\n",
       "caught_stealing_2b                 805\n",
       "strikeout_double_play              639\n",
       "catcher_interf                     178\n",
       "other_out                          167\n",
       "sac_fly_double_play                 65\n",
       "caught_stealing_3b                  55\n",
       "pickoff_1b                          40\n",
       "caught_stealing_home                35\n",
       "pickoff_2b                          31\n",
       "wild_pitch                          23\n",
       "triple_play                         19\n",
       "pickoff_caught_stealing_2b          10\n",
       "game_advisory                        9\n",
       "pickoff_3b                           8\n",
       "stolen_base_2b                       7\n",
       "sac_bunt_double_play                 6\n",
       "pickoff_caught_stealing_home         5\n",
       "passed_ball                          4\n",
       "pickoff_caught_stealing_3b           4\n",
       "runner_double_play                   2\n",
       "stolen_base_home                     1\n",
       "Name: events, dtype: int64"
      ]
     },
     "execution_count": 79,
     "metadata": {},
     "output_type": "execute_result"
    }
   ],
   "source": [
    "df1['events'].value_counts()"
   ]
  },
  {
   "cell_type": "code",
   "execution_count": 80,
   "id": "3fe3c3e9-bbf0-4894-ba30-64b6193ba42d",
   "metadata": {},
   "outputs": [
    {
     "data": {
      "text/plain": [
       "ball                       1085387\n",
       "foul                        565772\n",
       "hit_into_play               557765\n",
       "called_strike               536490\n",
       "swinging_strike             330552\n",
       "blocked_ball                 77478\n",
       "foul_tip                     28433\n",
       "swinging_strike_blocked      24388\n",
       "hit_by_pitch                  8822\n",
       "foul_bunt                     7629\n",
       "missed_bunt                   1639\n",
       "pitchout                       314\n",
       "bunt_foul_tip                  158\n",
       "foul_pitchout                    2\n",
       "swinging_pitchout                1\n",
       "Name: description, dtype: int64"
      ]
     },
     "execution_count": 80,
     "metadata": {},
     "output_type": "execute_result"
    }
   ],
   "source": [
    "df1['description'].value_counts()"
   ]
  },
  {
   "cell_type": "code",
   "execution_count": 97,
   "id": "f1b24293-fc9c-4273-a8e7-5434f5b264a2",
   "metadata": {},
   "outputs": [],
   "source": [
    "df4 = df1.copy()"
   ]
  },
  {
   "cell_type": "code",
   "execution_count": 98,
   "id": "a0db84df-f77d-438c-a794-aa497054bda1",
   "metadata": {},
   "outputs": [],
   "source": [
    "cleanup_nums = {\"description\":     {\"swinging_strike\":1, \"hit_into_play\":0, 'foul':0, 'swinging_strike_blocked':1, 'foul_tip':1}}"
   ]
  },
  {
   "cell_type": "code",
   "execution_count": 99,
   "id": "e219d784-a37f-463b-9eef-acb69b44498d",
   "metadata": {},
   "outputs": [],
   "source": [
    "df4 = df4.replace(cleanup_nums)"
   ]
  },
  {
   "cell_type": "code",
   "execution_count": 87,
   "id": "126b0e24-c324-43b3-826c-7a82fb20cd65",
   "metadata": {},
   "outputs": [
    {
     "data": {
      "text/plain": [
       "0                    1123537\n",
       "ball                 1085387\n",
       "called_strike         536490\n",
       "1                     383373\n",
       "blocked_ball           77478\n",
       "hit_by_pitch            8822\n",
       "foul_bunt               7629\n",
       "missed_bunt             1639\n",
       "pitchout                 314\n",
       "bunt_foul_tip            158\n",
       "foul_pitchout              2\n",
       "swinging_pitchout          1\n",
       "Name: description, dtype: int64"
      ]
     },
     "execution_count": 87,
     "metadata": {},
     "output_type": "execute_result"
    }
   ],
   "source": [
    "df4['description'].value_counts()"
   ]
  },
  {
   "cell_type": "code",
   "execution_count": 103,
   "id": "c6d52a36-65e3-4089-92c1-c6970c2fb25d",
   "metadata": {},
   "outputs": [],
   "source": [
    "cleanup_nums2 = {\"description\":     {\"ball\":3, \"called_strike\":3, 'blocked_ball':3, 'hit_by_pitch':3, 'foul_bunt':3, 'missed_bunt':3, 'pitchout':3, 'bunt_foul_tip':3, 'foul_pitchout':3, 'swinging_pitchout':3}}"
   ]
  },
  {
   "cell_type": "code",
   "execution_count": 104,
   "id": "9f124878-f846-4a0d-9aa2-f35aaf9c05f4",
   "metadata": {},
   "outputs": [],
   "source": [
    "df4 = df4.replace(cleanup_nums2)"
   ]
  },
  {
   "cell_type": "code",
   "execution_count": 105,
   "id": "c70150b8-9e00-4723-b9d2-c9b65761b891",
   "metadata": {},
   "outputs": [
    {
     "data": {
      "text/plain": [
       "3    1717920\n",
       "0    1123537\n",
       "1     383373\n",
       "Name: description, dtype: int64"
      ]
     },
     "execution_count": 105,
     "metadata": {},
     "output_type": "execute_result"
    }
   ],
   "source": [
    "df4['description'].value_counts()"
   ]
  },
  {
   "cell_type": "code",
   "execution_count": 107,
   "id": "deb8552f-ed90-4059-8fb0-7759ff539fe0",
   "metadata": {},
   "outputs": [],
   "source": [
    "df4 = df4.astype({\"description\": int})"
   ]
  },
  {
   "cell_type": "code",
   "execution_count": 108,
   "id": "7913d1e7-95e2-4cb1-8488-8971643d4338",
   "metadata": {},
   "outputs": [],
   "source": [
    "df4 = df4[df4.description < 2]"
   ]
  },
  {
   "cell_type": "code",
   "execution_count": 109,
   "id": "6c4ef860-dcd3-4146-9f57-6755769ca9c8",
   "metadata": {},
   "outputs": [
    {
     "data": {
      "text/plain": [
       "0    1123537\n",
       "1     383373\n",
       "Name: description, dtype: int64"
      ]
     },
     "execution_count": 109,
     "metadata": {},
     "output_type": "execute_result"
    }
   ],
   "source": [
    "df4['description'].value_counts()"
   ]
  },
  {
   "cell_type": "code",
   "execution_count": 110,
   "id": "a7c6e026-534d-4243-bbc2-770b822edc1a",
   "metadata": {},
   "outputs": [],
   "source": [
    "df4.to_pickle(\"./dummy2.pkl\")  "
   ]
  },
  {
   "cell_type": "code",
   "execution_count": 112,
   "id": "c5196ac9-acd1-4f2e-807e-6973993ee2a1",
   "metadata": {},
   "outputs": [
    {
     "data": {
      "text/plain": [
       "0"
      ]
     },
     "execution_count": 112,
     "metadata": {},
     "output_type": "execute_result"
    }
   ],
   "source": [
    "df4['description'].isna().sum()"
   ]
  },
  {
   "cell_type": "code",
   "execution_count": 123,
   "id": "4726cf59-57b7-4d01-b02c-74003a367f2a",
   "metadata": {},
   "outputs": [],
   "source": [
    "y = z['description']"
   ]
  },
  {
   "cell_type": "code",
   "execution_count": 133,
   "id": "a3c48699-74e8-4ff2-8c58-f90ebfca146d",
   "metadata": {},
   "outputs": [],
   "source": [
    "X = z[['spin_axis', 'effective_speed', 'release_spin_rate', 'az', 'ay', 'ax', 'vz0', 'vy0', 'vx0', 'zone', 'balls', 'strikes', 'pfx_x', 'pfx_z']]"
   ]
  },
  {
   "cell_type": "code",
   "execution_count": 116,
   "id": "3445943b-f0ce-43bc-b956-37087ec9b5e2",
   "metadata": {},
   "outputs": [
    {
     "data": {
      "text/plain": [
       "pitch_name               0\n",
       "spin_axis             4722\n",
       "effective_speed       4254\n",
       "release_spin_rate    23523\n",
       "az                    2942\n",
       "ay                    2942\n",
       "ax                    2942\n",
       "vz0                   2942\n",
       "vy0                   2942\n",
       "vx0                   2942\n",
       "zone                  2942\n",
       "balls                    0\n",
       "strikes                  0\n",
       "pfx_x                 2942\n",
       "pfx_z                 2942\n",
       "dtype: int64"
      ]
     },
     "execution_count": 116,
     "metadata": {},
     "output_type": "execute_result"
    }
   ],
   "source": [
    "X.isna().sum()"
   ]
  },
  {
   "cell_type": "code",
   "execution_count": 117,
   "id": "4cd8eae5-2841-46fe-ae54-cc3364353460",
   "metadata": {},
   "outputs": [],
   "source": [
    "z = df4[['pitch_name', 'spin_axis', 'effective_speed', 'release_spin_rate', 'az', 'ay', 'ax', 'vz0', 'vy0', 'vx0', 'zone', 'balls', 'strikes', 'pfx_x', 'pfx_z','description']]"
   ]
  },
  {
   "cell_type": "code",
   "execution_count": 118,
   "id": "d2c3b7e3-5cec-4a37-874b-512f696e3782",
   "metadata": {},
   "outputs": [
    {
     "name": "stdout",
     "output_type": "stream",
     "text": [
      "<class 'pandas.core.frame.DataFrame'>\n",
      "Int64Index: 1506910 entries, 38 to 877\n",
      "Data columns (total 16 columns):\n",
      " #   Column             Non-Null Count    Dtype  \n",
      "---  ------             --------------    -----  \n",
      " 0   pitch_name         1506910 non-null  object \n",
      " 1   spin_axis          1502188 non-null  Int64  \n",
      " 2   effective_speed    1502656 non-null  Float64\n",
      " 3   release_spin_rate  1483387 non-null  Int64  \n",
      " 4   az                 1503968 non-null  Float64\n",
      " 5   ay                 1503968 non-null  Float64\n",
      " 6   ax                 1503968 non-null  Float64\n",
      " 7   vz0                1503968 non-null  Float64\n",
      " 8   vy0                1503968 non-null  Float64\n",
      " 9   vx0                1503968 non-null  Float64\n",
      " 10  zone               1503968 non-null  Int64  \n",
      " 11  balls              1506910 non-null  Int64  \n",
      " 12  strikes            1506910 non-null  Int64  \n",
      " 13  pfx_x              1503968 non-null  Float64\n",
      " 14  pfx_z              1503968 non-null  Float64\n",
      " 15  description        1506910 non-null  int32  \n",
      "dtypes: Float64(9), Int64(5), int32(1), object(1)\n",
      "memory usage: 209.8+ MB\n"
     ]
    }
   ],
   "source": [
    "z.info()"
   ]
  },
  {
   "cell_type": "code",
   "execution_count": 120,
   "id": "1ef097f2-d16f-41bd-ac32-f429da4771fb",
   "metadata": {},
   "outputs": [
    {
     "name": "stderr",
     "output_type": "stream",
     "text": [
      "C:\\Users\\dmarm\\AppData\\Local\\Temp\\ipykernel_29156\\2385804610.py:1: SettingWithCopyWarning: \n",
      "A value is trying to be set on a copy of a slice from a DataFrame\n",
      "\n",
      "See the caveats in the documentation: https://pandas.pydata.org/pandas-docs/stable/user_guide/indexing.html#returning-a-view-versus-a-copy\n"
     ]
    }
   ],
   "source": [
    "z.dropna(inplace = True)"
   ]
  },
  {
   "cell_type": "code",
   "execution_count": 121,
   "id": "23d59af4-558c-4722-ae69-d27fc424b2cf",
   "metadata": {},
   "outputs": [
    {
     "data": {
      "text/plain": [
       "pitch_name           0\n",
       "spin_axis            0\n",
       "effective_speed      0\n",
       "release_spin_rate    0\n",
       "az                   0\n",
       "ay                   0\n",
       "ax                   0\n",
       "vz0                  0\n",
       "vy0                  0\n",
       "vx0                  0\n",
       "zone                 0\n",
       "balls                0\n",
       "strikes              0\n",
       "pfx_x                0\n",
       "pfx_z                0\n",
       "description          0\n",
       "dtype: int64"
      ]
     },
     "execution_count": 121,
     "metadata": {},
     "output_type": "execute_result"
    }
   ],
   "source": [
    "z.isna().sum()"
   ]
  },
  {
   "cell_type": "code",
   "execution_count": 130,
   "id": "33603e5f-6a59-4a19-b11d-da5f10e21589",
   "metadata": {},
   "outputs": [],
   "source": [
    "from sklearn.model_selection import train_test_split, GridSearchCV, cross_val_score\n",
    "from sklearn.linear_model import LogisticRegression\n",
    "from sklearn.preprocessing import StandardScaler\n",
    "from sklearn.ensemble import RandomForestClassifier, GradientBoostingClassifier, AdaBoostClassifier\n",
    "from sklearn.metrics import confusion_matrix\n",
    "from sklearn.metrics import accuracy_score, classification_report, f1_score\n",
    "from sklearn.neighbors import KNeighborsClassifier\n",
    "from sklearn.pipeline import Pipeline\n",
    "import pandas as pd\n",
    "from sklearn.metrics import cohen_kappa_score\n",
    "from sklearn.metrics import multilabel_confusion_matrix\n",
    "import seaborn as sns\n",
    "import matplotlib.pyplot as plt \n",
    "import numpy as np\n",
    "import pickle"
   ]
  },
  {
   "cell_type": "code",
   "execution_count": 134,
   "id": "c9da5166-9aa1-4ecc-a1d3-c412bd8c8502",
   "metadata": {},
   "outputs": [],
   "source": [
    "X_train, X_test, y_train, y_test = train_test_split(X, y, stratify =y, random_state =5)"
   ]
  },
  {
   "cell_type": "code",
   "execution_count": 132,
   "id": "51746015-07b6-4186-967a-00c97c23d503",
   "metadata": {},
   "outputs": [
    {
     "name": "stdout",
     "output_type": "stream",
     "text": [
      "<class 'pandas.core.frame.DataFrame'>\n",
      "Int64Index: 1483366 entries, 38 to 877\n",
      "Data columns (total 15 columns):\n",
      " #   Column             Non-Null Count    Dtype  \n",
      "---  ------             --------------    -----  \n",
      " 0   pitch_name         1483366 non-null  object \n",
      " 1   spin_axis          1483366 non-null  Int64  \n",
      " 2   effective_speed    1483366 non-null  Float64\n",
      " 3   release_spin_rate  1483366 non-null  Int64  \n",
      " 4   az                 1483366 non-null  Float64\n",
      " 5   ay                 1483366 non-null  Float64\n",
      " 6   ax                 1483366 non-null  Float64\n",
      " 7   vz0                1483366 non-null  Float64\n",
      " 8   vy0                1483366 non-null  Float64\n",
      " 9   vx0                1483366 non-null  Float64\n",
      " 10  zone               1483366 non-null  Int64  \n",
      " 11  balls              1483366 non-null  Int64  \n",
      " 12  strikes            1483366 non-null  Int64  \n",
      " 13  pfx_x              1483366 non-null  Float64\n",
      " 14  pfx_z              1483366 non-null  Float64\n",
      "dtypes: Float64(9), Int64(5), object(1)\n",
      "memory usage: 200.9+ MB\n"
     ]
    }
   ],
   "source": []
  },
  {
   "cell_type": "code",
   "execution_count": 135,
   "id": "d08cc154-aa1e-433e-8968-77329f3a9318",
   "metadata": {},
   "outputs": [],
   "source": [
    "scaler = StandardScaler()\n",
    "X_train = scaler.fit_transform(X_train)\n",
    "X_test = scaler.transform(X_test)"
   ]
  },
  {
   "cell_type": "code",
   "execution_count": 136,
   "id": "bf3f5c2f-3569-4cca-a5c5-e67cf5b801e1",
   "metadata": {},
   "outputs": [
    {
     "data": {
      "text/plain": [
       "LogisticRegression()"
      ]
     },
     "execution_count": 136,
     "metadata": {},
     "output_type": "execute_result"
    }
   ],
   "source": [
    "logreg = LogisticRegression()\n",
    "logreg.fit(X_train, y_train)"
   ]
  },
  {
   "cell_type": "code",
   "execution_count": 137,
   "id": "bf95df07-d08a-4b04-87dc-24c79b969dc9",
   "metadata": {},
   "outputs": [
    {
     "data": {
      "text/plain": [
       "0.757568376053011"
      ]
     },
     "execution_count": 137,
     "metadata": {},
     "output_type": "execute_result"
    }
   ],
   "source": [
    "logreg.score(X_train, y_train) "
   ]
  },
  {
   "cell_type": "code",
   "execution_count": 138,
   "id": "6fe7f9eb-c7f2-451e-abec-02b7ef08e3c2",
   "metadata": {},
   "outputs": [
    {
     "data": {
      "text/plain": [
       "0.7576137546448353"
      ]
     },
     "execution_count": 138,
     "metadata": {},
     "output_type": "execute_result"
    }
   ],
   "source": [
    "logreg.score(X_test, y_test)"
   ]
  },
  {
   "cell_type": "code",
   "execution_count": 139,
   "id": "6d9c6c80-7586-465c-ac47-d301686b52d3",
   "metadata": {},
   "outputs": [
    {
     "data": {
      "text/plain": [
       "array([[ 0.0256924 ,  0.23236175,  0.08746582,  0.02470117,  0.12200989,\n",
       "         0.6201927 , -0.06717886,  0.42332337,  0.16015743,  0.51041135,\n",
       "        -0.10228374, -0.05318821, -0.46508624, -0.06618545]])"
      ]
     },
     "execution_count": 139,
     "metadata": {},
     "output_type": "execute_result"
    }
   ],
   "source": [
    "logreg.coef_"
   ]
  },
  {
   "cell_type": "code",
   "execution_count": 142,
   "id": "372c8f88-f1dd-4cbe-a65b-50c1a966242b",
   "metadata": {},
   "outputs": [],
   "source": [
    "y_pred = logreg.predict(X_test)"
   ]
  },
  {
   "cell_type": "code",
   "execution_count": 143,
   "id": "8bdb3790-a475-4f67-bea8-e55395491034",
   "metadata": {},
   "outputs": [],
   "source": [
    "cm = confusion_matrix(y_test, y_pred)"
   ]
  },
  {
   "cell_type": "code",
   "execution_count": 144,
   "id": "0ff8f454-8bd9-400a-8670-289e95fe3577",
   "metadata": {},
   "outputs": [],
   "source": [
    "cm_df = pd.DataFrame(cm)"
   ]
  },
  {
   "cell_type": "code",
   "execution_count": 145,
   "id": "ef501aa0-0da2-4b27-80c4-cb53a638fa1b",
   "metadata": {},
   "outputs": [
    {
     "data": {
      "image/png": "[encoded data removed]",
      "text/plain": [
       "<Figure size 1440x1440 with 2 Axes>"
      ]
     },
     "metadata": {
      "needs_background": "light"
     },
     "output_type": "display_data"
    }
   ],
   "source": [
    "#Plotting the confusion matrix\n",
    "plt.figure(figsize=(20,20))\n",
    "sns.heatmap(cm_df, annot=True, cmap = 'winter')\n",
    "plt.title('Confusion Matrix')\n",
    "plt.ylabel('Actal Values')\n",
    "plt.xlabel('Predicted Values')\n",
    "plt.show()"
   ]
  },
  {
   "cell_type": "code",
   "execution_count": 146,
   "id": "fba1f2e5-6ad1-4fe6-9bf9-03b6e77f1038",
   "metadata": {},
   "outputs": [
    {
     "data": {
      "text/plain": [
       "0    1107598\n",
       "1     375768\n",
       "Name: description, dtype: int64"
      ]
     },
     "execution_count": 146,
     "metadata": {},
     "output_type": "execute_result"
    }
   ],
   "source": [
    "z['description'].value_counts()"
   ]
  },
  {
   "cell_type": "code",
   "execution_count": 147,
   "id": "9a016866-c362-4408-894d-c1d135bb0fef",
   "metadata": {},
   "outputs": [
    {
     "data": {
      "text/plain": [
       "0.7466788371851586"
      ]
     },
     "execution_count": 147,
     "metadata": {},
     "output_type": "execute_result"
    }
   ],
   "source": [
    "1107598/(1107598 +375768)"
   ]
  },
  {
   "cell_type": "markdown",
   "id": "0f9d5986-23db-4678-a2ec-efd5783a1ac0",
   "metadata": {},
   "source": [
    "need to over or under sample."
   ]
  },
  {
   "cell_type": "code",
   "execution_count": 150,
   "id": "163b21fc-1d1c-46d8-aef3-0f06a60b4c56",
   "metadata": {},
   "outputs": [
    {
     "ename": "ModuleNotFoundError",
     "evalue": "No module named 'imblearn'",
     "output_type": "error",
     "traceback": [
      "\u001b[1;31m---------------------------------------------------------------------------\u001b[0m",
      "\u001b[1;31mModuleNotFoundError\u001b[0m                       Traceback (most recent call last)",
      "Input \u001b[1;32mIn [150]\u001b[0m, in \u001b[0;36m<cell line: 2>\u001b[1;34m()\u001b[0m\n\u001b[0;32m      1\u001b[0m \u001b[38;5;66;03m# check version number\u001b[39;00m\n\u001b[1;32m----> 2\u001b[0m \u001b[38;5;28;01mimport\u001b[39;00m \u001b[38;5;21;01mimblearn\u001b[39;00m\n",
      "\u001b[1;31mModuleNotFoundError\u001b[0m: No module named 'imblearn'"
     ]
    }
   ],
   "source": [
    "\n",
    "# check version number\n",
    "import imblearn"
   ]
  },
  {
   "cell_type": "code",
   "execution_count": 149,
   "id": "2a284514-a839-4b28-b5a4-804720065720",
   "metadata": {},
   "outputs": [
    {
     "ename": "NameError",
     "evalue": "name 'RandomOverSampler' is not defined",
     "output_type": "error",
     "traceback": [
      "\u001b[1;31m---------------------------------------------------------------------------\u001b[0m",
      "\u001b[1;31mNameError\u001b[0m                                 Traceback (most recent call last)",
      "Input \u001b[1;32mIn [149]\u001b[0m, in \u001b[0;36m<cell line: 1>\u001b[1;34m()\u001b[0m\n\u001b[1;32m----> 1\u001b[0m oversample \u001b[38;5;241m=\u001b[39m \u001b[43mRandomOverSampler\u001b[49m(sampling_strategy\u001b[38;5;241m=\u001b[39m\u001b[38;5;124m'\u001b[39m\u001b[38;5;124mminority\u001b[39m\u001b[38;5;124m'\u001b[39m)\n",
      "\u001b[1;31mNameError\u001b[0m: name 'RandomOverSampler' is not defined"
     ]
    }
   ],
   "source": [
    "oversample = RandomOverSampler(sampling_strategy='minority')"
   ]
  },
  {
   "cell_type": "code",
   "execution_count": null,
   "id": "6fa392ad-96fa-4505-8151-7602b258a511",
   "metadata": {},
   "outputs": [],
   "source": []
  }
 ],
 "metadata": {
  "kernelspec": {
   "display_name": "Python [conda env:GA]",
   "language": "python",
   "name": "conda-env-GA-py"
  },
  "language_info": {
   "codemirror_mode": {
    "name": "ipython",
    "version": 3
   },
   "file_extension": ".py",
   "mimetype": "text/x-python",
   "name": "python",
   "nbconvert_exporter": "python",
   "pygments_lexer": "ipython3",
   "version": "3.9.11"
  }
 },
 "nbformat": 4,
 "nbformat_minor": 5
}
