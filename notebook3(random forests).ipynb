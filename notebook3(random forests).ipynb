{
 "cells": [
  {
   "cell_type": "markdown",
   "id": "56aeda71-c771-4033-883f-13bbe15a8d83",
   "metadata": {},
   "source": [
    "## Modeling"
   ]
  },
  {
   "cell_type": "code",
   "execution_count": 1,
   "id": "e85db635-6bd0-46c3-86c4-9d28a12711bb",
   "metadata": {},
   "outputs": [],
   "source": [
    "from sklearn.model_selection import train_test_split, GridSearchCV, cross_val_score\n",
    "from sklearn.linear_model import LogisticRegression\n",
    "from sklearn.preprocessing import StandardScaler\n",
    "from sklearn.ensemble import RandomForestClassifier, GradientBoostingClassifier, AdaBoostClassifier\n",
    "from sklearn.metrics import confusion_matrix\n",
    "from sklearn.metrics import accuracy_score, classification_report, f1_score\n",
    "from sklearn.neighbors import KNeighborsClassifier\n",
    "from sklearn.pipeline import Pipeline\n",
    "import pandas as pd\n",
    "from sklearn.metrics import cohen_kappa_score\n",
    "from sklearn.metrics import multilabel_confusion_matrix\n",
    "import seaborn as sns\n",
    "import matplotlib.pyplot as plt \n",
    "import numpy as np\n",
    "import pickle\n",
    "import imblearn as im"
   ]
  },
  {
   "cell_type": "code",
   "execution_count": 2,
   "id": "ed518be8-af9f-493e-b805-d53263233c54",
   "metadata": {},
   "outputs": [],
   "source": [
    "infile = open('dummy2.pkl','rb')\n",
    "df = pickle.load(infile)\n",
    "infile.close()"
   ]
  },
  {
   "cell_type": "markdown",
   "id": "1b788e28-4ffa-4e64-adf6-b43c6b401d78",
   "metadata": {},
   "source": [
    "I will run model for all pitches that have occured at least 2,000 times in the data"
   ]
  },
  {
   "cell_type": "markdown",
   "id": "5c8d96f5-9edc-4012-b038-fa4f8f40fd03",
   "metadata": {},
   "source": [
    "# 4 seam fastball"
   ]
  },
  {
   "cell_type": "code",
   "execution_count": 3,
   "id": "a68a3df3-4ba3-48aa-a59b-fed04755a45a",
   "metadata": {},
   "outputs": [],
   "source": [
    "df1 = df.copy()"
   ]
  },
  {
   "cell_type": "code",
   "execution_count": 4,
   "id": "bde1cb0b-7286-41d2-bd5d-a924cf4fe855",
   "metadata": {},
   "outputs": [],
   "source": [
    "df1 = df1[df1.pitch_name == '4-Seam Fastball']"
   ]
  },
  {
   "cell_type": "code",
   "execution_count": 5,
   "id": "77da3f4c-e65f-4340-a7a3-fb16e2b07580",
   "metadata": {},
   "outputs": [],
   "source": [
    "z = df1[['spin_axis', 'release_speed', 'release_spin_rate', 'az', 'ay', 'ax', 'vz0', 'vy0', 'vx0', 'zone','pfx_x', 'pfx_z','description']]"
   ]
  },
  {
   "cell_type": "code",
   "execution_count": 6,
   "id": "735b9b37-a263-471d-91b9-d37b862ba468",
   "metadata": {},
   "outputs": [
    {
     "name": "stderr",
     "output_type": "stream",
     "text": [
      "C:\\Users\\dmarm\\AppData\\Local\\Temp\\ipykernel_21552\\2385804610.py:1: SettingWithCopyWarning: \n",
      "A value is trying to be set on a copy of a slice from a DataFrame\n",
      "\n",
      "See the caveats in the documentation: https://pandas.pydata.org/pandas-docs/stable/user_guide/indexing.html#returning-a-view-versus-a-copy\n",
      "  z.dropna(inplace = True)\n"
     ]
    }
   ],
   "source": [
    "z.dropna(inplace = True)"
   ]
  },
  {
   "cell_type": "code",
   "execution_count": 7,
   "id": "c15986b3-10ac-43c3-baf4-403e3175f23b",
   "metadata": {},
   "outputs": [],
   "source": [
    "X = z[['spin_axis', 'release_speed', 'release_spin_rate', 'az', 'ay', 'ax', 'vz0', 'vy0', 'vx0', 'zone', 'pfx_x', 'pfx_z']]"
   ]
  },
  {
   "cell_type": "code",
   "execution_count": 8,
   "id": "2951d669-5313-4475-922e-34c1018d2677",
   "metadata": {},
   "outputs": [],
   "source": [
    "y = z[['description']]"
   ]
  },
  {
   "cell_type": "code",
   "execution_count": 9,
   "id": "b1b470fe-4e61-4f67-9f72-46f10d9b43e8",
   "metadata": {},
   "outputs": [
    {
     "data": {
      "text/plain": [
       "description\n",
       "0              417522\n",
       "1              112524\n",
       "dtype: int64"
      ]
     },
     "execution_count": 9,
     "metadata": {},
     "output_type": "execute_result"
    }
   ],
   "source": [
    "y.value_counts()"
   ]
  },
  {
   "cell_type": "markdown",
   "id": "5dc071d7-dabc-4b4e-91b4-7e299043d7f6",
   "metadata": {},
   "source": [
    "To correct for imbalanced classes I will use oversampling."
   ]
  },
  {
   "cell_type": "code",
   "execution_count": 10,
   "id": "9921c55f-f454-4bad-8d0a-874a17864fb9",
   "metadata": {},
   "outputs": [],
   "source": [
    "oversample = im.over_sampling.RandomOverSampler(sampling_strategy='minority')"
   ]
  },
  {
   "cell_type": "code",
   "execution_count": 11,
   "id": "7ea9066e-5ad4-4236-9f5a-903e6cf6ad5f",
   "metadata": {},
   "outputs": [],
   "source": [
    "X_over, y_over = oversample.fit_resample(X, y)"
   ]
  },
  {
   "cell_type": "code",
   "execution_count": 12,
   "id": "74575e0b-35e0-442c-a6dc-e0887656cb1d",
   "metadata": {},
   "outputs": [],
   "source": [
    "X_train, X_test, y_train, y_test = train_test_split(X_over, y_over, stratify =y_over, random_state =5)"
   ]
  },
  {
   "cell_type": "code",
   "execution_count": 13,
   "id": "5af46d86-0d04-4aa9-9077-20377730c9c5",
   "metadata": {},
   "outputs": [],
   "source": [
    "scaler = StandardScaler()\n",
    "X_train = scaler.fit_transform(X_train)\n",
    "X_test = scaler.transform(X_test)"
   ]
  },
  {
   "cell_type": "code",
   "execution_count": 19,
   "id": "e4510c54-01d0-4056-95bc-ec96790ac6fd",
   "metadata": {},
   "outputs": [
    {
     "name": "stderr",
     "output_type": "stream",
     "text": [
      "C:\\Users\\dmarm\\AppData\\Local\\Temp\\ipykernel_21552\\4194971639.py:2: DataConversionWarning: A column-vector y was passed when a 1d array was expected. Please change the shape of y to (n_samples,), for example using ravel().\n",
      "  rf1.fit(X_train, y_train)\n"
     ]
    },
    {
     "data": {
      "text/plain": [
       "RandomForestClassifier(n_estimators=10)"
      ]
     },
     "execution_count": 19,
     "metadata": {},
     "output_type": "execute_result"
    }
   ],
   "source": [
    "rf1 = RandomForestClassifier(n_estimators = 10)\n",
    "rf1.fit(X_train, y_train)"
   ]
  },
  {
   "cell_type": "code",
   "execution_count": 16,
   "id": "33760d7b-79e0-4946-9007-2169328e3cce",
   "metadata": {},
   "outputs": [
    {
     "data": {
      "text/plain": [
       "0.9971386737305659"
      ]
     },
     "execution_count": 16,
     "metadata": {},
     "output_type": "execute_result"
    }
   ],
   "source": [
    "rf1.score(X_train, y_train)"
   ]
  },
  {
   "cell_type": "code",
   "execution_count": 18,
   "id": "806847d8-4737-4e51-9c3c-9ab9cedd0f50",
   "metadata": {},
   "outputs": [
    {
     "data": {
      "text/plain": [
       "0.9156834849421108"
      ]
     },
     "execution_count": 18,
     "metadata": {},
     "output_type": "execute_result"
    }
   ],
   "source": [
    "rf1.score(X_test, y_test)"
   ]
  },
  {
   "cell_type": "markdown",
   "id": "adc097b9-f144-4586-8044-e0b3034a1acd",
   "metadata": {},
   "source": [
    "The model has a high accuracy for fastballs but does have some overfitting."
   ]
  },
  {
   "cell_type": "code",
   "execution_count": 20,
   "id": "a0686c64-6acd-415f-b042-7e6a79e300db",
   "metadata": {},
   "outputs": [],
   "source": [
    "importances = rf1.feature_importances_\n",
    "std = np.std([tree.feature_importances_ for tree in rf1.estimators_], axis=0)"
   ]
  },
  {
   "cell_type": "code",
   "execution_count": 21,
   "id": "20892605-46f1-47e1-865c-cff91ba4141e",
   "metadata": {},
   "outputs": [],
   "source": [
    "feature_names = ['spin_axis', 'release_speed', 'release_spin_rate', 'az', 'ay', 'ax', 'vz0', 'vy0', 'vx0', 'zone', 'pfx_x', 'pfx_z']"
   ]
  },
  {
   "cell_type": "code",
   "execution_count": 22,
   "id": "ed797cef-c471-49ba-9afe-5b9e178a9232",
   "metadata": {},
   "outputs": [
    {
     "data": {
      "image/png": "[encoded data removed]",
      "text/plain": [
       "<Figure size 432x288 with 1 Axes>"
      ]
     },
     "metadata": {
      "needs_background": "light"
     },
     "output_type": "display_data"
    }
   ],
   "source": [
    "forest_importances = pd.Series(importances, index=feature_names)\n",
    "\n",
    "fig, ax = plt.subplots()\n",
    "forest_importances.plot.bar(yerr=std, ax=ax)\n",
    "ax.set_title(\"Feature importances using MDI\")\n",
    "ax.set_ylabel(\"Mean decrease in impurity\")\n",
    "fig.tight_layout()"
   ]
  },
  {
   "cell_type": "markdown",
   "id": "3e05a770-5d3e-4de7-8463-2fdf468d4901",
   "metadata": {},
   "source": [
    "The most important information is the velocity and the acceleration particularly the velocity in the z direction which is towards the plate."
   ]
  },
  {
   "cell_type": "markdown",
   "id": "29cc13ba-6840-4056-b606-18028f76096a",
   "metadata": {},
   "source": [
    "## Sinker"
   ]
  },
  {
   "cell_type": "code",
   "execution_count": 23,
   "id": "fdc772b5-70a2-45a5-b4f5-0dea2efd1028",
   "metadata": {},
   "outputs": [],
   "source": [
    "df2 = df.copy()"
   ]
  },
  {
   "cell_type": "code",
   "execution_count": 24,
   "id": "aad3eecc-72bf-4c67-a9f1-07333676ad6b",
   "metadata": {},
   "outputs": [],
   "source": [
    "df2 = df2[df2.pitch_name == 'Sinker']"
   ]
  },
  {
   "cell_type": "code",
   "execution_count": 25,
   "id": "e00f1ad6-8270-410b-ac78-333157bbd236",
   "metadata": {},
   "outputs": [],
   "source": [
    "z = df2[['spin_axis', 'release_speed', 'release_spin_rate', 'az', 'ay', 'ax', 'vz0', 'vy0', 'vx0', 'zone','pfx_x', 'pfx_z','description']]"
   ]
  },
  {
   "cell_type": "code",
   "execution_count": 26,
   "id": "9345cebc-5d1f-4710-9c9d-4060d01add2d",
   "metadata": {},
   "outputs": [
    {
     "name": "stderr",
     "output_type": "stream",
     "text": [
      "C:\\Users\\dmarm\\AppData\\Local\\Temp\\ipykernel_21552\\2385804610.py:1: SettingWithCopyWarning: \n",
      "A value is trying to be set on a copy of a slice from a DataFrame\n",
      "\n",
      "See the caveats in the documentation: https://pandas.pydata.org/pandas-docs/stable/user_guide/indexing.html#returning-a-view-versus-a-copy\n",
      "  z.dropna(inplace = True)\n"
     ]
    }
   ],
   "source": [
    "z.dropna(inplace = True)"
   ]
  },
  {
   "cell_type": "code",
   "execution_count": 27,
   "id": "2d7a677a-a99f-4677-bde0-28071d04628c",
   "metadata": {},
   "outputs": [],
   "source": [
    "X = z[['spin_axis', 'release_speed', 'release_spin_rate', 'az', 'ay', 'ax', 'vz0', 'vy0', 'vx0', 'zone', 'pfx_x', 'pfx_z']]"
   ]
  },
  {
   "cell_type": "code",
   "execution_count": 28,
   "id": "2ac69737-a3b2-4082-9f1c-e1efdf5eb28c",
   "metadata": {},
   "outputs": [],
   "source": [
    "y = z[['description']]"
   ]
  },
  {
   "cell_type": "code",
   "execution_count": 30,
   "id": "24d4fb18-3034-47d0-a5cc-0d2fdc481c57",
   "metadata": {},
   "outputs": [],
   "source": [
    "oversample = im.over_sampling.RandomOverSampler(sampling_strategy='minority')"
   ]
  },
  {
   "cell_type": "code",
   "execution_count": 31,
   "id": "45463d14-5103-46f3-a184-f23901127213",
   "metadata": {},
   "outputs": [],
   "source": [
    "X_over, y_over = oversample.fit_resample(X, y)"
   ]
  },
  {
   "cell_type": "code",
   "execution_count": 32,
   "id": "a53d537c-2671-4d25-9b1e-55eba75d01bd",
   "metadata": {},
   "outputs": [],
   "source": [
    "X_train, X_test, y_train, y_test = train_test_split(X_over, y_over, stratify =y_over, random_state =5)"
   ]
  },
  {
   "cell_type": "code",
   "execution_count": 33,
   "id": "b6816792-6d49-4a98-bce6-49c59d277b62",
   "metadata": {},
   "outputs": [],
   "source": [
    "scaler = StandardScaler()\n",
    "X_train = scaler.fit_transform(X_train)\n",
    "X_test = scaler.transform(X_test)"
   ]
  },
  {
   "cell_type": "code",
   "execution_count": 34,
   "id": "d846fd4f-0864-4bcf-a41c-9b3c75ac083a",
   "metadata": {},
   "outputs": [
    {
     "name": "stderr",
     "output_type": "stream",
     "text": [
      "C:\\Users\\dmarm\\AppData\\Local\\Temp\\ipykernel_21552\\3641827361.py:2: DataConversionWarning: A column-vector y was passed when a 1d array was expected. Please change the shape of y to (n_samples,), for example using ravel().\n",
      "  rf2.fit(X_train, y_train)\n"
     ]
    },
    {
     "data": {
      "text/plain": [
       "RandomForestClassifier(n_estimators=10)"
      ]
     },
     "execution_count": 34,
     "metadata": {},
     "output_type": "execute_result"
    }
   ],
   "source": [
    "rf2 = RandomForestClassifier(n_estimators = 10)\n",
    "rf2.fit(X_train, y_train)"
   ]
  },
  {
   "cell_type": "code",
   "execution_count": 35,
   "id": "e8894f5f-3c04-4a8a-90e1-a5cd34dec69e",
   "metadata": {},
   "outputs": [
    {
     "data": {
      "text/plain": [
       "0.9991043249605873"
      ]
     },
     "execution_count": 35,
     "metadata": {},
     "output_type": "execute_result"
    }
   ],
   "source": [
    "rf2.score(X_train, y_train)"
   ]
  },
  {
   "cell_type": "code",
   "execution_count": 36,
   "id": "72b03893-a42b-481c-8f73-1abd4ace9f0b",
   "metadata": {},
   "outputs": [
    {
     "data": {
      "text/plain": [
       "0.9611924581740938"
      ]
     },
     "execution_count": 36,
     "metadata": {},
     "output_type": "execute_result"
    }
   ],
   "source": [
    "rf2.score(X_test, y_test)"
   ]
  },
  {
   "cell_type": "markdown",
   "id": "fba85ffb-1b88-4bdc-b24a-a669a72bf967",
   "metadata": {},
   "source": [
    "This model is very accurate but does have some overfitting."
   ]
  },
  {
   "cell_type": "code",
   "execution_count": 37,
   "id": "955ebad8-f2b9-45fe-948d-7a11e94a6f0b",
   "metadata": {},
   "outputs": [],
   "source": [
    "importances = rf2.feature_importances_\n",
    "std = np.std([tree.feature_importances_ for tree in rf2.estimators_], axis=0)"
   ]
  },
  {
   "cell_type": "code",
   "execution_count": 38,
   "id": "0567fe2b-0ce3-4b34-9fd0-c5e7a9129f5e",
   "metadata": {},
   "outputs": [
    {
     "data": {
      "image/png": "[encoded data removed]",
      "text/plain": [
       "<Figure size 432x288 with 1 Axes>"
      ]
     },
     "metadata": {
      "needs_background": "light"
     },
     "output_type": "display_data"
    }
   ],
   "source": [
    "forest_importances = pd.Series(importances, index=feature_names)\n",
    "\n",
    "fig, ax = plt.subplots()\n",
    "forest_importances.plot.bar(yerr=std, ax=ax)\n",
    "ax.set_title(\"Feature importances using MDI\")\n",
    "ax.set_ylabel(\"Mean decrease in impurity\")\n",
    "fig.tight_layout()"
   ]
  },
  {
   "cell_type": "markdown",
   "id": "1bc709fa-30a8-41c5-bd48-a3e4b22eaa52",
   "metadata": {},
   "source": [
    "There are similar feature importances for fastballs and sinkers. This makes sense since the pitches are similar."
   ]
  },
  {
   "cell_type": "markdown",
   "id": "2f75afb8-b31a-40ff-9b9b-fbba70afe1c6",
   "metadata": {},
   "source": [
    "## Slider"
   ]
  },
  {
   "cell_type": "code",
   "execution_count": 54,
   "id": "f5122996-fd33-4b03-bbef-0d1e74e961e7",
   "metadata": {},
   "outputs": [],
   "source": [
    "df3 = df.copy()"
   ]
  },
  {
   "cell_type": "code",
   "execution_count": 55,
   "id": "83accbb0-0ad9-452b-a126-92a59c19090f",
   "metadata": {},
   "outputs": [],
   "source": [
    "df3 = df3[df3.pitch_name == 'Slider']"
   ]
  },
  {
   "cell_type": "code",
   "execution_count": 56,
   "id": "71348139-846b-423d-b5f9-c1bf6f936422",
   "metadata": {},
   "outputs": [],
   "source": [
    "z = df3[['spin_axis', 'release_speed', 'release_spin_rate', 'az', 'ay', 'ax', 'vz0', 'vy0', 'vx0', 'zone','pfx_x', 'pfx_z','description']]"
   ]
  },
  {
   "cell_type": "code",
   "execution_count": 57,
   "id": "536a106f-3b6f-403f-b41b-8a9beda5d437",
   "metadata": {},
   "outputs": [
    {
     "name": "stderr",
     "output_type": "stream",
     "text": [
      "C:\\Users\\dmarm\\AppData\\Local\\Temp\\ipykernel_21552\\2385804610.py:1: SettingWithCopyWarning: \n",
      "A value is trying to be set on a copy of a slice from a DataFrame\n",
      "\n",
      "See the caveats in the documentation: https://pandas.pydata.org/pandas-docs/stable/user_guide/indexing.html#returning-a-view-versus-a-copy\n",
      "  z.dropna(inplace = True)\n"
     ]
    }
   ],
   "source": [
    "z.dropna(inplace = True)"
   ]
  },
  {
   "cell_type": "code",
   "execution_count": 58,
   "id": "4fe6f573-fc1e-4bb3-9df7-8dacb5923e05",
   "metadata": {},
   "outputs": [],
   "source": [
    "X = z[['spin_axis', 'release_speed', 'release_spin_rate', 'az', 'ay', 'ax', 'vz0', 'vy0', 'vx0', 'zone', 'pfx_x', 'pfx_z']]"
   ]
  },
  {
   "cell_type": "code",
   "execution_count": 59,
   "id": "d501b68c-562b-4e9f-9a85-9472c986e537",
   "metadata": {},
   "outputs": [],
   "source": [
    "y = z[['description']]"
   ]
  },
  {
   "cell_type": "code",
   "execution_count": 60,
   "id": "f28c4663-a3dd-408a-9947-fbc203386600",
   "metadata": {},
   "outputs": [],
   "source": [
    "oversample = im.over_sampling.RandomOverSampler(sampling_strategy='minority')"
   ]
  },
  {
   "cell_type": "code",
   "execution_count": 61,
   "id": "9d6022d8-81aa-4b55-b0bd-7e154eea7c79",
   "metadata": {},
   "outputs": [],
   "source": [
    "X_over, y_over = oversample.fit_resample(X, y)"
   ]
  },
  {
   "cell_type": "code",
   "execution_count": 62,
   "id": "70bfb19a-fdfa-4eda-b7ed-24dccb489f5c",
   "metadata": {},
   "outputs": [],
   "source": [
    "X_train, X_test, y_train, y_test = train_test_split(X_over, y_over, stratify =y_over, random_state =5)"
   ]
  },
  {
   "cell_type": "code",
   "execution_count": 63,
   "id": "70f0e873-c214-4531-9ae6-40717d45d897",
   "metadata": {},
   "outputs": [],
   "source": [
    "scaler = StandardScaler()\n",
    "X_train = scaler.fit_transform(X_train)\n",
    "X_test = scaler.transform(X_test)"
   ]
  },
  {
   "cell_type": "code",
   "execution_count": 64,
   "id": "c24d074e-6920-44bf-9bbc-27d31470974b",
   "metadata": {},
   "outputs": [
    {
     "name": "stderr",
     "output_type": "stream",
     "text": [
      "C:\\Users\\dmarm\\AppData\\Local\\Temp\\ipykernel_21552\\1028156945.py:2: DataConversionWarning: A column-vector y was passed when a 1d array was expected. Please change the shape of y to (n_samples,), for example using ravel().\n",
      "  rf3.fit(X_train, y_train)\n"
     ]
    },
    {
     "data": {
      "text/plain": [
       "RandomForestClassifier(n_estimators=10)"
      ]
     },
     "execution_count": 64,
     "metadata": {},
     "output_type": "execute_result"
    }
   ],
   "source": [
    "rf3 = RandomForestClassifier(n_estimators = 10)\n",
    "rf3.fit(X_train, y_train)"
   ]
  },
  {
   "cell_type": "code",
   "execution_count": 65,
   "id": "57ffe68b-c86b-4af5-80a1-d3add726160a",
   "metadata": {},
   "outputs": [
    {
     "data": {
      "text/plain": [
       "0.99093070997378"
      ]
     },
     "execution_count": 65,
     "metadata": {},
     "output_type": "execute_result"
    }
   ],
   "source": [
    "rf3.score(X_train, y_train)"
   ]
  },
  {
   "cell_type": "code",
   "execution_count": 66,
   "id": "97481796-5d43-4782-b6bf-428df5f35501",
   "metadata": {},
   "outputs": [
    {
     "data": {
      "text/plain": [
       "0.8153636019951462"
      ]
     },
     "execution_count": 66,
     "metadata": {},
     "output_type": "execute_result"
    }
   ],
   "source": [
    "rf3.score(X_test, y_test)"
   ]
  },
  {
   "cell_type": "markdown",
   "id": "df8ca9b3-e0b0-4a5a-9e9e-91bbc4988298",
   "metadata": {},
   "source": [
    "This model is more accurate then the baseline but has more overfitting then the other two models."
   ]
  },
  {
   "cell_type": "code",
   "execution_count": 67,
   "id": "e91acd89-0435-4518-8a0b-11ae942c51b7",
   "metadata": {},
   "outputs": [],
   "source": [
    "importances = rf3.feature_importances_\n",
    "std = np.std([tree.feature_importances_ for tree in rf3.estimators_], axis=0)"
   ]
  },
  {
   "cell_type": "code",
   "execution_count": 68,
   "id": "58f8d533-7dd3-43ff-b775-f19fbd297b9b",
   "metadata": {},
   "outputs": [
    {
     "data": {
      "image/png": "[encoded data removed]",
      "text/plain": [
       "<Figure size 432x288 with 1 Axes>"
      ]
     },
     "metadata": {
      "needs_background": "light"
     },
     "output_type": "display_data"
    }
   ],
   "source": [
    "forest_importances = pd.Series(importances, index=feature_names)\n",
    "\n",
    "fig, ax = plt.subplots()\n",
    "forest_importances.plot.bar(yerr=std, ax=ax)\n",
    "ax.set_title(\"Feature importances using MDI\")\n",
    "ax.set_ylabel(\"Mean decrease in impurity\")\n",
    "fig.tight_layout()"
   ]
  },
  {
   "cell_type": "markdown",
   "id": "1bedb6b7-4229-4f45-8c9e-084b3c485860",
   "metadata": {},
   "source": [
    "For sliders the location of the pitch is more important then the speed. The speed is the secondary factor both speed towards the plate and speed in the horizontal direction."
   ]
  },
  {
   "cell_type": "markdown",
   "id": "ec4bbdb1-5c77-4c75-9e47-46b5b38ec5ff",
   "metadata": {},
   "source": [
    "## Changeup "
   ]
  },
  {
   "cell_type": "code",
   "execution_count": 70,
   "id": "de334f82-3604-40e9-8dd4-655aac9d6ab7",
   "metadata": {},
   "outputs": [],
   "source": [
    "df4 = df.copy()"
   ]
  },
  {
   "cell_type": "code",
   "execution_count": 71,
   "id": "6a3845ea-dbf7-4bc8-b15f-9ffca22a3c0a",
   "metadata": {},
   "outputs": [],
   "source": [
    "df4 = df4[df4.pitch_name == 'Changeup']"
   ]
  },
  {
   "cell_type": "code",
   "execution_count": 72,
   "id": "7c5f7096-1ec8-4cfe-812e-83f2e7f8f24d",
   "metadata": {},
   "outputs": [],
   "source": [
    "z = df4[['spin_axis', 'release_speed', 'release_spin_rate', 'az', 'ay', 'ax', 'vz0', 'vy0', 'vx0', 'zone','pfx_x', 'pfx_z','description']]"
   ]
  },
  {
   "cell_type": "code",
   "execution_count": 73,
   "id": "0f5cd0ce-972a-40dd-b0c9-b9e6eee3810f",
   "metadata": {},
   "outputs": [
    {
     "name": "stderr",
     "output_type": "stream",
     "text": [
      "C:\\Users\\dmarm\\AppData\\Local\\Temp\\ipykernel_21552\\2385804610.py:1: SettingWithCopyWarning: \n",
      "A value is trying to be set on a copy of a slice from a DataFrame\n",
      "\n",
      "See the caveats in the documentation: https://pandas.pydata.org/pandas-docs/stable/user_guide/indexing.html#returning-a-view-versus-a-copy\n",
      "  z.dropna(inplace = True)\n"
     ]
    }
   ],
   "source": [
    "z.dropna(inplace = True)"
   ]
  },
  {
   "cell_type": "code",
   "execution_count": 74,
   "id": "70e6c451-8178-4405-bf81-1b453e03bc25",
   "metadata": {},
   "outputs": [],
   "source": [
    "X = z[['spin_axis', 'release_speed', 'release_spin_rate', 'az', 'ay', 'ax', 'vz0', 'vy0', 'vx0', 'zone', 'pfx_x', 'pfx_z']]"
   ]
  },
  {
   "cell_type": "code",
   "execution_count": 75,
   "id": "629a56eb-72d3-485a-aded-e6d1e0a12185",
   "metadata": {},
   "outputs": [],
   "source": [
    "y = z[['description']]"
   ]
  },
  {
   "cell_type": "code",
   "execution_count": 76,
   "id": "1f497ebb-e40c-4394-8fb0-52ca62bc684b",
   "metadata": {},
   "outputs": [],
   "source": [
    "oversample = im.over_sampling.RandomOverSampler(sampling_strategy='minority')"
   ]
  },
  {
   "cell_type": "code",
   "execution_count": 77,
   "id": "99fb7525-2458-4415-9cc4-cf219076a9f3",
   "metadata": {},
   "outputs": [],
   "source": [
    "X_over, y_over = oversample.fit_resample(X, y)"
   ]
  },
  {
   "cell_type": "code",
   "execution_count": 78,
   "id": "6883d1db-db96-4987-9d31-c1a339242518",
   "metadata": {},
   "outputs": [],
   "source": [
    "X_train, X_test, y_train, y_test = train_test_split(X_over, y_over, stratify =y_over, random_state =5)"
   ]
  },
  {
   "cell_type": "code",
   "execution_count": 79,
   "id": "242bbb36-31fd-468b-97f8-a7d5ce7d133d",
   "metadata": {},
   "outputs": [],
   "source": [
    "scaler = StandardScaler()\n",
    "X_train = scaler.fit_transform(X_train)\n",
    "X_test = scaler.transform(X_test)"
   ]
  },
  {
   "cell_type": "code",
   "execution_count": 80,
   "id": "a396f70a-ba39-4139-b247-484b8220c64e",
   "metadata": {},
   "outputs": [
    {
     "name": "stderr",
     "output_type": "stream",
     "text": [
      "C:\\Users\\dmarm\\AppData\\Local\\Temp\\ipykernel_21552\\1359726857.py:2: DataConversionWarning: A column-vector y was passed when a 1d array was expected. Please change the shape of y to (n_samples,), for example using ravel().\n",
      "  rf4.fit(X_train, y_train)\n"
     ]
    },
    {
     "data": {
      "text/plain": [
       "RandomForestClassifier(n_estimators=10)"
      ]
     },
     "execution_count": 80,
     "metadata": {},
     "output_type": "execute_result"
    }
   ],
   "source": [
    "rf4 = RandomForestClassifier(n_estimators = 10)\n",
    "rf4.fit(X_train, y_train)"
   ]
  },
  {
   "cell_type": "code",
   "execution_count": 81,
   "id": "75de7f5d-1c54-48b8-ac00-27525be04d51",
   "metadata": {},
   "outputs": [
    {
     "data": {
      "text/plain": [
       "0.9931309464884782"
      ]
     },
     "execution_count": 81,
     "metadata": {},
     "output_type": "execute_result"
    }
   ],
   "source": [
    "rf4.score(X_train, y_train)"
   ]
  },
  {
   "cell_type": "code",
   "execution_count": 82,
   "id": "157a81b1-36c2-464b-8660-645d7bbb5de9",
   "metadata": {},
   "outputs": [
    {
     "data": {
      "text/plain": [
       "0.8274707144035638"
      ]
     },
     "execution_count": 82,
     "metadata": {},
     "output_type": "execute_result"
    }
   ],
   "source": [
    "rf4.score(X_test, y_test)"
   ]
  },
  {
   "cell_type": "markdown",
   "id": "1cc56952-7f84-4df0-8278-846ecea75c32",
   "metadata": {},
   "source": [
    "Like the slider model this model has some overfitting."
   ]
  },
  {
   "cell_type": "code",
   "execution_count": 84,
   "id": "e415f61c-867d-4c79-8f27-74f9c296425e",
   "metadata": {},
   "outputs": [],
   "source": [
    "importances = rf4.feature_importances_\n",
    "std = np.std([tree.feature_importances_ for tree in rf4.estimators_], axis=0)"
   ]
  },
  {
   "cell_type": "code",
   "execution_count": 85,
   "id": "1b2bf930-2d8e-4a79-8604-6d7a570af2cf",
   "metadata": {},
   "outputs": [
    {
     "data": {
      "image/png": "[encoded data removed]",
      "text/plain": [
       "<Figure size 432x288 with 1 Axes>"
      ]
     },
     "metadata": {
      "needs_background": "light"
     },
     "output_type": "display_data"
    }
   ],
   "source": [
    "forest_importances = pd.Series(importances, index=feature_names)\n",
    "\n",
    "fig, ax = plt.subplots()\n",
    "forest_importances.plot.bar(yerr=std, ax=ax)\n",
    "ax.set_title(\"Feature importances using MDI\")\n",
    "ax.set_ylabel(\"Mean decrease in impurity\")\n",
    "fig.tight_layout()"
   ]
  },
  {
   "cell_type": "markdown",
   "id": "8e4d2e58-f7c8-4bea-badd-b8e6866f49dc",
   "metadata": {},
   "source": [
    "Changeups have similar imporance features to fastballs and sinkers. Spin rate is a little more important for changeups than for the other two pitches."
   ]
  },
  {
   "cell_type": "markdown",
   "id": "08a4545f-0146-487e-88cb-7ad0b318f099",
   "metadata": {},
   "source": [
    "## Curveball "
   ]
  },
  {
   "cell_type": "code",
   "execution_count": 86,
   "id": "d0c1309f-977d-4bcb-8d48-007821badc65",
   "metadata": {},
   "outputs": [],
   "source": [
    "df5 = df.copy()"
   ]
  },
  {
   "cell_type": "code",
   "execution_count": 87,
   "id": "643e5cf7-9120-4a6e-8879-d1f955238e1d",
   "metadata": {},
   "outputs": [],
   "source": [
    "df5 = df5[df5.pitch_name == 'Curveball']"
   ]
  },
  {
   "cell_type": "code",
   "execution_count": 88,
   "id": "227f2ba9-d552-4bc5-9824-e6e4b59e39ab",
   "metadata": {},
   "outputs": [],
   "source": [
    "z = df5[['spin_axis', 'release_speed', 'release_spin_rate', 'az', 'ay', 'ax', 'vz0', 'vy0', 'vx0', 'zone','pfx_x', 'pfx_z','description']]"
   ]
  },
  {
   "cell_type": "code",
   "execution_count": 89,
   "id": "3fc8397b-073b-4331-92f2-273086dd0305",
   "metadata": {},
   "outputs": [
    {
     "name": "stderr",
     "output_type": "stream",
     "text": [
      "C:\\Users\\dmarm\\AppData\\Local\\Temp\\ipykernel_21552\\2385804610.py:1: SettingWithCopyWarning: \n",
      "A value is trying to be set on a copy of a slice from a DataFrame\n",
      "\n",
      "See the caveats in the documentation: https://pandas.pydata.org/pandas-docs/stable/user_guide/indexing.html#returning-a-view-versus-a-copy\n",
      "  z.dropna(inplace = True)\n"
     ]
    }
   ],
   "source": [
    "z.dropna(inplace = True)"
   ]
  },
  {
   "cell_type": "code",
   "execution_count": 90,
   "id": "6b51e94e-1765-4c34-af19-be73db560708",
   "metadata": {},
   "outputs": [],
   "source": [
    "X = z[['spin_axis', 'release_speed', 'release_spin_rate', 'az', 'ay', 'ax', 'vz0', 'vy0', 'vx0', 'zone', 'pfx_x', 'pfx_z']]"
   ]
  },
  {
   "cell_type": "code",
   "execution_count": 91,
   "id": "6950c6fe-99a2-480c-8260-ba7dd81fcfa3",
   "metadata": {},
   "outputs": [],
   "source": [
    "y = z[['description']]"
   ]
  },
  {
   "cell_type": "code",
   "execution_count": 92,
   "id": "95d93d92-7e4f-4fc8-bde0-2821931be9b8",
   "metadata": {},
   "outputs": [],
   "source": [
    "oversample = im.over_sampling.RandomOverSampler(sampling_strategy='minority')"
   ]
  },
  {
   "cell_type": "code",
   "execution_count": 93,
   "id": "d5de77ae-4dc5-4656-bfbd-31f46782e8bd",
   "metadata": {},
   "outputs": [],
   "source": [
    "X_over, y_over = oversample.fit_resample(X, y)"
   ]
  },
  {
   "cell_type": "code",
   "execution_count": 94,
   "id": "5567ae9b-5db0-487a-9fef-c4ccf587e89e",
   "metadata": {},
   "outputs": [],
   "source": [
    "X_train, X_test, y_train, y_test = train_test_split(X_over, y_over, stratify =y_over, random_state =5)"
   ]
  },
  {
   "cell_type": "code",
   "execution_count": 95,
   "id": "9cb8e1bf-10cf-4103-8d07-8f1caf806647",
   "metadata": {},
   "outputs": [],
   "source": [
    "scaler = StandardScaler()\n",
    "X_train = scaler.fit_transform(X_train)\n",
    "X_test = scaler.transform(X_test)"
   ]
  },
  {
   "cell_type": "code",
   "execution_count": 96,
   "id": "814d3066-8b62-4fa2-9803-4d1343422a90",
   "metadata": {},
   "outputs": [
    {
     "name": "stderr",
     "output_type": "stream",
     "text": [
      "C:\\Users\\dmarm\\AppData\\Local\\Temp\\ipykernel_21552\\1982775403.py:2: DataConversionWarning: A column-vector y was passed when a 1d array was expected. Please change the shape of y to (n_samples,), for example using ravel().\n",
      "  rf5.fit(X_train, y_train)\n"
     ]
    },
    {
     "data": {
      "text/plain": [
       "RandomForestClassifier(n_estimators=10)"
      ]
     },
     "execution_count": 96,
     "metadata": {},
     "output_type": "execute_result"
    }
   ],
   "source": [
    "rf5 = RandomForestClassifier(n_estimators = 10)\n",
    "rf5.fit(X_train, y_train)"
   ]
  },
  {
   "cell_type": "code",
   "execution_count": 97,
   "id": "41f8bed0-c6f0-42b8-aefd-a138007fb1c7",
   "metadata": {},
   "outputs": [
    {
     "data": {
      "text/plain": [
       "0.9926313838168505"
      ]
     },
     "execution_count": 97,
     "metadata": {},
     "output_type": "execute_result"
    }
   ],
   "source": [
    "rf5.score(X_train, y_train)"
   ]
  },
  {
   "cell_type": "code",
   "execution_count": 98,
   "id": "cca204f8-19f2-44dc-8b53-d2e884078aec",
   "metadata": {},
   "outputs": [
    {
     "data": {
      "text/plain": [
       "0.8513791569347124"
      ]
     },
     "execution_count": 98,
     "metadata": {},
     "output_type": "execute_result"
    }
   ],
   "source": [
    "rf5.score(X_test, y_test)"
   ]
  },
  {
   "cell_type": "markdown",
   "id": "a2e0c7dc-234a-4211-bd89-a0f8e4a95395",
   "metadata": {},
   "source": [
    "This model has some overfitting but is more accurate then baseline."
   ]
  },
  {
   "cell_type": "code",
   "execution_count": 100,
   "id": "3fde5e2f-7288-4f0e-806f-5434912f9701",
   "metadata": {},
   "outputs": [],
   "source": [
    "importances = rf5.feature_importances_\n",
    "std = np.std([tree.feature_importances_ for tree in rf5.estimators_], axis=0)"
   ]
  },
  {
   "cell_type": "code",
   "execution_count": 101,
   "id": "b8662758-21e5-433b-8a63-3820b6e750c5",
   "metadata": {},
   "outputs": [
    {
     "data": {
      "image/png": "[encoded data removed]",
      "text/plain": [
       "<Figure size 432x288 with 1 Axes>"
      ]
     },
     "metadata": {
      "needs_background": "light"
     },
     "output_type": "display_data"
    }
   ],
   "source": [
    "forest_importances = pd.Series(importances, index=feature_names)\n",
    "\n",
    "fig, ax = plt.subplots()\n",
    "forest_importances.plot.bar(yerr=std, ax=ax)\n",
    "ax.set_title(\"Feature importances using MDI\")\n",
    "ax.set_ylabel(\"Mean decrease in impurity\")\n",
    "fig.tight_layout()"
   ]
  },
  {
   "cell_type": "markdown",
   "id": "df8df43c-9119-4008-b71b-47b521e3fe30",
   "metadata": {},
   "source": [
    "For curveballs as with sliders zone is the most important factor."
   ]
  },
  {
   "cell_type": "markdown",
   "id": "a9e307f7-680c-4260-b317-bb3919d37eb4",
   "metadata": {},
   "source": [
    "## Cutter"
   ]
  },
  {
   "cell_type": "code",
   "execution_count": 102,
   "id": "3aafc2d1-d492-4bd9-828d-10ad04593fd5",
   "metadata": {},
   "outputs": [],
   "source": [
    "df6 = df.copy()"
   ]
  },
  {
   "cell_type": "code",
   "execution_count": 103,
   "id": "93c658df-4987-40d2-91de-57e21c5ba60d",
   "metadata": {},
   "outputs": [],
   "source": [
    "df6 = df6[df6.pitch_name == 'Cutter']"
   ]
  },
  {
   "cell_type": "code",
   "execution_count": 104,
   "id": "f1e29c80-227c-4aa9-b7a2-357a091e6682",
   "metadata": {},
   "outputs": [],
   "source": [
    "z = df6[['spin_axis', 'release_speed', 'release_spin_rate', 'az', 'ay', 'ax', 'vz0', 'vy0', 'vx0', 'zone','pfx_x', 'pfx_z','description']]"
   ]
  },
  {
   "cell_type": "code",
   "execution_count": 105,
   "id": "369fc4fe-b24d-44ef-948c-a9cdfcac0f79",
   "metadata": {},
   "outputs": [
    {
     "name": "stderr",
     "output_type": "stream",
     "text": [
      "C:\\Users\\dmarm\\AppData\\Local\\Temp\\ipykernel_21552\\2385804610.py:1: SettingWithCopyWarning: \n",
      "A value is trying to be set on a copy of a slice from a DataFrame\n",
      "\n",
      "See the caveats in the documentation: https://pandas.pydata.org/pandas-docs/stable/user_guide/indexing.html#returning-a-view-versus-a-copy\n",
      "  z.dropna(inplace = True)\n"
     ]
    }
   ],
   "source": [
    "z.dropna(inplace = True)"
   ]
  },
  {
   "cell_type": "code",
   "execution_count": 106,
   "id": "b210dbc7-51b4-44ed-bc7b-616df804ff05",
   "metadata": {},
   "outputs": [],
   "source": [
    "X = z[['spin_axis', 'release_speed', 'release_spin_rate', 'az', 'ay', 'ax', 'vz0', 'vy0', 'vx0', 'zone', 'pfx_x', 'pfx_z']]"
   ]
  },
  {
   "cell_type": "code",
   "execution_count": 107,
   "id": "eb6a82b6-9f32-4366-86c8-7712e1533cf6",
   "metadata": {},
   "outputs": [],
   "source": [
    "y = z[['description']]"
   ]
  },
  {
   "cell_type": "code",
   "execution_count": 108,
   "id": "867f882f-7d5f-440b-8bfb-53876890de8d",
   "metadata": {},
   "outputs": [],
   "source": [
    "oversample = im.over_sampling.RandomOverSampler(sampling_strategy='minority')"
   ]
  },
  {
   "cell_type": "code",
   "execution_count": 109,
   "id": "bed99e89-0fdb-4e92-86fc-01bd524f3558",
   "metadata": {},
   "outputs": [],
   "source": [
    "X_over, y_over = oversample.fit_resample(X, y)"
   ]
  },
  {
   "cell_type": "code",
   "execution_count": 110,
   "id": "4eae5ddf-d97e-4bca-915c-691fc8255ce1",
   "metadata": {},
   "outputs": [],
   "source": [
    "X_train, X_test, y_train, y_test = train_test_split(X_over, y_over, stratify =y_over, random_state =5)"
   ]
  },
  {
   "cell_type": "code",
   "execution_count": 111,
   "id": "aff1907a-059f-4673-92a6-732c1ab55fcc",
   "metadata": {},
   "outputs": [],
   "source": [
    "scaler = StandardScaler()\n",
    "X_train = scaler.fit_transform(X_train)\n",
    "X_test = scaler.transform(X_test)"
   ]
  },
  {
   "cell_type": "code",
   "execution_count": 112,
   "id": "a994a10e-da01-4ade-a068-d77b8982b01e",
   "metadata": {},
   "outputs": [
    {
     "name": "stderr",
     "output_type": "stream",
     "text": [
      "C:\\Users\\dmarm\\AppData\\Local\\Temp\\ipykernel_21552\\3203100151.py:2: DataConversionWarning: A column-vector y was passed when a 1d array was expected. Please change the shape of y to (n_samples,), for example using ravel().\n",
      "  rf6.fit(X_train, y_train)\n"
     ]
    },
    {
     "data": {
      "text/plain": [
       "RandomForestClassifier(n_estimators=10)"
      ]
     },
     "execution_count": 112,
     "metadata": {},
     "output_type": "execute_result"
    }
   ],
   "source": [
    "rf6 = RandomForestClassifier(n_estimators = 10)\n",
    "rf6.fit(X_train, y_train)"
   ]
  },
  {
   "cell_type": "code",
   "execution_count": 113,
   "id": "2b9f03fd-0066-4444-9195-e86f4426f8c6",
   "metadata": {},
   "outputs": [
    {
     "data": {
      "text/plain": [
       "0.9956902795885847"
      ]
     },
     "execution_count": 113,
     "metadata": {},
     "output_type": "execute_result"
    }
   ],
   "source": [
    "rf6.score(X_train, y_train)"
   ]
  },
  {
   "cell_type": "code",
   "execution_count": 114,
   "id": "b5800cf8-dded-46aa-9eb7-f84b10bfcb8e",
   "metadata": {},
   "outputs": [
    {
     "data": {
      "text/plain": [
       "0.8931442850934377"
      ]
     },
     "execution_count": 114,
     "metadata": {},
     "output_type": "execute_result"
    }
   ],
   "source": [
    "rf6.score(X_test, y_test)"
   ]
  },
  {
   "cell_type": "markdown",
   "id": "dd1f0b1f-8a1b-4415-a38f-e655cf88356f",
   "metadata": {},
   "source": [
    "This model has some overfitting but is more accurate then baseline."
   ]
  },
  {
   "cell_type": "code",
   "execution_count": 116,
   "id": "36b9a3cf-78ec-4e95-9b3e-1bb837fcdd42",
   "metadata": {},
   "outputs": [],
   "source": [
    "importances = rf6.feature_importances_\n",
    "std = np.std([tree.feature_importances_ for tree in rf6.estimators_], axis=0)"
   ]
  },
  {
   "cell_type": "code",
   "execution_count": 117,
   "id": "d0ca1315-a32c-43c3-bdf3-52bc1a838889",
   "metadata": {},
   "outputs": [
    {
     "data": {
      "image/png": "[encoded data removed]",
      "text/plain": [
       "<Figure size 432x288 with 1 Axes>"
      ]
     },
     "metadata": {
      "needs_background": "light"
     },
     "output_type": "display_data"
    }
   ],
   "source": [
    "forest_importances = pd.Series(importances, index=feature_names)\n",
    "\n",
    "fig, ax = plt.subplots()\n",
    "forest_importances.plot.bar(yerr=std, ax=ax)\n",
    "ax.set_title(\"Feature importances using MDI\")\n",
    "ax.set_ylabel(\"Mean decrease in impurity\")\n",
    "fig.tight_layout()"
   ]
  },
  {
   "cell_type": "markdown",
   "id": "b6cc490d-70f0-430d-a1a4-60d6e8ce0a9a",
   "metadata": {},
   "source": [
    "For cutters speed and zone are of almost equal importance. Horizontal speed is also important for cutters."
   ]
  },
  {
   "cell_type": "markdown",
   "id": "69cb6ab3-43f2-422b-a058-ecb69b7cf5cf",
   "metadata": {},
   "source": [
    "## Knuckle Curve"
   ]
  },
  {
   "cell_type": "code",
   "execution_count": 118,
   "id": "c6679bb4-9654-44fa-8cc8-d5bcb5a62727",
   "metadata": {},
   "outputs": [],
   "source": [
    "df7 = df.copy()"
   ]
  },
  {
   "cell_type": "code",
   "execution_count": 119,
   "id": "77cbd2be-36f5-4ec0-b18e-f6442518fa8f",
   "metadata": {},
   "outputs": [],
   "source": [
    "df7 = df7[df7.pitch_name == 'Knuckle Curve']"
   ]
  },
  {
   "cell_type": "code",
   "execution_count": 120,
   "id": "61327cb7-c21d-4e86-8ac5-8251af1eea4e",
   "metadata": {},
   "outputs": [],
   "source": [
    "z = df7[['spin_axis', 'release_speed', 'release_spin_rate', 'az', 'ay', 'ax', 'vz0', 'vy0', 'vx0', 'zone','pfx_x', 'pfx_z','description']]"
   ]
  },
  {
   "cell_type": "code",
   "execution_count": 121,
   "id": "5680eca0-f1d2-4ce7-a45f-a2db160990d3",
   "metadata": {},
   "outputs": [
    {
     "name": "stderr",
     "output_type": "stream",
     "text": [
      "C:\\Users\\dmarm\\AppData\\Local\\Temp\\ipykernel_21552\\2385804610.py:1: SettingWithCopyWarning: \n",
      "A value is trying to be set on a copy of a slice from a DataFrame\n",
      "\n",
      "See the caveats in the documentation: https://pandas.pydata.org/pandas-docs/stable/user_guide/indexing.html#returning-a-view-versus-a-copy\n",
      "  z.dropna(inplace = True)\n"
     ]
    }
   ],
   "source": [
    "z.dropna(inplace = True)"
   ]
  },
  {
   "cell_type": "code",
   "execution_count": 122,
   "id": "c43dab66-6d28-42f1-aeb4-6efda11390b3",
   "metadata": {},
   "outputs": [],
   "source": [
    "X = z[['spin_axis', 'release_speed', 'release_spin_rate', 'az', 'ay', 'ax', 'vz0', 'vy0', 'vx0', 'zone', 'pfx_x', 'pfx_z']]"
   ]
  },
  {
   "cell_type": "code",
   "execution_count": 123,
   "id": "0aad95e1-5ba0-41d1-9d77-8b50ef0b9dcd",
   "metadata": {},
   "outputs": [],
   "source": [
    "y = z[['description']]"
   ]
  },
  {
   "cell_type": "code",
   "execution_count": 124,
   "id": "824865f8-fceb-405a-b639-3375da740560",
   "metadata": {},
   "outputs": [],
   "source": [
    "oversample = im.over_sampling.RandomOverSampler(sampling_strategy='minority')"
   ]
  },
  {
   "cell_type": "code",
   "execution_count": 125,
   "id": "63094b4a-3151-4877-af6c-9d3fea1230f8",
   "metadata": {},
   "outputs": [],
   "source": [
    "X_over, y_over = oversample.fit_resample(X, y)"
   ]
  },
  {
   "cell_type": "code",
   "execution_count": 126,
   "id": "5c5c6613-9732-491e-8f9b-3eccdc9ace01",
   "metadata": {},
   "outputs": [],
   "source": [
    "X_train, X_test, y_train, y_test = train_test_split(X_over, y_over, stratify =y_over, random_state =5)"
   ]
  },
  {
   "cell_type": "code",
   "execution_count": 127,
   "id": "95dfdc05-88ea-490e-bf44-8c38b17494ef",
   "metadata": {},
   "outputs": [],
   "source": [
    "scaler = StandardScaler()\n",
    "X_train = scaler.fit_transform(X_train)\n",
    "X_test = scaler.transform(X_test)"
   ]
  },
  {
   "cell_type": "code",
   "execution_count": 128,
   "id": "063005c3-93ba-4fa1-9b09-3971f05f01cc",
   "metadata": {},
   "outputs": [
    {
     "name": "stderr",
     "output_type": "stream",
     "text": [
      "C:\\Users\\dmarm\\AppData\\Local\\Temp\\ipykernel_21552\\1187806777.py:2: DataConversionWarning: A column-vector y was passed when a 1d array was expected. Please change the shape of y to (n_samples,), for example using ravel().\n",
      "  rf7.fit(X_train, y_train)\n"
     ]
    },
    {
     "data": {
      "text/plain": [
       "RandomForestClassifier(n_estimators=10)"
      ]
     },
     "execution_count": 128,
     "metadata": {},
     "output_type": "execute_result"
    }
   ],
   "source": [
    "rf7 = RandomForestClassifier(n_estimators = 10)\n",
    "rf7.fit(X_train, y_train)"
   ]
  },
  {
   "cell_type": "code",
   "execution_count": 129,
   "id": "d43061ae-734a-4acb-bb93-a4e0fb286779",
   "metadata": {},
   "outputs": [
    {
     "data": {
      "text/plain": [
       "0.9918414918414918"
      ]
     },
     "execution_count": 129,
     "metadata": {},
     "output_type": "execute_result"
    }
   ],
   "source": [
    "rf7.score(X_train, y_train)"
   ]
  },
  {
   "cell_type": "code",
   "execution_count": 130,
   "id": "848e21d5-8596-432c-a675-3bce9e6a2fb4",
   "metadata": {},
   "outputs": [
    {
     "data": {
      "text/plain": [
       "0.8447736474052263"
      ]
     },
     "execution_count": 130,
     "metadata": {},
     "output_type": "execute_result"
    }
   ],
   "source": [
    "rf7.score(X_test, y_test)"
   ]
  },
  {
   "cell_type": "markdown",
   "id": "05aeb052-18eb-4875-bd53-c1f095f3dd63",
   "metadata": {},
   "source": [
    "This model has some overfitting but is more accurate then baseline."
   ]
  },
  {
   "cell_type": "code",
   "execution_count": 131,
   "id": "f3aee162-c1e3-4c29-aa54-f2a3436ce2fc",
   "metadata": {},
   "outputs": [],
   "source": [
    "importances = rf7.feature_importances_\n",
    "std = np.std([tree.feature_importances_ for tree in rf7.estimators_], axis=0)"
   ]
  },
  {
   "cell_type": "code",
   "execution_count": 133,
   "id": "f224ff72-eadc-4401-a866-865db034e2be",
   "metadata": {},
   "outputs": [
    {
     "data": {
      "image/png": "[encoded data removed]",
      "text/plain": [
       "<Figure size 432x288 with 1 Axes>"
      ]
     },
     "metadata": {
      "needs_background": "light"
     },
     "output_type": "display_data"
    }
   ],
   "source": [
    "forest_importances = pd.Series(importances, index=feature_names)\n",
    "\n",
    "fig, ax = plt.subplots()\n",
    "forest_importances.plot.bar(yerr=std, ax=ax)\n",
    "ax.set_title(\"Feature importances using MDI\")\n",
    "ax.set_ylabel(\"Mean decrease in impurity\")\n",
    "fig.tight_layout()"
   ]
  },
  {
   "cell_type": "markdown",
   "id": "fab6040b-286a-4fbd-8597-df72f142b7e6",
   "metadata": {},
   "source": [
    "Knuckle curves have a very similar feature importance to curveballs. This makes sense since both are types of curveballs. "
   ]
  },
  {
   "cell_type": "markdown",
   "id": "29f08f89-8f64-4331-ac8c-8dad4c308e16",
   "metadata": {},
   "source": [
    "## Split-Finger Fastball"
   ]
  },
  {
   "cell_type": "code",
   "execution_count": 134,
   "id": "d9d6329e-de44-4662-8d40-08d016ccfd02",
   "metadata": {},
   "outputs": [],
   "source": [
    "df8 = df.copy()"
   ]
  },
  {
   "cell_type": "code",
   "execution_count": 135,
   "id": "1bcb47f2-ce73-49fe-8bc3-2cce81f94865",
   "metadata": {},
   "outputs": [],
   "source": [
    "df8 = df8[df8.pitch_name == 'Split-Finger']"
   ]
  },
  {
   "cell_type": "code",
   "execution_count": 136,
   "id": "4ccaa181-bb83-4ca8-8eb1-7091d3d55d6d",
   "metadata": {},
   "outputs": [],
   "source": [
    "z = df8[['spin_axis', 'release_speed', 'release_spin_rate', 'az', 'ay', 'ax', 'vz0', 'vy0', 'vx0', 'zone','pfx_x', 'pfx_z','description']]"
   ]
  },
  {
   "cell_type": "code",
   "execution_count": 137,
   "id": "3a2bd1f7-cc6d-4007-87b8-54f2b812a3a6",
   "metadata": {},
   "outputs": [
    {
     "name": "stderr",
     "output_type": "stream",
     "text": [
      "C:\\Users\\dmarm\\AppData\\Local\\Temp\\ipykernel_21552\\2385804610.py:1: SettingWithCopyWarning: \n",
      "A value is trying to be set on a copy of a slice from a DataFrame\n",
      "\n",
      "See the caveats in the documentation: https://pandas.pydata.org/pandas-docs/stable/user_guide/indexing.html#returning-a-view-versus-a-copy\n",
      "  z.dropna(inplace = True)\n"
     ]
    }
   ],
   "source": [
    "z.dropna(inplace = True)"
   ]
  },
  {
   "cell_type": "code",
   "execution_count": 138,
   "id": "cb32ba2d-1496-4ce7-9fa8-e052ac26a04d",
   "metadata": {},
   "outputs": [],
   "source": [
    "X = z[['spin_axis', 'release_speed', 'release_spin_rate', 'az', 'ay', 'ax', 'vz0', 'vy0', 'vx0', 'zone', 'pfx_x', 'pfx_z']]"
   ]
  },
  {
   "cell_type": "code",
   "execution_count": 139,
   "id": "1f1dec58-7f56-4b6a-96b9-ed62c3558abb",
   "metadata": {},
   "outputs": [],
   "source": [
    "y = z[['description']]"
   ]
  },
  {
   "cell_type": "code",
   "execution_count": 140,
   "id": "0d37c267-03a0-4921-85e9-1cba3c3663fe",
   "metadata": {},
   "outputs": [],
   "source": [
    "oversample = im.over_sampling.RandomOverSampler(sampling_strategy='minority')"
   ]
  },
  {
   "cell_type": "code",
   "execution_count": 141,
   "id": "f8be154e-cbe9-4d2b-8252-4c7999ba73e1",
   "metadata": {},
   "outputs": [],
   "source": [
    "X_over, y_over = oversample.fit_resample(X, y)"
   ]
  },
  {
   "cell_type": "code",
   "execution_count": 142,
   "id": "df1ca41d-75f2-4e90-ae7f-dd5a73907298",
   "metadata": {},
   "outputs": [],
   "source": [
    "X_train, X_test, y_train, y_test = train_test_split(X_over, y_over, stratify =y_over, random_state =5)"
   ]
  },
  {
   "cell_type": "code",
   "execution_count": 143,
   "id": "77f74559-ff82-4707-b6d7-f7d0f2e25862",
   "metadata": {},
   "outputs": [],
   "source": [
    "scaler = StandardScaler()\n",
    "X_train = scaler.fit_transform(X_train)\n",
    "X_test = scaler.transform(X_test)"
   ]
  },
  {
   "cell_type": "code",
   "execution_count": 144,
   "id": "bddea72e-93a2-470e-b80c-d9190091596f",
   "metadata": {},
   "outputs": [
    {
     "name": "stderr",
     "output_type": "stream",
     "text": [
      "C:\\Users\\dmarm\\AppData\\Local\\Temp\\ipykernel_21552\\754636821.py:2: DataConversionWarning: A column-vector y was passed when a 1d array was expected. Please change the shape of y to (n_samples,), for example using ravel().\n",
      "  rf8.fit(X_train, y_train)\n"
     ]
    },
    {
     "data": {
      "text/plain": [
       "RandomForestClassifier(n_estimators=10)"
      ]
     },
     "execution_count": 144,
     "metadata": {},
     "output_type": "execute_result"
    }
   ],
   "source": [
    "rf8 = RandomForestClassifier(n_estimators = 10)\n",
    "rf8.fit(X_train, y_train)"
   ]
  },
  {
   "cell_type": "code",
   "execution_count": 145,
   "id": "7fdd461c-325f-4254-a7d3-a8eff6dbdd4e",
   "metadata": {},
   "outputs": [
    {
     "data": {
      "text/plain": [
       "0.9903751233958539"
      ]
     },
     "execution_count": 145,
     "metadata": {},
     "output_type": "execute_result"
    }
   ],
   "source": [
    "rf8.score(X_train, y_train)"
   ]
  },
  {
   "cell_type": "code",
   "execution_count": 147,
   "id": "6c448b36-0d68-4ef5-81d7-6d7409b0f5d1",
   "metadata": {},
   "outputs": [
    {
     "data": {
      "text/plain": [
       "0.793558736426456"
      ]
     },
     "execution_count": 147,
     "metadata": {},
     "output_type": "execute_result"
    }
   ],
   "source": [
    "rf8.score(X_test, y_test)"
   ]
  },
  {
   "cell_type": "markdown",
   "id": "4284bad1-69b6-4068-8d9a-d0c8c68ca68e",
   "metadata": {},
   "source": [
    "This model is the least accurate and most overfit yet but still easily beats the 50% baseline."
   ]
  },
  {
   "cell_type": "code",
   "execution_count": 148,
   "id": "6913e0e6-cbb1-4a53-8652-a86767f80ad2",
   "metadata": {},
   "outputs": [],
   "source": [
    "importances = rf8.feature_importances_\n",
    "std = np.std([tree.feature_importances_ for tree in rf8.estimators_], axis=0)"
   ]
  },
  {
   "cell_type": "code",
   "execution_count": 149,
   "id": "e83c20f9-7563-45ff-848c-49da496d1854",
   "metadata": {},
   "outputs": [
    {
     "data": {
      "image/png": "[encoded data removed]",
      "text/plain": [
       "<Figure size 432x288 with 1 Axes>"
      ]
     },
     "metadata": {
      "needs_background": "light"
     },
     "output_type": "display_data"
    }
   ],
   "source": [
    "forest_importances = pd.Series(importances, index=feature_names)\n",
    "\n",
    "fig, ax = plt.subplots()\n",
    "forest_importances.plot.bar(yerr=std, ax=ax)\n",
    "ax.set_title(\"Feature importances using MDI\")\n",
    "ax.set_ylabel(\"Mean decrease in impurity\")\n",
    "fig.tight_layout()"
   ]
  },
  {
   "cell_type": "markdown",
   "id": "44c75c00-7248-4d76-ac27-7870b1074764",
   "metadata": {},
   "source": [
    "For splitters speed is the most important feature with zone a distant second."
   ]
  },
  {
   "cell_type": "markdown",
   "id": "23c649dc-dd40-4c70-8e60-e1c7bb286311",
   "metadata": {},
   "source": [
    "## Knuckleball"
   ]
  },
  {
   "cell_type": "code",
   "execution_count": 150,
   "id": "4e228325-6b2d-4330-89cf-b09ff7679ac4",
   "metadata": {},
   "outputs": [],
   "source": [
    "df9 = df.copy()"
   ]
  },
  {
   "cell_type": "code",
   "execution_count": 151,
   "id": "dea27c8c-4501-4ccd-a946-1ef75d0511a1",
   "metadata": {},
   "outputs": [],
   "source": [
    "df9 = df9[df9.pitch_name == 'Knuckleball']"
   ]
  },
  {
   "cell_type": "code",
   "execution_count": 152,
   "id": "42a8c537-9c81-4fe0-af74-e9bdce28362c",
   "metadata": {},
   "outputs": [],
   "source": [
    "z = df9[['spin_axis', 'release_speed', 'release_spin_rate', 'az', 'ay', 'ax', 'vz0', 'vy0', 'vx0', 'zone','pfx_x', 'pfx_z','description']]"
   ]
  },
  {
   "cell_type": "code",
   "execution_count": 153,
   "id": "8da5b68c-13ba-482a-9b83-e0cbdd2e3973",
   "metadata": {},
   "outputs": [
    {
     "name": "stderr",
     "output_type": "stream",
     "text": [
      "C:\\Users\\dmarm\\AppData\\Local\\Temp\\ipykernel_21552\\2385804610.py:1: SettingWithCopyWarning: \n",
      "A value is trying to be set on a copy of a slice from a DataFrame\n",
      "\n",
      "See the caveats in the documentation: https://pandas.pydata.org/pandas-docs/stable/user_guide/indexing.html#returning-a-view-versus-a-copy\n",
      "  z.dropna(inplace = True)\n"
     ]
    }
   ],
   "source": [
    "z.dropna(inplace = True)"
   ]
  },
  {
   "cell_type": "code",
   "execution_count": 154,
   "id": "8aeac879-95c1-4f59-a221-5d6dce1f2d89",
   "metadata": {},
   "outputs": [],
   "source": [
    "X = z[['spin_axis', 'release_speed', 'release_spin_rate', 'az', 'ay', 'ax', 'vz0', 'vy0', 'vx0', 'zone', 'pfx_x', 'pfx_z']]"
   ]
  },
  {
   "cell_type": "code",
   "execution_count": 155,
   "id": "7b0404c1-d229-4233-be25-2d5aa9f14258",
   "metadata": {},
   "outputs": [],
   "source": [
    "y = z[['description']]"
   ]
  },
  {
   "cell_type": "code",
   "execution_count": 156,
   "id": "1c9e7a78-6f4e-4d4c-9de4-530dede16ef1",
   "metadata": {},
   "outputs": [],
   "source": [
    "oversample = im.over_sampling.RandomOverSampler(sampling_strategy='minority')"
   ]
  },
  {
   "cell_type": "code",
   "execution_count": 157,
   "id": "5d3571f9-769c-422e-a3f7-7e51d050d433",
   "metadata": {},
   "outputs": [],
   "source": [
    "X_over, y_over = oversample.fit_resample(X, y)"
   ]
  },
  {
   "cell_type": "code",
   "execution_count": 158,
   "id": "bcd518f7-f259-4368-910f-c8f4a228ce56",
   "metadata": {},
   "outputs": [],
   "source": [
    "X_train, X_test, y_train, y_test = train_test_split(X_over, y_over, stratify =y_over, random_state =5)"
   ]
  },
  {
   "cell_type": "code",
   "execution_count": 159,
   "id": "d1a278a4-97ab-434f-9d6c-238ff39ff33c",
   "metadata": {},
   "outputs": [],
   "source": [
    "scaler = StandardScaler()\n",
    "X_train = scaler.fit_transform(X_train)\n",
    "X_test = scaler.transform(X_test)"
   ]
  },
  {
   "cell_type": "code",
   "execution_count": 160,
   "id": "05c51e7a-903d-42c0-a7b4-c77ddeba941b",
   "metadata": {},
   "outputs": [
    {
     "name": "stderr",
     "output_type": "stream",
     "text": [
      "C:\\Users\\dmarm\\AppData\\Local\\Temp\\ipykernel_21552\\3774098392.py:2: DataConversionWarning: A column-vector y was passed when a 1d array was expected. Please change the shape of y to (n_samples,), for example using ravel().\n",
      "  rf9.fit(X_train, y_train)\n"
     ]
    },
    {
     "data": {
      "text/plain": [
       "RandomForestClassifier(n_estimators=10)"
      ]
     },
     "execution_count": 160,
     "metadata": {},
     "output_type": "execute_result"
    }
   ],
   "source": [
    "rf9 = RandomForestClassifier(n_estimators = 10)\n",
    "rf9.fit(X_train, y_train)"
   ]
  },
  {
   "cell_type": "code",
   "execution_count": 161,
   "id": "a6bfac85-af78-4a09-b15d-1db83b5f5496",
   "metadata": {},
   "outputs": [
    {
     "data": {
      "text/plain": [
       "0.9942528735632183"
      ]
     },
     "execution_count": 161,
     "metadata": {},
     "output_type": "execute_result"
    }
   ],
   "source": [
    "rf9.score(X_train, y_train)"
   ]
  },
  {
   "cell_type": "code",
   "execution_count": 162,
   "id": "9e61adcb-f86f-40c9-afc5-459297178927",
   "metadata": {},
   "outputs": [
    {
     "data": {
      "text/plain": [
       "0.9137931034482759"
      ]
     },
     "execution_count": 162,
     "metadata": {},
     "output_type": "execute_result"
    }
   ],
   "source": [
    "rf9.score(X_test, y_test)"
   ]
  },
  {
   "cell_type": "markdown",
   "id": "8d8d0304-33b0-4364-a4f2-9948cac830e7",
   "metadata": {},
   "source": [
    "This model is accurate with only slight overfitting."
   ]
  },
  {
   "cell_type": "code",
   "execution_count": 166,
   "id": "dbd9bbea-215d-410e-befb-ff64f7f2a93a",
   "metadata": {},
   "outputs": [],
   "source": [
    "importances = rf9.feature_importances_\n",
    "std = np.std([tree.feature_importances_ for tree in rf9.estimators_], axis=0)"
   ]
  },
  {
   "cell_type": "code",
   "execution_count": 167,
   "id": "7aa442ba-8568-4925-9cef-f36ffe1b7384",
   "metadata": {},
   "outputs": [
    {
     "data": {
      "image/png": "[encoded data removed]",
      "text/plain": [
       "<Figure size 432x288 with 1 Axes>"
      ]
     },
     "metadata": {
      "needs_background": "light"
     },
     "output_type": "display_data"
    }
   ],
   "source": [
    "forest_importances = pd.Series(importances, index=feature_names)\n",
    "\n",
    "fig, ax = plt.subplots()\n",
    "forest_importances.plot.bar(yerr=std, ax=ax)\n",
    "ax.set_title(\"Feature importances using MDI\")\n",
    "ax.set_ylabel(\"Mean decrease in impurity\")\n",
    "fig.tight_layout()"
   ]
  },
  {
   "cell_type": "markdown",
   "id": "7bdaaaa3-a3c5-4426-9583-44152cf1164b",
   "metadata": {},
   "source": [
    "Speed is the most important factor followed by zone and vertical movement."
   ]
  },
  {
   "cell_type": "markdown",
   "id": "2b237850-dd2f-4a6e-ae7d-0e958936a5ff",
   "metadata": {},
   "source": [
    "For each pitch the random forest model had the highest accuracy. Notebook 4 and 5 contain the other models that were used. The README contains the conclusion and future work sections."
   ]
  }
 ],
 "metadata": {
  "kernelspec": {
   "display_name": "Python [conda env:GA]",
   "language": "python",
   "name": "conda-env-GA-py"
  },
  "language_info": {
   "codemirror_mode": {
    "name": "ipython",
    "version": 3
   },
   "file_extension": ".py",
   "mimetype": "text/x-python",
   "name": "python",
   "nbconvert_exporter": "python",
   "pygments_lexer": "ipython3",
   "version": "3.9.11"
  }
 },
 "nbformat": 4,
 "nbformat_minor": 5
}
