{
 "cells": [
  {
   "cell_type": "code",
   "execution_count": 1,
   "id": "2f633ca0-38c6-4b5f-b3db-e919eabe7bd6",
   "metadata": {},
   "outputs": [],
   "source": [
    "from pybaseball import statcast "
   ]
  },
  {
   "cell_type": "code",
   "execution_count": 2,
   "id": "b684f813-8826-4845-96f9-9abb0d72cadd",
   "metadata": {},
   "outputs": [
    {
     "name": "stdout",
     "output_type": "stream",
     "text": [
      "This is a large query, it may take a moment to complete\n"
     ]
    },
    {
     "name": "stderr",
     "output_type": "stream",
     "text": [
      "C:\\Users\\dmarm\\anaconda3\\envs\\GA\\lib\\site-packages\\pybaseball\\statcast.py:50: UserWarning: \n",
      "That's a nice request you got there. It'd be a shame if something were to happen to it.\n",
      "We strongly recommend that you enable caching before running this. It's as simple as `pybaseball.cache.enable()`.\n",
      "Since the Statcast requests can take a *really* long time to run, if something were to happen, like: a disconnect;\n",
      "gremlins; computer repair by associates of Rudy Giuliani; electromagnetic interference from metal trash cans; etc.;\n",
      "you could lose a lot of progress. Enabling caching will allow you to immediately recover all the successful\n",
      "subqueries if that happens.\n",
      "  warnings.warn(_OVERSIZE_WARNING)\n"
     ]
    },
    {
     "name": "stdout",
     "output_type": "stream",
     "text": [
      "Skipping offseason dates\n",
      "Skipping offseason dates\n",
      "Skipping offseason dates\n",
      "Skipping offseason dates\n",
      "Skipping offseason dates\n"
     ]
    },
    {
     "name": "stderr",
     "output_type": "stream",
     "text": [
      "100%|██████████| 982/982 [08:51<00:00,  1.85it/s]\n"
     ]
    }
   ],
   "source": [
    "data = statcast(start_dt='2017-04-01', end_dt='2021-11-01')"
   ]
  },
  {
   "cell_type": "code",
   "execution_count": 15,
   "id": "726a3210-fb05-45c5-9abd-05440e3f1212",
   "metadata": {},
   "outputs": [],
   "source": [
    "df = data"
   ]
  },
  {
   "cell_type": "code",
   "execution_count": null,
   "id": "18c4e5f8-f19e-42aa-b824-698390d8d6d1",
   "metadata": {},
   "outputs": [],
   "source": [
    "df.to_pickle(\"./dummy.pkl\")  "
   ]
  },
  {
   "cell_type": "code",
   "execution_count": 47,
   "id": "037641a4-14ef-4a34-be1f-62c7d6062c1d",
   "metadata": {},
   "outputs": [],
   "source": [
    "infile = open('dummy.pkl','rb')\n",
    "df = pickle.load(infile)\n",
    "infile.close()"
   ]
  },
  {
   "cell_type": "code",
   "execution_count": 1,
   "id": "212a943b-ffc5-4d7d-b402-0c6bca6ec355",
   "metadata": {},
   "outputs": [],
   "source": [
    "import pickle"
   ]
  },
  {
   "cell_type": "code",
   "execution_count": 3,
   "id": "fdec79e7-6410-4817-b80d-81c4ce766f1a",
   "metadata": {},
   "outputs": [],
   "source": [
    "df = new_dict"
   ]
  },
  {
   "cell_type": "code",
   "execution_count": 14,
   "id": "f3b68539-cce6-4120-99d8-5a45d523de69",
   "metadata": {},
   "outputs": [],
   "source": [
    "blanks = df.isnull().sum()"
   ]
  },
  {
   "cell_type": "code",
   "execution_count": 16,
   "id": "a6254007-b05e-42d5-9252-41293993a4b7",
   "metadata": {},
   "outputs": [],
   "source": [
    "blanks =blanks/3266761"
   ]
  },
  {
   "cell_type": "code",
   "execution_count": 5,
   "id": "976aab26-9652-4603-9678-25c72cbff91e",
   "metadata": {},
   "outputs": [],
   "source": [
    "import pandas as pd \n",
    "from plotnine import ggplot, aes, geom_bar, geom_point, geom_histogram, geom_boxplot"
   ]
  },
  {
   "cell_type": "code",
   "execution_count": 21,
   "id": "6a2befa1-696e-42c5-a652-2695d921d222",
   "metadata": {},
   "outputs": [],
   "source": [
    "blanks = pd.DataFrame(blanks)"
   ]
  },
  {
   "cell_type": "code",
   "execution_count": 29,
   "id": "c07d501f-5afe-4216-b36a-fdc97afaaccc",
   "metadata": {},
   "outputs": [
    {
     "data": {
      "text/html": [
       "<div>\n",
       "<style scoped>\n",
       "    .dataframe tbody tr th:only-of-type {\n",
       "        vertical-align: middle;\n",
       "    }\n",
       "\n",
       "    .dataframe tbody tr th {\n",
       "        vertical-align: top;\n",
       "    }\n",
       "\n",
       "    .dataframe thead th {\n",
       "        text-align: right;\n",
       "    }\n",
       "</style>\n",
       "<table border=\"1\" class=\"dataframe\">\n",
       "  <thead>\n",
       "    <tr style=\"text-align: right;\">\n",
       "      <th></th>\n",
       "      <th>0</th>\n",
       "    </tr>\n",
       "  </thead>\n",
       "  <tbody>\n",
       "    <tr>\n",
       "      <th>umpire</th>\n",
       "      <td>1.000000</td>\n",
       "    </tr>\n",
       "    <tr>\n",
       "      <th>spin_dir</th>\n",
       "      <td>1.000000</td>\n",
       "    </tr>\n",
       "    <tr>\n",
       "      <th>sv_id</th>\n",
       "      <td>1.000000</td>\n",
       "    </tr>\n",
       "    <tr>\n",
       "      <th>break_angle_deprecated</th>\n",
       "      <td>1.000000</td>\n",
       "    </tr>\n",
       "    <tr>\n",
       "      <th>spin_rate_deprecated</th>\n",
       "      <td>1.000000</td>\n",
       "    </tr>\n",
       "    <tr>\n",
       "      <th>break_length_deprecated</th>\n",
       "      <td>1.000000</td>\n",
       "    </tr>\n",
       "    <tr>\n",
       "      <th>tfs_zulu_deprecated</th>\n",
       "      <td>1.000000</td>\n",
       "    </tr>\n",
       "    <tr>\n",
       "      <th>tfs_deprecated</th>\n",
       "      <td>1.000000</td>\n",
       "    </tr>\n",
       "    <tr>\n",
       "      <th>on_3b</th>\n",
       "      <td>0.906621</td>\n",
       "    </tr>\n",
       "    <tr>\n",
       "      <th>estimated_woba_using_speedangle</th>\n",
       "      <td>0.831008</td>\n",
       "    </tr>\n",
       "  </tbody>\n",
       "</table>\n",
       "</div>"
      ],
      "text/plain": [
       "                                        0\n",
       "umpire                           1.000000\n",
       "spin_dir                         1.000000\n",
       "sv_id                            1.000000\n",
       "break_angle_deprecated           1.000000\n",
       "spin_rate_deprecated             1.000000\n",
       "break_length_deprecated          1.000000\n",
       "tfs_zulu_deprecated              1.000000\n",
       "tfs_deprecated                   1.000000\n",
       "on_3b                            0.906621\n",
       "estimated_woba_using_speedangle  0.831008"
      ]
     },
     "execution_count": 29,
     "metadata": {},
     "output_type": "execute_result"
    }
   ],
   "source": [
    "blanks.sort_values(0, ascending=False).head(10)"
   ]
  },
  {
   "cell_type": "code",
   "execution_count": 30,
   "id": "51c22876-988f-44d7-bb70-b2761bc75538",
   "metadata": {},
   "outputs": [
    {
     "data": {
      "text/html": [
       "<div>\n",
       "<style scoped>\n",
       "    .dataframe tbody tr th:only-of-type {\n",
       "        vertical-align: middle;\n",
       "    }\n",
       "\n",
       "    .dataframe tbody tr th {\n",
       "        vertical-align: top;\n",
       "    }\n",
       "\n",
       "    .dataframe thead th {\n",
       "        text-align: right;\n",
       "    }\n",
       "</style>\n",
       "<table border=\"1\" class=\"dataframe\">\n",
       "  <thead>\n",
       "    <tr style=\"text-align: right;\">\n",
       "      <th></th>\n",
       "      <th>0</th>\n",
       "    </tr>\n",
       "  </thead>\n",
       "  <tbody>\n",
       "    <tr>\n",
       "      <th>pitch_number</th>\n",
       "      <td>0.0</td>\n",
       "    </tr>\n",
       "    <tr>\n",
       "      <th>fielder_2</th>\n",
       "      <td>0.0</td>\n",
       "    </tr>\n",
       "    <tr>\n",
       "      <th>game_pk</th>\n",
       "      <td>0.0</td>\n",
       "    </tr>\n",
       "    <tr>\n",
       "      <th>balls</th>\n",
       "      <td>0.0</td>\n",
       "    </tr>\n",
       "    <tr>\n",
       "      <th>strikes</th>\n",
       "      <td>0.0</td>\n",
       "    </tr>\n",
       "    <tr>\n",
       "      <th>game_year</th>\n",
       "      <td>0.0</td>\n",
       "    </tr>\n",
       "    <tr>\n",
       "      <th>at_bat_number</th>\n",
       "      <td>0.0</td>\n",
       "    </tr>\n",
       "    <tr>\n",
       "      <th>fielder_9</th>\n",
       "      <td>0.0</td>\n",
       "    </tr>\n",
       "    <tr>\n",
       "      <th>type</th>\n",
       "      <td>0.0</td>\n",
       "    </tr>\n",
       "    <tr>\n",
       "      <th>fielder_8</th>\n",
       "      <td>0.0</td>\n",
       "    </tr>\n",
       "  </tbody>\n",
       "</table>\n",
       "</div>"
      ],
      "text/plain": [
       "                 0\n",
       "pitch_number   0.0\n",
       "fielder_2      0.0\n",
       "game_pk        0.0\n",
       "balls          0.0\n",
       "strikes        0.0\n",
       "game_year      0.0\n",
       "at_bat_number  0.0\n",
       "fielder_9      0.0\n",
       "type           0.0\n",
       "fielder_8      0.0"
      ]
     },
     "execution_count": 30,
     "metadata": {},
     "output_type": "execute_result"
    }
   ],
   "source": [
    "blanks.sort_values(0, ascending=True).head(10)"
   ]
  },
  {
   "cell_type": "code",
   "execution_count": 5,
   "id": "5381f4e5-c408-40aa-9759-90ca4155ea01",
   "metadata": {},
   "outputs": [],
   "source": [
    "df.drop(columns = ['umpire', 'spin_dir', 'sv_id', 'break_angle_deprecated', 'spin_rate_deprecated', 'break_length_deprecated', 'tfs_zulu_deprecated', 'tfs_deprecated'], inplace = True)"
   ]
  },
  {
   "cell_type": "markdown",
   "id": "ccc1a304-1fbe-43c0-a41a-965433796778",
   "metadata": {},
   "source": [
    "these columns are 100% NAs "
   ]
  },
  {
   "cell_type": "code",
   "execution_count": 35,
   "id": "e28e32b9-764a-4801-a731-e8287ffe9110",
   "metadata": {},
   "outputs": [],
   "source": [
    "blanks = df.isnull().sum()"
   ]
  },
  {
   "cell_type": "code",
   "execution_count": 36,
   "id": "292c351b-67c0-41c8-a6c7-c3def609e6c7",
   "metadata": {},
   "outputs": [],
   "source": [
    "blanks =blanks/3266761"
   ]
  },
  {
   "cell_type": "code",
   "execution_count": 37,
   "id": "40eaf23d-c4cb-4b41-b988-35428e50215c",
   "metadata": {},
   "outputs": [
    {
     "name": "stderr",
     "output_type": "stream",
     "text": [
      "C:\\Users\\dmarm\\AppData\\Local\\Temp\\ipykernel_28924\\3981478078.py:1: FutureWarning: In a future version of pandas all arguments of Series.sort_values will be keyword-only.\n"
     ]
    },
    {
     "data": {
      "text/plain": [
       "on_3b                              0.906621\n",
       "launch_speed_angle                 0.831008\n",
       "estimated_ba_using_speedangle      0.831008\n",
       "estimated_woba_using_speedangle    0.831008\n",
       "hc_y                               0.828301\n",
       "hc_x                               0.828301\n",
       "bb_type                            0.825470\n",
       "on_2b                              0.814877\n",
       "hit_location                       0.775774\n",
       "woba_denom                         0.751912\n",
       "dtype: float64"
      ]
     },
     "execution_count": 37,
     "metadata": {},
     "output_type": "execute_result"
    }
   ],
   "source": [
    "blanks.sort_values(0, ascending=False).head(10)"
   ]
  },
  {
   "cell_type": "code",
   "execution_count": 38,
   "id": "7eb7bf8a-2c69-4685-8078-f8582296d440",
   "metadata": {},
   "outputs": [
    {
     "data": {
      "text/plain": [
       "FF    1133690\n",
       "SI     576878\n",
       "SL     564186\n",
       "CH     344876\n",
       "CU     269397\n",
       "FC     198784\n",
       "KC      79866\n",
       "FS      50149\n",
       "KN       3628\n",
       "FA       1545\n",
       "CS        659\n",
       "EP        526\n",
       "FO        367\n",
       "PO        202\n",
       "SC         77\n",
       "Name: pitch_type, dtype: int64"
      ]
     },
     "execution_count": 38,
     "metadata": {},
     "output_type": "execute_result"
    }
   ],
   "source": [
    "df['pitch_type'].value_counts()"
   ]
  },
  {
   "cell_type": "code",
   "execution_count": 43,
   "id": "e5b269b3-0160-4a88-a078-74c182cc406c",
   "metadata": {},
   "outputs": [
    {
     "data": {
      "text/plain": [
       "41931"
      ]
     },
     "execution_count": 43,
     "metadata": {},
     "output_type": "execute_result"
    }
   ],
   "source": [
    "df['pitch_type'].isnull().sum()"
   ]
  },
  {
   "cell_type": "code",
   "execution_count": 66,
   "id": "862586ea-dd9c-47cf-9dd0-672779c0c893",
   "metadata": {},
   "outputs": [
    {
     "data": {
      "text/plain": [
       "ball                       1096247\n",
       "hit_into_play               570196\n",
       "foul                        569110\n",
       "called_strike               542171\n",
       "swinging_strike             338803\n",
       "blocked_ball                 77878\n",
       "foul_tip                     28758\n",
       "swinging_strike_blocked      24731\n",
       "hit_by_pitch                  9066\n",
       "foul_bunt                     7680\n",
       "missed_bunt                   1644\n",
       "pitchout                       316\n",
       "bunt_foul_tip                  158\n",
       "foul_pitchout                    2\n",
       "swinging_pitchout                1\n",
       "Name: description, dtype: int64"
      ]
     },
     "execution_count": 66,
     "metadata": {},
     "output_type": "execute_result"
    }
   ],
   "source": [
    "df['description'].value_counts()"
   ]
  },
  {
   "cell_type": "code",
   "execution_count": 67,
   "id": "84cc8977-0ddc-45b3-8aec-f1e6fc2d8110",
   "metadata": {},
   "outputs": [
    {
     "data": {
      "text/plain": [
       "0"
      ]
     },
     "execution_count": 67,
     "metadata": {},
     "output_type": "execute_result"
    }
   ],
   "source": [
    "df['description'].isnull().sum()"
   ]
  },
  {
   "cell_type": "code",
   "execution_count": 68,
   "id": "6ccf4c3f-ecee-4c01-8b27-89f4fc17df8e",
   "metadata": {},
   "outputs": [
    {
     "data": {
      "text/plain": [
       "14    616844\n",
       "13    426664\n",
       "11    345953\n",
       "12    267997\n",
       "5     233910\n",
       "8     201824\n",
       "6     197017\n",
       "4     192533\n",
       "9     184423\n",
       "7     157602\n",
       "2     150810\n",
       "1     127609\n",
       "3     116146\n",
       "Name: zone, dtype: Int64"
      ]
     },
     "execution_count": 68,
     "metadata": {},
     "output_type": "execute_result"
    }
   ],
   "source": [
    "df['zone'].value_counts()"
   ]
  },
  {
   "cell_type": "code",
   "execution_count": 6,
   "id": "86090df0-453b-4573-8433-5720f1e4f2c8",
   "metadata": {},
   "outputs": [],
   "source": [
    "df.drop(columns = ['fielder_2.1','fielder_3','fielder_4','fielder_5','fielder_6','fielder_7','fielder_8','fielder_9', 'game_date'], inplace = True)"
   ]
  },
  {
   "cell_type": "code",
   "execution_count": 24,
   "id": "e69b5fde-d1e1-427e-a32f-b7880cb198a1",
   "metadata": {},
   "outputs": [],
   "source": [
    "df.to_pickle(\"./dummy.pkl\")  "
   ]
  },
  {
   "cell_type": "code",
   "execution_count": 7,
   "id": "5b1d2c3d-7d37-450e-b27c-4915781d3a46",
   "metadata": {},
   "outputs": [],
   "source": [
    "df1 = df #pitchsuccess "
   ]
  },
  {
   "cell_type": "code",
   "execution_count": 8,
   "id": "7b481732-44c3-41a8-909e-4bcfb97605c4",
   "metadata": {},
   "outputs": [],
   "source": [
    "df2 = df # pitchpredict"
   ]
  },
  {
   "cell_type": "code",
   "execution_count": 9,
   "id": "9216f785-dd35-4360-9761-35e38764c7ce",
   "metadata": {},
   "outputs": [],
   "source": [
    "df1 = df1.drop(columns = ['delta_run_exp', 'delta_home_win_exp', 'post_fld_score', 'post_bat_score', 'post_home_score', 'post_away_score', 'fld_score', 'bat_score', 'away_score', 'home_score'], inplace = True)"
   ]
  },
  {
   "cell_type": "code",
   "execution_count": 21,
   "id": "da0b9bbb-f17f-472f-8572-651e8ca21157",
   "metadata": {},
   "outputs": [
    {
     "ename": "KeyError",
     "evalue": "\"['delta_run_exp', 'delta_home_win_exp', 'post_fld_score', 'post_bat_score', 'post_home_score', 'post_away_score', 'fld_score', 'bat_score', 'away_score', 'home_score'] not found in axis\"",
     "output_type": "error",
     "traceback": [
      "\u001b[1;31m---------------------------------------------------------------------------\u001b[0m",
      "\u001b[1;31mKeyError\u001b[0m                                  Traceback (most recent call last)",
      "Input \u001b[1;32mIn [21]\u001b[0m, in \u001b[0;36m<cell line: 1>\u001b[1;34m()\u001b[0m\n\u001b[1;32m----> 1\u001b[0m \u001b[43mdf1\u001b[49m\u001b[38;5;241;43m.\u001b[39;49m\u001b[43mdrop\u001b[49m\u001b[43m(\u001b[49m\u001b[43mcolumns\u001b[49m\u001b[43m \u001b[49m\u001b[38;5;241;43m=\u001b[39;49m\u001b[43m \u001b[49m\u001b[43m[\u001b[49m\u001b[38;5;124;43m'\u001b[39;49m\u001b[38;5;124;43mdelta_run_exp\u001b[39;49m\u001b[38;5;124;43m'\u001b[39;49m\u001b[43m,\u001b[49m\u001b[43m \u001b[49m\u001b[38;5;124;43m'\u001b[39;49m\u001b[38;5;124;43mdelta_home_win_exp\u001b[39;49m\u001b[38;5;124;43m'\u001b[39;49m\u001b[43m,\u001b[49m\u001b[43m \u001b[49m\u001b[38;5;124;43m'\u001b[39;49m\u001b[38;5;124;43mpost_fld_score\u001b[39;49m\u001b[38;5;124;43m'\u001b[39;49m\u001b[43m,\u001b[49m\u001b[43m \u001b[49m\u001b[38;5;124;43m'\u001b[39;49m\u001b[38;5;124;43mpost_bat_score\u001b[39;49m\u001b[38;5;124;43m'\u001b[39;49m\u001b[43m,\u001b[49m\u001b[43m \u001b[49m\u001b[38;5;124;43m'\u001b[39;49m\u001b[38;5;124;43mpost_home_score\u001b[39;49m\u001b[38;5;124;43m'\u001b[39;49m\u001b[43m,\u001b[49m\u001b[43m \u001b[49m\u001b[38;5;124;43m'\u001b[39;49m\u001b[38;5;124;43mpost_away_score\u001b[39;49m\u001b[38;5;124;43m'\u001b[39;49m\u001b[43m,\u001b[49m\u001b[43m \u001b[49m\u001b[38;5;124;43m'\u001b[39;49m\u001b[38;5;124;43mfld_score\u001b[39;49m\u001b[38;5;124;43m'\u001b[39;49m\u001b[43m,\u001b[49m\u001b[43m \u001b[49m\u001b[38;5;124;43m'\u001b[39;49m\u001b[38;5;124;43mbat_score\u001b[39;49m\u001b[38;5;124;43m'\u001b[39;49m\u001b[43m,\u001b[49m\u001b[43m \u001b[49m\u001b[38;5;124;43m'\u001b[39;49m\u001b[38;5;124;43maway_score\u001b[39;49m\u001b[38;5;124;43m'\u001b[39;49m\u001b[43m,\u001b[49m\u001b[43m \u001b[49m\u001b[38;5;124;43m'\u001b[39;49m\u001b[38;5;124;43mhome_score\u001b[39;49m\u001b[38;5;124;43m'\u001b[39;49m\u001b[43m]\u001b[49m\u001b[43m,\u001b[49m\u001b[43m \u001b[49m\u001b[43minplace\u001b[49m\u001b[43m \u001b[49m\u001b[38;5;241;43m=\u001b[39;49m\u001b[43m \u001b[49m\u001b[38;5;28;43;01mTrue\u001b[39;49;00m\u001b[43m)\u001b[49m\n",
      "File \u001b[1;32m~\\anaconda3\\envs\\GA\\lib\\site-packages\\pandas\\util\\_decorators.py:311\u001b[0m, in \u001b[0;36mdeprecate_nonkeyword_arguments.<locals>.decorate.<locals>.wrapper\u001b[1;34m(*args, **kwargs)\u001b[0m\n\u001b[0;32m    305\u001b[0m \u001b[38;5;28;01mif\u001b[39;00m \u001b[38;5;28mlen\u001b[39m(args) \u001b[38;5;241m>\u001b[39m num_allow_args:\n\u001b[0;32m    306\u001b[0m     warnings\u001b[38;5;241m.\u001b[39mwarn(\n\u001b[0;32m    307\u001b[0m         msg\u001b[38;5;241m.\u001b[39mformat(arguments\u001b[38;5;241m=\u001b[39marguments),\n\u001b[0;32m    308\u001b[0m         \u001b[38;5;167;01mFutureWarning\u001b[39;00m,\n\u001b[0;32m    309\u001b[0m         stacklevel\u001b[38;5;241m=\u001b[39mstacklevel,\n\u001b[0;32m    310\u001b[0m     )\n\u001b[1;32m--> 311\u001b[0m \u001b[38;5;28;01mreturn\u001b[39;00m func(\u001b[38;5;241m*\u001b[39margs, \u001b[38;5;241m*\u001b[39m\u001b[38;5;241m*\u001b[39mkwargs)\n",
      "File \u001b[1;32m~\\anaconda3\\envs\\GA\\lib\\site-packages\\pandas\\core\\frame.py:4948\u001b[0m, in \u001b[0;36mDataFrame.drop\u001b[1;34m(self, labels, axis, index, columns, level, inplace, errors)\u001b[0m\n\u001b[0;32m   4800\u001b[0m \u001b[38;5;129m@deprecate_nonkeyword_arguments\u001b[39m(version\u001b[38;5;241m=\u001b[39m\u001b[38;5;28;01mNone\u001b[39;00m, allowed_args\u001b[38;5;241m=\u001b[39m[\u001b[38;5;124m\"\u001b[39m\u001b[38;5;124mself\u001b[39m\u001b[38;5;124m\"\u001b[39m, \u001b[38;5;124m\"\u001b[39m\u001b[38;5;124mlabels\u001b[39m\u001b[38;5;124m\"\u001b[39m])\n\u001b[0;32m   4801\u001b[0m \u001b[38;5;28;01mdef\u001b[39;00m \u001b[38;5;21mdrop\u001b[39m(\n\u001b[0;32m   4802\u001b[0m     \u001b[38;5;28mself\u001b[39m,\n\u001b[1;32m   (...)\u001b[0m\n\u001b[0;32m   4809\u001b[0m     errors: \u001b[38;5;28mstr\u001b[39m \u001b[38;5;241m=\u001b[39m \u001b[38;5;124m\"\u001b[39m\u001b[38;5;124mraise\u001b[39m\u001b[38;5;124m\"\u001b[39m,\n\u001b[0;32m   4810\u001b[0m ):\n\u001b[0;32m   4811\u001b[0m     \u001b[38;5;124;03m\"\"\"\u001b[39;00m\n\u001b[0;32m   4812\u001b[0m \u001b[38;5;124;03m    Drop specified labels from rows or columns.\u001b[39;00m\n\u001b[0;32m   4813\u001b[0m \n\u001b[1;32m   (...)\u001b[0m\n\u001b[0;32m   4946\u001b[0m \u001b[38;5;124;03m            weight  1.0     0.8\u001b[39;00m\n\u001b[0;32m   4947\u001b[0m \u001b[38;5;124;03m    \"\"\"\u001b[39;00m\n\u001b[1;32m-> 4948\u001b[0m     \u001b[38;5;28;01mreturn\u001b[39;00m \u001b[38;5;28;43msuper\u001b[39;49m\u001b[43m(\u001b[49m\u001b[43m)\u001b[49m\u001b[38;5;241;43m.\u001b[39;49m\u001b[43mdrop\u001b[49m\u001b[43m(\u001b[49m\n\u001b[0;32m   4949\u001b[0m \u001b[43m        \u001b[49m\u001b[43mlabels\u001b[49m\u001b[38;5;241;43m=\u001b[39;49m\u001b[43mlabels\u001b[49m\u001b[43m,\u001b[49m\n\u001b[0;32m   4950\u001b[0m \u001b[43m        \u001b[49m\u001b[43maxis\u001b[49m\u001b[38;5;241;43m=\u001b[39;49m\u001b[43maxis\u001b[49m\u001b[43m,\u001b[49m\n\u001b[0;32m   4951\u001b[0m \u001b[43m        \u001b[49m\u001b[43mindex\u001b[49m\u001b[38;5;241;43m=\u001b[39;49m\u001b[43mindex\u001b[49m\u001b[43m,\u001b[49m\n\u001b[0;32m   4952\u001b[0m \u001b[43m        \u001b[49m\u001b[43mcolumns\u001b[49m\u001b[38;5;241;43m=\u001b[39;49m\u001b[43mcolumns\u001b[49m\u001b[43m,\u001b[49m\n\u001b[0;32m   4953\u001b[0m \u001b[43m        \u001b[49m\u001b[43mlevel\u001b[49m\u001b[38;5;241;43m=\u001b[39;49m\u001b[43mlevel\u001b[49m\u001b[43m,\u001b[49m\n\u001b[0;32m   4954\u001b[0m \u001b[43m        \u001b[49m\u001b[43minplace\u001b[49m\u001b[38;5;241;43m=\u001b[39;49m\u001b[43minplace\u001b[49m\u001b[43m,\u001b[49m\n\u001b[0;32m   4955\u001b[0m \u001b[43m        \u001b[49m\u001b[43merrors\u001b[49m\u001b[38;5;241;43m=\u001b[39;49m\u001b[43merrors\u001b[49m\u001b[43m,\u001b[49m\n\u001b[0;32m   4956\u001b[0m \u001b[43m    \u001b[49m\u001b[43m)\u001b[49m\n",
      "File \u001b[1;32m~\\anaconda3\\envs\\GA\\lib\\site-packages\\pandas\\core\\generic.py:4279\u001b[0m, in \u001b[0;36mNDFrame.drop\u001b[1;34m(self, labels, axis, index, columns, level, inplace, errors)\u001b[0m\n\u001b[0;32m   4277\u001b[0m \u001b[38;5;28;01mfor\u001b[39;00m axis, labels \u001b[38;5;129;01min\u001b[39;00m axes\u001b[38;5;241m.\u001b[39mitems():\n\u001b[0;32m   4278\u001b[0m     \u001b[38;5;28;01mif\u001b[39;00m labels \u001b[38;5;129;01mis\u001b[39;00m \u001b[38;5;129;01mnot\u001b[39;00m \u001b[38;5;28;01mNone\u001b[39;00m:\n\u001b[1;32m-> 4279\u001b[0m         obj \u001b[38;5;241m=\u001b[39m \u001b[43mobj\u001b[49m\u001b[38;5;241;43m.\u001b[39;49m\u001b[43m_drop_axis\u001b[49m\u001b[43m(\u001b[49m\u001b[43mlabels\u001b[49m\u001b[43m,\u001b[49m\u001b[43m \u001b[49m\u001b[43maxis\u001b[49m\u001b[43m,\u001b[49m\u001b[43m \u001b[49m\u001b[43mlevel\u001b[49m\u001b[38;5;241;43m=\u001b[39;49m\u001b[43mlevel\u001b[49m\u001b[43m,\u001b[49m\u001b[43m \u001b[49m\u001b[43merrors\u001b[49m\u001b[38;5;241;43m=\u001b[39;49m\u001b[43merrors\u001b[49m\u001b[43m)\u001b[49m\n\u001b[0;32m   4281\u001b[0m \u001b[38;5;28;01mif\u001b[39;00m inplace:\n\u001b[0;32m   4282\u001b[0m     \u001b[38;5;28mself\u001b[39m\u001b[38;5;241m.\u001b[39m_update_inplace(obj)\n",
      "File \u001b[1;32m~\\anaconda3\\envs\\GA\\lib\\site-packages\\pandas\\core\\generic.py:4323\u001b[0m, in \u001b[0;36mNDFrame._drop_axis\u001b[1;34m(self, labels, axis, level, errors, consolidate, only_slice)\u001b[0m\n\u001b[0;32m   4321\u001b[0m         new_axis \u001b[38;5;241m=\u001b[39m axis\u001b[38;5;241m.\u001b[39mdrop(labels, level\u001b[38;5;241m=\u001b[39mlevel, errors\u001b[38;5;241m=\u001b[39merrors)\n\u001b[0;32m   4322\u001b[0m     \u001b[38;5;28;01melse\u001b[39;00m:\n\u001b[1;32m-> 4323\u001b[0m         new_axis \u001b[38;5;241m=\u001b[39m \u001b[43maxis\u001b[49m\u001b[38;5;241;43m.\u001b[39;49m\u001b[43mdrop\u001b[49m\u001b[43m(\u001b[49m\u001b[43mlabels\u001b[49m\u001b[43m,\u001b[49m\u001b[43m \u001b[49m\u001b[43merrors\u001b[49m\u001b[38;5;241;43m=\u001b[39;49m\u001b[43merrors\u001b[49m\u001b[43m)\u001b[49m\n\u001b[0;32m   4324\u001b[0m     indexer \u001b[38;5;241m=\u001b[39m axis\u001b[38;5;241m.\u001b[39mget_indexer(new_axis)\n\u001b[0;32m   4326\u001b[0m \u001b[38;5;66;03m# Case for non-unique axis\u001b[39;00m\n\u001b[0;32m   4327\u001b[0m \u001b[38;5;28;01melse\u001b[39;00m:\n",
      "File \u001b[1;32m~\\anaconda3\\envs\\GA\\lib\\site-packages\\pandas\\core\\indexes\\base.py:6644\u001b[0m, in \u001b[0;36mIndex.drop\u001b[1;34m(self, labels, errors)\u001b[0m\n\u001b[0;32m   6642\u001b[0m \u001b[38;5;28;01mif\u001b[39;00m mask\u001b[38;5;241m.\u001b[39many():\n\u001b[0;32m   6643\u001b[0m     \u001b[38;5;28;01mif\u001b[39;00m errors \u001b[38;5;241m!=\u001b[39m \u001b[38;5;124m\"\u001b[39m\u001b[38;5;124mignore\u001b[39m\u001b[38;5;124m\"\u001b[39m:\n\u001b[1;32m-> 6644\u001b[0m         \u001b[38;5;28;01mraise\u001b[39;00m \u001b[38;5;167;01mKeyError\u001b[39;00m(\u001b[38;5;124mf\u001b[39m\u001b[38;5;124m\"\u001b[39m\u001b[38;5;132;01m{\u001b[39;00m\u001b[38;5;28mlist\u001b[39m(labels[mask])\u001b[38;5;132;01m}\u001b[39;00m\u001b[38;5;124m not found in axis\u001b[39m\u001b[38;5;124m\"\u001b[39m)\n\u001b[0;32m   6645\u001b[0m     indexer \u001b[38;5;241m=\u001b[39m indexer[\u001b[38;5;241m~\u001b[39mmask]\n\u001b[0;32m   6646\u001b[0m \u001b[38;5;28;01mreturn\u001b[39;00m \u001b[38;5;28mself\u001b[39m\u001b[38;5;241m.\u001b[39mdelete(indexer)\n",
      "\u001b[1;31mKeyError\u001b[0m: \"['delta_run_exp', 'delta_home_win_exp', 'post_fld_score', 'post_bat_score', 'post_home_score', 'post_away_score', 'fld_score', 'bat_score', 'away_score', 'home_score'] not found in axis\""
     ]
    }
   ],
   "source": [
    "df1.drop(columns = ['delta_run_exp', 'delta_home_win_exp', 'post_fld_score', 'post_bat_score', 'post_home_score', 'post_away_score', 'fld_score', 'bat_score', 'away_score', 'home_score'], inplace = True)"
   ]
  },
  {
   "cell_type": "code",
   "execution_count": 49,
   "id": "92ec02ec-263d-48c9-8b9b-c1ca3b1818cd",
   "metadata": {},
   "outputs": [],
   "source": [
    "df1 =df.copy()"
   ]
  },
  {
   "cell_type": "code",
   "execution_count": 26,
   "id": "a7fb5e56-013e-49d6-a2d7-0e8f251fb306",
   "metadata": {},
   "outputs": [],
   "source": [
    "df2 =df.copy()"
   ]
  },
  {
   "cell_type": "code",
   "execution_count": 30,
   "id": "affa23e7-23b1-4022-9f43-7b7a38a9bb5f",
   "metadata": {},
   "outputs": [],
   "source": [
    "df1.drop(columns = ['pitch_name'], inplace = True) "
   ]
  },
  {
   "cell_type": "code",
   "execution_count": 34,
   "id": "b01cc8ac-7d8a-4c01-885f-77b6c7ced60a",
   "metadata": {},
   "outputs": [],
   "source": [
    "df2.drop(columns = ['spin_axis', 'pitch_name', 'launch_speed_angle', 'iso_value', 'babip_value', 'woba_denom', 'woba_value', 'estimated_woba_using_speedangle', 'estimated_ba_using_speedangle', 'release_pos_y', 'release_extension', 'release_spin_rate', 'effective_speed', 'launch_angle', 'launch_speed', 'hit_distance_sc', 'sz_bot', 'sz_top', 'az', 'ay', 'ax', 'vz0', 'vy0', 'vx0', 'fielder_2'], inplace = True)"
   ]
  },
  {
   "cell_type": "code",
   "execution_count": 51,
   "id": "976c1c13-30e9-41a3-a0c9-099716a07411",
   "metadata": {},
   "outputs": [
    {
     "data": {
      "text/plain": [
       "pitch_type               41931\n",
       "release_speed            47364\n",
       "release_pos_x            47639\n",
       "release_pos_z            47639\n",
       "player_name                  0\n",
       "                         ...  \n",
       "pitch_number                 0\n",
       "pitch_name               41931\n",
       "if_fielding_alignment    50318\n",
       "of_fielding_alignment    50318\n",
       "spin_axis                51403\n",
       "Length: 65, dtype: int64"
      ]
     },
     "execution_count": 51,
     "metadata": {},
     "output_type": "execute_result"
    }
   ],
   "source": [
    "df1.isnull().sum()"
   ]
  },
  {
   "cell_type": "code",
   "execution_count": 53,
   "id": "07f762f9-8023-44be-8c1c-803d8ab42952",
   "metadata": {},
   "outputs": [],
   "source": [
    "df1.dropna(subset = ['pitch_type'], inplace = True)"
   ]
  },
  {
   "cell_type": "code",
   "execution_count": 54,
   "id": "15b98984-9e35-4ff5-a503-724545d40704",
   "metadata": {},
   "outputs": [
    {
     "data": {
      "text/plain": [
       "4-Seam Fastball    1133690\n",
       "Sinker              576878\n",
       "Slider              564186\n",
       "Changeup            344876\n",
       "Curveball           270056\n",
       "Cutter              198784\n",
       "Knuckle Curve        79866\n",
       "Split-Finger         50149\n",
       "Knuckleball           3628\n",
       "Fastball              1545\n",
       "Eephus                 526\n",
       "Forkball               367\n",
       "Pitch Out              202\n",
       "Screwball               77\n",
       "Name: pitch_name, dtype: int64"
      ]
     },
     "execution_count": 54,
     "metadata": {},
     "output_type": "execute_result"
    }
   ],
   "source": [
    "df1['pitch_name'].value_counts()"
   ]
  },
  {
   "cell_type": "code",
   "execution_count": 60,
   "id": "94198450-dfe9-44c8-af95-82613caa92b5",
   "metadata": {},
   "outputs": [],
   "source": [
    "df3 = df1.copy()"
   ]
  },
  {
   "cell_type": "code",
   "execution_count": 61,
   "id": "38ad7c3d-d461-4fef-8b2e-929c663f0739",
   "metadata": {},
   "outputs": [],
   "source": [
    "df3.dropna(inplace =True)"
   ]
  },
  {
   "cell_type": "code",
   "execution_count": 65,
   "id": "6327f188-0d98-4a33-879e-dff7c10b59be",
   "metadata": {},
   "outputs": [
    {
     "name": "stderr",
     "output_type": "stream",
     "text": [
      "C:\\Users\\dmarm\\anaconda3\\envs\\GA\\lib\\site-packages\\plotnine\\stats\\stat_bin.py:95: PlotnineWarning: 'stat_bin()' using 'bins = 77'. Pick better value with 'binwidth'.\n"
     ]
    },
    {
     "data": {
      "image/png": "[encoded data removed]",
      "text/plain": [
       "<Figure size 640x480 with 1 Axes>"
      ]
     },
     "metadata": {},
     "output_type": "display_data"
    },
    {
     "data": {
      "text/plain": [
       "<ggplot: (131555731875)>"
      ]
     },
     "execution_count": 65,
     "metadata": {},
     "output_type": "execute_result"
    }
   ],
   "source": [
    "ggplot(df3, aes(x = 'release_speed', fill = 'pitch_name')) + geom_histogram()"
   ]
  },
  {
   "cell_type": "markdown",
   "id": "68a92032-de16-4577-a02d-580e6f4fdd9a",
   "metadata": {},
   "source": [
    "4-seam fastballs stand out for being faster then other pitches. "
   ]
  },
  {
   "cell_type": "code",
   "execution_count": 70,
   "id": "fcf8ac96-15ad-4e89-bd93-8bec8073a2df",
   "metadata": {},
   "outputs": [
    {
     "data": {
      "image/png": "[encoded data removed]",
      "text/plain": [
       "<Figure size 640x480 with 1 Axes>"
      ]
     },
     "metadata": {},
     "output_type": "display_data"
    },
    {
     "data": {
      "text/plain": [
       "<ggplot: (131557266538)>"
      ]
     },
     "execution_count": 70,
     "metadata": {},
     "output_type": "execute_result"
    }
   ],
   "source": [
    "ggplot(df3, aes(x = 'factor(pitch_type)', y = 'release_speed')) + geom_boxplot()"
   ]
  },
  {
   "cell_type": "code",
   "execution_count": 72,
   "id": "162aba92-abbe-4626-b13a-f9e6d86174a9",
   "metadata": {},
   "outputs": [
    {
     "data": {
      "text/plain": [
       "4-Seam Fastball    3774\n",
       "Sinker             2725\n",
       "Slider             2014\n",
       "Changeup           1190\n",
       "Cutter              791\n",
       "Curveball           761\n",
       "Knuckle Curve       236\n",
       "Split-Finger        165\n",
       "Fastball             18\n",
       "Forkball              3\n",
       "Name: pitch_name, dtype: int64"
      ]
     },
     "execution_count": 72,
     "metadata": {},
     "output_type": "execute_result"
    }
   ],
   "source": [
    "df3['pitch_name'].value_counts()"
   ]
  },
  {
   "cell_type": "code",
   "execution_count": 73,
   "id": "dd68c795-fac8-4111-ad24-7e04a245514f",
   "metadata": {},
   "outputs": [
    {
     "data": {
      "text/plain": [
       "FF    3774\n",
       "SI    2725\n",
       "SL    2014\n",
       "CH    1190\n",
       "FC     791\n",
       "CU     757\n",
       "KC     236\n",
       "FS     165\n",
       "FA      18\n",
       "CS       4\n",
       "FO       3\n",
       "Name: pitch_type, dtype: int64"
      ]
     },
     "execution_count": 73,
     "metadata": {},
     "output_type": "execute_result"
    }
   ],
   "source": [
    "df3['pitch_type'].value_counts()"
   ]
  },
  {
   "cell_type": "code",
   "execution_count": 74,
   "id": "73791e51-6425-4047-9e46-ea25ea82b0b1",
   "metadata": {},
   "outputs": [
    {
     "data": {
      "image/png": "[encoded data removed]",
      "text/plain": [
       "<Figure size 640x480 with 1 Axes>"
      ]
     },
     "metadata": {},
     "output_type": "display_data"
    },
    {
     "data": {
      "text/plain": [
       "<ggplot: (131559666929)>"
      ]
     },
     "execution_count": 74,
     "metadata": {},
     "output_type": "execute_result"
    }
   ],
   "source": [
    "ggplot(df3, aes(x = 'factor(pitch_type)', y = 'spin_axis')) + geom_boxplot()"
   ]
  },
  {
   "cell_type": "code",
   "execution_count": 75,
   "id": "1afc9294-abab-4619-96b6-929859c532b7",
   "metadata": {},
   "outputs": [
    {
     "data": {
      "image/png": "[encoded data removed]",
      "text/plain": [
       "<Figure size 640x480 with 1 Axes>"
      ]
     },
     "metadata": {},
     "output_type": "display_data"
    },
    {
     "data": {
      "text/plain": [
       "<ggplot: (131559798848)>"
      ]
     },
     "execution_count": 75,
     "metadata": {},
     "output_type": "execute_result"
    }
   ],
   "source": [
    "ggplot(df3, aes(x = 'factor(pitch_type)', y = 'zone')) + geom_boxplot()"
   ]
  },
  {
   "cell_type": "code",
   "execution_count": 11,
   "id": "ed2475fb-b8bd-43cc-8567-9e2b28cbed8b",
   "metadata": {},
   "outputs": [
    {
     "data": {
      "image/png": "[encoded data removed]",
      "text/plain": [
       "<Figure size 640x480 with 1 Axes>"
      ]
     },
     "metadata": {},
     "output_type": "display_data"
    },
    {
     "data": {
      "text/plain": [
       "<ggplot: (131472015740)>"
      ]
     },
     "execution_count": 11,
     "metadata": {},
     "output_type": "execute_result"
    }
   ],
   "source": [
    "ggplot(df5, aes(x = 'factor(pitch_type)', y = 'pfx_x')) + geom_boxplot()"
   ]
  },
  {
   "cell_type": "code",
   "execution_count": 8,
   "id": "b531a214-ecf7-4f2d-b8c2-09ecedac89df",
   "metadata": {},
   "outputs": [],
   "source": [
    "df5 = df4.copy()"
   ]
  },
  {
   "cell_type": "code",
   "execution_count": 9,
   "id": "0bbef700-2a5b-43f6-9152-122b385a3eb6",
   "metadata": {},
   "outputs": [],
   "source": [
    "df5.dropna(inplace = True)"
   ]
  },
  {
   "cell_type": "code",
   "execution_count": 77,
   "id": "86e629b7-733a-4467-84eb-682bed7284df",
   "metadata": {},
   "outputs": [
    {
     "data": {
      "text/plain": [
       "field_out                    4186\n",
       "single                       2710\n",
       "force_out                    1308\n",
       "sac_fly                      1215\n",
       "grounded_into_double_play     921\n",
       "double                        877\n",
       "field_error                   124\n",
       "double_play                   102\n",
       "triple                        101\n",
       "fielders_choice                97\n",
       "sac_fly_double_play            26\n",
       "fielders_choice_out             4\n",
       "triple_play                     4\n",
       "sac_bunt                        1\n",
       "home_run                        1\n",
       "Name: events, dtype: int64"
      ]
     },
     "execution_count": 77,
     "metadata": {},
     "output_type": "execute_result"
    }
   ],
   "source": [
    "df3['events'].value_counts()"
   ]
  },
  {
   "cell_type": "code",
   "execution_count": 78,
   "id": "4329a029-c3d8-48a8-8d5c-a79e73058db9",
   "metadata": {},
   "outputs": [
    {
     "data": {
      "text/plain": [
       "hit_into_play    11677\n",
       "Name: description, dtype: int64"
      ]
     },
     "execution_count": 78,
     "metadata": {},
     "output_type": "execute_result"
    }
   ],
   "source": [
    "df3['description'].value_counts()"
   ]
  },
  {
   "cell_type": "code",
   "execution_count": 79,
   "id": "5a77c341-9bb5-45e5-b8ba-e3be5a06c9a3",
   "metadata": {},
   "outputs": [
    {
     "data": {
      "text/plain": [
       "field_out                       323198\n",
       "strikeout                       186149\n",
       "single                          115823\n",
       "walk                             67395\n",
       "double                           36621\n",
       "home_run                         27367\n",
       "force_out                        16208\n",
       "grounded_into_double_play        15589\n",
       "hit_by_pitch                      8822\n",
       "field_error                       5867\n",
       "sac_fly                           5136\n",
       "sac_bunt                          3468\n",
       "triple                            3403\n",
       "double_play                       1848\n",
       "fielders_choice                   1730\n",
       "fielders_choice_out               1375\n",
       "caught_stealing_2b                 805\n",
       "strikeout_double_play              639\n",
       "catcher_interf                     178\n",
       "other_out                          167\n",
       "sac_fly_double_play                 65\n",
       "caught_stealing_3b                  55\n",
       "pickoff_1b                          40\n",
       "caught_stealing_home                35\n",
       "pickoff_2b                          31\n",
       "wild_pitch                          23\n",
       "triple_play                         19\n",
       "pickoff_caught_stealing_2b          10\n",
       "game_advisory                        9\n",
       "pickoff_3b                           8\n",
       "stolen_base_2b                       7\n",
       "sac_bunt_double_play                 6\n",
       "pickoff_caught_stealing_home         5\n",
       "passed_ball                          4\n",
       "pickoff_caught_stealing_3b           4\n",
       "runner_double_play                   2\n",
       "stolen_base_home                     1\n",
       "Name: events, dtype: int64"
      ]
     },
     "execution_count": 79,
     "metadata": {},
     "output_type": "execute_result"
    }
   ],
   "source": [
    "df1['events'].value_counts()"
   ]
  },
  {
   "cell_type": "code",
   "execution_count": 80,
   "id": "3fe3c3e9-bbf0-4894-ba30-64b6193ba42d",
   "metadata": {},
   "outputs": [
    {
     "data": {
      "text/plain": [
       "ball                       1085387\n",
       "foul                        565772\n",
       "hit_into_play               557765\n",
       "called_strike               536490\n",
       "swinging_strike             330552\n",
       "blocked_ball                 77478\n",
       "foul_tip                     28433\n",
       "swinging_strike_blocked      24388\n",
       "hit_by_pitch                  8822\n",
       "foul_bunt                     7629\n",
       "missed_bunt                   1639\n",
       "pitchout                       314\n",
       "bunt_foul_tip                  158\n",
       "foul_pitchout                    2\n",
       "swinging_pitchout                1\n",
       "Name: description, dtype: int64"
      ]
     },
     "execution_count": 80,
     "metadata": {},
     "output_type": "execute_result"
    }
   ],
   "source": [
    "df1['description'].value_counts()"
   ]
  },
  {
   "cell_type": "code",
   "execution_count": 97,
   "id": "f1b24293-fc9c-4273-a8e7-5434f5b264a2",
   "metadata": {},
   "outputs": [],
   "source": [
    "df4 = df1.copy()"
   ]
  },
  {
   "cell_type": "code",
   "execution_count": 98,
   "id": "a0db84df-f77d-438c-a794-aa497054bda1",
   "metadata": {},
   "outputs": [],
   "source": [
    "cleanup_nums = {\"description\":     {\"swinging_strike\":1, \"hit_into_play\":0, 'foul':0, 'swinging_strike_blocked':1, 'foul_tip':1}}"
   ]
  },
  {
   "cell_type": "code",
   "execution_count": 99,
   "id": "e219d784-a37f-463b-9eef-acb69b44498d",
   "metadata": {},
   "outputs": [],
   "source": [
    "df4 = df4.replace(cleanup_nums)"
   ]
  },
  {
   "cell_type": "code",
   "execution_count": 87,
   "id": "126b0e24-c324-43b3-826c-7a82fb20cd65",
   "metadata": {},
   "outputs": [
    {
     "data": {
      "text/plain": [
       "0                    1123537\n",
       "ball                 1085387\n",
       "called_strike         536490\n",
       "1                     383373\n",
       "blocked_ball           77478\n",
       "hit_by_pitch            8822\n",
       "foul_bunt               7629\n",
       "missed_bunt             1639\n",
       "pitchout                 314\n",
       "bunt_foul_tip            158\n",
       "foul_pitchout              2\n",
       "swinging_pitchout          1\n",
       "Name: description, dtype: int64"
      ]
     },
     "execution_count": 87,
     "metadata": {},
     "output_type": "execute_result"
    }
   ],
   "source": [
    "df4['description'].value_counts()"
   ]
  },
  {
   "cell_type": "code",
   "execution_count": 103,
   "id": "c6d52a36-65e3-4089-92c1-c6970c2fb25d",
   "metadata": {},
   "outputs": [],
   "source": [
    "cleanup_nums2 = {\"description\":     {\"ball\":3, \"called_strike\":3, 'blocked_ball':3, 'hit_by_pitch':3, 'foul_bunt':3, 'missed_bunt':3, 'pitchout':3, 'bunt_foul_tip':3, 'foul_pitchout':3, 'swinging_pitchout':3}}"
   ]
  },
  {
   "cell_type": "code",
   "execution_count": 104,
   "id": "9f124878-f846-4a0d-9aa2-f35aaf9c05f4",
   "metadata": {},
   "outputs": [],
   "source": [
    "df4 = df4.replace(cleanup_nums2)"
   ]
  },
  {
   "cell_type": "code",
   "execution_count": 105,
   "id": "c70150b8-9e00-4723-b9d2-c9b65761b891",
   "metadata": {},
   "outputs": [
    {
     "data": {
      "text/plain": [
       "3    1717920\n",
       "0    1123537\n",
       "1     383373\n",
       "Name: description, dtype: int64"
      ]
     },
     "execution_count": 105,
     "metadata": {},
     "output_type": "execute_result"
    }
   ],
   "source": [
    "df4['description'].value_counts()"
   ]
  },
  {
   "cell_type": "code",
   "execution_count": 107,
   "id": "deb8552f-ed90-4059-8fb0-7759ff539fe0",
   "metadata": {},
   "outputs": [],
   "source": [
    "df4 = df4.astype({\"description\": int})"
   ]
  },
  {
   "cell_type": "code",
   "execution_count": 108,
   "id": "7913d1e7-95e2-4cb1-8488-8971643d4338",
   "metadata": {},
   "outputs": [],
   "source": [
    "df4 = df4[df4.description < 2]"
   ]
  },
  {
   "cell_type": "code",
   "execution_count": 109,
   "id": "6c4ef860-dcd3-4146-9f57-6755769ca9c8",
   "metadata": {},
   "outputs": [
    {
     "data": {
      "text/plain": [
       "0    1123537\n",
       "1     383373\n",
       "Name: description, dtype: int64"
      ]
     },
     "execution_count": 109,
     "metadata": {},
     "output_type": "execute_result"
    }
   ],
   "source": [
    "df4['description'].value_counts()"
   ]
  },
  {
   "cell_type": "code",
   "execution_count": 110,
   "id": "a7c6e026-534d-4243-bbc2-770b822edc1a",
   "metadata": {},
   "outputs": [],
   "source": [
    "df4.to_pickle(\"./dummy2.pkl\")  "
   ]
  },
  {
   "cell_type": "code",
   "execution_count": 3,
   "id": "2df82446-8e47-4fe6-a899-f836707c5850",
   "metadata": {},
   "outputs": [],
   "source": [
    "infile = open('dummy2.pkl','rb')\n",
    "df4 = pickle.load(infile)\n",
    "infile.close()"
   ]
  },
  {
   "cell_type": "code",
   "execution_count": 112,
   "id": "c5196ac9-acd1-4f2e-807e-6973993ee2a1",
   "metadata": {},
   "outputs": [
    {
     "data": {
      "text/plain": [
       "0"
      ]
     },
     "execution_count": 112,
     "metadata": {},
     "output_type": "execute_result"
    }
   ],
   "source": [
    "df4['description'].isna().sum()"
   ]
  },
  {
   "cell_type": "code",
   "execution_count": 17,
   "id": "4726cf59-57b7-4d01-b02c-74003a367f2a",
   "metadata": {},
   "outputs": [],
   "source": [
    "y = z['description']"
   ]
  },
  {
   "cell_type": "code",
   "execution_count": 16,
   "id": "a3c48699-74e8-4ff2-8c58-f90ebfca146d",
   "metadata": {},
   "outputs": [],
   "source": [
    "X = z[['spin_axis', 'effective_speed', 'release_spin_rate', 'az', 'ay', 'ax', 'vz0', 'vy0', 'vx0', 'zone', 'balls', 'strikes', 'pfx_x', 'pfx_z']]"
   ]
  },
  {
   "cell_type": "code",
   "execution_count": 116,
   "id": "3445943b-f0ce-43bc-b956-37087ec9b5e2",
   "metadata": {},
   "outputs": [
    {
     "data": {
      "text/plain": [
       "pitch_name               0\n",
       "spin_axis             4722\n",
       "effective_speed       4254\n",
       "release_spin_rate    23523\n",
       "az                    2942\n",
       "ay                    2942\n",
       "ax                    2942\n",
       "vz0                   2942\n",
       "vy0                   2942\n",
       "vx0                   2942\n",
       "zone                  2942\n",
       "balls                    0\n",
       "strikes                  0\n",
       "pfx_x                 2942\n",
       "pfx_z                 2942\n",
       "dtype: int64"
      ]
     },
     "execution_count": 116,
     "metadata": {},
     "output_type": "execute_result"
    }
   ],
   "source": [
    "X.isna().sum()"
   ]
  },
  {
   "cell_type": "code",
   "execution_count": 12,
   "id": "4cd8eae5-2841-46fe-ae54-cc3364353460",
   "metadata": {},
   "outputs": [],
   "source": [
    "z = df4[['pitch_name', 'spin_axis', 'effective_speed', 'release_spin_rate', 'az', 'ay', 'ax', 'vz0', 'vy0', 'vx0', 'zone', 'balls', 'strikes', 'pfx_x', 'pfx_z','description']]"
   ]
  },
  {
   "cell_type": "code",
   "execution_count": 118,
   "id": "d2c3b7e3-5cec-4a37-874b-512f696e3782",
   "metadata": {},
   "outputs": [
    {
     "name": "stdout",
     "output_type": "stream",
     "text": [
      "<class 'pandas.core.frame.DataFrame'>\n",
      "Int64Index: 1506910 entries, 38 to 877\n",
      "Data columns (total 16 columns):\n",
      " #   Column             Non-Null Count    Dtype  \n",
      "---  ------             --------------    -----  \n",
      " 0   pitch_name         1506910 non-null  object \n",
      " 1   spin_axis          1502188 non-null  Int64  \n",
      " 2   effective_speed    1502656 non-null  Float64\n",
      " 3   release_spin_rate  1483387 non-null  Int64  \n",
      " 4   az                 1503968 non-null  Float64\n",
      " 5   ay                 1503968 non-null  Float64\n",
      " 6   ax                 1503968 non-null  Float64\n",
      " 7   vz0                1503968 non-null  Float64\n",
      " 8   vy0                1503968 non-null  Float64\n",
      " 9   vx0                1503968 non-null  Float64\n",
      " 10  zone               1503968 non-null  Int64  \n",
      " 11  balls              1506910 non-null  Int64  \n",
      " 12  strikes            1506910 non-null  Int64  \n",
      " 13  pfx_x              1503968 non-null  Float64\n",
      " 14  pfx_z              1503968 non-null  Float64\n",
      " 15  description        1506910 non-null  int32  \n",
      "dtypes: Float64(9), Int64(5), int32(1), object(1)\n",
      "memory usage: 209.8+ MB\n"
     ]
    }
   ],
   "source": [
    "z.info()"
   ]
  },
  {
   "cell_type": "code",
   "execution_count": 15,
   "id": "1ef097f2-d16f-41bd-ac32-f429da4771fb",
   "metadata": {},
   "outputs": [
    {
     "name": "stderr",
     "output_type": "stream",
     "text": [
      "C:\\Users\\dmarm\\AppData\\Local\\Temp\\ipykernel_15136\\2385804610.py:1: SettingWithCopyWarning: \n",
      "A value is trying to be set on a copy of a slice from a DataFrame\n",
      "\n",
      "See the caveats in the documentation: https://pandas.pydata.org/pandas-docs/stable/user_guide/indexing.html#returning-a-view-versus-a-copy\n"
     ]
    }
   ],
   "source": [
    "z.dropna(inplace = True)"
   ]
  },
  {
   "cell_type": "code",
   "execution_count": 121,
   "id": "23d59af4-558c-4722-ae69-d27fc424b2cf",
   "metadata": {},
   "outputs": [
    {
     "data": {
      "text/plain": [
       "pitch_name           0\n",
       "spin_axis            0\n",
       "effective_speed      0\n",
       "release_spin_rate    0\n",
       "az                   0\n",
       "ay                   0\n",
       "ax                   0\n",
       "vz0                  0\n",
       "vy0                  0\n",
       "vx0                  0\n",
       "zone                 0\n",
       "balls                0\n",
       "strikes              0\n",
       "pfx_x                0\n",
       "pfx_z                0\n",
       "description          0\n",
       "dtype: int64"
      ]
     },
     "execution_count": 121,
     "metadata": {},
     "output_type": "execute_result"
    }
   ],
   "source": [
    "z.isna().sum()"
   ]
  },
  {
   "cell_type": "code",
   "execution_count": 18,
   "id": "33603e5f-6a59-4a19-b11d-da5f10e21589",
   "metadata": {},
   "outputs": [],
   "source": [
    "from sklearn.model_selection import train_test_split, GridSearchCV, cross_val_score\n",
    "from sklearn.linear_model import LogisticRegression\n",
    "from sklearn.preprocessing import StandardScaler\n",
    "from sklearn.ensemble import RandomForestClassifier, GradientBoostingClassifier, AdaBoostClassifier\n",
    "from sklearn.metrics import confusion_matrix\n",
    "from sklearn.metrics import accuracy_score, classification_report, f1_score\n",
    "from sklearn.neighbors import KNeighborsClassifier\n",
    "from sklearn.pipeline import Pipeline\n",
    "import pandas as pd\n",
    "from sklearn.metrics import cohen_kappa_score\n",
    "from sklearn.metrics import multilabel_confusion_matrix\n",
    "import seaborn as sns\n",
    "import matplotlib.pyplot as plt \n",
    "import numpy as np\n",
    "import pickle"
   ]
  },
  {
   "cell_type": "code",
   "execution_count": 19,
   "id": "c9da5166-9aa1-4ecc-a1d3-c412bd8c8502",
   "metadata": {},
   "outputs": [],
   "source": [
    "X_train, X_test, y_train, y_test = train_test_split(X, y, stratify =y, random_state =5)"
   ]
  },
  {
   "cell_type": "code",
   "execution_count": 20,
   "id": "d08cc154-aa1e-433e-8968-77329f3a9318",
   "metadata": {},
   "outputs": [],
   "source": [
    "scaler = StandardScaler()\n",
    "X_train = scaler.fit_transform(X_train)\n",
    "X_test = scaler.transform(X_test)"
   ]
  },
  {
   "cell_type": "code",
   "execution_count": 21,
   "id": "bf3f5c2f-3569-4cca-a5c5-e67cf5b801e1",
   "metadata": {},
   "outputs": [
    {
     "data": {
      "text/plain": [
       "LogisticRegression()"
      ]
     },
     "execution_count": 21,
     "metadata": {},
     "output_type": "execute_result"
    }
   ],
   "source": [
    "logreg = LogisticRegression()\n",
    "logreg.fit(X_train, y_train)"
   ]
  },
  {
   "cell_type": "code",
   "execution_count": 22,
   "id": "bf95df07-d08a-4b04-87dc-24c79b969dc9",
   "metadata": {},
   "outputs": [
    {
     "data": {
      "text/plain": [
       "0.757568376053011"
      ]
     },
     "execution_count": 22,
     "metadata": {},
     "output_type": "execute_result"
    }
   ],
   "source": [
    "logreg.score(X_train, y_train) "
   ]
  },
  {
   "cell_type": "code",
   "execution_count": 23,
   "id": "6fe7f9eb-c7f2-451e-abec-02b7ef08e3c2",
   "metadata": {},
   "outputs": [
    {
     "data": {
      "text/plain": [
       "0.7576137546448353"
      ]
     },
     "execution_count": 23,
     "metadata": {},
     "output_type": "execute_result"
    }
   ],
   "source": [
    "logreg.score(X_test, y_test)"
   ]
  },
  {
   "cell_type": "code",
   "execution_count": 24,
   "id": "6d9c6c80-7586-465c-ac47-d301686b52d3",
   "metadata": {},
   "outputs": [
    {
     "data": {
      "text/plain": [
       "array([[ 0.0256924 ,  0.23236175,  0.08746582,  0.02470117,  0.12200989,\n",
       "         0.6201927 , -0.06717886,  0.42332337,  0.16015743,  0.51041135,\n",
       "        -0.10228374, -0.05318821, -0.46508624, -0.06618545]])"
      ]
     },
     "execution_count": 24,
     "metadata": {},
     "output_type": "execute_result"
    }
   ],
   "source": [
    "logreg.coef_"
   ]
  },
  {
   "cell_type": "code",
   "execution_count": 25,
   "id": "372c8f88-f1dd-4cbe-a65b-50c1a966242b",
   "metadata": {},
   "outputs": [],
   "source": [
    "y_pred = logreg.predict(X_test)"
   ]
  },
  {
   "cell_type": "code",
   "execution_count": 26,
   "id": "8bdb3790-a475-4f67-bea8-e55395491034",
   "metadata": {},
   "outputs": [],
   "source": [
    "cm = confusion_matrix(y_test, y_pred)"
   ]
  },
  {
   "cell_type": "code",
   "execution_count": 27,
   "id": "0ff8f454-8bd9-400a-8670-289e95fe3577",
   "metadata": {},
   "outputs": [],
   "source": [
    "cm_df = pd.DataFrame(cm)"
   ]
  },
  {
   "cell_type": "code",
   "execution_count": 28,
   "id": "ef501aa0-0da2-4b27-80c4-cb53a638fa1b",
   "metadata": {},
   "outputs": [
    {
     "data": {
      "image/png": "[encoded data removed]",
      "text/plain": [
       "<Figure size 1440x1440 with 2 Axes>"
      ]
     },
     "metadata": {
      "needs_background": "light"
     },
     "output_type": "display_data"
    }
   ],
   "source": [
    "#Plotting the confusion matrix\n",
    "plt.figure(figsize=(20,20))\n",
    "sns.heatmap(cm_df, annot=True, cmap = 'winter')\n",
    "plt.title('Confusion Matrix')\n",
    "plt.ylabel('Actal Values')\n",
    "plt.xlabel('Predicted Values')\n",
    "plt.show()"
   ]
  },
  {
   "cell_type": "code",
   "execution_count": 29,
   "id": "fba1f2e5-6ad1-4fe6-9bf9-03b6e77f1038",
   "metadata": {},
   "outputs": [
    {
     "data": {
      "text/plain": [
       "0    1107598\n",
       "1     375768\n",
       "Name: description, dtype: int64"
      ]
     },
     "execution_count": 29,
     "metadata": {},
     "output_type": "execute_result"
    }
   ],
   "source": [
    "z['description'].value_counts()"
   ]
  },
  {
   "cell_type": "code",
   "execution_count": 30,
   "id": "9a016866-c362-4408-894d-c1d135bb0fef",
   "metadata": {},
   "outputs": [
    {
     "data": {
      "text/plain": [
       "0.7466788371851586"
      ]
     },
     "execution_count": 30,
     "metadata": {},
     "output_type": "execute_result"
    }
   ],
   "source": [
    "1107598/(1107598 +375768)"
   ]
  },
  {
   "cell_type": "markdown",
   "id": "0f9d5986-23db-4678-a2ec-efd5783a1ac0",
   "metadata": {},
   "source": [
    "need to over or under sample."
   ]
  },
  {
   "cell_type": "code",
   "execution_count": null,
   "id": "a08560a9-2ebc-4576-8c5c-b3c2607f2fe9",
   "metadata": {},
   "outputs": [],
   "source": []
  },
  {
   "cell_type": "code",
   "execution_count": 36,
   "id": "163b21fc-1d1c-46d8-aef3-0f06a60b4c56",
   "metadata": {},
   "outputs": [],
   "source": [
    "\n",
    "# check version number\n",
    "import imblearn as im"
   ]
  },
  {
   "cell_type": "code",
   "execution_count": null,
   "id": "92be7307-343e-4c4d-90cb-4068f3e09647",
   "metadata": {},
   "outputs": [],
   "source": []
  },
  {
   "cell_type": "code",
   "execution_count": 37,
   "id": "2a284514-a839-4b28-b5a4-804720065720",
   "metadata": {},
   "outputs": [],
   "source": [
    "oversample = im.over_sampling.RandomOverSampler(sampling_strategy='minority')"
   ]
  },
  {
   "cell_type": "code",
   "execution_count": 38,
   "id": "6fa392ad-96fa-4505-8151-7602b258a511",
   "metadata": {},
   "outputs": [],
   "source": [
    "X_over, y_over = oversample.fit_resample(X, y)"
   ]
  },
  {
   "cell_type": "code",
   "execution_count": 40,
   "id": "c937d6c7-149e-4967-a897-29c1d5788a8f",
   "metadata": {},
   "outputs": [
    {
     "data": {
      "text/plain": [
       "1    1107598\n",
       "0    1107598\n",
       "Name: description, dtype: int64"
      ]
     },
     "execution_count": 40,
     "metadata": {},
     "output_type": "execute_result"
    }
   ],
   "source": [
    "y_over.value_counts()"
   ]
  },
  {
   "cell_type": "code",
   "execution_count": 41,
   "id": "1e22920b-c791-496d-955c-9e07d58e9d83",
   "metadata": {},
   "outputs": [],
   "source": [
    "X_train, X_test, y_train, y_test = train_test_split(X_over, y_over, stratify =y_over, random_state =5)"
   ]
  },
  {
   "cell_type": "code",
   "execution_count": 42,
   "id": "f3636e0b-4849-4d53-a3a5-bfa86fc863a3",
   "metadata": {},
   "outputs": [],
   "source": [
    "scaler = StandardScaler()\n",
    "X_train = scaler.fit_transform(X_train)\n",
    "X_test = scaler.transform(X_test)"
   ]
  },
  {
   "cell_type": "code",
   "execution_count": 44,
   "id": "47bcdba1-506a-430e-a734-6a56a1637101",
   "metadata": {},
   "outputs": [
    {
     "data": {
      "text/plain": [
       "LogisticRegression()"
      ]
     },
     "execution_count": 44,
     "metadata": {},
     "output_type": "execute_result"
    }
   ],
   "source": [
    "logreg2 = LogisticRegression()\n",
    "logreg2.fit(X_train, y_train)"
   ]
  },
  {
   "cell_type": "code",
   "execution_count": 45,
   "id": "e30a4577-21d2-4769-98a4-6e1aa926044e",
   "metadata": {},
   "outputs": [
    {
     "data": {
      "text/plain": [
       "0.6265401947878804"
      ]
     },
     "execution_count": 45,
     "metadata": {},
     "output_type": "execute_result"
    }
   ],
   "source": [
    "logreg2.score(X_train, y_train) "
   ]
  },
  {
   "cell_type": "code",
   "execution_count": 46,
   "id": "a76be24d-5eab-4f75-8a33-a50552e463e9",
   "metadata": {},
   "outputs": [
    {
     "data": {
      "text/plain": [
       "0.6259130117605847"
      ]
     },
     "execution_count": 46,
     "metadata": {},
     "output_type": "execute_result"
    }
   ],
   "source": [
    "logreg2.score(X_test, y_test)"
   ]
  },
  {
   "cell_type": "code",
   "execution_count": 47,
   "id": "705b868f-9351-4c2d-9774-66594c69c6e6",
   "metadata": {},
   "outputs": [],
   "source": [
    "dffb = df4.copy()"
   ]
  },
  {
   "cell_type": "code",
   "execution_count": 84,
   "id": "7694d369-7507-4111-b09f-3b54354ef887",
   "metadata": {},
   "outputs": [],
   "source": [
    "dffb = dffb[dffb.pitch_name == '4-Seam Fastball']"
   ]
  },
  {
   "cell_type": "code",
   "execution_count": 49,
   "id": "5ca155a2-2445-4c84-a201-4cdfe30861e4",
   "metadata": {},
   "outputs": [
    {
     "data": {
      "text/plain": [
       "0    418809\n",
       "1    112894\n",
       "Name: description, dtype: int64"
      ]
     },
     "execution_count": 49,
     "metadata": {},
     "output_type": "execute_result"
    }
   ],
   "source": [
    "dffb['description'].value_counts()"
   ]
  },
  {
   "cell_type": "code",
   "execution_count": 50,
   "id": "18bf7334-2f4d-46c6-b16a-2c54625f41b2",
   "metadata": {},
   "outputs": [],
   "source": [
    "zfb = dffb[['pitch_name', 'spin_axis', 'effective_speed', 'release_spin_rate', 'az', 'ay', 'ax', 'vz0', 'vy0', 'vx0', 'zone', 'balls', 'strikes', 'pfx_x', 'pfx_z','description']]"
   ]
  },
  {
   "cell_type": "code",
   "execution_count": 51,
   "id": "2d44ef75-b081-4a7a-9907-2c62c2a72c99",
   "metadata": {},
   "outputs": [
    {
     "name": "stderr",
     "output_type": "stream",
     "text": [
      "C:\\Users\\dmarm\\AppData\\Local\\Temp\\ipykernel_15136\\4141572887.py:1: SettingWithCopyWarning: \n",
      "A value is trying to be set on a copy of a slice from a DataFrame\n",
      "\n",
      "See the caveats in the documentation: https://pandas.pydata.org/pandas-docs/stable/user_guide/indexing.html#returning-a-view-versus-a-copy\n"
     ]
    }
   ],
   "source": [
    "zfb.dropna(inplace = True)"
   ]
  },
  {
   "cell_type": "code",
   "execution_count": 52,
   "id": "15953da8-8be4-4a65-96fd-9fb970090364",
   "metadata": {},
   "outputs": [],
   "source": [
    "X = zfb[['spin_axis', 'effective_speed', 'release_spin_rate', 'az', 'ay', 'ax', 'vz0', 'vy0', 'vx0', 'zone', 'balls', 'strikes', 'pfx_x', 'pfx_z']]"
   ]
  },
  {
   "cell_type": "code",
   "execution_count": 55,
   "id": "06036ac9-de63-4cf0-8ede-d2734c409e21",
   "metadata": {},
   "outputs": [],
   "source": [
    "y = zfb['description']"
   ]
  },
  {
   "cell_type": "code",
   "execution_count": 56,
   "id": "b8b6148d-eb26-445a-916d-64e7fe1e7780",
   "metadata": {},
   "outputs": [],
   "source": [
    "X_over, y_over = oversample.fit_resample(X, y)"
   ]
  },
  {
   "cell_type": "code",
   "execution_count": 57,
   "id": "327749ee-23bc-472f-bc37-6bd688d508fe",
   "metadata": {},
   "outputs": [],
   "source": [
    "X_train, X_test, y_train, y_test = train_test_split(X_over, y_over, stratify =y_over, random_state =5)"
   ]
  },
  {
   "cell_type": "code",
   "execution_count": 58,
   "id": "1791f8f9-23cb-45ab-a43a-c84bd5ddf5fa",
   "metadata": {},
   "outputs": [],
   "source": [
    "scaler = StandardScaler()\n",
    "X_train = scaler.fit_transform(X_train)\n",
    "X_test = scaler.transform(X_test)"
   ]
  },
  {
   "cell_type": "code",
   "execution_count": 59,
   "id": "f9629f1f-64b0-454d-a78b-e778d6455b23",
   "metadata": {},
   "outputs": [
    {
     "data": {
      "text/plain": [
       "LogisticRegression()"
      ]
     },
     "execution_count": 59,
     "metadata": {},
     "output_type": "execute_result"
    }
   ],
   "source": [
    "logreg3 = LogisticRegression()\n",
    "logreg3.fit(X_train, y_train)"
   ]
  },
  {
   "cell_type": "code",
   "execution_count": 60,
   "id": "27abfa82-7e42-4bec-831c-85fb6fd21074",
   "metadata": {},
   "outputs": [
    {
     "data": {
      "text/plain": [
       "0.6262562392818479"
      ]
     },
     "execution_count": 60,
     "metadata": {},
     "output_type": "execute_result"
    }
   ],
   "source": [
    "logreg3.score(X_train, y_train) "
   ]
  },
  {
   "cell_type": "code",
   "execution_count": 61,
   "id": "617ec148-80eb-4cd5-a272-716f79388265",
   "metadata": {},
   "outputs": [
    {
     "data": {
      "text/plain": [
       "0.5226386533689726"
      ]
     },
     "execution_count": 61,
     "metadata": {},
     "output_type": "execute_result"
    }
   ],
   "source": [
    "logreg2.score(X_test, y_test)"
   ]
  },
  {
   "cell_type": "code",
   "execution_count": 62,
   "id": "1362a21e-0ecc-4d9c-a0e5-612cc5462e6f",
   "metadata": {},
   "outputs": [
    {
     "data": {
      "text/plain": [
       "RandomForestClassifier(n_estimators=10)"
      ]
     },
     "execution_count": 62,
     "metadata": {},
     "output_type": "execute_result"
    }
   ],
   "source": [
    "rf = RandomForestClassifier(n_estimators = 10)\n",
    "rf.fit(X_train, y_train)"
   ]
  },
  {
   "cell_type": "code",
   "execution_count": 63,
   "id": "4df0ef85-b0e1-4387-84b8-ffac98c28db6",
   "metadata": {},
   "outputs": [
    {
     "data": {
      "text/plain": [
       "0.9973653704289177"
      ]
     },
     "execution_count": 63,
     "metadata": {},
     "output_type": "execute_result"
    }
   ],
   "source": [
    "rf.score(X_train, y_train)"
   ]
  },
  {
   "cell_type": "code",
   "execution_count": 64,
   "id": "df9a0f2c-b723-4515-b7d7-5b3d84464e2c",
   "metadata": {},
   "outputs": [
    {
     "data": {
      "text/plain": [
       "0.9183695954167026"
      ]
     },
     "execution_count": 64,
     "metadata": {},
     "output_type": "execute_result"
    }
   ],
   "source": [
    "rf.score(X_test, y_test)"
   ]
  },
  {
   "cell_type": "code",
   "execution_count": 65,
   "id": "1635ca43-00b5-46d4-b598-2879f04854de",
   "metadata": {},
   "outputs": [],
   "source": [
    "importances = rf.feature_importances_\n",
    "std = np.std([tree.feature_importances_ for tree in rf.estimators_], axis=0)"
   ]
  },
  {
   "cell_type": "code",
   "execution_count": 67,
   "id": "11ec62f4-a676-4b20-a99b-249fa7770a1f",
   "metadata": {},
   "outputs": [],
   "source": [
    "feature_names = [f\"feature {i}\" for i in range(X.shape[1])]"
   ]
  },
  {
   "cell_type": "code",
   "execution_count": 68,
   "id": "f50f7e45-dbd9-4d58-9dbd-5a1656e90ce9",
   "metadata": {},
   "outputs": [
    {
     "data": {
      "image/png": "[encoded data removed]",
      "text/plain": [
       "<Figure size 432x288 with 1 Axes>"
      ]
     },
     "metadata": {
      "needs_background": "light"
     },
     "output_type": "display_data"
    }
   ],
   "source": [
    "\n",
    "forest_importances = pd.Series(importances, index=feature_names)\n",
    "\n",
    "fig, ax = plt.subplots()\n",
    "forest_importances.plot.bar(yerr=std, ax=ax)\n",
    "ax.set_title(\"Feature importances using MDI\")\n",
    "ax.set_ylabel(\"Mean decrease in impurity\")\n",
    "fig.tight_layout()"
   ]
  },
  {
   "cell_type": "code",
   "execution_count": 72,
   "id": "aaacbfb1-4777-4ef3-a34f-c5d2956ff4ed",
   "metadata": {},
   "outputs": [],
   "source": [
    "X = z[['spin_axis', 'effective_speed', 'release_spin_rate', 'az', 'ay', 'ax', 'vz0', 'vy0', 'vx0', 'zone', 'balls', 'strikes', 'pfx_x', 'pfx_z']]"
   ]
  },
  {
   "cell_type": "code",
   "execution_count": 73,
   "id": "78ce558d-c327-4d65-a1e2-5705160ee1f1",
   "metadata": {},
   "outputs": [],
   "source": [
    "y = z['description']"
   ]
  },
  {
   "cell_type": "code",
   "execution_count": 74,
   "id": "dfc70e7b-9c03-4149-b1fa-b8ff13882684",
   "metadata": {},
   "outputs": [],
   "source": [
    "X_over, y_over = oversample.fit_resample(X, y)"
   ]
  },
  {
   "cell_type": "code",
   "execution_count": 75,
   "id": "e9bd572f-0899-4fae-a88d-27d426a6c013",
   "metadata": {},
   "outputs": [],
   "source": [
    "X_train, X_test, y_train, y_test = train_test_split(X_over, y_over, stratify =y_over, random_state =5)"
   ]
  },
  {
   "cell_type": "code",
   "execution_count": 76,
   "id": "c43c2a1e-f18e-438a-acae-365488c1aa43",
   "metadata": {},
   "outputs": [],
   "source": [
    "scaler = StandardScaler()\n",
    "X_train = scaler.fit_transform(X_train)\n",
    "X_test = scaler.transform(X_test)"
   ]
  },
  {
   "cell_type": "code",
   "execution_count": 77,
   "id": "900af80d-57db-4655-94e5-5e4c55f1b9cf",
   "metadata": {},
   "outputs": [
    {
     "data": {
      "text/plain": [
       "RandomForestClassifier(n_estimators=10)"
      ]
     },
     "execution_count": 77,
     "metadata": {},
     "output_type": "execute_result"
    }
   ],
   "source": [
    "rf2 = RandomForestClassifier(n_estimators = 10)\n",
    "rf2.fit(X_train, y_train)"
   ]
  },
  {
   "cell_type": "code",
   "execution_count": 78,
   "id": "9d58ef0b-e8c5-43b9-82c0-f4ceea3076ca",
   "metadata": {},
   "outputs": [
    {
     "data": {
      "text/plain": [
       "0.995705421401387"
      ]
     },
     "execution_count": 78,
     "metadata": {},
     "output_type": "execute_result"
    }
   ],
   "source": [
    "rf2.score(X_train, y_train)"
   ]
  },
  {
   "cell_type": "code",
   "execution_count": 79,
   "id": "c1927a26-91e7-4dff-b838-fe8c2cf07998",
   "metadata": {},
   "outputs": [
    {
     "data": {
      "text/plain": [
       "0.8945249088568235"
      ]
     },
     "execution_count": 79,
     "metadata": {},
     "output_type": "execute_result"
    }
   ],
   "source": [
    "rf2.score(X_test, y_test)"
   ]
  },
  {
   "cell_type": "code",
   "execution_count": 80,
   "id": "32f2d416-84cd-4ff9-adf5-9202fd6383dd",
   "metadata": {},
   "outputs": [],
   "source": [
    "importances = rf2.feature_importances_\n",
    "std = np.std([tree.feature_importances_ for tree in rf.estimators_], axis=0)"
   ]
  },
  {
   "cell_type": "code",
   "execution_count": 81,
   "id": "8e881006-0a5c-4cb0-9956-6c410bab8e9a",
   "metadata": {},
   "outputs": [
    {
     "data": {
      "image/png": "[encoded data removed]",
      "text/plain": [
       "<Figure size 432x288 with 1 Axes>"
      ]
     },
     "metadata": {
      "needs_background": "light"
     },
     "output_type": "display_data"
    }
   ],
   "source": [
    "\n",
    "forest_importances = pd.Series(importances, index=feature_names)\n",
    "\n",
    "fig, ax = plt.subplots()\n",
    "forest_importances.plot.bar(yerr=std, ax=ax)\n",
    "ax.set_title(\"Feature importances using MDI\")\n",
    "ax.set_ylabel(\"Mean decrease in impurity\")\n",
    "fig.tight_layout()"
   ]
  },
  {
   "cell_type": "code",
   "execution_count": 69,
   "id": "73cb5ca7-8651-46db-81d9-1bb3b4cd955e",
   "metadata": {},
   "outputs": [
    {
     "data": {
      "text/plain": [
       "GradientBoostingClassifier(n_estimators=10)"
      ]
     },
     "execution_count": 69,
     "metadata": {},
     "output_type": "execute_result"
    }
   ],
   "source": [
    "gb = GradientBoostingClassifier(n_estimators = 10)\n",
    "gb.fit(X_train, y_train)"
   ]
  },
  {
   "cell_type": "code",
   "execution_count": 70,
   "id": "81170217-ef72-47f3-9a93-bcbecb116866",
   "metadata": {},
   "outputs": [
    {
     "data": {
      "text/plain": [
       "0.619942708782418"
      ]
     },
     "execution_count": 70,
     "metadata": {},
     "output_type": "execute_result"
    }
   ],
   "source": [
    "gb.score(X_train, y_train)"
   ]
  },
  {
   "cell_type": "code",
   "execution_count": 71,
   "id": "3ab087c8-6861-4382-aeb4-68f5fb6875dd",
   "metadata": {},
   "outputs": [
    {
     "data": {
      "text/plain": [
       "0.6196552946473908"
      ]
     },
     "execution_count": 71,
     "metadata": {},
     "output_type": "execute_result"
    }
   ],
   "source": [
    "gb.score(X_test, y_test)"
   ]
  },
  {
   "cell_type": "code",
   "execution_count": 82,
   "id": "ad6f62db-e94b-4c34-90d8-c3a05bda168d",
   "metadata": {},
   "outputs": [],
   "source": [
    "dfsink = df4.copy()"
   ]
  },
  {
   "cell_type": "code",
   "execution_count": 83,
   "id": "8a9a3732-eba2-43c7-b022-f0bc61a21fe2",
   "metadata": {},
   "outputs": [],
   "source": [
    "dfsink = dfsink[dfsink.pitch_name == 'Sinker']"
   ]
  },
  {
   "cell_type": "code",
   "execution_count": 85,
   "id": "cfd95366-c94f-4768-8bb8-d248287ac9dc",
   "metadata": {},
   "outputs": [],
   "source": [
    "zsink = dfsink[['pitch_name', 'spin_axis', 'effective_speed', 'release_spin_rate', 'az', 'ay', 'ax', 'vz0', 'vy0', 'vx0', 'zone', 'balls', 'strikes', 'pfx_x', 'pfx_z','description']]"
   ]
  },
  {
   "cell_type": "code",
   "execution_count": 86,
   "id": "d8d1a88f-78e2-4fe7-abf8-d8b68869675f",
   "metadata": {},
   "outputs": [
    {
     "name": "stderr",
     "output_type": "stream",
     "text": [
      "C:\\Users\\dmarm\\AppData\\Local\\Temp\\ipykernel_15136\\2889768597.py:1: SettingWithCopyWarning: \n",
      "A value is trying to be set on a copy of a slice from a DataFrame\n",
      "\n",
      "See the caveats in the documentation: https://pandas.pydata.org/pandas-docs/stable/user_guide/indexing.html#returning-a-view-versus-a-copy\n"
     ]
    }
   ],
   "source": [
    "zsink.dropna(inplace = True)"
   ]
  },
  {
   "cell_type": "code",
   "execution_count": 87,
   "id": "7ead9684-1b2f-45c9-a209-1a908de19bf6",
   "metadata": {},
   "outputs": [],
   "source": [
    "X = zsink[['spin_axis', 'effective_speed', 'release_spin_rate', 'az', 'ay', 'ax', 'vz0', 'vy0', 'vx0', 'zone', 'balls', 'strikes', 'pfx_x', 'pfx_z']]"
   ]
  },
  {
   "cell_type": "code",
   "execution_count": 88,
   "id": "5c08c680-c8fd-4cc2-82fb-e0d8d3fa9387",
   "metadata": {},
   "outputs": [],
   "source": [
    "y = zsink['description']"
   ]
  },
  {
   "cell_type": "code",
   "execution_count": 89,
   "id": "686885a6-0476-4801-8559-b81df6cc3af8",
   "metadata": {},
   "outputs": [],
   "source": [
    "X_over, y_over = oversample.fit_resample(X, y)"
   ]
  },
  {
   "cell_type": "code",
   "execution_count": 90,
   "id": "8c3b6ab9-2832-47c9-bd6f-7d39be0a3faa",
   "metadata": {},
   "outputs": [],
   "source": [
    "X_train, X_test, y_train, y_test = train_test_split(X_over, y_over, stratify =y_over, random_state =5)"
   ]
  },
  {
   "cell_type": "code",
   "execution_count": 91,
   "id": "d1dd2e7e-e3c1-4ef1-9d73-574dbb422be5",
   "metadata": {},
   "outputs": [],
   "source": [
    "scaler = StandardScaler()\n",
    "X_train = scaler.fit_transform(X_train)\n",
    "X_test = scaler.transform(X_test)"
   ]
  },
  {
   "cell_type": "code",
   "execution_count": 92,
   "id": "b3dbff37-7471-4036-a2fa-f1ab643328dd",
   "metadata": {},
   "outputs": [
    {
     "data": {
      "text/plain": [
       "RandomForestClassifier(n_estimators=10)"
      ]
     },
     "execution_count": 92,
     "metadata": {},
     "output_type": "execute_result"
    }
   ],
   "source": [
    "rf3 = RandomForestClassifier(n_estimators = 10)\n",
    "rf3.fit(X_train, y_train)"
   ]
  },
  {
   "cell_type": "code",
   "execution_count": 93,
   "id": "09a0565a-7cbd-4b37-b387-09079d8623fd",
   "metadata": {},
   "outputs": [
    {
     "data": {
      "text/plain": [
       "0.9990800952585568"
      ]
     },
     "execution_count": 93,
     "metadata": {},
     "output_type": "execute_result"
    }
   ],
   "source": [
    "rf3.score(X_train, y_train)"
   ]
  },
  {
   "cell_type": "code",
   "execution_count": 94,
   "id": "d8894826-bfde-43e1-a9c3-623430868f01",
   "metadata": {},
   "outputs": [
    {
     "data": {
      "text/plain": [
       "0.9630618117777354"
      ]
     },
     "execution_count": 94,
     "metadata": {},
     "output_type": "execute_result"
    }
   ],
   "source": [
    "rf3.score(X_test, y_test)"
   ]
  },
  {
   "cell_type": "code",
   "execution_count": 96,
   "id": "32662159-1621-4551-953c-1325442151a7",
   "metadata": {},
   "outputs": [],
   "source": [
    "importances = rf3.feature_importances_\n",
    "std = np.std([tree.feature_importances_ for tree in rf.estimators_], axis=0)"
   ]
  },
  {
   "cell_type": "code",
   "execution_count": 97,
   "id": "ebff10e6-288d-4e25-aa85-dd64d821fb51",
   "metadata": {},
   "outputs": [
    {
     "data": {
      "image/png": "[encoded data removed]",
      "text/plain": [
       "<Figure size 432x288 with 1 Axes>"
      ]
     },
     "metadata": {
      "needs_background": "light"
     },
     "output_type": "display_data"
    }
   ],
   "source": [
    "\n",
    "forest_importances = pd.Series(importances, index=feature_names)\n",
    "\n",
    "fig, ax = plt.subplots()\n",
    "forest_importances.plot.bar(yerr=std, ax=ax)\n",
    "ax.set_title(\"Feature importances using MDI\")\n",
    "ax.set_ylabel(\"Mean decrease in impurity\")\n",
    "fig.tight_layout()"
   ]
  },
  {
   "cell_type": "code",
   "execution_count": 98,
   "id": "7a8c39f1-6bb7-42a9-bdce-9173d5bac977",
   "metadata": {},
   "outputs": [],
   "source": [
    "dfsl = df4.copy()"
   ]
  },
  {
   "cell_type": "code",
   "execution_count": 99,
   "id": "395e0e53-d211-4e47-83ff-4da279132c3c",
   "metadata": {},
   "outputs": [],
   "source": [
    "dfsl = dfsl[dfsl.pitch_name == 'Slider']"
   ]
  },
  {
   "cell_type": "code",
   "execution_count": 100,
   "id": "ccd81683-4769-41eb-81e0-c15977200d09",
   "metadata": {},
   "outputs": [],
   "source": [
    "zsl = dfsl[['pitch_name', 'spin_axis', 'effective_speed', 'release_spin_rate', 'az', 'ay', 'ax', 'vz0', 'vy0', 'vx0', 'zone', 'balls', 'strikes', 'pfx_x', 'pfx_z','description']]"
   ]
  },
  {
   "cell_type": "code",
   "execution_count": 101,
   "id": "e0a4128a-fa8b-4f56-894e-da75e393c1be",
   "metadata": {},
   "outputs": [
    {
     "name": "stderr",
     "output_type": "stream",
     "text": [
      "C:\\Users\\dmarm\\AppData\\Local\\Temp\\ipykernel_15136\\3790364348.py:1: SettingWithCopyWarning: \n",
      "A value is trying to be set on a copy of a slice from a DataFrame\n",
      "\n",
      "See the caveats in the documentation: https://pandas.pydata.org/pandas-docs/stable/user_guide/indexing.html#returning-a-view-versus-a-copy\n"
     ]
    }
   ],
   "source": [
    "zsl.dropna(inplace = True)"
   ]
  },
  {
   "cell_type": "code",
   "execution_count": 102,
   "id": "c1653ffa-3849-4b46-83ee-8981d52c5699",
   "metadata": {},
   "outputs": [],
   "source": [
    "X = zsl[['spin_axis', 'effective_speed', 'release_spin_rate', 'az', 'ay', 'ax', 'vz0', 'vy0', 'vx0', 'zone', 'balls', 'strikes', 'pfx_x', 'pfx_z']]"
   ]
  },
  {
   "cell_type": "code",
   "execution_count": 103,
   "id": "e10e1c07-0662-42d3-adf6-210c30cc124a",
   "metadata": {},
   "outputs": [],
   "source": [
    "y = zsl['description']"
   ]
  },
  {
   "cell_type": "code",
   "execution_count": 104,
   "id": "40cfcea8-1c01-4e63-b38a-4b5b4e4a5c35",
   "metadata": {},
   "outputs": [],
   "source": [
    "X_over, y_over = oversample.fit_resample(X, y)"
   ]
  },
  {
   "cell_type": "code",
   "execution_count": 105,
   "id": "75c8d8d6-3893-4f90-ad55-0665fa9b9cfa",
   "metadata": {},
   "outputs": [],
   "source": [
    "X_train, X_test, y_train, y_test = train_test_split(X_over, y_over, stratify =y_over, random_state =5)"
   ]
  },
  {
   "cell_type": "code",
   "execution_count": 106,
   "id": "5b1104dd-75fd-4621-acff-2d2575ce2cbf",
   "metadata": {},
   "outputs": [],
   "source": [
    "scaler = StandardScaler()\n",
    "X_train = scaler.fit_transform(X_train)\n",
    "X_test = scaler.transform(X_test)"
   ]
  },
  {
   "cell_type": "code",
   "execution_count": 107,
   "id": "596748e0-2863-49de-a60a-c7b2c5eb3f45",
   "metadata": {},
   "outputs": [
    {
     "data": {
      "text/plain": [
       "RandomForestClassifier(n_estimators=10)"
      ]
     },
     "execution_count": 107,
     "metadata": {},
     "output_type": "execute_result"
    }
   ],
   "source": [
    "rf4 = RandomForestClassifier(n_estimators = 10)\n",
    "rf4.fit(X_train, y_train)"
   ]
  },
  {
   "cell_type": "code",
   "execution_count": 108,
   "id": "dbdf9ed6-61d8-4abe-9430-20961ca812aa",
   "metadata": {},
   "outputs": [
    {
     "data": {
      "text/plain": [
       "0.9907922337675008"
      ]
     },
     "execution_count": 108,
     "metadata": {},
     "output_type": "execute_result"
    }
   ],
   "source": [
    "rf4.score(X_train, y_train)"
   ]
  },
  {
   "cell_type": "code",
   "execution_count": 109,
   "id": "a98681e5-16b7-4f98-a381-a9f7ec4316b8",
   "metadata": {},
   "outputs": [
    {
     "data": {
      "text/plain": [
       "0.8209058978486755"
      ]
     },
     "execution_count": 109,
     "metadata": {},
     "output_type": "execute_result"
    }
   ],
   "source": [
    "rf4.score(X_test, y_test)"
   ]
  },
  {
   "cell_type": "code",
   "execution_count": 110,
   "id": "1109572f-a503-4b38-a91b-dcb040c13a74",
   "metadata": {},
   "outputs": [],
   "source": [
    "importances = rf4.feature_importances_\n",
    "std = np.std([tree.feature_importances_ for tree in rf.estimators_], axis=0)"
   ]
  },
  {
   "cell_type": "code",
   "execution_count": 111,
   "id": "7e5b58a2-6576-41a8-9c2b-94b0ed121978",
   "metadata": {},
   "outputs": [
    {
     "data": {
      "image/png": "[encoded data removed]",
      "text/plain": [
       "<Figure size 432x288 with 1 Axes>"
      ]
     },
     "metadata": {
      "needs_background": "light"
     },
     "output_type": "display_data"
    }
   ],
   "source": [
    "\n",
    "forest_importances = pd.Series(importances, index=feature_names)\n",
    "\n",
    "fig, ax = plt.subplots()\n",
    "forest_importances.plot.bar(yerr=std, ax=ax)\n",
    "ax.set_title(\"Feature importances using MDI\")\n",
    "ax.set_ylabel(\"Mean decrease in impurity\")\n",
    "fig.tight_layout()"
   ]
  },
  {
   "cell_type": "code",
   "execution_count": 112,
   "id": "f51b5504-bee4-4fc6-abbc-dc86831ed58d",
   "metadata": {},
   "outputs": [],
   "source": [
    "dfch = df4.copy()"
   ]
  },
  {
   "cell_type": "code",
   "execution_count": 113,
   "id": "a0e42f16-0ca8-41aa-b563-7d89236ce96c",
   "metadata": {},
   "outputs": [],
   "source": [
    "dfch = dfch[dfch.pitch_name == 'Changeup']"
   ]
  },
  {
   "cell_type": "code",
   "execution_count": 114,
   "id": "29fe5425-1097-4f3d-a8b5-825adb0d40c7",
   "metadata": {},
   "outputs": [],
   "source": [
    "zch = dfch[['pitch_name', 'spin_axis', 'effective_speed', 'release_spin_rate', 'az', 'ay', 'ax', 'vz0', 'vy0', 'vx0', 'zone', 'balls', 'strikes', 'pfx_x', 'pfx_z','description']]"
   ]
  },
  {
   "cell_type": "code",
   "execution_count": 115,
   "id": "98d530be-0552-416f-a23e-6fd91a790330",
   "metadata": {},
   "outputs": [
    {
     "name": "stderr",
     "output_type": "stream",
     "text": [
      "C:\\Users\\dmarm\\AppData\\Local\\Temp\\ipykernel_15136\\3383771268.py:1: SettingWithCopyWarning: \n",
      "A value is trying to be set on a copy of a slice from a DataFrame\n",
      "\n",
      "See the caveats in the documentation: https://pandas.pydata.org/pandas-docs/stable/user_guide/indexing.html#returning-a-view-versus-a-copy\n"
     ]
    }
   ],
   "source": [
    "zch.dropna(inplace = True)"
   ]
  },
  {
   "cell_type": "code",
   "execution_count": 116,
   "id": "97ede03b-015d-42df-9edf-cc9b07ec0556",
   "metadata": {},
   "outputs": [],
   "source": [
    "X = zch[['spin_axis', 'effective_speed', 'release_spin_rate', 'az', 'ay', 'ax', 'vz0', 'vy0', 'vx0', 'zone', 'balls', 'strikes', 'pfx_x', 'pfx_z']]"
   ]
  },
  {
   "cell_type": "code",
   "execution_count": 117,
   "id": "20b11126-4e23-452f-ab57-0ffffd1538ad",
   "metadata": {},
   "outputs": [],
   "source": [
    "y = zch['description']"
   ]
  },
  {
   "cell_type": "code",
   "execution_count": 118,
   "id": "c92e6e54-a0e2-4e5d-b82f-9eb9de0e8e08",
   "metadata": {},
   "outputs": [],
   "source": [
    "X_over, y_over = oversample.fit_resample(X, y)"
   ]
  },
  {
   "cell_type": "code",
   "execution_count": 119,
   "id": "a296c1e6-6120-4052-a4c4-ca1dd1df94bc",
   "metadata": {},
   "outputs": [],
   "source": [
    "X_train, X_test, y_train, y_test = train_test_split(X_over, y_over, stratify =y_over, random_state =5)"
   ]
  },
  {
   "cell_type": "code",
   "execution_count": 120,
   "id": "b8accc82-729c-41a8-b323-f4e4ccbbaf4c",
   "metadata": {},
   "outputs": [],
   "source": [
    "scaler = StandardScaler()\n",
    "X_train = scaler.fit_transform(X_train)\n",
    "X_test = scaler.transform(X_test)"
   ]
  },
  {
   "cell_type": "code",
   "execution_count": 121,
   "id": "49168832-35b6-469b-a5ed-6875ff707e99",
   "metadata": {},
   "outputs": [
    {
     "data": {
      "text/plain": [
       "RandomForestClassifier(n_estimators=10)"
      ]
     },
     "execution_count": 121,
     "metadata": {},
     "output_type": "execute_result"
    }
   ],
   "source": [
    "rf5 = RandomForestClassifier(n_estimators = 10)\n",
    "rf5.fit(X_train, y_train)"
   ]
  },
  {
   "cell_type": "code",
   "execution_count": 123,
   "id": "439c24b2-11e2-4dcf-9128-1b3314d39bfd",
   "metadata": {},
   "outputs": [
    {
     "data": {
      "text/plain": [
       "0.992740392018831"
      ]
     },
     "execution_count": 123,
     "metadata": {},
     "output_type": "execute_result"
    }
   ],
   "source": [
    "rf5.score(X_train, y_train)"
   ]
  },
  {
   "cell_type": "code",
   "execution_count": 124,
   "id": "fec53cf9-e354-446f-ad4e-6051103c9435",
   "metadata": {},
   "outputs": [
    {
     "data": {
      "text/plain": [
       "0.8334598251113677"
      ]
     },
     "execution_count": 124,
     "metadata": {},
     "output_type": "execute_result"
    }
   ],
   "source": [
    "rf5.score(X_test, y_test)"
   ]
  },
  {
   "cell_type": "code",
   "execution_count": 127,
   "id": "27345984-d904-48a1-a087-c056c2c76d2e",
   "metadata": {},
   "outputs": [],
   "source": [
    "importances = rf5.feature_importances_\n",
    "std = np.std([tree.feature_importances_ for tree in rf.estimators_], axis=0)"
   ]
  },
  {
   "cell_type": "code",
   "execution_count": 128,
   "id": "2f4b5cd0-3766-4be1-98c9-820157ae91ba",
   "metadata": {},
   "outputs": [
    {
     "data": {
      "image/png": "[encoded data removed]",
      "text/plain": [
       "<Figure size 432x288 with 1 Axes>"
      ]
     },
     "metadata": {
      "needs_background": "light"
     },
     "output_type": "display_data"
    }
   ],
   "source": [
    "\n",
    "forest_importances = pd.Series(importances, index=feature_names)\n",
    "\n",
    "fig, ax = plt.subplots()\n",
    "forest_importances.plot.bar(yerr=std, ax=ax)\n",
    "ax.set_title(\"Feature importances using MDI\")\n",
    "ax.set_ylabel(\"Mean decrease in impurity\")\n",
    "fig.tight_layout()"
   ]
  },
  {
   "cell_type": "code",
   "execution_count": 129,
   "id": "2414677f-4d2e-42ef-89d5-29c8a8205bf3",
   "metadata": {},
   "outputs": [],
   "source": [
    "dfcv = df4.copy()"
   ]
  },
  {
   "cell_type": "code",
   "execution_count": 130,
   "id": "93814de6-dac5-4d20-a47e-5b3e84fab02b",
   "metadata": {},
   "outputs": [],
   "source": [
    "dfcv = dfcv[dfcv.pitch_name == 'Curveball']"
   ]
  },
  {
   "cell_type": "code",
   "execution_count": 131,
   "id": "a9f59314-896a-46bb-9cb5-3ed543fc5e27",
   "metadata": {},
   "outputs": [],
   "source": [
    "zcv = dfcv[['pitch_name', 'spin_axis', 'effective_speed', 'release_spin_rate', 'az', 'ay', 'ax', 'vz0', 'vy0', 'vx0', 'zone', 'balls', 'strikes', 'pfx_x', 'pfx_z','description']]"
   ]
  },
  {
   "cell_type": "code",
   "execution_count": 132,
   "id": "54cfa146-3ad3-4b48-9a47-982ae714a76c",
   "metadata": {},
   "outputs": [
    {
     "name": "stderr",
     "output_type": "stream",
     "text": [
      "C:\\Users\\dmarm\\AppData\\Local\\Temp\\ipykernel_15136\\130236876.py:1: SettingWithCopyWarning: \n",
      "A value is trying to be set on a copy of a slice from a DataFrame\n",
      "\n",
      "See the caveats in the documentation: https://pandas.pydata.org/pandas-docs/stable/user_guide/indexing.html#returning-a-view-versus-a-copy\n"
     ]
    }
   ],
   "source": [
    "zcv.dropna(inplace = True)"
   ]
  },
  {
   "cell_type": "code",
   "execution_count": 133,
   "id": "2bf5a770-601d-4e7d-8c25-629efbd8fc28",
   "metadata": {},
   "outputs": [],
   "source": [
    "X = zcv[['spin_axis', 'effective_speed', 'release_spin_rate', 'az', 'ay', 'ax', 'vz0', 'vy0', 'vx0', 'zone', 'balls', 'strikes', 'pfx_x', 'pfx_z']]"
   ]
  },
  {
   "cell_type": "code",
   "execution_count": 134,
   "id": "670a2779-c55b-4f91-a4d9-a69e5779a71f",
   "metadata": {},
   "outputs": [],
   "source": [
    "y = zcv['description']"
   ]
  },
  {
   "cell_type": "code",
   "execution_count": 135,
   "id": "9c1ac8d2-860a-4bc6-96a9-862b54a9d432",
   "metadata": {},
   "outputs": [],
   "source": [
    "X_over, y_over = oversample.fit_resample(X, y)"
   ]
  },
  {
   "cell_type": "code",
   "execution_count": 136,
   "id": "2cf79079-d23e-4b18-9231-7be2174f28a8",
   "metadata": {},
   "outputs": [],
   "source": [
    "X_train, X_test, y_train, y_test = train_test_split(X_over, y_over, stratify =y_over, random_state =5)"
   ]
  },
  {
   "cell_type": "code",
   "execution_count": 137,
   "id": "41263e0c-eb3d-466b-babc-54e9538fbad3",
   "metadata": {},
   "outputs": [],
   "source": [
    "scaler = StandardScaler()\n",
    "X_train = scaler.fit_transform(X_train)\n",
    "X_test = scaler.transform(X_test)"
   ]
  },
  {
   "cell_type": "code",
   "execution_count": 138,
   "id": "17f0a54a-5b16-4825-8eb4-42429c335a9e",
   "metadata": {},
   "outputs": [
    {
     "data": {
      "text/plain": [
       "RandomForestClassifier(n_estimators=10)"
      ]
     },
     "execution_count": 138,
     "metadata": {},
     "output_type": "execute_result"
    }
   ],
   "source": [
    "rf6 = RandomForestClassifier(n_estimators = 10)\n",
    "rf6.fit(X_train, y_train)"
   ]
  },
  {
   "cell_type": "code",
   "execution_count": 139,
   "id": "2c63d21d-7489-4e75-b691-e60c807676d7",
   "metadata": {},
   "outputs": [
    {
     "data": {
      "text/plain": [
       "0.9927796160869041"
      ]
     },
     "execution_count": 139,
     "metadata": {},
     "output_type": "execute_result"
    }
   ],
   "source": [
    "rf6.score(X_train, y_train)"
   ]
  },
  {
   "cell_type": "code",
   "execution_count": 140,
   "id": "5355216f-7b83-46fb-838b-2a24994c1cef",
   "metadata": {},
   "outputs": [
    {
     "data": {
      "text/plain": [
       "0.8540166282012068"
      ]
     },
     "execution_count": 140,
     "metadata": {},
     "output_type": "execute_result"
    }
   ],
   "source": [
    "rf6.score(X_test, y_test)"
   ]
  },
  {
   "cell_type": "code",
   "execution_count": 141,
   "id": "aed64f5d-803d-434c-8334-acf1814e8f0a",
   "metadata": {},
   "outputs": [],
   "source": [
    "importances = rf6.feature_importances_\n",
    "std = np.std([tree.feature_importances_ for tree in rf.estimators_], axis=0)"
   ]
  },
  {
   "cell_type": "code",
   "execution_count": 142,
   "id": "0fc931d0-c9dc-4581-9aef-e6c1f46cf13e",
   "metadata": {},
   "outputs": [
    {
     "data": {
      "image/png": "[encoded data removed]",
      "text/plain": [
       "<Figure size 432x288 with 1 Axes>"
      ]
     },
     "metadata": {
      "needs_background": "light"
     },
     "output_type": "display_data"
    }
   ],
   "source": [
    "\n",
    "forest_importances = pd.Series(importances, index=feature_names)\n",
    "\n",
    "fig, ax = plt.subplots()\n",
    "forest_importances.plot.bar(yerr=std, ax=ax)\n",
    "ax.set_title(\"Feature importances using MDI\")\n",
    "ax.set_ylabel(\"Mean decrease in impurity\")\n",
    "fig.tight_layout()"
   ]
  },
  {
   "cell_type": "code",
   "execution_count": 143,
   "id": "2da0c2e3-2b3c-4655-911f-7edc9a1485aa",
   "metadata": {},
   "outputs": [],
   "source": [
    "dfcut = df4.copy()"
   ]
  },
  {
   "cell_type": "code",
   "execution_count": 144,
   "id": "45b58f47-eb7d-4710-bf76-370019fcc626",
   "metadata": {},
   "outputs": [],
   "source": [
    "dfcut = dfcut[dfcut.pitch_name == 'Cutter']"
   ]
  },
  {
   "cell_type": "code",
   "execution_count": 145,
   "id": "18265c79-2aaa-4a44-9c94-2f30a2d932d3",
   "metadata": {},
   "outputs": [],
   "source": [
    "zcut = dfcut[['pitch_name', 'spin_axis', 'effective_speed', 'release_spin_rate', 'az', 'ay', 'ax', 'vz0', 'vy0', 'vx0', 'zone', 'balls', 'strikes', 'pfx_x', 'pfx_z','description']]"
   ]
  },
  {
   "cell_type": "code",
   "execution_count": 146,
   "id": "a37526c0-b343-41ee-8c40-4d7f78ff83ea",
   "metadata": {},
   "outputs": [
    {
     "name": "stderr",
     "output_type": "stream",
     "text": [
      "C:\\Users\\dmarm\\AppData\\Local\\Temp\\ipykernel_15136\\3390590408.py:1: SettingWithCopyWarning: \n",
      "A value is trying to be set on a copy of a slice from a DataFrame\n",
      "\n",
      "See the caveats in the documentation: https://pandas.pydata.org/pandas-docs/stable/user_guide/indexing.html#returning-a-view-versus-a-copy\n"
     ]
    }
   ],
   "source": [
    "zcut.dropna(inplace = True)"
   ]
  },
  {
   "cell_type": "code",
   "execution_count": 147,
   "id": "18f65f77-ca2f-4136-9f32-c56156505850",
   "metadata": {},
   "outputs": [],
   "source": [
    "X = zcut[['spin_axis', 'effective_speed', 'release_spin_rate', 'az', 'ay', 'ax', 'vz0', 'vy0', 'vx0', 'zone', 'balls', 'strikes', 'pfx_x', 'pfx_z']]"
   ]
  },
  {
   "cell_type": "code",
   "execution_count": 150,
   "id": "59a02ebd-d5aa-4c67-9188-7081d6a37826",
   "metadata": {},
   "outputs": [],
   "source": [
    "y = zcut['description']"
   ]
  },
  {
   "cell_type": "code",
   "execution_count": 151,
   "id": "35e0ed12-daf6-4456-9b68-256ce187ea5a",
   "metadata": {},
   "outputs": [],
   "source": [
    "X_over, y_over = oversample.fit_resample(X, y)"
   ]
  },
  {
   "cell_type": "code",
   "execution_count": 152,
   "id": "aaba43c7-1166-41b5-beb7-9cffcb73201e",
   "metadata": {},
   "outputs": [],
   "source": [
    "X_train, X_test, y_train, y_test = train_test_split(X_over, y_over, stratify =y_over, random_state =5)"
   ]
  },
  {
   "cell_type": "code",
   "execution_count": 153,
   "id": "1dd483eb-06a0-4952-92e4-b05623837986",
   "metadata": {},
   "outputs": [],
   "source": [
    "scaler = StandardScaler()\n",
    "X_train = scaler.fit_transform(X_train)\n",
    "X_test = scaler.transform(X_test)"
   ]
  },
  {
   "cell_type": "code",
   "execution_count": 154,
   "id": "acd76f6b-a9db-44d4-a4a6-97c101e7232e",
   "metadata": {},
   "outputs": [
    {
     "data": {
      "text/plain": [
       "RandomForestClassifier(n_estimators=10)"
      ]
     },
     "execution_count": 154,
     "metadata": {},
     "output_type": "execute_result"
    }
   ],
   "source": [
    "rf7 = RandomForestClassifier(n_estimators = 10)\n",
    "rf7.fit(X_train, y_train)"
   ]
  },
  {
   "cell_type": "code",
   "execution_count": 156,
   "id": "6ec91837-6946-4b8d-a365-8eecbef89c32",
   "metadata": {},
   "outputs": [
    {
     "data": {
      "text/plain": [
       "0.9958078681696773"
      ]
     },
     "execution_count": 156,
     "metadata": {},
     "output_type": "execute_result"
    }
   ],
   "source": [
    "rf7.score(X_train, y_train)"
   ]
  },
  {
   "cell_type": "code",
   "execution_count": 157,
   "id": "38ccc2fe-33ca-4f95-93f4-5f430ed870fb",
   "metadata": {},
   "outputs": [
    {
     "data": {
      "text/plain": [
       "0.8941735705554801"
      ]
     },
     "execution_count": 157,
     "metadata": {},
     "output_type": "execute_result"
    }
   ],
   "source": [
    "rf7.score(X_test, y_test)"
   ]
  },
  {
   "cell_type": "code",
   "execution_count": 158,
   "id": "8e207fa6-516f-4164-bd12-cc98c398b5cc",
   "metadata": {},
   "outputs": [],
   "source": [
    "importances = rf7.feature_importances_\n",
    "std = np.std([tree.feature_importances_ for tree in rf.estimators_], axis=0)"
   ]
  },
  {
   "cell_type": "code",
   "execution_count": 159,
   "id": "c6b36a97-b468-4195-8e44-e2039756f828",
   "metadata": {},
   "outputs": [
    {
     "data": {
      "image/png": "[encoded data removed]",
      "text/plain": [
       "<Figure size 432x288 with 1 Axes>"
      ]
     },
     "metadata": {
      "needs_background": "light"
     },
     "output_type": "display_data"
    }
   ],
   "source": [
    "forest_importances = pd.Series(importances, index=feature_names)\n",
    "\n",
    "fig, ax = plt.subplots()\n",
    "forest_importances.plot.bar(yerr=std, ax=ax)\n",
    "ax.set_title(\"Feature importances using MDI\")\n",
    "ax.set_ylabel(\"Mean decrease in impurity\")\n",
    "fig.tight_layout()"
   ]
  },
  {
   "cell_type": "code",
   "execution_count": null,
   "id": "41a3967b-89a2-4394-8c08-7c706fc7bfbc",
   "metadata": {},
   "outputs": [],
   "source": []
  }
 ],
 "metadata": {
  "kernelspec": {
   "display_name": "Python [conda env:GA]",
   "language": "python",
   "name": "conda-env-GA-py"
  },
  "language_info": {
   "codemirror_mode": {
    "name": "ipython",
    "version": 3
   },
   "file_extension": ".py",
   "mimetype": "text/x-python",
   "name": "python",
   "nbconvert_exporter": "python",
   "pygments_lexer": "ipython3",
   "version": "3.9.11"
  }
 },
 "nbformat": 4,
 "nbformat_minor": 5
}
