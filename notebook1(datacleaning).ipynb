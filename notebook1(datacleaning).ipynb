{
 "cells": [
  {
   "cell_type": "markdown",
   "id": "1362ccbf-92fe-4b84-bb58-7ffc9d29f2bf",
   "metadata": {},
   "source": [
    "## PREDICTING PITCH SUCCESS"
   ]
  },
  {
   "cell_type": "markdown",
   "id": "5f970569-8d07-4910-b2c7-3390cc671d53",
   "metadata": {},
   "source": [
    "## Data Collection"
   ]
  },
  {
   "cell_type": "code",
   "execution_count": 1,
   "id": "2f633ca0-38c6-4b5f-b3db-e919eabe7bd6",
   "metadata": {},
   "outputs": [],
   "source": [
    "from pybaseball import statcast "
   ]
  },
  {
   "cell_type": "code",
   "execution_count": null,
   "id": "b684f813-8826-4845-96f9-9abb0d72cadd",
   "metadata": {},
   "outputs": [],
   "source": [
    "#data = statcast(start_dt='2017-04-01', end_dt='2021-11-01') This collects the data. I commented it out because it takes a long time to run"
   ]
  },
  {
   "cell_type": "code",
   "execution_count": 15,
   "id": "726a3210-fb05-45c5-9abd-05440e3f1212",
   "metadata": {},
   "outputs": [],
   "source": [
    "df = data"
   ]
  },
  {
   "cell_type": "code",
   "execution_count": 4,
   "id": "212a943b-ffc5-4d7d-b402-0c6bca6ec355",
   "metadata": {},
   "outputs": [],
   "source": [
    "import pickle"
   ]
  },
  {
   "cell_type": "code",
   "execution_count": null,
   "id": "18c4e5f8-f19e-42aa-b824-698390d8d6d1",
   "metadata": {},
   "outputs": [],
   "source": [
    "df.to_pickle(\"./dummy.pkl\") #savedata"
   ]
  },
  {
   "cell_type": "code",
   "execution_count": 164,
   "id": "037641a4-14ef-4a34-be1f-62c7d6062c1d",
   "metadata": {},
   "outputs": [],
   "source": [
    "infile = open('dummy.pkl','rb')\n",
    "df = pickle.load(infile)\n",
    "infile.close()"
   ]
  },
  {
   "cell_type": "code",
   "execution_count": 3,
   "id": "fdec79e7-6410-4817-b80d-81c4ce766f1a",
   "metadata": {},
   "outputs": [],
   "source": [
    "df = new_dict"
   ]
  },
  {
   "cell_type": "markdown",
   "id": "6f2c66eb-4533-4d08-9441-714cd5a7adf6",
   "metadata": {},
   "source": [
    "## Data Cleaning"
   ]
  },
  {
   "cell_type": "code",
   "execution_count": 2,
   "id": "976aab26-9652-4603-9678-25c72cbff91e",
   "metadata": {},
   "outputs": [],
   "source": [
    "import pandas as pd \n",
    "from plotnine import ggplot, aes, geom_bar, geom_point, geom_histogram, geom_boxplot"
   ]
  },
  {
   "cell_type": "code",
   "execution_count": 5,
   "id": "5381f4e5-c408-40aa-9759-90ca4155ea01",
   "metadata": {},
   "outputs": [],
   "source": [
    "df.drop(columns = ['umpire', 'spin_dir', 'sv_id', 'break_angle_deprecated', 'spin_rate_deprecated', 'break_length_deprecated', 'tfs_zulu_deprecated', 'tfs_deprecated'], inplace = True)"
   ]
  },
  {
   "cell_type": "markdown",
   "id": "ccc1a304-1fbe-43c0-a41a-965433796778",
   "metadata": {},
   "source": [
    "these columns are 100% NAs "
   ]
  },
  {
   "cell_type": "code",
   "execution_count": 66,
   "id": "862586ea-dd9c-47cf-9dd0-672779c0c893",
   "metadata": {},
   "outputs": [
    {
     "data": {
      "text/plain": [
       "ball                       1096247\n",
       "hit_into_play               570196\n",
       "foul                        569110\n",
       "called_strike               542171\n",
       "swinging_strike             338803\n",
       "blocked_ball                 77878\n",
       "foul_tip                     28758\n",
       "swinging_strike_blocked      24731\n",
       "hit_by_pitch                  9066\n",
       "foul_bunt                     7680\n",
       "missed_bunt                   1644\n",
       "pitchout                       316\n",
       "bunt_foul_tip                  158\n",
       "foul_pitchout                    2\n",
       "swinging_pitchout                1\n",
       "Name: description, dtype: int64"
      ]
     },
     "execution_count": 66,
     "metadata": {},
     "output_type": "execute_result"
    }
   ],
   "source": [
    "df['description'].value_counts()"
   ]
  },
  {
   "cell_type": "markdown",
   "id": "e18f30d3-1f45-405d-a322-e2e7fafa0baa",
   "metadata": {},
   "source": [
    "This variable will be used to construct the target variable. We are looking to predict whiffs, when the pitcher gets a swing and miss, vs when the batter makes contact."
   ]
  },
  {
   "cell_type": "code",
   "execution_count": 67,
   "id": "84cc8977-0ddc-45b3-8aec-f1e6fc2d8110",
   "metadata": {},
   "outputs": [
    {
     "data": {
      "text/plain": [
       "0"
      ]
     },
     "execution_count": 67,
     "metadata": {},
     "output_type": "execute_result"
    }
   ],
   "source": [
    "df['description'].isnull().sum()"
   ]
  },
  {
   "cell_type": "code",
   "execution_count": 6,
   "id": "86090df0-453b-4573-8433-5720f1e4f2c8",
   "metadata": {},
   "outputs": [],
   "source": [
    "df.drop(columns = ['fielder_2.1','fielder_3','fielder_4','fielder_5','fielder_6','fielder_7','fielder_8','fielder_9', 'game_date'], inplace = True) #columns not relevent"
   ]
  },
  {
   "cell_type": "code",
   "execution_count": 24,
   "id": "e69b5fde-d1e1-427e-a32f-b7880cb198a1",
   "metadata": {},
   "outputs": [],
   "source": [
    "df.to_pickle(\"./dummy.pkl\")  #save progress again"
   ]
  },
  {
   "cell_type": "code",
   "execution_count": 49,
   "id": "92ec02ec-263d-48c9-8b9b-c1ca3b1818cd",
   "metadata": {},
   "outputs": [],
   "source": [
    "df1 =df.copy()"
   ]
  },
  {
   "cell_type": "code",
   "execution_count": 9,
   "id": "9216f785-dd35-4360-9761-35e38764c7ce",
   "metadata": {},
   "outputs": [],
   "source": [
    "df1 = df1.drop(columns = ['delta_run_exp', 'delta_home_win_exp', 'post_fld_score', 'post_bat_score', 'post_home_score', 'post_away_score', 'fld_score', 'bat_score', 'away_score', 'home_score'], inplace = True)"
   ]
  },
  {
   "cell_type": "code",
   "execution_count": null,
   "id": "da0b9bbb-f17f-472f-8572-651e8ca21157",
   "metadata": {},
   "outputs": [],
   "source": [
    "df1.drop(columns = ['delta_run_exp', 'delta_home_win_exp', 'post_fld_score', 'post_bat_score', 'post_home_score', 'post_away_score', 'fld_score', 'bat_score', 'away_score', 'home_score'], inplace = True)"
   ]
  },
  {
   "cell_type": "code",
   "execution_count": 30,
   "id": "affa23e7-23b1-4022-9f43-7b7a38a9bb5f",
   "metadata": {},
   "outputs": [],
   "source": [
    "df1.drop(columns = ['pitch_name'], inplace = True) "
   ]
  },
  {
   "cell_type": "code",
   "execution_count": 53,
   "id": "07f762f9-8023-44be-8c1c-803d8ab42952",
   "metadata": {},
   "outputs": [],
   "source": [
    "df1.dropna(subset = ['pitch_type'], inplace = True)"
   ]
  },
  {
   "cell_type": "code",
   "execution_count": 54,
   "id": "15b98984-9e35-4ff5-a503-724545d40704",
   "metadata": {},
   "outputs": [
    {
     "data": {
      "text/plain": [
       "4-Seam Fastball    1133690\n",
       "Sinker              576878\n",
       "Slider              564186\n",
       "Changeup            344876\n",
       "Curveball           270056\n",
       "Cutter              198784\n",
       "Knuckle Curve        79866\n",
       "Split-Finger         50149\n",
       "Knuckleball           3628\n",
       "Fastball              1545\n",
       "Eephus                 526\n",
       "Forkball               367\n",
       "Pitch Out              202\n",
       "Screwball               77\n",
       "Name: pitch_name, dtype: int64"
      ]
     },
     "execution_count": 54,
     "metadata": {},
     "output_type": "execute_result"
    }
   ],
   "source": [
    "df1['pitch_name'].value_counts()"
   ]
  },
  {
   "cell_type": "markdown",
   "id": "09b61c23-889b-43a3-a8da-ca72a483bb24",
   "metadata": {},
   "source": [
    "Because each pitch type is different, we will have different models for each common pitch type. "
   ]
  },
  {
   "cell_type": "code",
   "execution_count": 97,
   "id": "f1b24293-fc9c-4273-a8e7-5434f5b264a2",
   "metadata": {},
   "outputs": [],
   "source": [
    "df4 = df1.copy()"
   ]
  },
  {
   "cell_type": "code",
   "execution_count": 98,
   "id": "a0db84df-f77d-438c-a794-aa497054bda1",
   "metadata": {},
   "outputs": [],
   "source": [
    "cleanup_nums = {\"description\":     {\"swinging_strike\":1, \"hit_into_play\":0, 'foul':0, 'swinging_strike_blocked':1, 'foul_tip':1}}"
   ]
  },
  {
   "cell_type": "code",
   "execution_count": 99,
   "id": "e219d784-a37f-463b-9eef-acb69b44498d",
   "metadata": {},
   "outputs": [],
   "source": [
    "df4 = df4.replace(cleanup_nums)"
   ]
  },
  {
   "cell_type": "code",
   "execution_count": 103,
   "id": "c6d52a36-65e3-4089-92c1-c6970c2fb25d",
   "metadata": {},
   "outputs": [],
   "source": [
    "cleanup_nums2 = {\"description\":     {\"ball\":3, \"called_strike\":3, 'blocked_ball':3, 'hit_by_pitch':3, 'foul_bunt':3, 'missed_bunt':3, 'pitchout':3, 'bunt_foul_tip':3, 'foul_pitchout':3, 'swinging_pitchout':3}} #pitches that are not swung at as well as bunt attempts are labeled as 3 so they can be removed from the data"
   ]
  },
  {
   "cell_type": "code",
   "execution_count": 104,
   "id": "9f124878-f846-4a0d-9aa2-f35aaf9c05f4",
   "metadata": {},
   "outputs": [],
   "source": [
    "df4 = df4.replace(cleanup_nums2)"
   ]
  },
  {
   "cell_type": "code",
   "execution_count": 107,
   "id": "deb8552f-ed90-4059-8fb0-7759ff539fe0",
   "metadata": {},
   "outputs": [],
   "source": [
    "df4 = df4.astype({\"description\": int})"
   ]
  },
  {
   "cell_type": "code",
   "execution_count": 108,
   "id": "7913d1e7-95e2-4cb1-8488-8971643d4338",
   "metadata": {},
   "outputs": [],
   "source": [
    "df4 = df4[df4.description < 2] #remove all 3s"
   ]
  },
  {
   "cell_type": "code",
   "execution_count": 109,
   "id": "6c4ef860-dcd3-4146-9f57-6755769ca9c8",
   "metadata": {},
   "outputs": [
    {
     "data": {
      "text/plain": [
       "0    1123537\n",
       "1     383373\n",
       "Name: description, dtype: int64"
      ]
     },
     "execution_count": 109,
     "metadata": {},
     "output_type": "execute_result"
    }
   ],
   "source": [
    "df4['description'].value_counts()"
   ]
  },
  {
   "cell_type": "markdown",
   "id": "fedaf1e3-7156-4072-8e3e-a48e950fd7c8",
   "metadata": {},
   "source": [
    "The data is unbalanced with far more swings that are not misses than that are misses. This will be addressed in the model notebook."
   ]
  },
  {
   "cell_type": "code",
   "execution_count": 110,
   "id": "a7c6e026-534d-4243-bbc2-770b822edc1a",
   "metadata": {},
   "outputs": [],
   "source": [
    "df4.to_pickle(\"./dummy2.pkl\")  "
   ]
  },
  {
   "cell_type": "code",
   "execution_count": 5,
   "id": "2df82446-8e47-4fe6-a899-f836707c5850",
   "metadata": {},
   "outputs": [],
   "source": [
    "infile = open('dummy2.pkl','rb')\n",
    "df4 = pickle.load(infile)\n",
    "infile.close()"
   ]
  },
  {
   "cell_type": "code",
   "execution_count": 112,
   "id": "c5196ac9-acd1-4f2e-807e-6973993ee2a1",
   "metadata": {},
   "outputs": [
    {
     "data": {
      "text/plain": [
       "0"
      ]
     },
     "execution_count": 112,
     "metadata": {},
     "output_type": "execute_result"
    }
   ],
   "source": [
    "df4['description'].isna().sum()"
   ]
  },
  {
   "cell_type": "markdown",
   "id": "57cb7b2d-56d6-4507-9f1a-817151f2f085",
   "metadata": {},
   "source": [
    "The next step is EDA. See notebook 2"
   ]
  },
  {
   "cell_type": "code",
   "execution_count": 21,
   "id": "bf3f5c2f-3569-4cca-a5c5-e67cf5b801e1",
   "metadata": {},
   "outputs": [
    {
     "data": {
      "text/plain": [
       "LogisticRegression()"
      ]
     },
     "execution_count": 21,
     "metadata": {},
     "output_type": "execute_result"
    }
   ],
   "source": [
    "logreg = LogisticRegression()\n",
    "logreg.fit(X_train, y_train)"
   ]
  },
  {
   "cell_type": "code",
   "execution_count": 22,
   "id": "bf95df07-d08a-4b04-87dc-24c79b969dc9",
   "metadata": {},
   "outputs": [
    {
     "data": {
      "text/plain": [
       "0.757568376053011"
      ]
     },
     "execution_count": 22,
     "metadata": {},
     "output_type": "execute_result"
    }
   ],
   "source": [
    "logreg.score(X_train, y_train) "
   ]
  },
  {
   "cell_type": "code",
   "execution_count": 23,
   "id": "6fe7f9eb-c7f2-451e-abec-02b7ef08e3c2",
   "metadata": {},
   "outputs": [
    {
     "data": {
      "text/plain": [
       "0.7576137546448353"
      ]
     },
     "execution_count": 23,
     "metadata": {},
     "output_type": "execute_result"
    }
   ],
   "source": [
    "logreg.score(X_test, y_test)"
   ]
  },
  {
   "cell_type": "code",
   "execution_count": 24,
   "id": "6d9c6c80-7586-465c-ac47-d301686b52d3",
   "metadata": {},
   "outputs": [
    {
     "data": {
      "text/plain": [
       "array([[ 0.0256924 ,  0.23236175,  0.08746582,  0.02470117,  0.12200989,\n",
       "         0.6201927 , -0.06717886,  0.42332337,  0.16015743,  0.51041135,\n",
       "        -0.10228374, -0.05318821, -0.46508624, -0.06618545]])"
      ]
     },
     "execution_count": 24,
     "metadata": {},
     "output_type": "execute_result"
    }
   ],
   "source": [
    "logreg.coef_"
   ]
  },
  {
   "cell_type": "code",
   "execution_count": 25,
   "id": "372c8f88-f1dd-4cbe-a65b-50c1a966242b",
   "metadata": {},
   "outputs": [],
   "source": [
    "y_pred = logreg.predict(X_test)"
   ]
  },
  {
   "cell_type": "code",
   "execution_count": 26,
   "id": "8bdb3790-a475-4f67-bea8-e55395491034",
   "metadata": {},
   "outputs": [],
   "source": [
    "cm = confusion_matrix(y_test, y_pred)"
   ]
  },
  {
   "cell_type": "code",
   "execution_count": 27,
   "id": "0ff8f454-8bd9-400a-8670-289e95fe3577",
   "metadata": {},
   "outputs": [],
   "source": [
    "cm_df = pd.DataFrame(cm)"
   ]
  },
  {
   "cell_type": "code",
   "execution_count": 28,
   "id": "ef501aa0-0da2-4b27-80c4-cb53a638fa1b",
   "metadata": {},
   "outputs": [
    {
     "data": {
      "image/png": "[encoded data removed]",
      "text/plain": [
       "<Figure size 1440x1440 with 2 Axes>"
      ]
     },
     "metadata": {
      "needs_background": "light"
     },
     "output_type": "display_data"
    }
   ],
   "source": [
    "#Plotting the confusion matrix\n",
    "plt.figure(figsize=(20,20))\n",
    "sns.heatmap(cm_df, annot=True, cmap = 'winter')\n",
    "plt.title('Confusion Matrix')\n",
    "plt.ylabel('Actal Values')\n",
    "plt.xlabel('Predicted Values')\n",
    "plt.show()"
   ]
  },
  {
   "cell_type": "code",
   "execution_count": 17,
   "id": "2a284514-a839-4b28-b5a4-804720065720",
   "metadata": {},
   "outputs": [],
   "source": [
    "oversample = im.over_sampling.RandomOverSampler(sampling_strategy='minority')"
   ]
  },
  {
   "cell_type": "code",
   "execution_count": 38,
   "id": "6fa392ad-96fa-4505-8151-7602b258a511",
   "metadata": {},
   "outputs": [],
   "source": [
    "X_over, y_over = oversample.fit_resample(X, y)"
   ]
  },
  {
   "cell_type": "code",
   "execution_count": 40,
   "id": "c937d6c7-149e-4967-a897-29c1d5788a8f",
   "metadata": {},
   "outputs": [
    {
     "data": {
      "text/plain": [
       "1    1107598\n",
       "0    1107598\n",
       "Name: description, dtype: int64"
      ]
     },
     "execution_count": 40,
     "metadata": {},
     "output_type": "execute_result"
    }
   ],
   "source": [
    "y_over.value_counts()"
   ]
  },
  {
   "cell_type": "code",
   "execution_count": 41,
   "id": "1e22920b-c791-496d-955c-9e07d58e9d83",
   "metadata": {},
   "outputs": [],
   "source": [
    "X_train, X_test, y_train, y_test = train_test_split(X_over, y_over, stratify =y_over, random_state =5)"
   ]
  },
  {
   "cell_type": "code",
   "execution_count": 42,
   "id": "f3636e0b-4849-4d53-a3a5-bfa86fc863a3",
   "metadata": {},
   "outputs": [],
   "source": [
    "scaler = StandardScaler()\n",
    "X_train = scaler.fit_transform(X_train)\n",
    "X_test = scaler.transform(X_test)"
   ]
  },
  {
   "cell_type": "code",
   "execution_count": 44,
   "id": "47bcdba1-506a-430e-a734-6a56a1637101",
   "metadata": {},
   "outputs": [
    {
     "data": {
      "text/plain": [
       "LogisticRegression()"
      ]
     },
     "execution_count": 44,
     "metadata": {},
     "output_type": "execute_result"
    }
   ],
   "source": [
    "logreg2 = LogisticRegression()\n",
    "logreg2.fit(X_train, y_train)"
   ]
  },
  {
   "cell_type": "code",
   "execution_count": 45,
   "id": "e30a4577-21d2-4769-98a4-6e1aa926044e",
   "metadata": {},
   "outputs": [
    {
     "data": {
      "text/plain": [
       "0.6265401947878804"
      ]
     },
     "execution_count": 45,
     "metadata": {},
     "output_type": "execute_result"
    }
   ],
   "source": [
    "logreg2.score(X_train, y_train) "
   ]
  },
  {
   "cell_type": "code",
   "execution_count": 46,
   "id": "a76be24d-5eab-4f75-8a33-a50552e463e9",
   "metadata": {},
   "outputs": [
    {
     "data": {
      "text/plain": [
       "0.6259130117605847"
      ]
     },
     "execution_count": 46,
     "metadata": {},
     "output_type": "execute_result"
    }
   ],
   "source": [
    "logreg2.score(X_test, y_test)"
   ]
  },
  {
   "cell_type": "code",
   "execution_count": 51,
   "id": "b8b6148d-eb26-445a-916d-64e7fe1e7780",
   "metadata": {},
   "outputs": [],
   "source": [
    "X_over, y_over = oversample.fit_resample(U, v)"
   ]
  },
  {
   "cell_type": "code",
   "execution_count": 52,
   "id": "327749ee-23bc-472f-bc37-6bd688d508fe",
   "metadata": {},
   "outputs": [],
   "source": [
    "X_train, X_test, y_train, y_test = train_test_split(X_over, y_over, stratify =y_over, random_state =5)"
   ]
  },
  {
   "cell_type": "code",
   "execution_count": 53,
   "id": "1791f8f9-23cb-45ab-a43a-c84bd5ddf5fa",
   "metadata": {},
   "outputs": [],
   "source": [
    "scaler = StandardScaler()\n",
    "X_train = scaler.fit_transform(X_train)\n",
    "X_test = scaler.transform(X_test)"
   ]
  },
  {
   "cell_type": "code",
   "execution_count": 59,
   "id": "f9629f1f-64b0-454d-a78b-e778d6455b23",
   "metadata": {},
   "outputs": [
    {
     "data": {
      "text/plain": [
       "LogisticRegression()"
      ]
     },
     "execution_count": 59,
     "metadata": {},
     "output_type": "execute_result"
    }
   ],
   "source": [
    "logreg3 = LogisticRegression()\n",
    "logreg3.fit(X_train, y_train)"
   ]
  },
  {
   "cell_type": "code",
   "execution_count": 60,
   "id": "27abfa82-7e42-4bec-831c-85fb6fd21074",
   "metadata": {},
   "outputs": [
    {
     "data": {
      "text/plain": [
       "0.6262562392818479"
      ]
     },
     "execution_count": 60,
     "metadata": {},
     "output_type": "execute_result"
    }
   ],
   "source": [
    "logreg3.score(X_train, y_train) "
   ]
  },
  {
   "cell_type": "code",
   "execution_count": 61,
   "id": "617ec148-80eb-4cd5-a272-716f79388265",
   "metadata": {},
   "outputs": [
    {
     "data": {
      "text/plain": [
       "0.5226386533689726"
      ]
     },
     "execution_count": 61,
     "metadata": {},
     "output_type": "execute_result"
    }
   ],
   "source": [
    "logreg2.score(X_test, y_test)"
   ]
  },
  {
   "cell_type": "code",
   "execution_count": 21,
   "id": "1362a21e-0ecc-4d9c-a0e5-612cc5462e6f",
   "metadata": {},
   "outputs": [
    {
     "data": {
      "text/plain": [
       "RandomForestClassifier(n_estimators=10)"
      ]
     },
     "execution_count": 21,
     "metadata": {},
     "output_type": "execute_result"
    }
   ],
   "source": [
    "rf = RandomForestClassifier(n_estimators = 10)\n",
    "rf.fit(X_train, y_train)"
   ]
  },
  {
   "cell_type": "code",
   "execution_count": 25,
   "id": "8083a5bd-e7df-4eba-9322-3861434996a8",
   "metadata": {},
   "outputs": [],
   "source": [
    "filename = 'model.sav'\n",
    "pickle.dump(rf, open(filename, 'wb'))"
   ]
  },
  {
   "cell_type": "code",
   "execution_count": 55,
   "id": "c6c7ac4c-d180-449c-88c7-e4de55ae6cdc",
   "metadata": {},
   "outputs": [],
   "source": [
    "filename = 'modeltest.sav'\n",
    "pickle.dump(rf0, open(filename, 'wb'))"
   ]
  },
  {
   "cell_type": "code",
   "execution_count": 152,
   "id": "1635ca43-00b5-46d4-b598-2879f04854de",
   "metadata": {},
   "outputs": [],
   "source": [
    "importances = rf.feature_importances_\n",
    "std = np.std([tree.feature_importances_ for tree in rf.estimators_], axis=0)"
   ]
  },
  {
   "cell_type": "code",
   "execution_count": 27,
   "id": "11ec62f4-a676-4b20-a99b-249fa7770a1f",
   "metadata": {},
   "outputs": [],
   "source": [
    "feature_names = ['spin_axis', 'effective_speed', 'release_spin_rate', 'az', 'ay', 'ax', 'vz0', 'vy0', 'vx0', 'zone', 'balls', 'strikes', 'pfx_x', 'pfx_z']"
   ]
  },
  {
   "cell_type": "code",
   "execution_count": 32,
   "id": "265ff3e6-fc69-45f0-965f-06557160a389",
   "metadata": {},
   "outputs": [],
   "source": [
    "filename = 'list.pkl'\n",
    "pickle.dump(feature_names, open(filename, 'wb'))"
   ]
  },
  {
   "cell_type": "code",
   "execution_count": 69,
   "id": "73cb5ca7-8651-46db-81d9-1bb3b4cd955e",
   "metadata": {},
   "outputs": [
    {
     "data": {
      "text/plain": [
       "GradientBoostingClassifier(n_estimators=10)"
      ]
     },
     "execution_count": 69,
     "metadata": {},
     "output_type": "execute_result"
    }
   ],
   "source": [
    "gb = GradientBoostingClassifier(n_estimators = 10)\n",
    "gb.fit(X_train, y_train)"
   ]
  },
  {
   "cell_type": "code",
   "execution_count": 70,
   "id": "81170217-ef72-47f3-9a93-bcbecb116866",
   "metadata": {},
   "outputs": [
    {
     "data": {
      "text/plain": [
       "0.619942708782418"
      ]
     },
     "execution_count": 70,
     "metadata": {},
     "output_type": "execute_result"
    }
   ],
   "source": [
    "gb.score(X_train, y_train)"
   ]
  },
  {
   "cell_type": "code",
   "execution_count": 71,
   "id": "3ab087c8-6861-4382-aeb4-68f5fb6875dd",
   "metadata": {},
   "outputs": [
    {
     "data": {
      "text/plain": [
       "0.6196552946473908"
      ]
     },
     "execution_count": 71,
     "metadata": {},
     "output_type": "execute_result"
    }
   ],
   "source": [
    "gb.score(X_test, y_test)"
   ]
  }
 ],
 "metadata": {
  "kernelspec": {
   "display_name": "Python [conda env:GA]",
   "language": "python",
   "name": "conda-env-GA-py"
  },
  "language_info": {
   "codemirror_mode": {
    "name": "ipython",
    "version": 3
   },
   "file_extension": ".py",
   "mimetype": "text/x-python",
   "name": "python",
   "nbconvert_exporter": "python",
   "pygments_lexer": "ipython3",
   "version": "3.9.11"
  }
 },
 "nbformat": 4,
 "nbformat_minor": 5
}
