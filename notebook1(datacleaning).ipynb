{
 "cells": [
  {
   "cell_type": "markdown",
   "id": "1362ccbf-92fe-4b84-bb58-7ffc9d29f2bf",
   "metadata": {},
   "source": [
    "## PREDICTING PITCH SUCCESS"
   ]
  },
  {
   "cell_type": "markdown",
   "id": "5f970569-8d07-4910-b2c7-3390cc671d53",
   "metadata": {},
   "source": [
    "## Data Collection"
   ]
  },
  {
   "cell_type": "code",
   "execution_count": 1,
   "id": "2f633ca0-38c6-4b5f-b3db-e919eabe7bd6",
   "metadata": {},
   "outputs": [],
   "source": [
    "from pybaseball import statcast "
   ]
  },
  {
   "cell_type": "code",
   "execution_count": null,
   "id": "b684f813-8826-4845-96f9-9abb0d72cadd",
   "metadata": {},
   "outputs": [],
   "source": [
    "#data = statcast(start_dt='2017-04-01', end_dt='2021-11-01') This collects the data. I commented it out because it takes a long time to run"
   ]
  },
  {
   "cell_type": "code",
   "execution_count": 15,
   "id": "726a3210-fb05-45c5-9abd-05440e3f1212",
   "metadata": {},
   "outputs": [],
   "source": [
    "df = data"
   ]
  },
  {
   "cell_type": "code",
   "execution_count": 4,
   "id": "212a943b-ffc5-4d7d-b402-0c6bca6ec355",
   "metadata": {},
   "outputs": [],
   "source": [
    "import pickle"
   ]
  },
  {
   "cell_type": "code",
   "execution_count": null,
   "id": "18c4e5f8-f19e-42aa-b824-698390d8d6d1",
   "metadata": {},
   "outputs": [],
   "source": [
    "df.to_pickle(\"./dummy.pkl\") #savedata"
   ]
  },
  {
   "cell_type": "code",
   "execution_count": 164,
   "id": "037641a4-14ef-4a34-be1f-62c7d6062c1d",
   "metadata": {},
   "outputs": [],
   "source": [
    "infile = open('dummy.pkl','rb')\n",
    "df = pickle.load(infile)\n",
    "infile.close()"
   ]
  },
  {
   "cell_type": "code",
   "execution_count": 3,
   "id": "fdec79e7-6410-4817-b80d-81c4ce766f1a",
   "metadata": {},
   "outputs": [],
   "source": [
    "df = new_dict"
   ]
  },
  {
   "cell_type": "markdown",
   "id": "6f2c66eb-4533-4d08-9441-714cd5a7adf6",
   "metadata": {},
   "source": [
    "## Data Cleaning"
   ]
  },
  {
   "cell_type": "code",
   "execution_count": 2,
   "id": "976aab26-9652-4603-9678-25c72cbff91e",
   "metadata": {},
   "outputs": [],
   "source": [
    "import pandas as pd \n",
    "from plotnine import ggplot, aes, geom_bar, geom_point, geom_histogram, geom_boxplot"
   ]
  },
  {
   "cell_type": "code",
   "execution_count": 66,
   "id": "862586ea-dd9c-47cf-9dd0-672779c0c893",
   "metadata": {},
   "outputs": [
    {
     "data": {
      "text/plain": [
       "ball                       1096247\n",
       "hit_into_play               570196\n",
       "foul                        569110\n",
       "called_strike               542171\n",
       "swinging_strike             338803\n",
       "blocked_ball                 77878\n",
       "foul_tip                     28758\n",
       "swinging_strike_blocked      24731\n",
       "hit_by_pitch                  9066\n",
       "foul_bunt                     7680\n",
       "missed_bunt                   1644\n",
       "pitchout                       316\n",
       "bunt_foul_tip                  158\n",
       "foul_pitchout                    2\n",
       "swinging_pitchout                1\n",
       "Name: description, dtype: int64"
      ]
     },
     "execution_count": 66,
     "metadata": {},
     "output_type": "execute_result"
    }
   ],
   "source": [
    "df['description'].value_counts()"
   ]
  },
  {
   "cell_type": "markdown",
   "id": "e18f30d3-1f45-405d-a322-e2e7fafa0baa",
   "metadata": {},
   "source": [
    "This variable will be used to construct the target variable. We are looking to predict whiffs, when the pitcher gets a swing and miss, vs when the batter makes contact."
   ]
  },
  {
   "cell_type": "code",
   "execution_count": 67,
   "id": "84cc8977-0ddc-45b3-8aec-f1e6fc2d8110",
   "metadata": {},
   "outputs": [
    {
     "data": {
      "text/plain": [
       "0"
      ]
     },
     "execution_count": 67,
     "metadata": {},
     "output_type": "execute_result"
    }
   ],
   "source": [
    "df['description'].isnull().sum()"
   ]
  },
  {
   "cell_type": "code",
   "execution_count": 53,
   "id": "07f762f9-8023-44be-8c1c-803d8ab42952",
   "metadata": {},
   "outputs": [],
   "source": [
    "df.dropna(subset = ['pitch_type'], inplace = True)"
   ]
  },
  {
   "cell_type": "code",
   "execution_count": 54,
   "id": "15b98984-9e35-4ff5-a503-724545d40704",
   "metadata": {},
   "outputs": [
    {
     "data": {
      "text/plain": [
       "4-Seam Fastball    1133690\n",
       "Sinker              576878\n",
       "Slider              564186\n",
       "Changeup            344876\n",
       "Curveball           270056\n",
       "Cutter              198784\n",
       "Knuckle Curve        79866\n",
       "Split-Finger         50149\n",
       "Knuckleball           3628\n",
       "Fastball              1545\n",
       "Eephus                 526\n",
       "Forkball               367\n",
       "Pitch Out              202\n",
       "Screwball               77\n",
       "Name: pitch_name, dtype: int64"
      ]
     },
     "execution_count": 54,
     "metadata": {},
     "output_type": "execute_result"
    }
   ],
   "source": [
    "df['pitch_name'].value_counts()"
   ]
  },
  {
   "cell_type": "markdown",
   "id": "09b61c23-889b-43a3-a8da-ca72a483bb24",
   "metadata": {},
   "source": [
    "Because each pitch type is different, we will have different models for each common pitch type. "
   ]
  },
  {
   "cell_type": "code",
   "execution_count": 98,
   "id": "a0db84df-f77d-438c-a794-aa497054bda1",
   "metadata": {},
   "outputs": [],
   "source": [
    "cleanup_nums = {\"description\":     {\"swinging_strike\":1, \"hit_into_play\":0, 'foul':0, 'swinging_strike_blocked':1, 'foul_tip':1}}"
   ]
  },
  {
   "cell_type": "code",
   "execution_count": 99,
   "id": "e219d784-a37f-463b-9eef-acb69b44498d",
   "metadata": {},
   "outputs": [],
   "source": [
    "df = df.replace(cleanup_nums)"
   ]
  },
  {
   "cell_type": "code",
   "execution_count": 103,
   "id": "c6d52a36-65e3-4089-92c1-c6970c2fb25d",
   "metadata": {},
   "outputs": [],
   "source": [
    "cleanup_nums2 = {\"description\":     {\"ball\":3, \"called_strike\":3, 'blocked_ball':3, 'hit_by_pitch':3, 'foul_bunt':3, 'missed_bunt':3, 'pitchout':3, 'bunt_foul_tip':3, 'foul_pitchout':3, 'swinging_pitchout':3}} #pitches that are not swung at as well as bunt attempts are labeled as 3 so they can be removed from the data"
   ]
  },
  {
   "cell_type": "code",
   "execution_count": 104,
   "id": "9f124878-f846-4a0d-9aa2-f35aaf9c05f4",
   "metadata": {},
   "outputs": [],
   "source": [
    "df = df.replace(cleanup_nums2)"
   ]
  },
  {
   "cell_type": "code",
   "execution_count": 107,
   "id": "deb8552f-ed90-4059-8fb0-7759ff539fe0",
   "metadata": {},
   "outputs": [],
   "source": [
    "df = df.astype({\"description\": int})"
   ]
  },
  {
   "cell_type": "code",
   "execution_count": 108,
   "id": "7913d1e7-95e2-4cb1-8488-8971643d4338",
   "metadata": {},
   "outputs": [],
   "source": [
    "df = df[df.description < 2] #remove all 3s"
   ]
  },
  {
   "cell_type": "code",
   "execution_count": 109,
   "id": "6c4ef860-dcd3-4146-9f57-6755769ca9c8",
   "metadata": {},
   "outputs": [
    {
     "data": {
      "text/plain": [
       "0    1123537\n",
       "1     383373\n",
       "Name: description, dtype: int64"
      ]
     },
     "execution_count": 109,
     "metadata": {},
     "output_type": "execute_result"
    }
   ],
   "source": [
    "df['description'].value_counts()"
   ]
  },
  {
   "cell_type": "markdown",
   "id": "fedaf1e3-7156-4072-8e3e-a48e950fd7c8",
   "metadata": {},
   "source": [
    "The data is unbalanced with far more swings that are not misses than that are misses. This will be addressed in the model notebook."
   ]
  },
  {
   "cell_type": "code",
   "execution_count": 110,
   "id": "a7c6e026-534d-4243-bbc2-770b822edc1a",
   "metadata": {},
   "outputs": [],
   "source": [
    "df.to_pickle(\"./dummy2.pkl\")  "
   ]
  },
  {
   "cell_type": "markdown",
   "id": "57cb7b2d-56d6-4507-9f1a-817151f2f085",
   "metadata": {},
   "source": [
    "The next step is EDA. See notebook 2"
   ]
  }
 ],
 "metadata": {
  "kernelspec": {
   "display_name": "Python [conda env:GA]",
   "language": "python",
   "name": "conda-env-GA-py"
  },
  "language_info": {
   "codemirror_mode": {
    "name": "ipython",
    "version": 3
   },
   "file_extension": ".py",
   "mimetype": "text/x-python",
   "name": "python",
   "nbconvert_exporter": "python",
   "pygments_lexer": "ipython3",
   "version": "3.9.11"
  }
 },
 "nbformat": 4,
 "nbformat_minor": 5
}
