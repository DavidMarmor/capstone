{
 "cells": [
  {
   "cell_type": "code",
   "execution_count": null,
   "id": "828c0309-96c7-4d2c-97f5-0943ccdf1510",
   "metadata": {},
   "outputs": [],
   "source": [
    "X_over, y_over = oversample.fit_resample(X, y)"
   ]
  },
  {
   "cell_type": "code",
   "execution_count": null,
   "id": "a3b791b7-b75a-4b6b-9b32-39d663cd8fba",
   "metadata": {},
   "outputs": [],
   "source": [
    "z = df[['pitch_name', 'spin_axis', 'release_speed', 'release_spin_rate', 'az', 'ay', 'ax', 'vz0', 'vy0', 'vx0', 'zone', 'pfx_x', 'pfx_z','description']]"
   ]
  },
  {
   "cell_type": "code",
   "execution_count": null,
   "id": "994afef3-1e4a-4243-b707-8969beea7226",
   "metadata": {},
   "outputs": [],
   "source": [
    "z.dropna(inplace = True)"
   ]
  },
  {
   "cell_type": "code",
   "execution_count": null,
   "id": "c9699b99-6c24-4e66-b3db-79f4eac39a67",
   "metadata": {},
   "outputs": [],
   "source": [
    "X = z[['spin_axis', 'release_speed', 'release_spin_rate', 'az', 'ay', 'ax', 'vz0', 'vy0', 'vx0', 'zone', 'pfx_x', 'pfx_z']]"
   ]
  },
  {
   "cell_type": "code",
   "execution_count": null,
   "id": "e460d0ba-1219-43b7-871e-2faa0c945e7c",
   "metadata": {},
   "outputs": [],
   "source": [
    "y = z[['description']]"
   ]
  },
  {
   "cell_type": "code",
   "execution_count": null,
   "id": "95daa0a3-4102-4cb2-8b99-7588d69d127c",
   "metadata": {},
   "outputs": [],
   "source": []
  }
 ],
 "metadata": {
  "kernelspec": {
   "display_name": "Python [conda env:GA]",
   "language": "python",
   "name": "conda-env-GA-py"
  },
  "language_info": {
   "codemirror_mode": {
    "name": "ipython",
    "version": 3
   },
   "file_extension": ".py",
   "mimetype": "text/x-python",
   "name": "python",
   "nbconvert_exporter": "python",
   "pygments_lexer": "ipython3",
   "version": "3.9.11"
  }
 },
 "nbformat": 4,
 "nbformat_minor": 5
}
