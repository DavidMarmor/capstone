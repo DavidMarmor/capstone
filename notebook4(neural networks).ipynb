{
 "cells": [
  {
   "cell_type": "markdown",
   "id": "56aeda71-c771-4033-883f-13bbe15a8d83",
   "metadata": {},
   "source": [
    "## Modeling"
   ]
  },
  {
   "cell_type": "code",
   "execution_count": 1,
   "id": "e85db635-6bd0-46c3-86c4-9d28a12711bb",
   "metadata": {},
   "outputs": [],
   "source": [
    "import matplotlib.pyplot as plt\n",
    "from sklearn.model_selection import train_test_split\n",
    "from sklearn.preprocessing import StandardScaler\n",
    "\n",
    "from tensorflow.keras.models import Sequential\n",
    "\n",
    "from tensorflow.keras.models import Sequential\n",
    "from tensorflow.keras.layers import Dense, Dropout, Flatten, Conv2D, MaxPooling2D\n",
    "from tensorflow.keras import utils\n",
    "import pandas as pd\n",
    "import numpy as np\n",
    "import pickle\n",
    "import imblearn as im"
   ]
  },
  {
   "cell_type": "code",
   "execution_count": 2,
   "id": "ed518be8-af9f-493e-b805-d53263233c54",
   "metadata": {},
   "outputs": [],
   "source": [
    "infile = open('dummy2.pkl','rb')\n",
    "df = pickle.load(infile)\n",
    "infile.close()"
   ]
  },
  {
   "cell_type": "markdown",
   "id": "1b788e28-4ffa-4e64-adf6-b43c6b401d78",
   "metadata": {},
   "source": [
    "Here are the neural network models for all 9 pitches. In each case they are less accurate than the random forest ones."
   ]
  },
  {
   "cell_type": "markdown",
   "id": "5c8d96f5-9edc-4012-b038-fa4f8f40fd03",
   "metadata": {},
   "source": [
    "# 4 seam fastball"
   ]
  },
  {
   "cell_type": "code",
   "execution_count": 3,
   "id": "a68a3df3-4ba3-48aa-a59b-fed04755a45a",
   "metadata": {},
   "outputs": [],
   "source": [
    "df1 = df.copy()"
   ]
  },
  {
   "cell_type": "code",
   "execution_count": 4,
   "id": "bde1cb0b-7286-41d2-bd5d-a924cf4fe855",
   "metadata": {},
   "outputs": [],
   "source": [
    "df1 = df1[df1.pitch_name == '4-Seam Fastball']"
   ]
  },
  {
   "cell_type": "code",
   "execution_count": 5,
   "id": "77da3f4c-e65f-4340-a7a3-fb16e2b07580",
   "metadata": {},
   "outputs": [],
   "source": [
    "z = df1[['spin_axis', 'release_speed', 'release_spin_rate', 'az', 'ay', 'ax', 'vz0', 'vy0', 'vx0', 'zone','pfx_x', 'pfx_z','description']]"
   ]
  },
  {
   "cell_type": "code",
   "execution_count": 6,
   "id": "735b9b37-a263-471d-91b9-d37b862ba468",
   "metadata": {},
   "outputs": [
    {
     "name": "stderr",
     "output_type": "stream",
     "text": [
      "C:\\Users\\dmarm\\AppData\\Local\\Temp\\ipykernel_17232\\2385804610.py:1: SettingWithCopyWarning: \n",
      "A value is trying to be set on a copy of a slice from a DataFrame\n",
      "\n",
      "See the caveats in the documentation: https://pandas.pydata.org/pandas-docs/stable/user_guide/indexing.html#returning-a-view-versus-a-copy\n",
      "  z.dropna(inplace = True)\n"
     ]
    }
   ],
   "source": [
    "z.dropna(inplace = True)"
   ]
  },
  {
   "cell_type": "code",
   "execution_count": 7,
   "id": "c15986b3-10ac-43c3-baf4-403e3175f23b",
   "metadata": {},
   "outputs": [],
   "source": [
    "X = z[['spin_axis', 'release_speed', 'release_spin_rate', 'az', 'ay', 'ax', 'vz0', 'vy0', 'vx0', 'zone', 'pfx_x', 'pfx_z']]"
   ]
  },
  {
   "cell_type": "code",
   "execution_count": 8,
   "id": "2951d669-5313-4475-922e-34c1018d2677",
   "metadata": {},
   "outputs": [],
   "source": [
    "y = z[['description']]"
   ]
  },
  {
   "cell_type": "code",
   "execution_count": 9,
   "id": "9921c55f-f454-4bad-8d0a-874a17864fb9",
   "metadata": {},
   "outputs": [],
   "source": [
    "oversample = im.over_sampling.RandomOverSampler(sampling_strategy='minority')"
   ]
  },
  {
   "cell_type": "code",
   "execution_count": 10,
   "id": "7ea9066e-5ad4-4236-9f5a-903e6cf6ad5f",
   "metadata": {},
   "outputs": [],
   "source": [
    "X_over, y_over = oversample.fit_resample(X, y)"
   ]
  },
  {
   "cell_type": "code",
   "execution_count": 11,
   "id": "74575e0b-35e0-442c-a6dc-e0887656cb1d",
   "metadata": {},
   "outputs": [],
   "source": [
    "X_train, X_test, y_train, y_test = train_test_split(X_over, y_over, stratify =y_over, random_state =5)"
   ]
  },
  {
   "cell_type": "code",
   "execution_count": 12,
   "id": "5af46d86-0d04-4aa9-9077-20377730c9c5",
   "metadata": {},
   "outputs": [],
   "source": [
    "scaler = StandardScaler()\n",
    "X_train = scaler.fit_transform(X_train)\n",
    "X_test = scaler.transform(X_test)"
   ]
  },
  {
   "cell_type": "code",
   "execution_count": 13,
   "id": "9525eaea-06a0-4be0-82fa-dd11d7c6a2d3",
   "metadata": {},
   "outputs": [],
   "source": [
    "model = Sequential()\n",
    "model.add(Dense(12, input_dim=12, activation='relu'))\n",
    "model.add(Dense(8, activation='relu'))\n",
    "model.add(Dense(1, activation='sigmoid'))"
   ]
  },
  {
   "cell_type": "code",
   "execution_count": 14,
   "id": "af4c8299-e17a-402d-a709-6777d4cee0b9",
   "metadata": {},
   "outputs": [],
   "source": [
    "model.compile(loss='binary_crossentropy', optimizer='adam', metrics=['accuracy'])"
   ]
  },
  {
   "cell_type": "code",
   "execution_count": 15,
   "id": "b0f9ec00-9803-4da9-8c9e-0bcfe390eb08",
   "metadata": {},
   "outputs": [],
   "source": [
    "X_train= np.asarray(X_train).astype('float32')\n",
    "X_test =np.asarray(X_test).astype('float32')"
   ]
  },
  {
   "cell_type": "code",
   "execution_count": 16,
   "id": "8a2bea90-3fc6-4fad-9652-11f4010b0599",
   "metadata": {},
   "outputs": [
    {
     "name": "stdout",
     "output_type": "stream",
     "text": [
      "Epoch 1/10\n",
      "62629/62629 [==============================] - 78s 1ms/step - loss: 0.6456 - accuracy: 0.6257 - val_loss: 0.6409 - val_accuracy: 0.6293\n",
      "Epoch 2/10\n",
      "62629/62629 [==============================] - 102s 2ms/step - loss: 0.6423 - accuracy: 0.6297 - val_loss: 0.6392 - val_accuracy: 0.6320\n",
      "Epoch 3/10\n",
      "62629/62629 [==============================] - 113s 2ms/step - loss: 0.6415 - accuracy: 0.6307 - val_loss: 0.6390 - val_accuracy: 0.6342\n",
      "Epoch 4/10\n",
      "62629/62629 [==============================] - 83s 1ms/step - loss: 0.6412 - accuracy: 0.6306 - val_loss: 0.6394 - val_accuracy: 0.6321\n",
      "Epoch 5/10\n",
      "62629/62629 [==============================] - 90s 1ms/step - loss: 0.6409 - accuracy: 0.6308 - val_loss: 0.6381 - val_accuracy: 0.6332\n",
      "Epoch 6/10\n",
      "62629/62629 [==============================] - 86s 1ms/step - loss: 0.6406 - accuracy: 0.6314 - val_loss: 0.6388 - val_accuracy: 0.6330\n",
      "Epoch 7/10\n",
      "62629/62629 [==============================] - 80s 1ms/step - loss: 0.6406 - accuracy: 0.6311 - val_loss: 0.6393 - val_accuracy: 0.6327\n",
      "Epoch 8/10\n",
      "62629/62629 [==============================] - 77s 1ms/step - loss: 0.6404 - accuracy: 0.6311 - val_loss: 0.6381 - val_accuracy: 0.6334\n",
      "Epoch 9/10\n",
      "62629/62629 [==============================] - 77s 1ms/step - loss: 0.6402 - accuracy: 0.6320 - val_loss: 0.6384 - val_accuracy: 0.6338\n",
      "Epoch 10/10\n",
      "62629/62629 [==============================] - 77s 1ms/step - loss: 0.6401 - accuracy: 0.6319 - val_loss: 0.6379 - val_accuracy: 0.6348\n"
     ]
    },
    {
     "data": {
      "text/plain": [
       "<keras.callbacks.History at 0x256a0c0a2b0>"
      ]
     },
     "execution_count": 16,
     "metadata": {},
     "output_type": "execute_result"
    }
   ],
   "source": [
    "model.fit(X_train, y_train,\n",
    "                 validation_data = (X_test, y_test),\n",
    "                 batch_size = 10,\n",
    "                 epochs= 10)"
   ]
  },
  {
   "cell_type": "markdown",
   "id": "29cc13ba-6840-4056-b606-18028f76096a",
   "metadata": {},
   "source": [
    "## Sinker"
   ]
  },
  {
   "cell_type": "code",
   "execution_count": 17,
   "id": "fdc772b5-70a2-45a5-b4f5-0dea2efd1028",
   "metadata": {},
   "outputs": [],
   "source": [
    "df2 = df.copy()"
   ]
  },
  {
   "cell_type": "code",
   "execution_count": 18,
   "id": "aad3eecc-72bf-4c67-a9f1-07333676ad6b",
   "metadata": {},
   "outputs": [],
   "source": [
    "df2 = df2[df2.pitch_name == 'Sinker']"
   ]
  },
  {
   "cell_type": "code",
   "execution_count": 19,
   "id": "e00f1ad6-8270-410b-ac78-333157bbd236",
   "metadata": {},
   "outputs": [],
   "source": [
    "z = df2[['spin_axis', 'release_speed', 'release_spin_rate', 'az', 'ay', 'ax', 'vz0', 'vy0', 'vx0', 'zone','pfx_x', 'pfx_z','description']]"
   ]
  },
  {
   "cell_type": "code",
   "execution_count": 20,
   "id": "9345cebc-5d1f-4710-9c9d-4060d01add2d",
   "metadata": {},
   "outputs": [
    {
     "name": "stderr",
     "output_type": "stream",
     "text": [
      "C:\\Users\\dmarm\\AppData\\Local\\Temp\\ipykernel_17232\\2385804610.py:1: SettingWithCopyWarning: \n",
      "A value is trying to be set on a copy of a slice from a DataFrame\n",
      "\n",
      "See the caveats in the documentation: https://pandas.pydata.org/pandas-docs/stable/user_guide/indexing.html#returning-a-view-versus-a-copy\n",
      "  z.dropna(inplace = True)\n"
     ]
    }
   ],
   "source": [
    "z.dropna(inplace = True)"
   ]
  },
  {
   "cell_type": "code",
   "execution_count": 21,
   "id": "2d7a677a-a99f-4677-bde0-28071d04628c",
   "metadata": {},
   "outputs": [],
   "source": [
    "X = z[['spin_axis', 'release_speed', 'release_spin_rate', 'az', 'ay', 'ax', 'vz0', 'vy0', 'vx0', 'zone', 'pfx_x', 'pfx_z']]"
   ]
  },
  {
   "cell_type": "code",
   "execution_count": 22,
   "id": "2ac69737-a3b2-4082-9f1c-e1efdf5eb28c",
   "metadata": {},
   "outputs": [],
   "source": [
    "y = z[['description']]"
   ]
  },
  {
   "cell_type": "code",
   "execution_count": 23,
   "id": "24d4fb18-3034-47d0-a5cc-0d2fdc481c57",
   "metadata": {},
   "outputs": [],
   "source": [
    "oversample = im.over_sampling.RandomOverSampler(sampling_strategy='minority')"
   ]
  },
  {
   "cell_type": "code",
   "execution_count": 24,
   "id": "45463d14-5103-46f3-a184-f23901127213",
   "metadata": {},
   "outputs": [],
   "source": [
    "X_over, y_over = oversample.fit_resample(X, y)"
   ]
  },
  {
   "cell_type": "code",
   "execution_count": 25,
   "id": "a53d537c-2671-4d25-9b1e-55eba75d01bd",
   "metadata": {},
   "outputs": [],
   "source": [
    "X_train, X_test, y_train, y_test = train_test_split(X_over, y_over, stratify =y_over, random_state =5)"
   ]
  },
  {
   "cell_type": "code",
   "execution_count": 26,
   "id": "b6816792-6d49-4a98-bce6-49c59d277b62",
   "metadata": {},
   "outputs": [],
   "source": [
    "scaler = StandardScaler()\n",
    "X_train = scaler.fit_transform(X_train)\n",
    "X_test = scaler.transform(X_test)"
   ]
  },
  {
   "cell_type": "code",
   "execution_count": 27,
   "id": "366eb673-c487-4a4d-94d2-a149df33aa4c",
   "metadata": {},
   "outputs": [],
   "source": [
    "model = Sequential()\n",
    "model.add(Dense(12, input_dim=12, activation='relu'))\n",
    "model.add(Dense(8, activation='relu'))\n",
    "model.add(Dense(1, activation='sigmoid'))"
   ]
  },
  {
   "cell_type": "code",
   "execution_count": 28,
   "id": "42af0204-639c-4f74-a88d-c08b9b4106a3",
   "metadata": {},
   "outputs": [],
   "source": [
    "model.compile(loss='binary_crossentropy', optimizer='adam', metrics=['accuracy'])"
   ]
  },
  {
   "cell_type": "code",
   "execution_count": 29,
   "id": "740f8cbc-004c-48a4-a5aa-239af8e79bbe",
   "metadata": {},
   "outputs": [],
   "source": [
    "X_train= np.asarray(X_train).astype('float32')\n",
    "X_test =np.asarray(X_test).astype('float32')"
   ]
  },
  {
   "cell_type": "code",
   "execution_count": 30,
   "id": "6f0befc6-050a-4072-9d4e-a0c3e880f6db",
   "metadata": {},
   "outputs": [
    {
     "name": "stdout",
     "output_type": "stream",
     "text": [
      "Epoch 1/10\n",
      "33048/33048 [==============================] - 42s 1ms/step - loss: 0.6370 - accuracy: 0.6379 - val_loss: 0.6320 - val_accuracy: 0.6465\n",
      "Epoch 2/10\n",
      "33048/33048 [==============================] - 40s 1ms/step - loss: 0.6325 - accuracy: 0.6443 - val_loss: 0.6321 - val_accuracy: 0.6454\n",
      "Epoch 3/10\n",
      "33048/33048 [==============================] - 49s 1ms/step - loss: 0.6316 - accuracy: 0.6451 - val_loss: 0.6318 - val_accuracy: 0.6452\n",
      "Epoch 4/10\n",
      "33048/33048 [==============================] - 47s 1ms/step - loss: 0.6312 - accuracy: 0.6453 - val_loss: 0.6298 - val_accuracy: 0.6481\n",
      "Epoch 5/10\n",
      "33048/33048 [==============================] - 45s 1ms/step - loss: 0.6308 - accuracy: 0.6454 - val_loss: 0.6300 - val_accuracy: 0.6476\n",
      "Epoch 6/10\n",
      "33048/33048 [==============================] - 44s 1ms/step - loss: 0.6307 - accuracy: 0.6458 - val_loss: 0.6295 - val_accuracy: 0.6484\n",
      "Epoch 7/10\n",
      "33048/33048 [==============================] - 45s 1ms/step - loss: 0.6304 - accuracy: 0.6462 - val_loss: 0.6297 - val_accuracy: 0.6485\n",
      "Epoch 8/10\n",
      "33048/33048 [==============================] - 44s 1ms/step - loss: 0.6303 - accuracy: 0.6460 - val_loss: 0.6297 - val_accuracy: 0.6474\n",
      "Epoch 9/10\n",
      "33048/33048 [==============================] - 41s 1ms/step - loss: 0.6302 - accuracy: 0.6462 - val_loss: 0.6313 - val_accuracy: 0.6481\n",
      "Epoch 10/10\n",
      "33048/33048 [==============================] - 42s 1ms/step - loss: 0.6302 - accuracy: 0.6462 - val_loss: 0.6298 - val_accuracy: 0.6485\n"
     ]
    },
    {
     "data": {
      "text/plain": [
       "<keras.callbacks.History at 0x2566a8fcdc0>"
      ]
     },
     "execution_count": 30,
     "metadata": {},
     "output_type": "execute_result"
    }
   ],
   "source": [
    "model.fit(X_train, y_train,\n",
    "                 validation_data = (X_test, y_test),\n",
    "                 batch_size = 10,\n",
    "                 epochs= 10)"
   ]
  },
  {
   "cell_type": "markdown",
   "id": "2f75afb8-b31a-40ff-9b9b-fbba70afe1c6",
   "metadata": {},
   "source": [
    "## Slider"
   ]
  },
  {
   "cell_type": "code",
   "execution_count": 31,
   "id": "f5122996-fd33-4b03-bbef-0d1e74e961e7",
   "metadata": {},
   "outputs": [],
   "source": [
    "df3 = df.copy()"
   ]
  },
  {
   "cell_type": "code",
   "execution_count": 32,
   "id": "83accbb0-0ad9-452b-a126-92a59c19090f",
   "metadata": {},
   "outputs": [],
   "source": [
    "df3 = df3[df3.pitch_name == 'Slider']"
   ]
  },
  {
   "cell_type": "code",
   "execution_count": 33,
   "id": "71348139-846b-423d-b5f9-c1bf6f936422",
   "metadata": {},
   "outputs": [],
   "source": [
    "z = df3[['spin_axis', 'release_speed', 'release_spin_rate', 'az', 'ay', 'ax', 'vz0', 'vy0', 'vx0', 'zone','pfx_x', 'pfx_z','description']]"
   ]
  },
  {
   "cell_type": "code",
   "execution_count": 34,
   "id": "536a106f-3b6f-403f-b41b-8a9beda5d437",
   "metadata": {},
   "outputs": [
    {
     "name": "stderr",
     "output_type": "stream",
     "text": [
      "C:\\Users\\dmarm\\AppData\\Local\\Temp\\ipykernel_17232\\2385804610.py:1: SettingWithCopyWarning: \n",
      "A value is trying to be set on a copy of a slice from a DataFrame\n",
      "\n",
      "See the caveats in the documentation: https://pandas.pydata.org/pandas-docs/stable/user_guide/indexing.html#returning-a-view-versus-a-copy\n",
      "  z.dropna(inplace = True)\n"
     ]
    }
   ],
   "source": [
    "z.dropna(inplace = True)"
   ]
  },
  {
   "cell_type": "code",
   "execution_count": 35,
   "id": "4fe6f573-fc1e-4bb3-9df7-8dacb5923e05",
   "metadata": {},
   "outputs": [],
   "source": [
    "X = z[['spin_axis', 'release_speed', 'release_spin_rate', 'az', 'ay', 'ax', 'vz0', 'vy0', 'vx0', 'zone', 'pfx_x', 'pfx_z']]"
   ]
  },
  {
   "cell_type": "code",
   "execution_count": 36,
   "id": "d501b68c-562b-4e9f-9a85-9472c986e537",
   "metadata": {},
   "outputs": [],
   "source": [
    "y = z[['description']]"
   ]
  },
  {
   "cell_type": "code",
   "execution_count": 37,
   "id": "f28c4663-a3dd-408a-9947-fbc203386600",
   "metadata": {},
   "outputs": [],
   "source": [
    "oversample = im.over_sampling.RandomOverSampler(sampling_strategy='minority')"
   ]
  },
  {
   "cell_type": "code",
   "execution_count": 38,
   "id": "9d6022d8-81aa-4b55-b0bd-7e154eea7c79",
   "metadata": {},
   "outputs": [],
   "source": [
    "X_over, y_over = oversample.fit_resample(X, y)"
   ]
  },
  {
   "cell_type": "code",
   "execution_count": 39,
   "id": "70bfb19a-fdfa-4eda-b7ed-24dccb489f5c",
   "metadata": {},
   "outputs": [],
   "source": [
    "X_train, X_test, y_train, y_test = train_test_split(X_over, y_over, stratify =y_over, random_state =5)"
   ]
  },
  {
   "cell_type": "code",
   "execution_count": 40,
   "id": "70f0e873-c214-4531-9ae6-40717d45d897",
   "metadata": {},
   "outputs": [],
   "source": [
    "scaler = StandardScaler()\n",
    "X_train = scaler.fit_transform(X_train)\n",
    "X_test = scaler.transform(X_test)"
   ]
  },
  {
   "cell_type": "code",
   "execution_count": 41,
   "id": "e209f912-6f47-47a4-a381-1589002131aa",
   "metadata": {},
   "outputs": [],
   "source": [
    "model = Sequential()\n",
    "model.add(Dense(12, input_dim=12, activation='relu'))\n",
    "model.add(Dense(8, activation='relu'))\n",
    "model.add(Dense(1, activation='sigmoid'))"
   ]
  },
  {
   "cell_type": "code",
   "execution_count": 42,
   "id": "45f48a00-a405-4e22-83c7-0a4c64de3610",
   "metadata": {},
   "outputs": [],
   "source": [
    "model.compile(loss='binary_crossentropy', optimizer='adam', metrics=['accuracy'])"
   ]
  },
  {
   "cell_type": "code",
   "execution_count": 43,
   "id": "d6a761a2-ec12-45e2-a7f0-421d046b4002",
   "metadata": {},
   "outputs": [],
   "source": [
    "X_train= np.asarray(X_train).astype('float32')\n",
    "X_test =np.asarray(X_test).astype('float32')"
   ]
  },
  {
   "cell_type": "code",
   "execution_count": 44,
   "id": "c1b53d6c-dc12-49aa-b536-bad852662801",
   "metadata": {},
   "outputs": [
    {
     "name": "stdout",
     "output_type": "stream",
     "text": [
      "Epoch 1/10\n",
      "24600/24600 [==============================] - 31s 1ms/step - loss: 0.5835 - accuracy: 0.6966 - val_loss: 0.5765 - val_accuracy: 0.7027\n",
      "Epoch 2/10\n",
      "24600/24600 [==============================] - 31s 1ms/step - loss: 0.5761 - accuracy: 0.7026 - val_loss: 0.5743 - val_accuracy: 0.7046\n",
      "Epoch 3/10\n",
      "24600/24600 [==============================] - 34s 1ms/step - loss: 0.5752 - accuracy: 0.7030 - val_loss: 0.5742 - val_accuracy: 0.7030\n",
      "Epoch 4/10\n",
      "24600/24600 [==============================] - 32s 1ms/step - loss: 0.5747 - accuracy: 0.7031 - val_loss: 0.5723 - val_accuracy: 0.7054\n",
      "Epoch 5/10\n",
      "24600/24600 [==============================] - 31s 1ms/step - loss: 0.5743 - accuracy: 0.7031 - val_loss: 0.5724 - val_accuracy: 0.7046\n",
      "Epoch 6/10\n",
      "24600/24600 [==============================] - 33s 1ms/step - loss: 0.5740 - accuracy: 0.7041 - val_loss: 0.5730 - val_accuracy: 0.7042\n",
      "Epoch 7/10\n",
      "24600/24600 [==============================] - 31s 1ms/step - loss: 0.5739 - accuracy: 0.7035 - val_loss: 0.5725 - val_accuracy: 0.7046\n",
      "Epoch 8/10\n",
      "24600/24600 [==============================] - 31s 1ms/step - loss: 0.5736 - accuracy: 0.7041 - val_loss: 0.5730 - val_accuracy: 0.7055\n",
      "Epoch 9/10\n",
      "24600/24600 [==============================] - 32s 1ms/step - loss: 0.5734 - accuracy: 0.7048 - val_loss: 0.5714 - val_accuracy: 0.7056\n",
      "Epoch 10/10\n",
      "24600/24600 [==============================] - 31s 1ms/step - loss: 0.5733 - accuracy: 0.7045 - val_loss: 0.5717 - val_accuracy: 0.7058\n"
     ]
    },
    {
     "data": {
      "text/plain": [
       "<keras.callbacks.History at 0x256601966d0>"
      ]
     },
     "execution_count": 44,
     "metadata": {},
     "output_type": "execute_result"
    }
   ],
   "source": [
    "model.fit(X_train, y_train,\n",
    "                 validation_data = (X_test, y_test),\n",
    "                 batch_size = 10,\n",
    "                 epochs= 10)"
   ]
  },
  {
   "cell_type": "markdown",
   "id": "ec4bbdb1-5c77-4c75-9e47-46b5b38ec5ff",
   "metadata": {},
   "source": [
    "## Changeup "
   ]
  },
  {
   "cell_type": "code",
   "execution_count": 45,
   "id": "de334f82-3604-40e9-8dd4-655aac9d6ab7",
   "metadata": {},
   "outputs": [],
   "source": [
    "df4 = df.copy()"
   ]
  },
  {
   "cell_type": "code",
   "execution_count": 46,
   "id": "6a3845ea-dbf7-4bc8-b15f-9ffca22a3c0a",
   "metadata": {},
   "outputs": [],
   "source": [
    "df4 = df4[df4.pitch_name == 'Changeup']"
   ]
  },
  {
   "cell_type": "code",
   "execution_count": 47,
   "id": "7c5f7096-1ec8-4cfe-812e-83f2e7f8f24d",
   "metadata": {},
   "outputs": [],
   "source": [
    "z = df4[['spin_axis', 'release_speed', 'release_spin_rate', 'az', 'ay', 'ax', 'vz0', 'vy0', 'vx0', 'zone','pfx_x', 'pfx_z','description']]"
   ]
  },
  {
   "cell_type": "code",
   "execution_count": 48,
   "id": "0f5cd0ce-972a-40dd-b0c9-b9e6eee3810f",
   "metadata": {},
   "outputs": [
    {
     "name": "stderr",
     "output_type": "stream",
     "text": [
      "C:\\Users\\dmarm\\AppData\\Local\\Temp\\ipykernel_17232\\2385804610.py:1: SettingWithCopyWarning: \n",
      "A value is trying to be set on a copy of a slice from a DataFrame\n",
      "\n",
      "See the caveats in the documentation: https://pandas.pydata.org/pandas-docs/stable/user_guide/indexing.html#returning-a-view-versus-a-copy\n",
      "  z.dropna(inplace = True)\n"
     ]
    }
   ],
   "source": [
    "z.dropna(inplace = True)"
   ]
  },
  {
   "cell_type": "code",
   "execution_count": 49,
   "id": "70e6c451-8178-4405-bf81-1b453e03bc25",
   "metadata": {},
   "outputs": [],
   "source": [
    "X = z[['spin_axis', 'release_speed', 'release_spin_rate', 'az', 'ay', 'ax', 'vz0', 'vy0', 'vx0', 'zone', 'pfx_x', 'pfx_z']]"
   ]
  },
  {
   "cell_type": "code",
   "execution_count": 50,
   "id": "629a56eb-72d3-485a-aded-e6d1e0a12185",
   "metadata": {},
   "outputs": [],
   "source": [
    "y = z[['description']]"
   ]
  },
  {
   "cell_type": "code",
   "execution_count": 51,
   "id": "1f497ebb-e40c-4394-8fb0-52ca62bc684b",
   "metadata": {},
   "outputs": [],
   "source": [
    "oversample = im.over_sampling.RandomOverSampler(sampling_strategy='minority')"
   ]
  },
  {
   "cell_type": "code",
   "execution_count": 52,
   "id": "99fb7525-2458-4415-9cc4-cf219076a9f3",
   "metadata": {},
   "outputs": [],
   "source": [
    "X_over, y_over = oversample.fit_resample(X, y)"
   ]
  },
  {
   "cell_type": "code",
   "execution_count": 53,
   "id": "6883d1db-db96-4987-9d31-c1a339242518",
   "metadata": {},
   "outputs": [],
   "source": [
    "X_train, X_test, y_train, y_test = train_test_split(X_over, y_over, stratify =y_over, random_state =5)"
   ]
  },
  {
   "cell_type": "code",
   "execution_count": 54,
   "id": "242bbb36-31fd-468b-97f8-a7d5ce7d133d",
   "metadata": {},
   "outputs": [],
   "source": [
    "scaler = StandardScaler()\n",
    "X_train = scaler.fit_transform(X_train)\n",
    "X_test = scaler.transform(X_test)"
   ]
  },
  {
   "cell_type": "code",
   "execution_count": 55,
   "id": "764d43f2-b377-47e1-baf2-90cbaea54e1d",
   "metadata": {},
   "outputs": [],
   "source": [
    "model = Sequential()\n",
    "model.add(Dense(12, input_dim=12, activation='relu'))\n",
    "model.add(Dense(8, activation='relu'))\n",
    "model.add(Dense(1, activation='sigmoid'))"
   ]
  },
  {
   "cell_type": "code",
   "execution_count": 56,
   "id": "b5ed78af-3051-4a9d-8587-c3bb7a4f1664",
   "metadata": {},
   "outputs": [],
   "source": [
    "model.compile(loss='binary_crossentropy', optimizer='adam', metrics=['accuracy'])"
   ]
  },
  {
   "cell_type": "code",
   "execution_count": 57,
   "id": "25c161fd-a1b9-42a1-a2e0-71953e5ff601",
   "metadata": {},
   "outputs": [],
   "source": [
    "X_train= np.asarray(X_train).astype('float32')\n",
    "X_test =np.asarray(X_test).astype('float32')"
   ]
  },
  {
   "cell_type": "code",
   "execution_count": 58,
   "id": "b380555f-14e8-4a58-a8a1-55b032620c6f",
   "metadata": {},
   "outputs": [
    {
     "name": "stdout",
     "output_type": "stream",
     "text": [
      "Epoch 1/10\n",
      "18183/18183 [==============================] - 23s 1ms/step - loss: 0.6395 - accuracy: 0.6321 - val_loss: 0.6368 - val_accuracy: 0.6363\n",
      "Epoch 2/10\n",
      "18183/18183 [==============================] - 22s 1ms/step - loss: 0.6364 - accuracy: 0.6359 - val_loss: 0.6360 - val_accuracy: 0.6373\n",
      "Epoch 3/10\n",
      "18183/18183 [==============================] - 23s 1ms/step - loss: 0.6360 - accuracy: 0.6359 - val_loss: 0.6348 - val_accuracy: 0.6386\n",
      "Epoch 4/10\n",
      "18183/18183 [==============================] - 22s 1ms/step - loss: 0.6356 - accuracy: 0.6361 - val_loss: 0.6345 - val_accuracy: 0.6372\n",
      "Epoch 5/10\n",
      "18183/18183 [==============================] - 31s 2ms/step - loss: 0.6353 - accuracy: 0.6366 - val_loss: 0.6344 - val_accuracy: 0.6384\n",
      "Epoch 6/10\n",
      "18183/18183 [==============================] - 25s 1ms/step - loss: 0.6350 - accuracy: 0.6373 - val_loss: 0.6345 - val_accuracy: 0.6379\n",
      "Epoch 7/10\n",
      "18183/18183 [==============================] - 23s 1ms/step - loss: 0.6349 - accuracy: 0.6374 - val_loss: 0.6345 - val_accuracy: 0.6379\n",
      "Epoch 8/10\n",
      "18183/18183 [==============================] - 24s 1ms/step - loss: 0.6346 - accuracy: 0.6366 - val_loss: 0.6344 - val_accuracy: 0.6379\n",
      "Epoch 9/10\n",
      "18183/18183 [==============================] - 22s 1ms/step - loss: 0.6344 - accuracy: 0.6376 - val_loss: 0.6339 - val_accuracy: 0.6396\n",
      "Epoch 10/10\n",
      "18183/18183 [==============================] - 22s 1ms/step - loss: 0.6342 - accuracy: 0.6381 - val_loss: 0.6337 - val_accuracy: 0.6404\n"
     ]
    },
    {
     "data": {
      "text/plain": [
       "<keras.callbacks.History at 0x25659726550>"
      ]
     },
     "execution_count": 58,
     "metadata": {},
     "output_type": "execute_result"
    }
   ],
   "source": [
    "model.fit(X_train, y_train,\n",
    "                 validation_data = (X_test, y_test),\n",
    "                 batch_size = 10,\n",
    "                 epochs= 10)"
   ]
  },
  {
   "cell_type": "markdown",
   "id": "08a4545f-0146-487e-88cb-7ad0b318f099",
   "metadata": {},
   "source": [
    "## Curveball "
   ]
  },
  {
   "cell_type": "code",
   "execution_count": 59,
   "id": "d0c1309f-977d-4bcb-8d48-007821badc65",
   "metadata": {},
   "outputs": [],
   "source": [
    "df5 = df.copy()"
   ]
  },
  {
   "cell_type": "code",
   "execution_count": 60,
   "id": "643e5cf7-9120-4a6e-8879-d1f955238e1d",
   "metadata": {},
   "outputs": [],
   "source": [
    "df5 = df5[df5.pitch_name == 'Curveball']"
   ]
  },
  {
   "cell_type": "code",
   "execution_count": 61,
   "id": "227f2ba9-d552-4bc5-9824-e6e4b59e39ab",
   "metadata": {},
   "outputs": [],
   "source": [
    "z = df5[['spin_axis', 'release_speed', 'release_spin_rate', 'az', 'ay', 'ax', 'vz0', 'vy0', 'vx0', 'zone','pfx_x', 'pfx_z','description']]"
   ]
  },
  {
   "cell_type": "code",
   "execution_count": 62,
   "id": "3fc8397b-073b-4331-92f2-273086dd0305",
   "metadata": {},
   "outputs": [
    {
     "name": "stderr",
     "output_type": "stream",
     "text": [
      "C:\\Users\\dmarm\\AppData\\Local\\Temp\\ipykernel_17232\\2385804610.py:1: SettingWithCopyWarning: \n",
      "A value is trying to be set on a copy of a slice from a DataFrame\n",
      "\n",
      "See the caveats in the documentation: https://pandas.pydata.org/pandas-docs/stable/user_guide/indexing.html#returning-a-view-versus-a-copy\n",
      "  z.dropna(inplace = True)\n"
     ]
    }
   ],
   "source": [
    "z.dropna(inplace = True)"
   ]
  },
  {
   "cell_type": "code",
   "execution_count": 63,
   "id": "6b51e94e-1765-4c34-af19-be73db560708",
   "metadata": {},
   "outputs": [],
   "source": [
    "X = z[['spin_axis', 'release_speed', 'release_spin_rate', 'az', 'ay', 'ax', 'vz0', 'vy0', 'vx0', 'zone', 'pfx_x', 'pfx_z']]"
   ]
  },
  {
   "cell_type": "code",
   "execution_count": 64,
   "id": "6950c6fe-99a2-480c-8260-ba7dd81fcfa3",
   "metadata": {},
   "outputs": [],
   "source": [
    "y = z[['description']]"
   ]
  },
  {
   "cell_type": "code",
   "execution_count": 65,
   "id": "95d93d92-7e4f-4fc8-bde0-2821931be9b8",
   "metadata": {},
   "outputs": [],
   "source": [
    "oversample = im.over_sampling.RandomOverSampler(sampling_strategy='minority')"
   ]
  },
  {
   "cell_type": "code",
   "execution_count": 66,
   "id": "d5de77ae-4dc5-4656-bfbd-31f46782e8bd",
   "metadata": {},
   "outputs": [],
   "source": [
    "X_over, y_over = oversample.fit_resample(X, y)"
   ]
  },
  {
   "cell_type": "code",
   "execution_count": 67,
   "id": "5567ae9b-5db0-487a-9fef-c4ccf587e89e",
   "metadata": {},
   "outputs": [],
   "source": [
    "X_train, X_test, y_train, y_test = train_test_split(X_over, y_over, stratify =y_over, random_state =5)"
   ]
  },
  {
   "cell_type": "code",
   "execution_count": 68,
   "id": "9cb8e1bf-10cf-4103-8d07-8f1caf806647",
   "metadata": {},
   "outputs": [],
   "source": [
    "scaler = StandardScaler()\n",
    "X_train = scaler.fit_transform(X_train)\n",
    "X_test = scaler.transform(X_test)"
   ]
  },
  {
   "cell_type": "code",
   "execution_count": 69,
   "id": "e0712808-b7fe-4873-84a9-8a709c8427d6",
   "metadata": {},
   "outputs": [],
   "source": [
    "model = Sequential()\n",
    "model.add(Dense(12, input_dim=12, activation='relu'))\n",
    "model.add(Dense(8, activation='relu'))\n",
    "model.add(Dense(1, activation='sigmoid'))"
   ]
  },
  {
   "cell_type": "code",
   "execution_count": 70,
   "id": "c14931d0-a43f-4faa-b677-4fac06ff05eb",
   "metadata": {},
   "outputs": [],
   "source": [
    "model.compile(loss='binary_crossentropy', optimizer='adam', metrics=['accuracy'])"
   ]
  },
  {
   "cell_type": "code",
   "execution_count": 71,
   "id": "9a982543-9764-45d1-8621-b13d566ca7f0",
   "metadata": {},
   "outputs": [],
   "source": [
    "X_train= np.asarray(X_train).astype('float32')\n",
    "X_test =np.asarray(X_test).astype('float32')"
   ]
  },
  {
   "cell_type": "code",
   "execution_count": 72,
   "id": "e3bdf146-ee27-4c21-b20c-333104a79364",
   "metadata": {},
   "outputs": [
    {
     "name": "stdout",
     "output_type": "stream",
     "text": [
      "Epoch 1/10\n",
      "10789/10789 [==============================] - 14s 1ms/step - loss: 0.5734 - accuracy: 0.7066 - val_loss: 0.5671 - val_accuracy: 0.7120\n",
      "Epoch 2/10\n",
      "10789/10789 [==============================] - 13s 1ms/step - loss: 0.5633 - accuracy: 0.7129 - val_loss: 0.5628 - val_accuracy: 0.7142\n",
      "Epoch 3/10\n",
      "10789/10789 [==============================] - 13s 1ms/step - loss: 0.5618 - accuracy: 0.7126 - val_loss: 0.5632 - val_accuracy: 0.7124\n",
      "Epoch 4/10\n",
      "10789/10789 [==============================] - 13s 1ms/step - loss: 0.5611 - accuracy: 0.7132 - val_loss: 0.5608 - val_accuracy: 0.7154\n",
      "Epoch 5/10\n",
      "10789/10789 [==============================] - 13s 1ms/step - loss: 0.5604 - accuracy: 0.7145 - val_loss: 0.5597 - val_accuracy: 0.7156\n",
      "Epoch 6/10\n",
      "10789/10789 [==============================] - 13s 1ms/step - loss: 0.5594 - accuracy: 0.7150 - val_loss: 0.5593 - val_accuracy: 0.7164\n",
      "Epoch 7/10\n",
      "10789/10789 [==============================] - 13s 1ms/step - loss: 0.5593 - accuracy: 0.7142 - val_loss: 0.5599 - val_accuracy: 0.7162\n",
      "Epoch 8/10\n",
      "10789/10789 [==============================] - 13s 1ms/step - loss: 0.5589 - accuracy: 0.7152 - val_loss: 0.5609 - val_accuracy: 0.7149\n",
      "Epoch 9/10\n",
      "10789/10789 [==============================] - 13s 1ms/step - loss: 0.5586 - accuracy: 0.7151 - val_loss: 0.5604 - val_accuracy: 0.7147\n",
      "Epoch 10/10\n",
      "10789/10789 [==============================] - 13s 1ms/step - loss: 0.5588 - accuracy: 0.7145 - val_loss: 0.5594 - val_accuracy: 0.7159\n"
     ]
    },
    {
     "data": {
      "text/plain": [
       "<keras.callbacks.History at 0x2567bec0bb0>"
      ]
     },
     "execution_count": 72,
     "metadata": {},
     "output_type": "execute_result"
    }
   ],
   "source": [
    "model.fit(X_train, y_train,\n",
    "                 validation_data = (X_test, y_test),\n",
    "                 batch_size = 10,\n",
    "                 epochs= 10)"
   ]
  },
  {
   "cell_type": "markdown",
   "id": "a9e307f7-680c-4260-b317-bb3919d37eb4",
   "metadata": {},
   "source": [
    "## Cutter"
   ]
  },
  {
   "cell_type": "code",
   "execution_count": 73,
   "id": "3aafc2d1-d492-4bd9-828d-10ad04593fd5",
   "metadata": {},
   "outputs": [],
   "source": [
    "df6 = df.copy()"
   ]
  },
  {
   "cell_type": "code",
   "execution_count": 74,
   "id": "93c658df-4987-40d2-91de-57e21c5ba60d",
   "metadata": {},
   "outputs": [],
   "source": [
    "df6 = df6[df6.pitch_name == 'Cutter']"
   ]
  },
  {
   "cell_type": "code",
   "execution_count": 75,
   "id": "f1e29c80-227c-4aa9-b7a2-357a091e6682",
   "metadata": {},
   "outputs": [],
   "source": [
    "z = df6[['spin_axis', 'release_speed', 'release_spin_rate', 'az', 'ay', 'ax', 'vz0', 'vy0', 'vx0', 'zone','pfx_x', 'pfx_z','description']]"
   ]
  },
  {
   "cell_type": "code",
   "execution_count": 76,
   "id": "369fc4fe-b24d-44ef-948c-a9cdfcac0f79",
   "metadata": {},
   "outputs": [
    {
     "name": "stderr",
     "output_type": "stream",
     "text": [
      "C:\\Users\\dmarm\\AppData\\Local\\Temp\\ipykernel_17232\\2385804610.py:1: SettingWithCopyWarning: \n",
      "A value is trying to be set on a copy of a slice from a DataFrame\n",
      "\n",
      "See the caveats in the documentation: https://pandas.pydata.org/pandas-docs/stable/user_guide/indexing.html#returning-a-view-versus-a-copy\n",
      "  z.dropna(inplace = True)\n"
     ]
    }
   ],
   "source": [
    "z.dropna(inplace = True)"
   ]
  },
  {
   "cell_type": "code",
   "execution_count": 77,
   "id": "b210dbc7-51b4-44ed-bc7b-616df804ff05",
   "metadata": {},
   "outputs": [],
   "source": [
    "X = z[['spin_axis', 'release_speed', 'release_spin_rate', 'az', 'ay', 'ax', 'vz0', 'vy0', 'vx0', 'zone', 'pfx_x', 'pfx_z']]"
   ]
  },
  {
   "cell_type": "code",
   "execution_count": 78,
   "id": "eb6a82b6-9f32-4366-86c8-7712e1533cf6",
   "metadata": {},
   "outputs": [],
   "source": [
    "y = z[['description']]"
   ]
  },
  {
   "cell_type": "code",
   "execution_count": 79,
   "id": "867f882f-7d5f-440b-8bfb-53876890de8d",
   "metadata": {},
   "outputs": [],
   "source": [
    "oversample = im.over_sampling.RandomOverSampler(sampling_strategy='minority')"
   ]
  },
  {
   "cell_type": "code",
   "execution_count": 80,
   "id": "bed99e89-0fdb-4e92-86fc-01bd524f3558",
   "metadata": {},
   "outputs": [],
   "source": [
    "X_over, y_over = oversample.fit_resample(X, y)"
   ]
  },
  {
   "cell_type": "code",
   "execution_count": 81,
   "id": "4eae5ddf-d97e-4bca-915c-691fc8255ce1",
   "metadata": {},
   "outputs": [],
   "source": [
    "X_train, X_test, y_train, y_test = train_test_split(X_over, y_over, stratify =y_over, random_state =5)"
   ]
  },
  {
   "cell_type": "code",
   "execution_count": 82,
   "id": "aff1907a-059f-4673-92a6-732c1ab55fcc",
   "metadata": {},
   "outputs": [],
   "source": [
    "scaler = StandardScaler()\n",
    "X_train = scaler.fit_transform(X_train)\n",
    "X_test = scaler.transform(X_test)"
   ]
  },
  {
   "cell_type": "code",
   "execution_count": 83,
   "id": "c6076326-1386-4833-938f-4266a4f20363",
   "metadata": {},
   "outputs": [],
   "source": [
    "model = Sequential()\n",
    "model.add(Dense(12, input_dim=12, activation='relu'))\n",
    "model.add(Dense(8, activation='relu'))\n",
    "model.add(Dense(1, activation='sigmoid'))"
   ]
  },
  {
   "cell_type": "code",
   "execution_count": 84,
   "id": "83fd4fbd-b95e-4242-b7dd-8548a9be6efa",
   "metadata": {},
   "outputs": [],
   "source": [
    "model.compile(loss='binary_crossentropy', optimizer='adam', metrics=['accuracy'])"
   ]
  },
  {
   "cell_type": "code",
   "execution_count": 85,
   "id": "49275bfc-685e-4d9a-853b-d7de8672bb2f",
   "metadata": {},
   "outputs": [],
   "source": [
    "X_train= np.asarray(X_train).astype('float32')\n",
    "X_test =np.asarray(X_test).astype('float32')"
   ]
  },
  {
   "cell_type": "code",
   "execution_count": 86,
   "id": "8d50ab95-a306-4a82-ae17-96f64838a947",
   "metadata": {},
   "outputs": [
    {
     "name": "stdout",
     "output_type": "stream",
     "text": [
      "Epoch 1/10\n",
      "11045/11045 [==============================] - 15s 1ms/step - loss: 0.6289 - accuracy: 0.6456 - val_loss: 0.6191 - val_accuracy: 0.6552\n",
      "Epoch 2/10\n",
      "11045/11045 [==============================] - 16s 1ms/step - loss: 0.6172 - accuracy: 0.6607 - val_loss: 0.6154 - val_accuracy: 0.6592\n",
      "Epoch 3/10\n",
      "11045/11045 [==============================] - 17s 1ms/step - loss: 0.6152 - accuracy: 0.6637 - val_loss: 0.6152 - val_accuracy: 0.6620\n",
      "Epoch 4/10\n",
      "11045/11045 [==============================] - 15s 1ms/step - loss: 0.6136 - accuracy: 0.6635 - val_loss: 0.6120 - val_accuracy: 0.6635\n",
      "Epoch 5/10\n",
      "11045/11045 [==============================] - 16s 1ms/step - loss: 0.6126 - accuracy: 0.6659 - val_loss: 0.6145 - val_accuracy: 0.6624\n",
      "Epoch 6/10\n",
      "11045/11045 [==============================] - 16s 1ms/step - loss: 0.6118 - accuracy: 0.6659 - val_loss: 0.6108 - val_accuracy: 0.6667\n",
      "Epoch 7/10\n",
      "11045/11045 [==============================] - 16s 1ms/step - loss: 0.6112 - accuracy: 0.6677 - val_loss: 0.6141 - val_accuracy: 0.6638\n",
      "Epoch 8/10\n",
      "11045/11045 [==============================] - 16s 1ms/step - loss: 0.6108 - accuracy: 0.6674 - val_loss: 0.6113 - val_accuracy: 0.6661\n",
      "Epoch 9/10\n",
      "11045/11045 [==============================] - 17s 2ms/step - loss: 0.6103 - accuracy: 0.6677 - val_loss: 0.6101 - val_accuracy: 0.6670\n",
      "Epoch 10/10\n",
      "11045/11045 [==============================] - 15s 1ms/step - loss: 0.6099 - accuracy: 0.6680 - val_loss: 0.6112 - val_accuracy: 0.6676\n"
     ]
    },
    {
     "data": {
      "text/plain": [
       "<keras.callbacks.History at 0x25603286dc0>"
      ]
     },
     "execution_count": 86,
     "metadata": {},
     "output_type": "execute_result"
    }
   ],
   "source": [
    "model.fit(X_train, y_train,\n",
    "                 validation_data = (X_test, y_test),\n",
    "                 batch_size = 10,\n",
    "                 epochs= 10)"
   ]
  },
  {
   "cell_type": "markdown",
   "id": "69cb6ab3-43f2-422b-a058-ecb69b7cf5cf",
   "metadata": {},
   "source": [
    "## Knuckle Curve"
   ]
  },
  {
   "cell_type": "code",
   "execution_count": 87,
   "id": "c6679bb4-9654-44fa-8cc8-d5bcb5a62727",
   "metadata": {},
   "outputs": [],
   "source": [
    "df7 = df.copy()"
   ]
  },
  {
   "cell_type": "code",
   "execution_count": 88,
   "id": "77cbd2be-36f5-4ec0-b18e-f6442518fa8f",
   "metadata": {},
   "outputs": [],
   "source": [
    "df7 = df7[df7.pitch_name == 'Knuckle Curve']"
   ]
  },
  {
   "cell_type": "code",
   "execution_count": 89,
   "id": "61327cb7-c21d-4e86-8ac5-8251af1eea4e",
   "metadata": {},
   "outputs": [],
   "source": [
    "z = df7[['spin_axis', 'release_speed', 'release_spin_rate', 'az', 'ay', 'ax', 'vz0', 'vy0', 'vx0', 'zone','pfx_x', 'pfx_z','description']]"
   ]
  },
  {
   "cell_type": "code",
   "execution_count": 90,
   "id": "5680eca0-f1d2-4ce7-a45f-a2db160990d3",
   "metadata": {},
   "outputs": [
    {
     "name": "stderr",
     "output_type": "stream",
     "text": [
      "C:\\Users\\dmarm\\AppData\\Local\\Temp\\ipykernel_17232\\2385804610.py:1: SettingWithCopyWarning: \n",
      "A value is trying to be set on a copy of a slice from a DataFrame\n",
      "\n",
      "See the caveats in the documentation: https://pandas.pydata.org/pandas-docs/stable/user_guide/indexing.html#returning-a-view-versus-a-copy\n",
      "  z.dropna(inplace = True)\n"
     ]
    }
   ],
   "source": [
    "z.dropna(inplace = True)"
   ]
  },
  {
   "cell_type": "code",
   "execution_count": 91,
   "id": "c43dab66-6d28-42f1-aeb4-6efda11390b3",
   "metadata": {},
   "outputs": [],
   "source": [
    "X = z[['spin_axis', 'release_speed', 'release_spin_rate', 'az', 'ay', 'ax', 'vz0', 'vy0', 'vx0', 'zone', 'pfx_x', 'pfx_z']]"
   ]
  },
  {
   "cell_type": "code",
   "execution_count": 92,
   "id": "0aad95e1-5ba0-41d1-9d77-8b50ef0b9dcd",
   "metadata": {},
   "outputs": [],
   "source": [
    "y = z[['description']]"
   ]
  },
  {
   "cell_type": "code",
   "execution_count": 93,
   "id": "824865f8-fceb-405a-b639-3375da740560",
   "metadata": {},
   "outputs": [],
   "source": [
    "oversample = im.over_sampling.RandomOverSampler(sampling_strategy='minority')"
   ]
  },
  {
   "cell_type": "code",
   "execution_count": 94,
   "id": "63094b4a-3151-4877-af6c-9d3fea1230f8",
   "metadata": {},
   "outputs": [],
   "source": [
    "X_over, y_over = oversample.fit_resample(X, y)"
   ]
  },
  {
   "cell_type": "code",
   "execution_count": 95,
   "id": "5c5c6613-9732-491e-8f9b-3eccdc9ace01",
   "metadata": {},
   "outputs": [],
   "source": [
    "X_train, X_test, y_train, y_test = train_test_split(X_over, y_over, stratify =y_over, random_state =5)"
   ]
  },
  {
   "cell_type": "code",
   "execution_count": 96,
   "id": "95dfdc05-88ea-490e-bf44-8c38b17494ef",
   "metadata": {},
   "outputs": [],
   "source": [
    "scaler = StandardScaler()\n",
    "X_train = scaler.fit_transform(X_train)\n",
    "X_test = scaler.transform(X_test)"
   ]
  },
  {
   "cell_type": "code",
   "execution_count": 97,
   "id": "b253d2b4-22c7-46d9-a36f-9d5cf00440a0",
   "metadata": {},
   "outputs": [],
   "source": [
    "model = Sequential()\n",
    "model.add(Dense(12, input_dim=12, activation='relu'))\n",
    "model.add(Dense(8, activation='relu'))\n",
    "model.add(Dense(1, activation='sigmoid'))"
   ]
  },
  {
   "cell_type": "code",
   "execution_count": 98,
   "id": "fd13f6c8-6c21-4234-bb7b-5835c1858efa",
   "metadata": {},
   "outputs": [],
   "source": [
    "model.compile(loss='binary_crossentropy', optimizer='adam', metrics=['accuracy'])"
   ]
  },
  {
   "cell_type": "code",
   "execution_count": 99,
   "id": "dd9be207-cff8-4ab7-a100-b12be3c07e72",
   "metadata": {},
   "outputs": [],
   "source": [
    "X_train= np.asarray(X_train).astype('float32')\n",
    "X_test =np.asarray(X_test).astype('float32')"
   ]
  },
  {
   "cell_type": "code",
   "execution_count": 100,
   "id": "ddad6b3c-f1cf-4a95-ab1a-f0494d4c5404",
   "metadata": {},
   "outputs": [
    {
     "name": "stdout",
     "output_type": "stream",
     "text": [
      "Epoch 1/10\n",
      "3261/3261 [==============================] - 5s 1ms/step - loss: 0.5462 - accuracy: 0.7321 - val_loss: 0.5384 - val_accuracy: 0.7347\n",
      "Epoch 2/10\n",
      "3261/3261 [==============================] - 4s 1ms/step - loss: 0.5314 - accuracy: 0.7427 - val_loss: 0.5381 - val_accuracy: 0.7350\n",
      "Epoch 3/10\n",
      "3261/3261 [==============================] - 4s 1ms/step - loss: 0.5295 - accuracy: 0.7421 - val_loss: 0.5356 - val_accuracy: 0.7366\n",
      "Epoch 4/10\n",
      "3261/3261 [==============================] - 4s 1ms/step - loss: 0.5284 - accuracy: 0.7438 - val_loss: 0.5340 - val_accuracy: 0.7366\n",
      "Epoch 5/10\n",
      "3261/3261 [==============================] - 4s 1ms/step - loss: 0.5272 - accuracy: 0.7428 - val_loss: 0.5343 - val_accuracy: 0.7354\n",
      "Epoch 6/10\n",
      "3261/3261 [==============================] - 5s 1ms/step - loss: 0.5267 - accuracy: 0.7434 - val_loss: 0.5357 - val_accuracy: 0.7359\n",
      "Epoch 7/10\n",
      "3261/3261 [==============================] - 4s 1ms/step - loss: 0.5262 - accuracy: 0.7449 - val_loss: 0.5345 - val_accuracy: 0.7355\n",
      "Epoch 8/10\n",
      "3261/3261 [==============================] - 5s 1ms/step - loss: 0.5255 - accuracy: 0.7442 - val_loss: 0.5342 - val_accuracy: 0.7358\n",
      "Epoch 9/10\n",
      "3261/3261 [==============================] - 4s 1ms/step - loss: 0.5251 - accuracy: 0.7454 - val_loss: 0.5330 - val_accuracy: 0.7372\n",
      "Epoch 10/10\n",
      "3261/3261 [==============================] - 4s 1ms/step - loss: 0.5248 - accuracy: 0.7466 - val_loss: 0.5324 - val_accuracy: 0.7369\n"
     ]
    },
    {
     "data": {
      "text/plain": [
       "<keras.callbacks.History at 0x25601cf9e50>"
      ]
     },
     "execution_count": 100,
     "metadata": {},
     "output_type": "execute_result"
    }
   ],
   "source": [
    "model.fit(X_train, y_train,\n",
    "                 validation_data = (X_test, y_test),\n",
    "                 batch_size = 10,\n",
    "                 epochs= 10)"
   ]
  },
  {
   "cell_type": "markdown",
   "id": "29f08f89-8f64-4331-ac8c-8dad4c308e16",
   "metadata": {},
   "source": [
    "## Split-Finger Fastball"
   ]
  },
  {
   "cell_type": "code",
   "execution_count": 101,
   "id": "d9d6329e-de44-4662-8d40-08d016ccfd02",
   "metadata": {},
   "outputs": [],
   "source": [
    "df8 = df.copy()"
   ]
  },
  {
   "cell_type": "code",
   "execution_count": 102,
   "id": "1bcb47f2-ce73-49fe-8bc3-2cce81f94865",
   "metadata": {},
   "outputs": [],
   "source": [
    "df8 = df8[df8.pitch_name == 'Split-Finger']"
   ]
  },
  {
   "cell_type": "code",
   "execution_count": 103,
   "id": "4ccaa181-bb83-4ca8-8eb1-7091d3d55d6d",
   "metadata": {},
   "outputs": [],
   "source": [
    "z = df8[['spin_axis', 'release_speed', 'release_spin_rate', 'az', 'ay', 'ax', 'vz0', 'vy0', 'vx0', 'zone','pfx_x', 'pfx_z','description']]"
   ]
  },
  {
   "cell_type": "code",
   "execution_count": 104,
   "id": "3a2bd1f7-cc6d-4007-87b8-54f2b812a3a6",
   "metadata": {},
   "outputs": [
    {
     "name": "stderr",
     "output_type": "stream",
     "text": [
      "C:\\Users\\dmarm\\AppData\\Local\\Temp\\ipykernel_17232\\2385804610.py:1: SettingWithCopyWarning: \n",
      "A value is trying to be set on a copy of a slice from a DataFrame\n",
      "\n",
      "See the caveats in the documentation: https://pandas.pydata.org/pandas-docs/stable/user_guide/indexing.html#returning-a-view-versus-a-copy\n",
      "  z.dropna(inplace = True)\n"
     ]
    }
   ],
   "source": [
    "z.dropna(inplace = True)"
   ]
  },
  {
   "cell_type": "code",
   "execution_count": 105,
   "id": "cb32ba2d-1496-4ce7-9fa8-e052ac26a04d",
   "metadata": {},
   "outputs": [],
   "source": [
    "X = z[['spin_axis', 'release_speed', 'release_spin_rate', 'az', 'ay', 'ax', 'vz0', 'vy0', 'vx0', 'zone', 'pfx_x', 'pfx_z']]"
   ]
  },
  {
   "cell_type": "code",
   "execution_count": 106,
   "id": "1f1dec58-7f56-4b6a-96b9-ed62c3558abb",
   "metadata": {},
   "outputs": [],
   "source": [
    "y = z[['description']]"
   ]
  },
  {
   "cell_type": "code",
   "execution_count": 107,
   "id": "0d37c267-03a0-4921-85e9-1cba3c3663fe",
   "metadata": {},
   "outputs": [],
   "source": [
    "oversample = im.over_sampling.RandomOverSampler(sampling_strategy='minority')"
   ]
  },
  {
   "cell_type": "code",
   "execution_count": 108,
   "id": "f8be154e-cbe9-4d2b-8252-4c7999ba73e1",
   "metadata": {},
   "outputs": [],
   "source": [
    "X_over, y_over = oversample.fit_resample(X, y)"
   ]
  },
  {
   "cell_type": "code",
   "execution_count": 109,
   "id": "df1ca41d-75f2-4e90-ae7f-dd5a73907298",
   "metadata": {},
   "outputs": [],
   "source": [
    "X_train, X_test, y_train, y_test = train_test_split(X_over, y_over, stratify =y_over, random_state =5)"
   ]
  },
  {
   "cell_type": "code",
   "execution_count": 110,
   "id": "77f74559-ff82-4707-b6d7-f7d0f2e25862",
   "metadata": {},
   "outputs": [],
   "source": [
    "scaler = StandardScaler()\n",
    "X_train = scaler.fit_transform(X_train)\n",
    "X_test = scaler.transform(X_test)"
   ]
  },
  {
   "cell_type": "code",
   "execution_count": 111,
   "id": "c1361649-8468-4082-8400-106405f232d0",
   "metadata": {},
   "outputs": [],
   "source": [
    "model = Sequential()\n",
    "model.add(Dense(12, input_dim=12, activation='relu'))\n",
    "model.add(Dense(8, activation='relu'))\n",
    "model.add(Dense(1, activation='sigmoid'))"
   ]
  },
  {
   "cell_type": "code",
   "execution_count": 112,
   "id": "5dad3d54-956e-45ee-930b-c742a9f9caaa",
   "metadata": {},
   "outputs": [],
   "source": [
    "model.compile(loss='binary_crossentropy', optimizer='adam', metrics=['accuracy'])"
   ]
  },
  {
   "cell_type": "code",
   "execution_count": 113,
   "id": "29aa9ecc-1899-4bd2-8bf5-6dbb46173485",
   "metadata": {},
   "outputs": [],
   "source": [
    "X_train= np.asarray(X_train).astype('float32')\n",
    "X_test =np.asarray(X_test).astype('float32')"
   ]
  },
  {
   "cell_type": "code",
   "execution_count": 114,
   "id": "43b741b0-da72-405e-bdda-ba1768aa3334",
   "metadata": {},
   "outputs": [
    {
     "name": "stdout",
     "output_type": "stream",
     "text": [
      "Epoch 1/10\n",
      "2432/2432 [==============================] - 4s 1ms/step - loss: 0.6142 - accuracy: 0.6650 - val_loss: 0.5954 - val_accuracy: 0.6816\n",
      "Epoch 2/10\n",
      "2432/2432 [==============================] - 3s 1ms/step - loss: 0.5952 - accuracy: 0.6841 - val_loss: 0.5922 - val_accuracy: 0.6847\n",
      "Epoch 3/10\n",
      "2432/2432 [==============================] - 3s 1ms/step - loss: 0.5926 - accuracy: 0.6876 - val_loss: 0.5912 - val_accuracy: 0.6877\n",
      "Epoch 4/10\n",
      "2432/2432 [==============================] - 3s 1ms/step - loss: 0.5916 - accuracy: 0.6858 - val_loss: 0.5917 - val_accuracy: 0.6860\n",
      "Epoch 5/10\n",
      "2432/2432 [==============================] - 3s 1ms/step - loss: 0.5908 - accuracy: 0.6891 - val_loss: 0.5898 - val_accuracy: 0.6866\n",
      "Epoch 6/10\n",
      "2432/2432 [==============================] - 3s 1ms/step - loss: 0.5903 - accuracy: 0.6891 - val_loss: 0.5897 - val_accuracy: 0.6874\n",
      "Epoch 7/10\n",
      "2432/2432 [==============================] - 3s 1ms/step - loss: 0.5899 - accuracy: 0.6902 - val_loss: 0.5895 - val_accuracy: 0.6874\n",
      "Epoch 8/10\n",
      "2432/2432 [==============================] - 3s 1ms/step - loss: 0.5891 - accuracy: 0.6896 - val_loss: 0.5921 - val_accuracy: 0.6850\n",
      "Epoch 9/10\n",
      "2432/2432 [==============================] - 3s 1ms/step - loss: 0.5884 - accuracy: 0.6906 - val_loss: 0.5882 - val_accuracy: 0.6871\n",
      "Epoch 10/10\n",
      "2432/2432 [==============================] - 3s 1ms/step - loss: 0.5879 - accuracy: 0.6901 - val_loss: 0.5879 - val_accuracy: 0.6879\n"
     ]
    },
    {
     "data": {
      "text/plain": [
       "<keras.callbacks.History at 0x2560103e6d0>"
      ]
     },
     "execution_count": 114,
     "metadata": {},
     "output_type": "execute_result"
    }
   ],
   "source": [
    "model.fit(X_train, y_train,\n",
    "                 validation_data = (X_test, y_test),\n",
    "                 batch_size = 10,\n",
    "                 epochs= 10)"
   ]
  },
  {
   "cell_type": "markdown",
   "id": "23c649dc-dd40-4c70-8e60-e1c7bb286311",
   "metadata": {},
   "source": [
    "## Knuckleball"
   ]
  },
  {
   "cell_type": "code",
   "execution_count": 115,
   "id": "4e228325-6b2d-4330-89cf-b09ff7679ac4",
   "metadata": {},
   "outputs": [],
   "source": [
    "df9 = df.copy()"
   ]
  },
  {
   "cell_type": "code",
   "execution_count": 116,
   "id": "dea27c8c-4501-4ccd-a946-1ef75d0511a1",
   "metadata": {},
   "outputs": [],
   "source": [
    "df9 = df9[df9.pitch_name == 'Knuckleball']"
   ]
  },
  {
   "cell_type": "code",
   "execution_count": 117,
   "id": "42a8c537-9c81-4fe0-af74-e9bdce28362c",
   "metadata": {},
   "outputs": [],
   "source": [
    "z = df9[['spin_axis', 'release_speed', 'release_spin_rate', 'az', 'ay', 'ax', 'vz0', 'vy0', 'vx0', 'zone','pfx_x', 'pfx_z','description']]"
   ]
  },
  {
   "cell_type": "code",
   "execution_count": 118,
   "id": "8da5b68c-13ba-482a-9b83-e0cbdd2e3973",
   "metadata": {},
   "outputs": [
    {
     "name": "stderr",
     "output_type": "stream",
     "text": [
      "C:\\Users\\dmarm\\AppData\\Local\\Temp\\ipykernel_17232\\2385804610.py:1: SettingWithCopyWarning: \n",
      "A value is trying to be set on a copy of a slice from a DataFrame\n",
      "\n",
      "See the caveats in the documentation: https://pandas.pydata.org/pandas-docs/stable/user_guide/indexing.html#returning-a-view-versus-a-copy\n",
      "  z.dropna(inplace = True)\n"
     ]
    }
   ],
   "source": [
    "z.dropna(inplace = True)"
   ]
  },
  {
   "cell_type": "code",
   "execution_count": 119,
   "id": "8aeac879-95c1-4f59-a221-5d6dce1f2d89",
   "metadata": {},
   "outputs": [],
   "source": [
    "X = z[['spin_axis', 'release_speed', 'release_spin_rate', 'az', 'ay', 'ax', 'vz0', 'vy0', 'vx0', 'zone', 'pfx_x', 'pfx_z']]"
   ]
  },
  {
   "cell_type": "code",
   "execution_count": 120,
   "id": "7b0404c1-d229-4233-be25-2d5aa9f14258",
   "metadata": {},
   "outputs": [],
   "source": [
    "y = z[['description']]"
   ]
  },
  {
   "cell_type": "code",
   "execution_count": 121,
   "id": "1c9e7a78-6f4e-4d4c-9de4-530dede16ef1",
   "metadata": {},
   "outputs": [],
   "source": [
    "oversample = im.over_sampling.RandomOverSampler(sampling_strategy='minority')"
   ]
  },
  {
   "cell_type": "code",
   "execution_count": 122,
   "id": "5d3571f9-769c-422e-a3f7-7e51d050d433",
   "metadata": {},
   "outputs": [],
   "source": [
    "X_over, y_over = oversample.fit_resample(X, y)"
   ]
  },
  {
   "cell_type": "code",
   "execution_count": 123,
   "id": "bcd518f7-f259-4368-910f-c8f4a228ce56",
   "metadata": {},
   "outputs": [],
   "source": [
    "X_train, X_test, y_train, y_test = train_test_split(X_over, y_over, stratify =y_over, random_state =5)"
   ]
  },
  {
   "cell_type": "code",
   "execution_count": 124,
   "id": "d1a278a4-97ab-434f-9d6c-238ff39ff33c",
   "metadata": {},
   "outputs": [],
   "source": [
    "scaler = StandardScaler()\n",
    "X_train = scaler.fit_transform(X_train)\n",
    "X_test = scaler.transform(X_test)"
   ]
  },
  {
   "cell_type": "code",
   "execution_count": 125,
   "id": "e17703bc-ca53-419b-a273-d38f94c82a5c",
   "metadata": {},
   "outputs": [],
   "source": [
    "model = Sequential()\n",
    "model.add(Dense(12, input_dim=12, activation='relu'))\n",
    "model.add(Dense(8, activation='relu'))\n",
    "model.add(Dense(1, activation='sigmoid'))"
   ]
  },
  {
   "cell_type": "code",
   "execution_count": 126,
   "id": "6093d415-cf31-499a-ad45-2e63d565235e",
   "metadata": {},
   "outputs": [],
   "source": [
    "model.compile(loss='binary_crossentropy', optimizer='adam', metrics=['accuracy'])"
   ]
  },
  {
   "cell_type": "code",
   "execution_count": 127,
   "id": "b37d8310-f4bc-4ac9-a2d3-a44d28b4db97",
   "metadata": {},
   "outputs": [],
   "source": [
    "X_train= np.asarray(X_train).astype('float32')\n",
    "X_test =np.asarray(X_test).astype('float32')"
   ]
  },
  {
   "cell_type": "code",
   "execution_count": 128,
   "id": "4387eebf-feb6-4c70-8ef4-c6ce14fdf136",
   "metadata": {},
   "outputs": [
    {
     "name": "stdout",
     "output_type": "stream",
     "text": [
      "Epoch 1/10\n",
      "18/18 [==============================] - 1s 8ms/step - loss: 0.6967 - accuracy: 0.5287 - val_loss: 0.6802 - val_accuracy: 0.6552\n",
      "Epoch 2/10\n",
      "18/18 [==============================] - 0s 3ms/step - loss: 0.6829 - accuracy: 0.5862 - val_loss: 0.6717 - val_accuracy: 0.6034\n",
      "Epoch 3/10\n",
      "18/18 [==============================] - 0s 3ms/step - loss: 0.6724 - accuracy: 0.6322 - val_loss: 0.6625 - val_accuracy: 0.6207\n",
      "Epoch 4/10\n",
      "18/18 [==============================] - 0s 3ms/step - loss: 0.6629 - accuracy: 0.6379 - val_loss: 0.6548 - val_accuracy: 0.6552\n",
      "Epoch 5/10\n",
      "18/18 [==============================] - 0s 2ms/step - loss: 0.6545 - accuracy: 0.6552 - val_loss: 0.6475 - val_accuracy: 0.6724\n",
      "Epoch 6/10\n",
      "18/18 [==============================] - 0s 3ms/step - loss: 0.6470 - accuracy: 0.6667 - val_loss: 0.6392 - val_accuracy: 0.6897\n",
      "Epoch 7/10\n",
      "18/18 [==============================] - 0s 3ms/step - loss: 0.6404 - accuracy: 0.6839 - val_loss: 0.6314 - val_accuracy: 0.6897\n",
      "Epoch 8/10\n",
      "18/18 [==============================] - 0s 3ms/step - loss: 0.6333 - accuracy: 0.6897 - val_loss: 0.6259 - val_accuracy: 0.7069\n",
      "Epoch 9/10\n",
      "18/18 [==============================] - 0s 3ms/step - loss: 0.6278 - accuracy: 0.6897 - val_loss: 0.6180 - val_accuracy: 0.7069\n",
      "Epoch 10/10\n",
      "18/18 [==============================] - 0s 3ms/step - loss: 0.6205 - accuracy: 0.7011 - val_loss: 0.6120 - val_accuracy: 0.7069\n"
     ]
    },
    {
     "data": {
      "text/plain": [
       "<keras.callbacks.History at 0x2566a86ff40>"
      ]
     },
     "execution_count": 128,
     "metadata": {},
     "output_type": "execute_result"
    }
   ],
   "source": [
    "model.fit(X_train, y_train,\n",
    "                 validation_data = (X_test, y_test),\n",
    "                 batch_size = 10,\n",
    "                 epochs= 10)"
   ]
  },
  {
   "cell_type": "markdown",
   "id": "bd53ea1d-73cf-4dc2-aeb0-008d74ca0b47",
   "metadata": {},
   "source": [
    "notebook 5 contains gradient boosting and logistic regression models"
   ]
  },
  {
   "cell_type": "code",
   "execution_count": null,
   "id": "22e46cf1-520a-4e0f-b937-5939f3f91b03",
   "metadata": {},
   "outputs": [],
   "source": []
  }
 ],
 "metadata": {
  "kernelspec": {
   "display_name": "Python [conda env:GA]",
   "language": "python",
   "name": "conda-env-GA-py"
  },
  "language_info": {
   "codemirror_mode": {
    "name": "ipython",
    "version": 3
   },
   "file_extension": ".py",
   "mimetype": "text/x-python",
   "name": "python",
   "nbconvert_exporter": "python",
   "pygments_lexer": "ipython3",
   "version": "3.9.11"
  }
 },
 "nbformat": 4,
 "nbformat_minor": 5
}
