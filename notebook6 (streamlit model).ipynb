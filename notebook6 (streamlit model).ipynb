{
 "cells": [
  {
   "cell_type": "markdown",
   "id": "56aeda71-c771-4033-883f-13bbe15a8d83",
   "metadata": {},
   "source": [
    "## Modeling"
   ]
  },
  {
   "cell_type": "code",
   "execution_count": 1,
   "id": "e85db635-6bd0-46c3-86c4-9d28a12711bb",
   "metadata": {},
   "outputs": [],
   "source": [
    "from sklearn.model_selection import train_test_split, GridSearchCV, cross_val_score\n",
    "from sklearn.linear_model import LogisticRegression\n",
    "from sklearn.preprocessing import StandardScaler\n",
    "from sklearn.ensemble import RandomForestClassifier, GradientBoostingClassifier, AdaBoostClassifier\n",
    "from sklearn.metrics import confusion_matrix\n",
    "from sklearn.metrics import accuracy_score, classification_report, f1_score\n",
    "from sklearn.neighbors import KNeighborsClassifier\n",
    "from sklearn.pipeline import Pipeline\n",
    "import pandas as pd\n",
    "from sklearn.metrics import cohen_kappa_score\n",
    "from sklearn.metrics import multilabel_confusion_matrix\n",
    "import seaborn as sns\n",
    "import matplotlib.pyplot as plt \n",
    "import numpy as np\n",
    "import pickle\n",
    "import imblearn as im"
   ]
  },
  {
   "cell_type": "code",
   "execution_count": 2,
   "id": "ed518be8-af9f-493e-b805-d53263233c54",
   "metadata": {},
   "outputs": [],
   "source": [
    "infile = open('dummy2.pkl','rb')\n",
    "df = pickle.load(infile)\n",
    "infile.close()"
   ]
  },
  {
   "cell_type": "markdown",
   "id": "1b788e28-4ffa-4e64-adf6-b43c6b401d78",
   "metadata": {},
   "source": [
    "This notebook has simplified models for streamlit. To make it easy for people to use I included 5 features (speed, spin rate, location, horizontal movement, and vertical movement). The models are all random forests since random forests have the best accuracy for this data. There will a a streamlit app for each pitch in the data."
   ]
  },
  {
   "cell_type": "markdown",
   "id": "5c8d96f5-9edc-4012-b038-fa4f8f40fd03",
   "metadata": {},
   "source": [
    "# 4 seam fastball"
   ]
  },
  {
   "cell_type": "code",
   "execution_count": 3,
   "id": "a68a3df3-4ba3-48aa-a59b-fed04755a45a",
   "metadata": {},
   "outputs": [],
   "source": [
    "df1 = df.copy()"
   ]
  },
  {
   "cell_type": "code",
   "execution_count": 4,
   "id": "bde1cb0b-7286-41d2-bd5d-a924cf4fe855",
   "metadata": {},
   "outputs": [],
   "source": [
    "df1 = df1[df1.pitch_name == '4-Seam Fastball']"
   ]
  },
  {
   "cell_type": "code",
   "execution_count": 5,
   "id": "77da3f4c-e65f-4340-a7a3-fb16e2b07580",
   "metadata": {},
   "outputs": [],
   "source": [
    "z = df1[['release_speed', 'release_spin_rate', 'zone','pfx_x', 'pfx_z','description']]"
   ]
  },
  {
   "cell_type": "code",
   "execution_count": 6,
   "id": "735b9b37-a263-471d-91b9-d37b862ba468",
   "metadata": {},
   "outputs": [
    {
     "name": "stderr",
     "output_type": "stream",
     "text": [
      "C:\\Users\\dmarm\\AppData\\Local\\Temp\\ipykernel_20612\\2385804610.py:1: SettingWithCopyWarning: \n",
      "A value is trying to be set on a copy of a slice from a DataFrame\n",
      "\n",
      "See the caveats in the documentation: https://pandas.pydata.org/pandas-docs/stable/user_guide/indexing.html#returning-a-view-versus-a-copy\n",
      "  z.dropna(inplace = True)\n"
     ]
    }
   ],
   "source": [
    "z.dropna(inplace = True)"
   ]
  },
  {
   "cell_type": "code",
   "execution_count": 7,
   "id": "c15986b3-10ac-43c3-baf4-403e3175f23b",
   "metadata": {},
   "outputs": [],
   "source": [
    "X = z[['release_speed', 'release_spin_rate', 'zone','pfx_x', 'pfx_z']]"
   ]
  },
  {
   "cell_type": "code",
   "execution_count": 8,
   "id": "2951d669-5313-4475-922e-34c1018d2677",
   "metadata": {},
   "outputs": [],
   "source": [
    "y = z[['description']]"
   ]
  },
  {
   "cell_type": "code",
   "execution_count": 9,
   "id": "9921c55f-f454-4bad-8d0a-874a17864fb9",
   "metadata": {},
   "outputs": [],
   "source": [
    "oversample = im.over_sampling.RandomOverSampler(sampling_strategy='minority')"
   ]
  },
  {
   "cell_type": "code",
   "execution_count": 10,
   "id": "7ea9066e-5ad4-4236-9f5a-903e6cf6ad5f",
   "metadata": {},
   "outputs": [],
   "source": [
    "X_over, y_over = oversample.fit_resample(X, y)"
   ]
  },
  {
   "cell_type": "code",
   "execution_count": 11,
   "id": "74575e0b-35e0-442c-a6dc-e0887656cb1d",
   "metadata": {},
   "outputs": [],
   "source": [
    "X_train, X_test, y_train, y_test = train_test_split(X_over, y_over, stratify =y_over, random_state =5)"
   ]
  },
  {
   "cell_type": "code",
   "execution_count": 12,
   "id": "e4510c54-01d0-4056-95bc-ec96790ac6fd",
   "metadata": {},
   "outputs": [
    {
     "name": "stderr",
     "output_type": "stream",
     "text": [
      "C:\\Users\\dmarm\\AppData\\Local\\Temp\\ipykernel_20612\\4194971639.py:2: DataConversionWarning: A column-vector y was passed when a 1d array was expected. Please change the shape of y to (n_samples,), for example using ravel().\n",
      "  rf1.fit(X_train, y_train)\n"
     ]
    },
    {
     "data": {
      "text/plain": [
       "RandomForestClassifier(n_estimators=10)"
      ]
     },
     "execution_count": 12,
     "metadata": {},
     "output_type": "execute_result"
    }
   ],
   "source": [
    "rf1 = RandomForestClassifier(n_estimators = 10)\n",
    "rf1.fit(X_train, y_train)"
   ]
  },
  {
   "cell_type": "code",
   "execution_count": 13,
   "id": "20892605-46f1-47e1-865c-cff91ba4141e",
   "metadata": {},
   "outputs": [],
   "source": [
    "feature_names = ['release_speed', 'release_spin_rate','zone', 'pfx_x', 'pfx_z']"
   ]
  },
  {
   "cell_type": "code",
   "execution_count": 14,
   "id": "ea27bcc8-ff13-4857-b6b8-2a39bdd1db35",
   "metadata": {},
   "outputs": [],
   "source": [
    "filename = 'model.sav'\n",
    "pickle.dump(rf1, open(filename, 'wb'))"
   ]
  },
  {
   "cell_type": "code",
   "execution_count": 15,
   "id": "91237f6d-c363-4ef7-be5d-8af8e9648d0b",
   "metadata": {},
   "outputs": [],
   "source": [
    "filename = 'list.pkl'\n",
    "pickle.dump(feature_names, open(filename, 'wb'))"
   ]
  },
  {
   "cell_type": "markdown",
   "id": "29cc13ba-6840-4056-b606-18028f76096a",
   "metadata": {},
   "source": [
    "## Sinker"
   ]
  },
  {
   "cell_type": "code",
   "execution_count": 16,
   "id": "fdc772b5-70a2-45a5-b4f5-0dea2efd1028",
   "metadata": {},
   "outputs": [],
   "source": [
    "df2 = df.copy()"
   ]
  },
  {
   "cell_type": "code",
   "execution_count": 17,
   "id": "aad3eecc-72bf-4c67-a9f1-07333676ad6b",
   "metadata": {},
   "outputs": [],
   "source": [
    "df2 = df2[df2.pitch_name == 'Sinker']"
   ]
  },
  {
   "cell_type": "code",
   "execution_count": 18,
   "id": "e00f1ad6-8270-410b-ac78-333157bbd236",
   "metadata": {},
   "outputs": [],
   "source": [
    "z = df2[['release_speed', 'release_spin_rate', 'zone','pfx_x', 'pfx_z','description']]"
   ]
  },
  {
   "cell_type": "code",
   "execution_count": 19,
   "id": "9345cebc-5d1f-4710-9c9d-4060d01add2d",
   "metadata": {},
   "outputs": [
    {
     "name": "stderr",
     "output_type": "stream",
     "text": [
      "C:\\Users\\dmarm\\AppData\\Local\\Temp\\ipykernel_20612\\2385804610.py:1: SettingWithCopyWarning: \n",
      "A value is trying to be set on a copy of a slice from a DataFrame\n",
      "\n",
      "See the caveats in the documentation: https://pandas.pydata.org/pandas-docs/stable/user_guide/indexing.html#returning-a-view-versus-a-copy\n",
      "  z.dropna(inplace = True)\n"
     ]
    }
   ],
   "source": [
    "z.dropna(inplace = True)"
   ]
  },
  {
   "cell_type": "code",
   "execution_count": 20,
   "id": "2d7a677a-a99f-4677-bde0-28071d04628c",
   "metadata": {},
   "outputs": [],
   "source": [
    "X = z[['release_speed', 'release_spin_rate', 'zone','pfx_x', 'pfx_z']]"
   ]
  },
  {
   "cell_type": "code",
   "execution_count": 21,
   "id": "2ac69737-a3b2-4082-9f1c-e1efdf5eb28c",
   "metadata": {},
   "outputs": [],
   "source": [
    "y = z[['description']]"
   ]
  },
  {
   "cell_type": "code",
   "execution_count": 22,
   "id": "24d4fb18-3034-47d0-a5cc-0d2fdc481c57",
   "metadata": {},
   "outputs": [],
   "source": [
    "oversample = im.over_sampling.RandomOverSampler(sampling_strategy='minority')"
   ]
  },
  {
   "cell_type": "code",
   "execution_count": 23,
   "id": "45463d14-5103-46f3-a184-f23901127213",
   "metadata": {},
   "outputs": [],
   "source": [
    "X_over, y_over = oversample.fit_resample(X, y)"
   ]
  },
  {
   "cell_type": "code",
   "execution_count": 24,
   "id": "a53d537c-2671-4d25-9b1e-55eba75d01bd",
   "metadata": {},
   "outputs": [],
   "source": [
    "X_train, X_test, y_train, y_test = train_test_split(X_over, y_over, stratify =y_over, random_state =5)"
   ]
  },
  {
   "cell_type": "code",
   "execution_count": 25,
   "id": "d846fd4f-0864-4bcf-a41c-9b3c75ac083a",
   "metadata": {},
   "outputs": [
    {
     "name": "stderr",
     "output_type": "stream",
     "text": [
      "C:\\Users\\dmarm\\AppData\\Local\\Temp\\ipykernel_20612\\3641827361.py:2: DataConversionWarning: A column-vector y was passed when a 1d array was expected. Please change the shape of y to (n_samples,), for example using ravel().\n",
      "  rf2.fit(X_train, y_train)\n"
     ]
    },
    {
     "data": {
      "text/plain": [
       "RandomForestClassifier(n_estimators=10)"
      ]
     },
     "execution_count": 25,
     "metadata": {},
     "output_type": "execute_result"
    }
   ],
   "source": [
    "rf2 = RandomForestClassifier(n_estimators = 10)\n",
    "rf2.fit(X_train, y_train)"
   ]
  },
  {
   "cell_type": "code",
   "execution_count": 26,
   "id": "955ebad8-f2b9-45fe-948d-7a11e94a6f0b",
   "metadata": {},
   "outputs": [],
   "source": [
    "filename = 'model2.sav'\n",
    "pickle.dump(rf2, open(filename, 'wb'))"
   ]
  },
  {
   "cell_type": "markdown",
   "id": "2f75afb8-b31a-40ff-9b9b-fbba70afe1c6",
   "metadata": {},
   "source": [
    "## Slider"
   ]
  },
  {
   "cell_type": "code",
   "execution_count": 27,
   "id": "f5122996-fd33-4b03-bbef-0d1e74e961e7",
   "metadata": {},
   "outputs": [],
   "source": [
    "df3 = df.copy()"
   ]
  },
  {
   "cell_type": "code",
   "execution_count": 28,
   "id": "83accbb0-0ad9-452b-a126-92a59c19090f",
   "metadata": {},
   "outputs": [],
   "source": [
    "df3 = df3[df3.pitch_name == 'Slider']"
   ]
  },
  {
   "cell_type": "code",
   "execution_count": 29,
   "id": "71348139-846b-423d-b5f9-c1bf6f936422",
   "metadata": {},
   "outputs": [],
   "source": [
    "z = df3[['release_speed', 'release_spin_rate', 'zone','pfx_x', 'pfx_z','description']]"
   ]
  },
  {
   "cell_type": "code",
   "execution_count": 30,
   "id": "536a106f-3b6f-403f-b41b-8a9beda5d437",
   "metadata": {},
   "outputs": [
    {
     "name": "stderr",
     "output_type": "stream",
     "text": [
      "C:\\Users\\dmarm\\AppData\\Local\\Temp\\ipykernel_20612\\2385804610.py:1: SettingWithCopyWarning: \n",
      "A value is trying to be set on a copy of a slice from a DataFrame\n",
      "\n",
      "See the caveats in the documentation: https://pandas.pydata.org/pandas-docs/stable/user_guide/indexing.html#returning-a-view-versus-a-copy\n",
      "  z.dropna(inplace = True)\n"
     ]
    }
   ],
   "source": [
    "z.dropna(inplace = True)"
   ]
  },
  {
   "cell_type": "code",
   "execution_count": 31,
   "id": "4fe6f573-fc1e-4bb3-9df7-8dacb5923e05",
   "metadata": {},
   "outputs": [],
   "source": [
    "X = z[['release_speed', 'release_spin_rate', 'zone','pfx_x', 'pfx_z']]"
   ]
  },
  {
   "cell_type": "code",
   "execution_count": 32,
   "id": "d501b68c-562b-4e9f-9a85-9472c986e537",
   "metadata": {},
   "outputs": [],
   "source": [
    "y = z[['description']]"
   ]
  },
  {
   "cell_type": "code",
   "execution_count": 33,
   "id": "f28c4663-a3dd-408a-9947-fbc203386600",
   "metadata": {},
   "outputs": [],
   "source": [
    "oversample = im.over_sampling.RandomOverSampler(sampling_strategy='minority')"
   ]
  },
  {
   "cell_type": "code",
   "execution_count": 34,
   "id": "9d6022d8-81aa-4b55-b0bd-7e154eea7c79",
   "metadata": {},
   "outputs": [],
   "source": [
    "X_over, y_over = oversample.fit_resample(X, y)"
   ]
  },
  {
   "cell_type": "code",
   "execution_count": 35,
   "id": "70bfb19a-fdfa-4eda-b7ed-24dccb489f5c",
   "metadata": {},
   "outputs": [],
   "source": [
    "X_train, X_test, y_train, y_test = train_test_split(X_over, y_over, stratify =y_over, random_state =5)"
   ]
  },
  {
   "cell_type": "code",
   "execution_count": 36,
   "id": "c24d074e-6920-44bf-9bbc-27d31470974b",
   "metadata": {},
   "outputs": [
    {
     "name": "stderr",
     "output_type": "stream",
     "text": [
      "C:\\Users\\dmarm\\AppData\\Local\\Temp\\ipykernel_20612\\1028156945.py:2: DataConversionWarning: A column-vector y was passed when a 1d array was expected. Please change the shape of y to (n_samples,), for example using ravel().\n",
      "  rf3.fit(X_train, y_train)\n"
     ]
    },
    {
     "data": {
      "text/plain": [
       "RandomForestClassifier(n_estimators=10)"
      ]
     },
     "execution_count": 36,
     "metadata": {},
     "output_type": "execute_result"
    }
   ],
   "source": [
    "rf3 = RandomForestClassifier(n_estimators = 10)\n",
    "rf3.fit(X_train, y_train)"
   ]
  },
  {
   "cell_type": "code",
   "execution_count": 37,
   "id": "e91acd89-0435-4518-8a0b-11ae942c51b7",
   "metadata": {},
   "outputs": [],
   "source": [
    "filename = 'model3.sav'\n",
    "pickle.dump(rf3, open(filename, 'wb'))"
   ]
  },
  {
   "cell_type": "markdown",
   "id": "ec4bbdb1-5c77-4c75-9e47-46b5b38ec5ff",
   "metadata": {},
   "source": [
    "## Changeup "
   ]
  },
  {
   "cell_type": "code",
   "execution_count": 38,
   "id": "de334f82-3604-40e9-8dd4-655aac9d6ab7",
   "metadata": {},
   "outputs": [],
   "source": [
    "df4 = df.copy()"
   ]
  },
  {
   "cell_type": "code",
   "execution_count": 39,
   "id": "6a3845ea-dbf7-4bc8-b15f-9ffca22a3c0a",
   "metadata": {},
   "outputs": [],
   "source": [
    "df4 = df4[df4.pitch_name == 'Changeup']"
   ]
  },
  {
   "cell_type": "code",
   "execution_count": 40,
   "id": "7c5f7096-1ec8-4cfe-812e-83f2e7f8f24d",
   "metadata": {},
   "outputs": [],
   "source": [
    "z = df4[['release_speed', 'release_spin_rate', 'zone','pfx_x', 'pfx_z','description']]"
   ]
  },
  {
   "cell_type": "code",
   "execution_count": 41,
   "id": "0f5cd0ce-972a-40dd-b0c9-b9e6eee3810f",
   "metadata": {},
   "outputs": [
    {
     "name": "stderr",
     "output_type": "stream",
     "text": [
      "C:\\Users\\dmarm\\AppData\\Local\\Temp\\ipykernel_20612\\2385804610.py:1: SettingWithCopyWarning: \n",
      "A value is trying to be set on a copy of a slice from a DataFrame\n",
      "\n",
      "See the caveats in the documentation: https://pandas.pydata.org/pandas-docs/stable/user_guide/indexing.html#returning-a-view-versus-a-copy\n",
      "  z.dropna(inplace = True)\n"
     ]
    }
   ],
   "source": [
    "z.dropna(inplace = True)"
   ]
  },
  {
   "cell_type": "code",
   "execution_count": 42,
   "id": "70e6c451-8178-4405-bf81-1b453e03bc25",
   "metadata": {},
   "outputs": [],
   "source": [
    "X = z[['release_speed', 'release_spin_rate', 'zone','pfx_x', 'pfx_z']]"
   ]
  },
  {
   "cell_type": "code",
   "execution_count": 43,
   "id": "629a56eb-72d3-485a-aded-e6d1e0a12185",
   "metadata": {},
   "outputs": [],
   "source": [
    "y = z[['description']]"
   ]
  },
  {
   "cell_type": "code",
   "execution_count": 44,
   "id": "1f497ebb-e40c-4394-8fb0-52ca62bc684b",
   "metadata": {},
   "outputs": [],
   "source": [
    "oversample = im.over_sampling.RandomOverSampler(sampling_strategy='minority')"
   ]
  },
  {
   "cell_type": "code",
   "execution_count": 45,
   "id": "99fb7525-2458-4415-9cc4-cf219076a9f3",
   "metadata": {},
   "outputs": [],
   "source": [
    "X_over, y_over = oversample.fit_resample(X, y)"
   ]
  },
  {
   "cell_type": "code",
   "execution_count": 46,
   "id": "6883d1db-db96-4987-9d31-c1a339242518",
   "metadata": {},
   "outputs": [],
   "source": [
    "X_train, X_test, y_train, y_test = train_test_split(X_over, y_over, stratify =y_over, random_state =5)"
   ]
  },
  {
   "cell_type": "code",
   "execution_count": 47,
   "id": "a396f70a-ba39-4139-b247-484b8220c64e",
   "metadata": {},
   "outputs": [
    {
     "name": "stderr",
     "output_type": "stream",
     "text": [
      "C:\\Users\\dmarm\\AppData\\Local\\Temp\\ipykernel_20612\\1359726857.py:2: DataConversionWarning: A column-vector y was passed when a 1d array was expected. Please change the shape of y to (n_samples,), for example using ravel().\n",
      "  rf4.fit(X_train, y_train)\n"
     ]
    },
    {
     "data": {
      "text/plain": [
       "RandomForestClassifier(n_estimators=10)"
      ]
     },
     "execution_count": 47,
     "metadata": {},
     "output_type": "execute_result"
    }
   ],
   "source": [
    "rf4 = RandomForestClassifier(n_estimators = 10)\n",
    "rf4.fit(X_train, y_train)"
   ]
  },
  {
   "cell_type": "code",
   "execution_count": 48,
   "id": "e415f61c-867d-4c79-8f27-74f9c296425e",
   "metadata": {},
   "outputs": [],
   "source": [
    "filename = 'model4.sav'\n",
    "pickle.dump(rf4, open(filename, 'wb'))"
   ]
  },
  {
   "cell_type": "markdown",
   "id": "08a4545f-0146-487e-88cb-7ad0b318f099",
   "metadata": {},
   "source": [
    "## Curveball "
   ]
  },
  {
   "cell_type": "code",
   "execution_count": 49,
   "id": "d0c1309f-977d-4bcb-8d48-007821badc65",
   "metadata": {},
   "outputs": [],
   "source": [
    "df5 = df.copy()"
   ]
  },
  {
   "cell_type": "code",
   "execution_count": 50,
   "id": "643e5cf7-9120-4a6e-8879-d1f955238e1d",
   "metadata": {},
   "outputs": [],
   "source": [
    "df5 = df5[df5.pitch_name == 'Curveball']"
   ]
  },
  {
   "cell_type": "code",
   "execution_count": 51,
   "id": "227f2ba9-d552-4bc5-9824-e6e4b59e39ab",
   "metadata": {},
   "outputs": [],
   "source": [
    "z = df5[['release_speed', 'release_spin_rate', 'zone','pfx_x', 'pfx_z','description']]"
   ]
  },
  {
   "cell_type": "code",
   "execution_count": 52,
   "id": "3fc8397b-073b-4331-92f2-273086dd0305",
   "metadata": {},
   "outputs": [
    {
     "name": "stderr",
     "output_type": "stream",
     "text": [
      "C:\\Users\\dmarm\\AppData\\Local\\Temp\\ipykernel_20612\\2385804610.py:1: SettingWithCopyWarning: \n",
      "A value is trying to be set on a copy of a slice from a DataFrame\n",
      "\n",
      "See the caveats in the documentation: https://pandas.pydata.org/pandas-docs/stable/user_guide/indexing.html#returning-a-view-versus-a-copy\n",
      "  z.dropna(inplace = True)\n"
     ]
    }
   ],
   "source": [
    "z.dropna(inplace = True)"
   ]
  },
  {
   "cell_type": "code",
   "execution_count": 53,
   "id": "6b51e94e-1765-4c34-af19-be73db560708",
   "metadata": {},
   "outputs": [],
   "source": [
    "X = z[['release_speed', 'release_spin_rate', 'zone','pfx_x', 'pfx_z']]"
   ]
  },
  {
   "cell_type": "code",
   "execution_count": 54,
   "id": "6950c6fe-99a2-480c-8260-ba7dd81fcfa3",
   "metadata": {},
   "outputs": [],
   "source": [
    "y = z[['description']]"
   ]
  },
  {
   "cell_type": "code",
   "execution_count": 55,
   "id": "95d93d92-7e4f-4fc8-bde0-2821931be9b8",
   "metadata": {},
   "outputs": [],
   "source": [
    "oversample = im.over_sampling.RandomOverSampler(sampling_strategy='minority')"
   ]
  },
  {
   "cell_type": "code",
   "execution_count": 56,
   "id": "d5de77ae-4dc5-4656-bfbd-31f46782e8bd",
   "metadata": {},
   "outputs": [],
   "source": [
    "X_over, y_over = oversample.fit_resample(X, y)"
   ]
  },
  {
   "cell_type": "code",
   "execution_count": 57,
   "id": "5567ae9b-5db0-487a-9fef-c4ccf587e89e",
   "metadata": {},
   "outputs": [],
   "source": [
    "X_train, X_test, y_train, y_test = train_test_split(X_over, y_over, stratify =y_over, random_state =5)"
   ]
  },
  {
   "cell_type": "code",
   "execution_count": 58,
   "id": "814d3066-8b62-4fa2-9803-4d1343422a90",
   "metadata": {},
   "outputs": [
    {
     "name": "stderr",
     "output_type": "stream",
     "text": [
      "C:\\Users\\dmarm\\AppData\\Local\\Temp\\ipykernel_20612\\1982775403.py:2: DataConversionWarning: A column-vector y was passed when a 1d array was expected. Please change the shape of y to (n_samples,), for example using ravel().\n",
      "  rf5.fit(X_train, y_train)\n"
     ]
    },
    {
     "data": {
      "text/plain": [
       "RandomForestClassifier(n_estimators=10)"
      ]
     },
     "execution_count": 58,
     "metadata": {},
     "output_type": "execute_result"
    }
   ],
   "source": [
    "rf5 = RandomForestClassifier(n_estimators = 10)\n",
    "rf5.fit(X_train, y_train)"
   ]
  },
  {
   "cell_type": "code",
   "execution_count": 59,
   "id": "3fde5e2f-7288-4f0e-806f-5434912f9701",
   "metadata": {},
   "outputs": [],
   "source": [
    "filename = 'model5.sav'\n",
    "pickle.dump(rf5, open(filename, 'wb'))"
   ]
  },
  {
   "cell_type": "markdown",
   "id": "a9e307f7-680c-4260-b317-bb3919d37eb4",
   "metadata": {},
   "source": [
    "## Cutter"
   ]
  },
  {
   "cell_type": "code",
   "execution_count": 60,
   "id": "3aafc2d1-d492-4bd9-828d-10ad04593fd5",
   "metadata": {},
   "outputs": [],
   "source": [
    "df6 = df.copy()"
   ]
  },
  {
   "cell_type": "code",
   "execution_count": 61,
   "id": "93c658df-4987-40d2-91de-57e21c5ba60d",
   "metadata": {},
   "outputs": [],
   "source": [
    "df6 = df6[df6.pitch_name == 'Cutter']"
   ]
  },
  {
   "cell_type": "code",
   "execution_count": 62,
   "id": "f1e29c80-227c-4aa9-b7a2-357a091e6682",
   "metadata": {},
   "outputs": [],
   "source": [
    "z = df6[['release_speed', 'release_spin_rate', 'zone','pfx_x', 'pfx_z','description']]"
   ]
  },
  {
   "cell_type": "code",
   "execution_count": 63,
   "id": "369fc4fe-b24d-44ef-948c-a9cdfcac0f79",
   "metadata": {},
   "outputs": [
    {
     "name": "stderr",
     "output_type": "stream",
     "text": [
      "C:\\Users\\dmarm\\AppData\\Local\\Temp\\ipykernel_20612\\2385804610.py:1: SettingWithCopyWarning: \n",
      "A value is trying to be set on a copy of a slice from a DataFrame\n",
      "\n",
      "See the caveats in the documentation: https://pandas.pydata.org/pandas-docs/stable/user_guide/indexing.html#returning-a-view-versus-a-copy\n",
      "  z.dropna(inplace = True)\n"
     ]
    }
   ],
   "source": [
    "z.dropna(inplace = True)"
   ]
  },
  {
   "cell_type": "code",
   "execution_count": 64,
   "id": "b210dbc7-51b4-44ed-bc7b-616df804ff05",
   "metadata": {},
   "outputs": [],
   "source": [
    "X = z[['release_speed', 'release_spin_rate', 'zone','pfx_x', 'pfx_z']]"
   ]
  },
  {
   "cell_type": "code",
   "execution_count": 65,
   "id": "eb6a82b6-9f32-4366-86c8-7712e1533cf6",
   "metadata": {},
   "outputs": [],
   "source": [
    "y = z[['description']]"
   ]
  },
  {
   "cell_type": "code",
   "execution_count": 66,
   "id": "867f882f-7d5f-440b-8bfb-53876890de8d",
   "metadata": {},
   "outputs": [],
   "source": [
    "oversample = im.over_sampling.RandomOverSampler(sampling_strategy='minority')"
   ]
  },
  {
   "cell_type": "code",
   "execution_count": 67,
   "id": "bed99e89-0fdb-4e92-86fc-01bd524f3558",
   "metadata": {},
   "outputs": [],
   "source": [
    "X_over, y_over = oversample.fit_resample(X, y)"
   ]
  },
  {
   "cell_type": "code",
   "execution_count": 68,
   "id": "4eae5ddf-d97e-4bca-915c-691fc8255ce1",
   "metadata": {},
   "outputs": [],
   "source": [
    "X_train, X_test, y_train, y_test = train_test_split(X_over, y_over, stratify =y_over, random_state =5)"
   ]
  },
  {
   "cell_type": "code",
   "execution_count": 69,
   "id": "a994a10e-da01-4ade-a068-d77b8982b01e",
   "metadata": {},
   "outputs": [
    {
     "name": "stderr",
     "output_type": "stream",
     "text": [
      "C:\\Users\\dmarm\\AppData\\Local\\Temp\\ipykernel_20612\\3203100151.py:2: DataConversionWarning: A column-vector y was passed when a 1d array was expected. Please change the shape of y to (n_samples,), for example using ravel().\n",
      "  rf6.fit(X_train, y_train)\n"
     ]
    },
    {
     "data": {
      "text/plain": [
       "RandomForestClassifier(n_estimators=10)"
      ]
     },
     "execution_count": 69,
     "metadata": {},
     "output_type": "execute_result"
    }
   ],
   "source": [
    "rf6 = RandomForestClassifier(n_estimators = 10)\n",
    "rf6.fit(X_train, y_train)"
   ]
  },
  {
   "cell_type": "code",
   "execution_count": 70,
   "id": "36b9a3cf-78ec-4e95-9b3e-1bb837fcdd42",
   "metadata": {},
   "outputs": [],
   "source": [
    "filename = 'model6.sav'\n",
    "pickle.dump(rf6, open(filename, 'wb'))"
   ]
  },
  {
   "cell_type": "markdown",
   "id": "69cb6ab3-43f2-422b-a058-ecb69b7cf5cf",
   "metadata": {},
   "source": [
    "## Knuckle Curve"
   ]
  },
  {
   "cell_type": "code",
   "execution_count": 71,
   "id": "c6679bb4-9654-44fa-8cc8-d5bcb5a62727",
   "metadata": {},
   "outputs": [],
   "source": [
    "df7 = df.copy()"
   ]
  },
  {
   "cell_type": "code",
   "execution_count": 72,
   "id": "77cbd2be-36f5-4ec0-b18e-f6442518fa8f",
   "metadata": {},
   "outputs": [],
   "source": [
    "df7 = df7[df7.pitch_name == 'Knuckle Curve']"
   ]
  },
  {
   "cell_type": "code",
   "execution_count": 73,
   "id": "61327cb7-c21d-4e86-8ac5-8251af1eea4e",
   "metadata": {},
   "outputs": [],
   "source": [
    "z = df7[['release_speed', 'release_spin_rate', 'zone','pfx_x', 'pfx_z','description']]"
   ]
  },
  {
   "cell_type": "code",
   "execution_count": 74,
   "id": "5680eca0-f1d2-4ce7-a45f-a2db160990d3",
   "metadata": {},
   "outputs": [
    {
     "name": "stderr",
     "output_type": "stream",
     "text": [
      "C:\\Users\\dmarm\\AppData\\Local\\Temp\\ipykernel_20612\\2385804610.py:1: SettingWithCopyWarning: \n",
      "A value is trying to be set on a copy of a slice from a DataFrame\n",
      "\n",
      "See the caveats in the documentation: https://pandas.pydata.org/pandas-docs/stable/user_guide/indexing.html#returning-a-view-versus-a-copy\n",
      "  z.dropna(inplace = True)\n"
     ]
    }
   ],
   "source": [
    "z.dropna(inplace = True)"
   ]
  },
  {
   "cell_type": "code",
   "execution_count": 75,
   "id": "c43dab66-6d28-42f1-aeb4-6efda11390b3",
   "metadata": {},
   "outputs": [],
   "source": [
    "X = z[['release_speed', 'release_spin_rate', 'zone','pfx_x', 'pfx_z']]"
   ]
  },
  {
   "cell_type": "code",
   "execution_count": 76,
   "id": "0aad95e1-5ba0-41d1-9d77-8b50ef0b9dcd",
   "metadata": {},
   "outputs": [],
   "source": [
    "y = z[['description']]"
   ]
  },
  {
   "cell_type": "code",
   "execution_count": 77,
   "id": "824865f8-fceb-405a-b639-3375da740560",
   "metadata": {},
   "outputs": [],
   "source": [
    "oversample = im.over_sampling.RandomOverSampler(sampling_strategy='minority')"
   ]
  },
  {
   "cell_type": "code",
   "execution_count": 78,
   "id": "63094b4a-3151-4877-af6c-9d3fea1230f8",
   "metadata": {},
   "outputs": [],
   "source": [
    "X_over, y_over = oversample.fit_resample(X, y)"
   ]
  },
  {
   "cell_type": "code",
   "execution_count": 79,
   "id": "5c5c6613-9732-491e-8f9b-3eccdc9ace01",
   "metadata": {},
   "outputs": [],
   "source": [
    "X_train, X_test, y_train, y_test = train_test_split(X_over, y_over, stratify =y_over, random_state =5)"
   ]
  },
  {
   "cell_type": "code",
   "execution_count": 80,
   "id": "063005c3-93ba-4fa1-9b09-3971f05f01cc",
   "metadata": {},
   "outputs": [
    {
     "name": "stderr",
     "output_type": "stream",
     "text": [
      "C:\\Users\\dmarm\\AppData\\Local\\Temp\\ipykernel_20612\\1187806777.py:2: DataConversionWarning: A column-vector y was passed when a 1d array was expected. Please change the shape of y to (n_samples,), for example using ravel().\n",
      "  rf7.fit(X_train, y_train)\n"
     ]
    },
    {
     "data": {
      "text/plain": [
       "RandomForestClassifier(n_estimators=10)"
      ]
     },
     "execution_count": 80,
     "metadata": {},
     "output_type": "execute_result"
    }
   ],
   "source": [
    "rf7 = RandomForestClassifier(n_estimators = 10)\n",
    "rf7.fit(X_train, y_train)"
   ]
  },
  {
   "cell_type": "code",
   "execution_count": 81,
   "id": "f3aee162-c1e3-4c29-aa54-f2a3436ce2fc",
   "metadata": {},
   "outputs": [],
   "source": [
    "filename = 'model7.sav'\n",
    "pickle.dump(rf7, open(filename, 'wb'))"
   ]
  },
  {
   "cell_type": "markdown",
   "id": "29f08f89-8f64-4331-ac8c-8dad4c308e16",
   "metadata": {},
   "source": [
    "## Split-Finger Fastball"
   ]
  },
  {
   "cell_type": "code",
   "execution_count": 82,
   "id": "d9d6329e-de44-4662-8d40-08d016ccfd02",
   "metadata": {},
   "outputs": [],
   "source": [
    "df8 = df.copy()"
   ]
  },
  {
   "cell_type": "code",
   "execution_count": 83,
   "id": "1bcb47f2-ce73-49fe-8bc3-2cce81f94865",
   "metadata": {},
   "outputs": [],
   "source": [
    "df8 = df8[df8.pitch_name == 'Split-Finger']"
   ]
  },
  {
   "cell_type": "code",
   "execution_count": 84,
   "id": "4ccaa181-bb83-4ca8-8eb1-7091d3d55d6d",
   "metadata": {},
   "outputs": [],
   "source": [
    "z = df8[['release_speed', 'release_spin_rate', 'zone','pfx_x', 'pfx_z','description']]"
   ]
  },
  {
   "cell_type": "code",
   "execution_count": 85,
   "id": "3a2bd1f7-cc6d-4007-87b8-54f2b812a3a6",
   "metadata": {},
   "outputs": [
    {
     "name": "stderr",
     "output_type": "stream",
     "text": [
      "C:\\Users\\dmarm\\AppData\\Local\\Temp\\ipykernel_20612\\2385804610.py:1: SettingWithCopyWarning: \n",
      "A value is trying to be set on a copy of a slice from a DataFrame\n",
      "\n",
      "See the caveats in the documentation: https://pandas.pydata.org/pandas-docs/stable/user_guide/indexing.html#returning-a-view-versus-a-copy\n",
      "  z.dropna(inplace = True)\n"
     ]
    }
   ],
   "source": [
    "z.dropna(inplace = True)"
   ]
  },
  {
   "cell_type": "code",
   "execution_count": 86,
   "id": "cb32ba2d-1496-4ce7-9fa8-e052ac26a04d",
   "metadata": {},
   "outputs": [],
   "source": [
    "X = z[['release_speed', 'release_spin_rate', 'zone','pfx_x', 'pfx_z']]"
   ]
  },
  {
   "cell_type": "code",
   "execution_count": 87,
   "id": "1f1dec58-7f56-4b6a-96b9-ed62c3558abb",
   "metadata": {},
   "outputs": [],
   "source": [
    "y = z[['description']]"
   ]
  },
  {
   "cell_type": "code",
   "execution_count": 88,
   "id": "0d37c267-03a0-4921-85e9-1cba3c3663fe",
   "metadata": {},
   "outputs": [],
   "source": [
    "oversample = im.over_sampling.RandomOverSampler(sampling_strategy='minority')"
   ]
  },
  {
   "cell_type": "code",
   "execution_count": 89,
   "id": "f8be154e-cbe9-4d2b-8252-4c7999ba73e1",
   "metadata": {},
   "outputs": [],
   "source": [
    "X_over, y_over = oversample.fit_resample(X, y)"
   ]
  },
  {
   "cell_type": "code",
   "execution_count": 90,
   "id": "df1ca41d-75f2-4e90-ae7f-dd5a73907298",
   "metadata": {},
   "outputs": [],
   "source": [
    "X_train, X_test, y_train, y_test = train_test_split(X_over, y_over, stratify =y_over, random_state =5)"
   ]
  },
  {
   "cell_type": "code",
   "execution_count": 91,
   "id": "bddea72e-93a2-470e-b80c-d9190091596f",
   "metadata": {},
   "outputs": [
    {
     "name": "stderr",
     "output_type": "stream",
     "text": [
      "C:\\Users\\dmarm\\AppData\\Local\\Temp\\ipykernel_20612\\754636821.py:2: DataConversionWarning: A column-vector y was passed when a 1d array was expected. Please change the shape of y to (n_samples,), for example using ravel().\n",
      "  rf8.fit(X_train, y_train)\n"
     ]
    },
    {
     "data": {
      "text/plain": [
       "RandomForestClassifier(n_estimators=10)"
      ]
     },
     "execution_count": 91,
     "metadata": {},
     "output_type": "execute_result"
    }
   ],
   "source": [
    "rf8 = RandomForestClassifier(n_estimators = 10)\n",
    "rf8.fit(X_train, y_train)"
   ]
  },
  {
   "cell_type": "code",
   "execution_count": 92,
   "id": "6913e0e6-cbb1-4a53-8652-a86767f80ad2",
   "metadata": {},
   "outputs": [],
   "source": [
    "filename = 'model8.sav'\n",
    "pickle.dump(rf8, open(filename, 'wb'))"
   ]
  },
  {
   "cell_type": "markdown",
   "id": "23c649dc-dd40-4c70-8e60-e1c7bb286311",
   "metadata": {},
   "source": [
    "## Knuckleball"
   ]
  },
  {
   "cell_type": "code",
   "execution_count": 93,
   "id": "4e228325-6b2d-4330-89cf-b09ff7679ac4",
   "metadata": {},
   "outputs": [],
   "source": [
    "df9 = df.copy()"
   ]
  },
  {
   "cell_type": "code",
   "execution_count": 94,
   "id": "dea27c8c-4501-4ccd-a946-1ef75d0511a1",
   "metadata": {},
   "outputs": [],
   "source": [
    "df9 = df9[df9.pitch_name == 'Knuckleball']"
   ]
  },
  {
   "cell_type": "code",
   "execution_count": 95,
   "id": "42a8c537-9c81-4fe0-af74-e9bdce28362c",
   "metadata": {},
   "outputs": [],
   "source": [
    "z = df9[['release_speed', 'release_spin_rate', 'zone','pfx_x', 'pfx_z','description']]"
   ]
  },
  {
   "cell_type": "code",
   "execution_count": 96,
   "id": "8da5b68c-13ba-482a-9b83-e0cbdd2e3973",
   "metadata": {},
   "outputs": [
    {
     "name": "stderr",
     "output_type": "stream",
     "text": [
      "C:\\Users\\dmarm\\AppData\\Local\\Temp\\ipykernel_20612\\2385804610.py:1: SettingWithCopyWarning: \n",
      "A value is trying to be set on a copy of a slice from a DataFrame\n",
      "\n",
      "See the caveats in the documentation: https://pandas.pydata.org/pandas-docs/stable/user_guide/indexing.html#returning-a-view-versus-a-copy\n",
      "  z.dropna(inplace = True)\n"
     ]
    }
   ],
   "source": [
    "z.dropna(inplace = True)"
   ]
  },
  {
   "cell_type": "code",
   "execution_count": 97,
   "id": "8aeac879-95c1-4f59-a221-5d6dce1f2d89",
   "metadata": {},
   "outputs": [],
   "source": [
    "X = z[['release_speed', 'release_spin_rate', 'zone','pfx_x', 'pfx_z']]"
   ]
  },
  {
   "cell_type": "code",
   "execution_count": 98,
   "id": "7b0404c1-d229-4233-be25-2d5aa9f14258",
   "metadata": {},
   "outputs": [],
   "source": [
    "y = z[['description']]"
   ]
  },
  {
   "cell_type": "code",
   "execution_count": 99,
   "id": "1c9e7a78-6f4e-4d4c-9de4-530dede16ef1",
   "metadata": {},
   "outputs": [],
   "source": [
    "oversample = im.over_sampling.RandomOverSampler(sampling_strategy='minority')"
   ]
  },
  {
   "cell_type": "code",
   "execution_count": 100,
   "id": "5d3571f9-769c-422e-a3f7-7e51d050d433",
   "metadata": {},
   "outputs": [],
   "source": [
    "X_over, y_over = oversample.fit_resample(X, y)"
   ]
  },
  {
   "cell_type": "code",
   "execution_count": 101,
   "id": "bcd518f7-f259-4368-910f-c8f4a228ce56",
   "metadata": {},
   "outputs": [],
   "source": [
    "X_train, X_test, y_train, y_test = train_test_split(X_over, y_over, stratify =y_over, random_state =5)"
   ]
  },
  {
   "cell_type": "code",
   "execution_count": 102,
   "id": "05c51e7a-903d-42c0-a7b4-c77ddeba941b",
   "metadata": {},
   "outputs": [
    {
     "name": "stderr",
     "output_type": "stream",
     "text": [
      "C:\\Users\\dmarm\\AppData\\Local\\Temp\\ipykernel_20612\\3774098392.py:2: DataConversionWarning: A column-vector y was passed when a 1d array was expected. Please change the shape of y to (n_samples,), for example using ravel().\n",
      "  rf9.fit(X_train, y_train)\n"
     ]
    },
    {
     "data": {
      "text/plain": [
       "RandomForestClassifier(n_estimators=10)"
      ]
     },
     "execution_count": 102,
     "metadata": {},
     "output_type": "execute_result"
    }
   ],
   "source": [
    "rf9 = RandomForestClassifier(n_estimators = 10)\n",
    "rf9.fit(X_train, y_train)"
   ]
  },
  {
   "cell_type": "code",
   "execution_count": 103,
   "id": "dbd9bbea-215d-410e-befb-ff64f7f2a93a",
   "metadata": {},
   "outputs": [],
   "source": [
    "filename = 'model9.sav'\n",
    "pickle.dump(rf9, open(filename, 'wb'))"
   ]
  }
 ],
 "metadata": {
  "kernelspec": {
   "display_name": "Python [conda env:GA]",
   "language": "python",
   "name": "conda-env-GA-py"
  },
  "language_info": {
   "codemirror_mode": {
    "name": "ipython",
    "version": 3
   },
   "file_extension": ".py",
   "mimetype": "text/x-python",
   "name": "python",
   "nbconvert_exporter": "python",
   "pygments_lexer": "ipython3",
   "version": "3.9.11"
  }
 },
 "nbformat": 4,
 "nbformat_minor": 5
}
